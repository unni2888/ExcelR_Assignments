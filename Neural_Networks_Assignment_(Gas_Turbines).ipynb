{
  "nbformat": 4,
  "nbformat_minor": 0,
  "metadata": {
    "colab": {
      "provenance": []
    },
    "kernelspec": {
      "name": "python3",
      "display_name": "Python 3"
    },
    "language_info": {
      "name": "python"
    }
  },
  "cells": [
    {
      "cell_type": "code",
      "source": [
        "!pip install tensorflow"
      ],
      "metadata": {
        "colab": {
          "base_uri": "https://localhost:8080/"
        },
        "id": "VMkCDOugkQXt",
        "outputId": "dfac17bf-40c7-4c18-e85e-10041440f2d4"
      },
      "execution_count": null,
      "outputs": [
        {
          "output_type": "stream",
          "name": "stdout",
          "text": [
            "Requirement already satisfied: tensorflow in /usr/local/lib/python3.10/dist-packages (2.12.0)\n",
            "Requirement already satisfied: absl-py>=1.0.0 in /usr/local/lib/python3.10/dist-packages (from tensorflow) (1.4.0)\n",
            "Requirement already satisfied: astunparse>=1.6.0 in /usr/local/lib/python3.10/dist-packages (from tensorflow) (1.6.3)\n",
            "Requirement already satisfied: flatbuffers>=2.0 in /usr/local/lib/python3.10/dist-packages (from tensorflow) (23.5.26)\n",
            "Requirement already satisfied: gast<=0.4.0,>=0.2.1 in /usr/local/lib/python3.10/dist-packages (from tensorflow) (0.4.0)\n",
            "Requirement already satisfied: google-pasta>=0.1.1 in /usr/local/lib/python3.10/dist-packages (from tensorflow) (0.2.0)\n",
            "Requirement already satisfied: grpcio<2.0,>=1.24.3 in /usr/local/lib/python3.10/dist-packages (from tensorflow) (1.56.0)\n",
            "Requirement already satisfied: h5py>=2.9.0 in /usr/local/lib/python3.10/dist-packages (from tensorflow) (3.8.0)\n",
            "Requirement already satisfied: jax>=0.3.15 in /usr/local/lib/python3.10/dist-packages (from tensorflow) (0.4.13)\n",
            "Requirement already satisfied: keras<2.13,>=2.12.0 in /usr/local/lib/python3.10/dist-packages (from tensorflow) (2.12.0)\n",
            "Requirement already satisfied: libclang>=13.0.0 in /usr/local/lib/python3.10/dist-packages (from tensorflow) (16.0.6)\n",
            "Requirement already satisfied: numpy<1.24,>=1.22 in /usr/local/lib/python3.10/dist-packages (from tensorflow) (1.22.4)\n",
            "Requirement already satisfied: opt-einsum>=2.3.2 in /usr/local/lib/python3.10/dist-packages (from tensorflow) (3.3.0)\n",
            "Requirement already satisfied: packaging in /usr/local/lib/python3.10/dist-packages (from tensorflow) (23.1)\n",
            "Requirement already satisfied: protobuf!=4.21.0,!=4.21.1,!=4.21.2,!=4.21.3,!=4.21.4,!=4.21.5,<5.0.0dev,>=3.20.3 in /usr/local/lib/python3.10/dist-packages (from tensorflow) (3.20.3)\n",
            "Requirement already satisfied: setuptools in /usr/local/lib/python3.10/dist-packages (from tensorflow) (67.7.2)\n",
            "Requirement already satisfied: six>=1.12.0 in /usr/local/lib/python3.10/dist-packages (from tensorflow) (1.16.0)\n",
            "Requirement already satisfied: tensorboard<2.13,>=2.12 in /usr/local/lib/python3.10/dist-packages (from tensorflow) (2.12.3)\n",
            "Requirement already satisfied: tensorflow-estimator<2.13,>=2.12.0 in /usr/local/lib/python3.10/dist-packages (from tensorflow) (2.12.0)\n",
            "Requirement already satisfied: termcolor>=1.1.0 in /usr/local/lib/python3.10/dist-packages (from tensorflow) (2.3.0)\n",
            "Requirement already satisfied: typing-extensions>=3.6.6 in /usr/local/lib/python3.10/dist-packages (from tensorflow) (4.7.1)\n",
            "Requirement already satisfied: wrapt<1.15,>=1.11.0 in /usr/local/lib/python3.10/dist-packages (from tensorflow) (1.14.1)\n",
            "Requirement already satisfied: tensorflow-io-gcs-filesystem>=0.23.1 in /usr/local/lib/python3.10/dist-packages (from tensorflow) (0.32.0)\n",
            "Requirement already satisfied: wheel<1.0,>=0.23.0 in /usr/local/lib/python3.10/dist-packages (from astunparse>=1.6.0->tensorflow) (0.40.0)\n",
            "Requirement already satisfied: ml-dtypes>=0.1.0 in /usr/local/lib/python3.10/dist-packages (from jax>=0.3.15->tensorflow) (0.2.0)\n",
            "Requirement already satisfied: scipy>=1.7 in /usr/local/lib/python3.10/dist-packages (from jax>=0.3.15->tensorflow) (1.10.1)\n",
            "Requirement already satisfied: google-auth<3,>=1.6.3 in /usr/local/lib/python3.10/dist-packages (from tensorboard<2.13,>=2.12->tensorflow) (2.17.3)\n",
            "Requirement already satisfied: google-auth-oauthlib<1.1,>=0.5 in /usr/local/lib/python3.10/dist-packages (from tensorboard<2.13,>=2.12->tensorflow) (1.0.0)\n",
            "Requirement already satisfied: markdown>=2.6.8 in /usr/local/lib/python3.10/dist-packages (from tensorboard<2.13,>=2.12->tensorflow) (3.4.3)\n",
            "Requirement already satisfied: requests<3,>=2.21.0 in /usr/local/lib/python3.10/dist-packages (from tensorboard<2.13,>=2.12->tensorflow) (2.27.1)\n",
            "Requirement already satisfied: tensorboard-data-server<0.8.0,>=0.7.0 in /usr/local/lib/python3.10/dist-packages (from tensorboard<2.13,>=2.12->tensorflow) (0.7.1)\n",
            "Requirement already satisfied: werkzeug>=1.0.1 in /usr/local/lib/python3.10/dist-packages (from tensorboard<2.13,>=2.12->tensorflow) (2.3.6)\n",
            "Requirement already satisfied: cachetools<6.0,>=2.0.0 in /usr/local/lib/python3.10/dist-packages (from google-auth<3,>=1.6.3->tensorboard<2.13,>=2.12->tensorflow) (5.3.1)\n",
            "Requirement already satisfied: pyasn1-modules>=0.2.1 in /usr/local/lib/python3.10/dist-packages (from google-auth<3,>=1.6.3->tensorboard<2.13,>=2.12->tensorflow) (0.3.0)\n",
            "Requirement already satisfied: rsa<5,>=3.1.4 in /usr/local/lib/python3.10/dist-packages (from google-auth<3,>=1.6.3->tensorboard<2.13,>=2.12->tensorflow) (4.9)\n",
            "Requirement already satisfied: requests-oauthlib>=0.7.0 in /usr/local/lib/python3.10/dist-packages (from google-auth-oauthlib<1.1,>=0.5->tensorboard<2.13,>=2.12->tensorflow) (1.3.1)\n",
            "Requirement already satisfied: urllib3<1.27,>=1.21.1 in /usr/local/lib/python3.10/dist-packages (from requests<3,>=2.21.0->tensorboard<2.13,>=2.12->tensorflow) (1.26.16)\n",
            "Requirement already satisfied: certifi>=2017.4.17 in /usr/local/lib/python3.10/dist-packages (from requests<3,>=2.21.0->tensorboard<2.13,>=2.12->tensorflow) (2023.5.7)\n",
            "Requirement already satisfied: charset-normalizer~=2.0.0 in /usr/local/lib/python3.10/dist-packages (from requests<3,>=2.21.0->tensorboard<2.13,>=2.12->tensorflow) (2.0.12)\n",
            "Requirement already satisfied: idna<4,>=2.5 in /usr/local/lib/python3.10/dist-packages (from requests<3,>=2.21.0->tensorboard<2.13,>=2.12->tensorflow) (3.4)\n",
            "Requirement already satisfied: MarkupSafe>=2.1.1 in /usr/local/lib/python3.10/dist-packages (from werkzeug>=1.0.1->tensorboard<2.13,>=2.12->tensorflow) (2.1.3)\n",
            "Requirement already satisfied: pyasn1<0.6.0,>=0.4.6 in /usr/local/lib/python3.10/dist-packages (from pyasn1-modules>=0.2.1->google-auth<3,>=1.6.3->tensorboard<2.13,>=2.12->tensorflow) (0.5.0)\n",
            "Requirement already satisfied: oauthlib>=3.0.0 in /usr/local/lib/python3.10/dist-packages (from requests-oauthlib>=0.7.0->google-auth-oauthlib<1.1,>=0.5->tensorboard<2.13,>=2.12->tensorflow) (3.2.2)\n"
          ]
        }
      ]
    },
    {
      "cell_type": "code",
      "source": [
        "import pandas as pd\n",
        "import matplotlib.pyplot as plt\n",
        "import seaborn as sns\n",
        "import tensorflow  as tf\n",
        "import numpy as np\n",
        "from sklearn.model_selection import GridSearchCV,KFold,RandomizedSearchCV\n",
        "from keras.models import Sequential\n",
        "from keras.layers import Dense\n",
        "from keras.wrappers.scikit_learn import KerasClassifier\n",
        "from keras.optimizers import Adam\n",
        "from sklearn.preprocessing import StandardScaler\n",
        "from sklearn.model_selection import train_test_split"
      ],
      "metadata": {
        "id": "JVT7hSWlYv48"
      },
      "execution_count": null,
      "outputs": []
    },
    {
      "cell_type": "code",
      "source": [
        "from keras.layers import Dropout"
      ],
      "metadata": {
        "id": "BZHk9Fn_P0fb"
      },
      "execution_count": null,
      "outputs": []
    },
    {
      "cell_type": "code",
      "source": [
        "Data=pd.read_csv(\"gas_turbines.csv\")"
      ],
      "metadata": {
        "id": "hS1uytNYYvz5"
      },
      "execution_count": null,
      "outputs": []
    },
    {
      "cell_type": "markdown",
      "source": [
        "# EDA"
      ],
      "metadata": {
        "id": "cYVdWhGjaJlX"
      }
    },
    {
      "cell_type": "code",
      "source": [
        "Data.head(10)"
      ],
      "metadata": {
        "colab": {
          "base_uri": "https://localhost:8080/",
          "height": 363
        },
        "id": "qVYlnJ7WYvu5",
        "outputId": "5cc35ea3-f6de-4f73-9ac2-e99c42c367c6"
      },
      "execution_count": null,
      "outputs": [
        {
          "output_type": "execute_result",
          "data": {
            "text/plain": [
              "       AT      AP      AH    AFDP    GTEP     TIT     TAT     TEY     CDP  \\\n",
              "0  6.8594  1007.9  96.799  3.5000  19.663  1059.2  550.00  114.70  10.605   \n",
              "1  6.7850  1008.4  97.118  3.4998  19.728  1059.3  550.00  114.72  10.598   \n",
              "2  6.8977  1008.8  95.939  3.4824  19.779  1059.4  549.87  114.71  10.601   \n",
              "3  7.0569  1009.2  95.249  3.4805  19.792  1059.6  549.99  114.72  10.606   \n",
              "4  7.3978  1009.7  95.150  3.4976  19.765  1059.7  549.98  114.72  10.612   \n",
              "5  7.6998  1010.7  92.708  3.5236  19.683  1059.8  549.97  114.72  10.626   \n",
              "6  7.7901  1011.6  91.983  3.5298  19.659  1060.0  549.87  114.71  10.644   \n",
              "7  7.7139  1012.7  91.348  3.5088  19.673  1059.8  549.92  114.71  10.656   \n",
              "8  7.7975  1013.8  90.196  3.5141  19.634  1060.1  550.09  114.72  10.644   \n",
              "9  8.0820  1015.0  88.597  4.0612  23.406  1083.0  550.21  131.70  11.679   \n",
              "\n",
              "       CO     NOX  \n",
              "0  3.1547  82.722  \n",
              "1  3.2363  82.776  \n",
              "2  3.2012  82.468  \n",
              "3  3.1923  82.670  \n",
              "4  3.2484  82.311  \n",
              "5  3.4467  82.409  \n",
              "6  3.4874  82.440  \n",
              "7  3.6043  83.010  \n",
              "8  3.3943  82.284  \n",
              "9  1.9081  82.782  "
            ],
            "text/html": [
              "\n",
              "\n",
              "  <div id=\"df-2efa8be5-b40e-4c79-90f9-5030f4185959\">\n",
              "    <div class=\"colab-df-container\">\n",
              "      <div>\n",
              "<style scoped>\n",
              "    .dataframe tbody tr th:only-of-type {\n",
              "        vertical-align: middle;\n",
              "    }\n",
              "\n",
              "    .dataframe tbody tr th {\n",
              "        vertical-align: top;\n",
              "    }\n",
              "\n",
              "    .dataframe thead th {\n",
              "        text-align: right;\n",
              "    }\n",
              "</style>\n",
              "<table border=\"1\" class=\"dataframe\">\n",
              "  <thead>\n",
              "    <tr style=\"text-align: right;\">\n",
              "      <th></th>\n",
              "      <th>AT</th>\n",
              "      <th>AP</th>\n",
              "      <th>AH</th>\n",
              "      <th>AFDP</th>\n",
              "      <th>GTEP</th>\n",
              "      <th>TIT</th>\n",
              "      <th>TAT</th>\n",
              "      <th>TEY</th>\n",
              "      <th>CDP</th>\n",
              "      <th>CO</th>\n",
              "      <th>NOX</th>\n",
              "    </tr>\n",
              "  </thead>\n",
              "  <tbody>\n",
              "    <tr>\n",
              "      <th>0</th>\n",
              "      <td>6.8594</td>\n",
              "      <td>1007.9</td>\n",
              "      <td>96.799</td>\n",
              "      <td>3.5000</td>\n",
              "      <td>19.663</td>\n",
              "      <td>1059.2</td>\n",
              "      <td>550.00</td>\n",
              "      <td>114.70</td>\n",
              "      <td>10.605</td>\n",
              "      <td>3.1547</td>\n",
              "      <td>82.722</td>\n",
              "    </tr>\n",
              "    <tr>\n",
              "      <th>1</th>\n",
              "      <td>6.7850</td>\n",
              "      <td>1008.4</td>\n",
              "      <td>97.118</td>\n",
              "      <td>3.4998</td>\n",
              "      <td>19.728</td>\n",
              "      <td>1059.3</td>\n",
              "      <td>550.00</td>\n",
              "      <td>114.72</td>\n",
              "      <td>10.598</td>\n",
              "      <td>3.2363</td>\n",
              "      <td>82.776</td>\n",
              "    </tr>\n",
              "    <tr>\n",
              "      <th>2</th>\n",
              "      <td>6.8977</td>\n",
              "      <td>1008.8</td>\n",
              "      <td>95.939</td>\n",
              "      <td>3.4824</td>\n",
              "      <td>19.779</td>\n",
              "      <td>1059.4</td>\n",
              "      <td>549.87</td>\n",
              "      <td>114.71</td>\n",
              "      <td>10.601</td>\n",
              "      <td>3.2012</td>\n",
              "      <td>82.468</td>\n",
              "    </tr>\n",
              "    <tr>\n",
              "      <th>3</th>\n",
              "      <td>7.0569</td>\n",
              "      <td>1009.2</td>\n",
              "      <td>95.249</td>\n",
              "      <td>3.4805</td>\n",
              "      <td>19.792</td>\n",
              "      <td>1059.6</td>\n",
              "      <td>549.99</td>\n",
              "      <td>114.72</td>\n",
              "      <td>10.606</td>\n",
              "      <td>3.1923</td>\n",
              "      <td>82.670</td>\n",
              "    </tr>\n",
              "    <tr>\n",
              "      <th>4</th>\n",
              "      <td>7.3978</td>\n",
              "      <td>1009.7</td>\n",
              "      <td>95.150</td>\n",
              "      <td>3.4976</td>\n",
              "      <td>19.765</td>\n",
              "      <td>1059.7</td>\n",
              "      <td>549.98</td>\n",
              "      <td>114.72</td>\n",
              "      <td>10.612</td>\n",
              "      <td>3.2484</td>\n",
              "      <td>82.311</td>\n",
              "    </tr>\n",
              "    <tr>\n",
              "      <th>5</th>\n",
              "      <td>7.6998</td>\n",
              "      <td>1010.7</td>\n",
              "      <td>92.708</td>\n",
              "      <td>3.5236</td>\n",
              "      <td>19.683</td>\n",
              "      <td>1059.8</td>\n",
              "      <td>549.97</td>\n",
              "      <td>114.72</td>\n",
              "      <td>10.626</td>\n",
              "      <td>3.4467</td>\n",
              "      <td>82.409</td>\n",
              "    </tr>\n",
              "    <tr>\n",
              "      <th>6</th>\n",
              "      <td>7.7901</td>\n",
              "      <td>1011.6</td>\n",
              "      <td>91.983</td>\n",
              "      <td>3.5298</td>\n",
              "      <td>19.659</td>\n",
              "      <td>1060.0</td>\n",
              "      <td>549.87</td>\n",
              "      <td>114.71</td>\n",
              "      <td>10.644</td>\n",
              "      <td>3.4874</td>\n",
              "      <td>82.440</td>\n",
              "    </tr>\n",
              "    <tr>\n",
              "      <th>7</th>\n",
              "      <td>7.7139</td>\n",
              "      <td>1012.7</td>\n",
              "      <td>91.348</td>\n",
              "      <td>3.5088</td>\n",
              "      <td>19.673</td>\n",
              "      <td>1059.8</td>\n",
              "      <td>549.92</td>\n",
              "      <td>114.71</td>\n",
              "      <td>10.656</td>\n",
              "      <td>3.6043</td>\n",
              "      <td>83.010</td>\n",
              "    </tr>\n",
              "    <tr>\n",
              "      <th>8</th>\n",
              "      <td>7.7975</td>\n",
              "      <td>1013.8</td>\n",
              "      <td>90.196</td>\n",
              "      <td>3.5141</td>\n",
              "      <td>19.634</td>\n",
              "      <td>1060.1</td>\n",
              "      <td>550.09</td>\n",
              "      <td>114.72</td>\n",
              "      <td>10.644</td>\n",
              "      <td>3.3943</td>\n",
              "      <td>82.284</td>\n",
              "    </tr>\n",
              "    <tr>\n",
              "      <th>9</th>\n",
              "      <td>8.0820</td>\n",
              "      <td>1015.0</td>\n",
              "      <td>88.597</td>\n",
              "      <td>4.0612</td>\n",
              "      <td>23.406</td>\n",
              "      <td>1083.0</td>\n",
              "      <td>550.21</td>\n",
              "      <td>131.70</td>\n",
              "      <td>11.679</td>\n",
              "      <td>1.9081</td>\n",
              "      <td>82.782</td>\n",
              "    </tr>\n",
              "  </tbody>\n",
              "</table>\n",
              "</div>\n",
              "      <button class=\"colab-df-convert\" onclick=\"convertToInteractive('df-2efa8be5-b40e-4c79-90f9-5030f4185959')\"\n",
              "              title=\"Convert this dataframe to an interactive table.\"\n",
              "              style=\"display:none;\">\n",
              "\n",
              "  <svg xmlns=\"http://www.w3.org/2000/svg\" height=\"24px\"viewBox=\"0 0 24 24\"\n",
              "       width=\"24px\">\n",
              "    <path d=\"M0 0h24v24H0V0z\" fill=\"none\"/>\n",
              "    <path d=\"M18.56 5.44l.94 2.06.94-2.06 2.06-.94-2.06-.94-.94-2.06-.94 2.06-2.06.94zm-11 1L8.5 8.5l.94-2.06 2.06-.94-2.06-.94L8.5 2.5l-.94 2.06-2.06.94zm10 10l.94 2.06.94-2.06 2.06-.94-2.06-.94-.94-2.06-.94 2.06-2.06.94z\"/><path d=\"M17.41 7.96l-1.37-1.37c-.4-.4-.92-.59-1.43-.59-.52 0-1.04.2-1.43.59L10.3 9.45l-7.72 7.72c-.78.78-.78 2.05 0 2.83L4 21.41c.39.39.9.59 1.41.59.51 0 1.02-.2 1.41-.59l7.78-7.78 2.81-2.81c.8-.78.8-2.07 0-2.86zM5.41 20L4 18.59l7.72-7.72 1.47 1.35L5.41 20z\"/>\n",
              "  </svg>\n",
              "      </button>\n",
              "\n",
              "\n",
              "\n",
              "    <div id=\"df-c50f26b8-c9d4-4960-a76a-22fd41efe6ee\">\n",
              "      <button class=\"colab-df-quickchart\" onclick=\"quickchart('df-c50f26b8-c9d4-4960-a76a-22fd41efe6ee')\"\n",
              "              title=\"Suggest charts.\"\n",
              "              style=\"display:none;\">\n",
              "\n",
              "<svg xmlns=\"http://www.w3.org/2000/svg\" height=\"24px\"viewBox=\"0 0 24 24\"\n",
              "     width=\"24px\">\n",
              "    <g>\n",
              "        <path d=\"M19 3H5c-1.1 0-2 .9-2 2v14c0 1.1.9 2 2 2h14c1.1 0 2-.9 2-2V5c0-1.1-.9-2-2-2zM9 17H7v-7h2v7zm4 0h-2V7h2v10zm4 0h-2v-4h2v4z\"/>\n",
              "    </g>\n",
              "</svg>\n",
              "      </button>\n",
              "    </div>\n",
              "\n",
              "<style>\n",
              "  .colab-df-quickchart {\n",
              "    background-color: #E8F0FE;\n",
              "    border: none;\n",
              "    border-radius: 50%;\n",
              "    cursor: pointer;\n",
              "    display: none;\n",
              "    fill: #1967D2;\n",
              "    height: 32px;\n",
              "    padding: 0 0 0 0;\n",
              "    width: 32px;\n",
              "  }\n",
              "\n",
              "  .colab-df-quickchart:hover {\n",
              "    background-color: #E2EBFA;\n",
              "    box-shadow: 0px 1px 2px rgba(60, 64, 67, 0.3), 0px 1px 3px 1px rgba(60, 64, 67, 0.15);\n",
              "    fill: #174EA6;\n",
              "  }\n",
              "\n",
              "  [theme=dark] .colab-df-quickchart {\n",
              "    background-color: #3B4455;\n",
              "    fill: #D2E3FC;\n",
              "  }\n",
              "\n",
              "  [theme=dark] .colab-df-quickchart:hover {\n",
              "    background-color: #434B5C;\n",
              "    box-shadow: 0px 1px 3px 1px rgba(0, 0, 0, 0.15);\n",
              "    filter: drop-shadow(0px 1px 2px rgba(0, 0, 0, 0.3));\n",
              "    fill: #FFFFFF;\n",
              "  }\n",
              "</style>\n",
              "\n",
              "    <script>\n",
              "      async function quickchart(key) {\n",
              "        const containerElement = document.querySelector('#' + key);\n",
              "        const charts = await google.colab.kernel.invokeFunction(\n",
              "            'suggestCharts', [key], {});\n",
              "      }\n",
              "    </script>\n",
              "\n",
              "      <script>\n",
              "\n",
              "function displayQuickchartButton(domScope) {\n",
              "  let quickchartButtonEl =\n",
              "    domScope.querySelector('#df-c50f26b8-c9d4-4960-a76a-22fd41efe6ee button.colab-df-quickchart');\n",
              "  quickchartButtonEl.style.display =\n",
              "    google.colab.kernel.accessAllowed ? 'block' : 'none';\n",
              "}\n",
              "\n",
              "        displayQuickchartButton(document);\n",
              "      </script>\n",
              "      <style>\n",
              "    .colab-df-container {\n",
              "      display:flex;\n",
              "      flex-wrap:wrap;\n",
              "      gap: 12px;\n",
              "    }\n",
              "\n",
              "    .colab-df-convert {\n",
              "      background-color: #E8F0FE;\n",
              "      border: none;\n",
              "      border-radius: 50%;\n",
              "      cursor: pointer;\n",
              "      display: none;\n",
              "      fill: #1967D2;\n",
              "      height: 32px;\n",
              "      padding: 0 0 0 0;\n",
              "      width: 32px;\n",
              "    }\n",
              "\n",
              "    .colab-df-convert:hover {\n",
              "      background-color: #E2EBFA;\n",
              "      box-shadow: 0px 1px 2px rgba(60, 64, 67, 0.3), 0px 1px 3px 1px rgba(60, 64, 67, 0.15);\n",
              "      fill: #174EA6;\n",
              "    }\n",
              "\n",
              "    [theme=dark] .colab-df-convert {\n",
              "      background-color: #3B4455;\n",
              "      fill: #D2E3FC;\n",
              "    }\n",
              "\n",
              "    [theme=dark] .colab-df-convert:hover {\n",
              "      background-color: #434B5C;\n",
              "      box-shadow: 0px 1px 3px 1px rgba(0, 0, 0, 0.15);\n",
              "      filter: drop-shadow(0px 1px 2px rgba(0, 0, 0, 0.3));\n",
              "      fill: #FFFFFF;\n",
              "    }\n",
              "  </style>\n",
              "\n",
              "      <script>\n",
              "        const buttonEl =\n",
              "          document.querySelector('#df-2efa8be5-b40e-4c79-90f9-5030f4185959 button.colab-df-convert');\n",
              "        buttonEl.style.display =\n",
              "          google.colab.kernel.accessAllowed ? 'block' : 'none';\n",
              "\n",
              "        async function convertToInteractive(key) {\n",
              "          const element = document.querySelector('#df-2efa8be5-b40e-4c79-90f9-5030f4185959');\n",
              "          const dataTable =\n",
              "            await google.colab.kernel.invokeFunction('convertToInteractive',\n",
              "                                                     [key], {});\n",
              "          if (!dataTable) return;\n",
              "\n",
              "          const docLinkHtml = 'Like what you see? Visit the ' +\n",
              "            '<a target=\"_blank\" href=https://colab.research.google.com/notebooks/data_table.ipynb>data table notebook</a>'\n",
              "            + ' to learn more about interactive tables.';\n",
              "          element.innerHTML = '';\n",
              "          dataTable['output_type'] = 'display_data';\n",
              "          await google.colab.output.renderOutput(dataTable, element);\n",
              "          const docLink = document.createElement('div');\n",
              "          docLink.innerHTML = docLinkHtml;\n",
              "          element.appendChild(docLink);\n",
              "        }\n",
              "      </script>\n",
              "    </div>\n",
              "  </div>\n"
            ]
          },
          "metadata": {},
          "execution_count": 6
        }
      ]
    },
    {
      "cell_type": "code",
      "source": [
        "Data.info()"
      ],
      "metadata": {
        "colab": {
          "base_uri": "https://localhost:8080/"
        },
        "id": "G088qbLfYvsJ",
        "outputId": "66cf5f86-5a77-4059-8c52-46cdc7be46e0"
      },
      "execution_count": null,
      "outputs": [
        {
          "output_type": "stream",
          "name": "stdout",
          "text": [
            "<class 'pandas.core.frame.DataFrame'>\n",
            "RangeIndex: 15039 entries, 0 to 15038\n",
            "Data columns (total 11 columns):\n",
            " #   Column  Non-Null Count  Dtype  \n",
            "---  ------  --------------  -----  \n",
            " 0   AT      15039 non-null  float64\n",
            " 1   AP      15039 non-null  float64\n",
            " 2   AH      15039 non-null  float64\n",
            " 3   AFDP    15039 non-null  float64\n",
            " 4   GTEP    15039 non-null  float64\n",
            " 5   TIT     15039 non-null  float64\n",
            " 6   TAT     15039 non-null  float64\n",
            " 7   TEY     15039 non-null  float64\n",
            " 8   CDP     15039 non-null  float64\n",
            " 9   CO      15039 non-null  float64\n",
            " 10  NOX     15039 non-null  float64\n",
            "dtypes: float64(11)\n",
            "memory usage: 1.3 MB\n"
          ]
        }
      ]
    },
    {
      "cell_type": "code",
      "source": [
        "Data.describe()"
      ],
      "metadata": {
        "colab": {
          "base_uri": "https://localhost:8080/",
          "height": 300
        },
        "id": "8p46JGEmYvnx",
        "outputId": "91ed9183-89a7-4890-cb0b-5e18ee7da655"
      },
      "execution_count": null,
      "outputs": [
        {
          "output_type": "execute_result",
          "data": {
            "text/plain": [
              "                 AT           AP            AH          AFDP          GTEP  \\\n",
              "count  15039.000000  15039.00000  15039.000000  15039.000000  15039.000000   \n",
              "mean      17.764381   1013.19924     79.124174      4.200294     25.419061   \n",
              "std        7.574323      6.41076     13.793439      0.760197      4.173916   \n",
              "min        0.522300    985.85000     30.344000      2.087400     17.878000   \n",
              "25%       11.408000   1008.90000     69.750000      3.723900     23.294000   \n",
              "50%       18.186000   1012.80000     82.266000      4.186200     25.082000   \n",
              "75%       23.862500   1016.90000     90.043500      4.550900     27.184000   \n",
              "max       34.929000   1034.20000    100.200000      7.610600     37.402000   \n",
              "\n",
              "                TIT           TAT           TEY           CDP            CO  \\\n",
              "count  15039.000000  15039.000000  15039.000000  15039.000000  15039.000000   \n",
              "mean    1083.798770    545.396183    134.188464     12.102353      1.972499   \n",
              "std       16.527806      7.866803     15.829717      1.103196      2.222206   \n",
              "min     1000.800000    512.450000    100.170000      9.904400      0.000388   \n",
              "25%     1079.600000    542.170000    127.985000     11.622000      0.858055   \n",
              "50%     1088.700000    549.890000    133.780000     12.025000      1.390200   \n",
              "75%     1096.000000    550.060000    140.895000     12.578000      2.160400   \n",
              "max     1100.800000    550.610000    174.610000     15.081000     44.103000   \n",
              "\n",
              "                NOX  \n",
              "count  15039.000000  \n",
              "mean      68.190934  \n",
              "std       10.470586  \n",
              "min       27.765000  \n",
              "25%       61.303500  \n",
              "50%       66.601000  \n",
              "75%       73.935500  \n",
              "max      119.890000  "
            ],
            "text/html": [
              "\n",
              "\n",
              "  <div id=\"df-e00bf31d-113b-4ef8-a1df-174e235716f8\">\n",
              "    <div class=\"colab-df-container\">\n",
              "      <div>\n",
              "<style scoped>\n",
              "    .dataframe tbody tr th:only-of-type {\n",
              "        vertical-align: middle;\n",
              "    }\n",
              "\n",
              "    .dataframe tbody tr th {\n",
              "        vertical-align: top;\n",
              "    }\n",
              "\n",
              "    .dataframe thead th {\n",
              "        text-align: right;\n",
              "    }\n",
              "</style>\n",
              "<table border=\"1\" class=\"dataframe\">\n",
              "  <thead>\n",
              "    <tr style=\"text-align: right;\">\n",
              "      <th></th>\n",
              "      <th>AT</th>\n",
              "      <th>AP</th>\n",
              "      <th>AH</th>\n",
              "      <th>AFDP</th>\n",
              "      <th>GTEP</th>\n",
              "      <th>TIT</th>\n",
              "      <th>TAT</th>\n",
              "      <th>TEY</th>\n",
              "      <th>CDP</th>\n",
              "      <th>CO</th>\n",
              "      <th>NOX</th>\n",
              "    </tr>\n",
              "  </thead>\n",
              "  <tbody>\n",
              "    <tr>\n",
              "      <th>count</th>\n",
              "      <td>15039.000000</td>\n",
              "      <td>15039.00000</td>\n",
              "      <td>15039.000000</td>\n",
              "      <td>15039.000000</td>\n",
              "      <td>15039.000000</td>\n",
              "      <td>15039.000000</td>\n",
              "      <td>15039.000000</td>\n",
              "      <td>15039.000000</td>\n",
              "      <td>15039.000000</td>\n",
              "      <td>15039.000000</td>\n",
              "      <td>15039.000000</td>\n",
              "    </tr>\n",
              "    <tr>\n",
              "      <th>mean</th>\n",
              "      <td>17.764381</td>\n",
              "      <td>1013.19924</td>\n",
              "      <td>79.124174</td>\n",
              "      <td>4.200294</td>\n",
              "      <td>25.419061</td>\n",
              "      <td>1083.798770</td>\n",
              "      <td>545.396183</td>\n",
              "      <td>134.188464</td>\n",
              "      <td>12.102353</td>\n",
              "      <td>1.972499</td>\n",
              "      <td>68.190934</td>\n",
              "    </tr>\n",
              "    <tr>\n",
              "      <th>std</th>\n",
              "      <td>7.574323</td>\n",
              "      <td>6.41076</td>\n",
              "      <td>13.793439</td>\n",
              "      <td>0.760197</td>\n",
              "      <td>4.173916</td>\n",
              "      <td>16.527806</td>\n",
              "      <td>7.866803</td>\n",
              "      <td>15.829717</td>\n",
              "      <td>1.103196</td>\n",
              "      <td>2.222206</td>\n",
              "      <td>10.470586</td>\n",
              "    </tr>\n",
              "    <tr>\n",
              "      <th>min</th>\n",
              "      <td>0.522300</td>\n",
              "      <td>985.85000</td>\n",
              "      <td>30.344000</td>\n",
              "      <td>2.087400</td>\n",
              "      <td>17.878000</td>\n",
              "      <td>1000.800000</td>\n",
              "      <td>512.450000</td>\n",
              "      <td>100.170000</td>\n",
              "      <td>9.904400</td>\n",
              "      <td>0.000388</td>\n",
              "      <td>27.765000</td>\n",
              "    </tr>\n",
              "    <tr>\n",
              "      <th>25%</th>\n",
              "      <td>11.408000</td>\n",
              "      <td>1008.90000</td>\n",
              "      <td>69.750000</td>\n",
              "      <td>3.723900</td>\n",
              "      <td>23.294000</td>\n",
              "      <td>1079.600000</td>\n",
              "      <td>542.170000</td>\n",
              "      <td>127.985000</td>\n",
              "      <td>11.622000</td>\n",
              "      <td>0.858055</td>\n",
              "      <td>61.303500</td>\n",
              "    </tr>\n",
              "    <tr>\n",
              "      <th>50%</th>\n",
              "      <td>18.186000</td>\n",
              "      <td>1012.80000</td>\n",
              "      <td>82.266000</td>\n",
              "      <td>4.186200</td>\n",
              "      <td>25.082000</td>\n",
              "      <td>1088.700000</td>\n",
              "      <td>549.890000</td>\n",
              "      <td>133.780000</td>\n",
              "      <td>12.025000</td>\n",
              "      <td>1.390200</td>\n",
              "      <td>66.601000</td>\n",
              "    </tr>\n",
              "    <tr>\n",
              "      <th>75%</th>\n",
              "      <td>23.862500</td>\n",
              "      <td>1016.90000</td>\n",
              "      <td>90.043500</td>\n",
              "      <td>4.550900</td>\n",
              "      <td>27.184000</td>\n",
              "      <td>1096.000000</td>\n",
              "      <td>550.060000</td>\n",
              "      <td>140.895000</td>\n",
              "      <td>12.578000</td>\n",
              "      <td>2.160400</td>\n",
              "      <td>73.935500</td>\n",
              "    </tr>\n",
              "    <tr>\n",
              "      <th>max</th>\n",
              "      <td>34.929000</td>\n",
              "      <td>1034.20000</td>\n",
              "      <td>100.200000</td>\n",
              "      <td>7.610600</td>\n",
              "      <td>37.402000</td>\n",
              "      <td>1100.800000</td>\n",
              "      <td>550.610000</td>\n",
              "      <td>174.610000</td>\n",
              "      <td>15.081000</td>\n",
              "      <td>44.103000</td>\n",
              "      <td>119.890000</td>\n",
              "    </tr>\n",
              "  </tbody>\n",
              "</table>\n",
              "</div>\n",
              "      <button class=\"colab-df-convert\" onclick=\"convertToInteractive('df-e00bf31d-113b-4ef8-a1df-174e235716f8')\"\n",
              "              title=\"Convert this dataframe to an interactive table.\"\n",
              "              style=\"display:none;\">\n",
              "\n",
              "  <svg xmlns=\"http://www.w3.org/2000/svg\" height=\"24px\"viewBox=\"0 0 24 24\"\n",
              "       width=\"24px\">\n",
              "    <path d=\"M0 0h24v24H0V0z\" fill=\"none\"/>\n",
              "    <path d=\"M18.56 5.44l.94 2.06.94-2.06 2.06-.94-2.06-.94-.94-2.06-.94 2.06-2.06.94zm-11 1L8.5 8.5l.94-2.06 2.06-.94-2.06-.94L8.5 2.5l-.94 2.06-2.06.94zm10 10l.94 2.06.94-2.06 2.06-.94-2.06-.94-.94-2.06-.94 2.06-2.06.94z\"/><path d=\"M17.41 7.96l-1.37-1.37c-.4-.4-.92-.59-1.43-.59-.52 0-1.04.2-1.43.59L10.3 9.45l-7.72 7.72c-.78.78-.78 2.05 0 2.83L4 21.41c.39.39.9.59 1.41.59.51 0 1.02-.2 1.41-.59l7.78-7.78 2.81-2.81c.8-.78.8-2.07 0-2.86zM5.41 20L4 18.59l7.72-7.72 1.47 1.35L5.41 20z\"/>\n",
              "  </svg>\n",
              "      </button>\n",
              "\n",
              "\n",
              "\n",
              "    <div id=\"df-811b9e9b-126c-4334-a2ec-2a66fcaf5cd7\">\n",
              "      <button class=\"colab-df-quickchart\" onclick=\"quickchart('df-811b9e9b-126c-4334-a2ec-2a66fcaf5cd7')\"\n",
              "              title=\"Suggest charts.\"\n",
              "              style=\"display:none;\">\n",
              "\n",
              "<svg xmlns=\"http://www.w3.org/2000/svg\" height=\"24px\"viewBox=\"0 0 24 24\"\n",
              "     width=\"24px\">\n",
              "    <g>\n",
              "        <path d=\"M19 3H5c-1.1 0-2 .9-2 2v14c0 1.1.9 2 2 2h14c1.1 0 2-.9 2-2V5c0-1.1-.9-2-2-2zM9 17H7v-7h2v7zm4 0h-2V7h2v10zm4 0h-2v-4h2v4z\"/>\n",
              "    </g>\n",
              "</svg>\n",
              "      </button>\n",
              "    </div>\n",
              "\n",
              "<style>\n",
              "  .colab-df-quickchart {\n",
              "    background-color: #E8F0FE;\n",
              "    border: none;\n",
              "    border-radius: 50%;\n",
              "    cursor: pointer;\n",
              "    display: none;\n",
              "    fill: #1967D2;\n",
              "    height: 32px;\n",
              "    padding: 0 0 0 0;\n",
              "    width: 32px;\n",
              "  }\n",
              "\n",
              "  .colab-df-quickchart:hover {\n",
              "    background-color: #E2EBFA;\n",
              "    box-shadow: 0px 1px 2px rgba(60, 64, 67, 0.3), 0px 1px 3px 1px rgba(60, 64, 67, 0.15);\n",
              "    fill: #174EA6;\n",
              "  }\n",
              "\n",
              "  [theme=dark] .colab-df-quickchart {\n",
              "    background-color: #3B4455;\n",
              "    fill: #D2E3FC;\n",
              "  }\n",
              "\n",
              "  [theme=dark] .colab-df-quickchart:hover {\n",
              "    background-color: #434B5C;\n",
              "    box-shadow: 0px 1px 3px 1px rgba(0, 0, 0, 0.15);\n",
              "    filter: drop-shadow(0px 1px 2px rgba(0, 0, 0, 0.3));\n",
              "    fill: #FFFFFF;\n",
              "  }\n",
              "</style>\n",
              "\n",
              "    <script>\n",
              "      async function quickchart(key) {\n",
              "        const containerElement = document.querySelector('#' + key);\n",
              "        const charts = await google.colab.kernel.invokeFunction(\n",
              "            'suggestCharts', [key], {});\n",
              "      }\n",
              "    </script>\n",
              "\n",
              "      <script>\n",
              "\n",
              "function displayQuickchartButton(domScope) {\n",
              "  let quickchartButtonEl =\n",
              "    domScope.querySelector('#df-811b9e9b-126c-4334-a2ec-2a66fcaf5cd7 button.colab-df-quickchart');\n",
              "  quickchartButtonEl.style.display =\n",
              "    google.colab.kernel.accessAllowed ? 'block' : 'none';\n",
              "}\n",
              "\n",
              "        displayQuickchartButton(document);\n",
              "      </script>\n",
              "      <style>\n",
              "    .colab-df-container {\n",
              "      display:flex;\n",
              "      flex-wrap:wrap;\n",
              "      gap: 12px;\n",
              "    }\n",
              "\n",
              "    .colab-df-convert {\n",
              "      background-color: #E8F0FE;\n",
              "      border: none;\n",
              "      border-radius: 50%;\n",
              "      cursor: pointer;\n",
              "      display: none;\n",
              "      fill: #1967D2;\n",
              "      height: 32px;\n",
              "      padding: 0 0 0 0;\n",
              "      width: 32px;\n",
              "    }\n",
              "\n",
              "    .colab-df-convert:hover {\n",
              "      background-color: #E2EBFA;\n",
              "      box-shadow: 0px 1px 2px rgba(60, 64, 67, 0.3), 0px 1px 3px 1px rgba(60, 64, 67, 0.15);\n",
              "      fill: #174EA6;\n",
              "    }\n",
              "\n",
              "    [theme=dark] .colab-df-convert {\n",
              "      background-color: #3B4455;\n",
              "      fill: #D2E3FC;\n",
              "    }\n",
              "\n",
              "    [theme=dark] .colab-df-convert:hover {\n",
              "      background-color: #434B5C;\n",
              "      box-shadow: 0px 1px 3px 1px rgba(0, 0, 0, 0.15);\n",
              "      filter: drop-shadow(0px 1px 2px rgba(0, 0, 0, 0.3));\n",
              "      fill: #FFFFFF;\n",
              "    }\n",
              "  </style>\n",
              "\n",
              "      <script>\n",
              "        const buttonEl =\n",
              "          document.querySelector('#df-e00bf31d-113b-4ef8-a1df-174e235716f8 button.colab-df-convert');\n",
              "        buttonEl.style.display =\n",
              "          google.colab.kernel.accessAllowed ? 'block' : 'none';\n",
              "\n",
              "        async function convertToInteractive(key) {\n",
              "          const element = document.querySelector('#df-e00bf31d-113b-4ef8-a1df-174e235716f8');\n",
              "          const dataTable =\n",
              "            await google.colab.kernel.invokeFunction('convertToInteractive',\n",
              "                                                     [key], {});\n",
              "          if (!dataTable) return;\n",
              "\n",
              "          const docLinkHtml = 'Like what you see? Visit the ' +\n",
              "            '<a target=\"_blank\" href=https://colab.research.google.com/notebooks/data_table.ipynb>data table notebook</a>'\n",
              "            + ' to learn more about interactive tables.';\n",
              "          element.innerHTML = '';\n",
              "          dataTable['output_type'] = 'display_data';\n",
              "          await google.colab.output.renderOutput(dataTable, element);\n",
              "          const docLink = document.createElement('div');\n",
              "          docLink.innerHTML = docLinkHtml;\n",
              "          element.appendChild(docLink);\n",
              "        }\n",
              "      </script>\n",
              "    </div>\n",
              "  </div>\n"
            ]
          },
          "metadata": {},
          "execution_count": 8
        }
      ]
    },
    {
      "cell_type": "code",
      "source": [
        "Data.isnull().value_counts()"
      ],
      "metadata": {
        "colab": {
          "base_uri": "https://localhost:8080/"
        },
        "id": "GdLvklVCZ2ef",
        "outputId": "498a9614-2ce9-4cdc-86ad-b94665c1f8b3"
      },
      "execution_count": null,
      "outputs": [
        {
          "output_type": "execute_result",
          "data": {
            "text/plain": [
              "AT     AP     AH     AFDP   GTEP   TIT    TAT    TEY    CDP    CO     NOX  \n",
              "False  False  False  False  False  False  False  False  False  False  False    15039\n",
              "dtype: int64"
            ]
          },
          "metadata": {},
          "execution_count": 9
        }
      ]
    },
    {
      "cell_type": "code",
      "source": [
        "Data[Data.duplicated]"
      ],
      "metadata": {
        "colab": {
          "base_uri": "https://localhost:8080/",
          "height": 49
        },
        "id": "W_cYNortZ9-c",
        "outputId": "6c8ee2ee-2032-4a3d-c529-200f84ff3c59"
      },
      "execution_count": null,
      "outputs": [
        {
          "output_type": "execute_result",
          "data": {
            "text/plain": [
              "Empty DataFrame\n",
              "Columns: [AT, AP, AH, AFDP, GTEP, TIT, TAT, TEY, CDP, CO, NOX]\n",
              "Index: []"
            ],
            "text/html": [
              "\n",
              "\n",
              "  <div id=\"df-2623f4ef-9923-4674-a7d4-4c7211ad6c0d\">\n",
              "    <div class=\"colab-df-container\">\n",
              "      <div>\n",
              "<style scoped>\n",
              "    .dataframe tbody tr th:only-of-type {\n",
              "        vertical-align: middle;\n",
              "    }\n",
              "\n",
              "    .dataframe tbody tr th {\n",
              "        vertical-align: top;\n",
              "    }\n",
              "\n",
              "    .dataframe thead th {\n",
              "        text-align: right;\n",
              "    }\n",
              "</style>\n",
              "<table border=\"1\" class=\"dataframe\">\n",
              "  <thead>\n",
              "    <tr style=\"text-align: right;\">\n",
              "      <th></th>\n",
              "      <th>AT</th>\n",
              "      <th>AP</th>\n",
              "      <th>AH</th>\n",
              "      <th>AFDP</th>\n",
              "      <th>GTEP</th>\n",
              "      <th>TIT</th>\n",
              "      <th>TAT</th>\n",
              "      <th>TEY</th>\n",
              "      <th>CDP</th>\n",
              "      <th>CO</th>\n",
              "      <th>NOX</th>\n",
              "    </tr>\n",
              "  </thead>\n",
              "  <tbody>\n",
              "  </tbody>\n",
              "</table>\n",
              "</div>\n",
              "      <button class=\"colab-df-convert\" onclick=\"convertToInteractive('df-2623f4ef-9923-4674-a7d4-4c7211ad6c0d')\"\n",
              "              title=\"Convert this dataframe to an interactive table.\"\n",
              "              style=\"display:none;\">\n",
              "\n",
              "  <svg xmlns=\"http://www.w3.org/2000/svg\" height=\"24px\"viewBox=\"0 0 24 24\"\n",
              "       width=\"24px\">\n",
              "    <path d=\"M0 0h24v24H0V0z\" fill=\"none\"/>\n",
              "    <path d=\"M18.56 5.44l.94 2.06.94-2.06 2.06-.94-2.06-.94-.94-2.06-.94 2.06-2.06.94zm-11 1L8.5 8.5l.94-2.06 2.06-.94-2.06-.94L8.5 2.5l-.94 2.06-2.06.94zm10 10l.94 2.06.94-2.06 2.06-.94-2.06-.94-.94-2.06-.94 2.06-2.06.94z\"/><path d=\"M17.41 7.96l-1.37-1.37c-.4-.4-.92-.59-1.43-.59-.52 0-1.04.2-1.43.59L10.3 9.45l-7.72 7.72c-.78.78-.78 2.05 0 2.83L4 21.41c.39.39.9.59 1.41.59.51 0 1.02-.2 1.41-.59l7.78-7.78 2.81-2.81c.8-.78.8-2.07 0-2.86zM5.41 20L4 18.59l7.72-7.72 1.47 1.35L5.41 20z\"/>\n",
              "  </svg>\n",
              "      </button>\n",
              "\n",
              "\n",
              "\n",
              "    <div id=\"df-8bd1afc5-0e0f-4f85-8a79-d7a7f03cae35\">\n",
              "      <button class=\"colab-df-quickchart\" onclick=\"quickchart('df-8bd1afc5-0e0f-4f85-8a79-d7a7f03cae35')\"\n",
              "              title=\"Suggest charts.\"\n",
              "              style=\"display:none;\">\n",
              "\n",
              "<svg xmlns=\"http://www.w3.org/2000/svg\" height=\"24px\"viewBox=\"0 0 24 24\"\n",
              "     width=\"24px\">\n",
              "    <g>\n",
              "        <path d=\"M19 3H5c-1.1 0-2 .9-2 2v14c0 1.1.9 2 2 2h14c1.1 0 2-.9 2-2V5c0-1.1-.9-2-2-2zM9 17H7v-7h2v7zm4 0h-2V7h2v10zm4 0h-2v-4h2v4z\"/>\n",
              "    </g>\n",
              "</svg>\n",
              "      </button>\n",
              "    </div>\n",
              "\n",
              "<style>\n",
              "  .colab-df-quickchart {\n",
              "    background-color: #E8F0FE;\n",
              "    border: none;\n",
              "    border-radius: 50%;\n",
              "    cursor: pointer;\n",
              "    display: none;\n",
              "    fill: #1967D2;\n",
              "    height: 32px;\n",
              "    padding: 0 0 0 0;\n",
              "    width: 32px;\n",
              "  }\n",
              "\n",
              "  .colab-df-quickchart:hover {\n",
              "    background-color: #E2EBFA;\n",
              "    box-shadow: 0px 1px 2px rgba(60, 64, 67, 0.3), 0px 1px 3px 1px rgba(60, 64, 67, 0.15);\n",
              "    fill: #174EA6;\n",
              "  }\n",
              "\n",
              "  [theme=dark] .colab-df-quickchart {\n",
              "    background-color: #3B4455;\n",
              "    fill: #D2E3FC;\n",
              "  }\n",
              "\n",
              "  [theme=dark] .colab-df-quickchart:hover {\n",
              "    background-color: #434B5C;\n",
              "    box-shadow: 0px 1px 3px 1px rgba(0, 0, 0, 0.15);\n",
              "    filter: drop-shadow(0px 1px 2px rgba(0, 0, 0, 0.3));\n",
              "    fill: #FFFFFF;\n",
              "  }\n",
              "</style>\n",
              "\n",
              "    <script>\n",
              "      async function quickchart(key) {\n",
              "        const containerElement = document.querySelector('#' + key);\n",
              "        const charts = await google.colab.kernel.invokeFunction(\n",
              "            'suggestCharts', [key], {});\n",
              "      }\n",
              "    </script>\n",
              "\n",
              "      <script>\n",
              "\n",
              "function displayQuickchartButton(domScope) {\n",
              "  let quickchartButtonEl =\n",
              "    domScope.querySelector('#df-8bd1afc5-0e0f-4f85-8a79-d7a7f03cae35 button.colab-df-quickchart');\n",
              "  quickchartButtonEl.style.display =\n",
              "    google.colab.kernel.accessAllowed ? 'block' : 'none';\n",
              "}\n",
              "\n",
              "        displayQuickchartButton(document);\n",
              "      </script>\n",
              "      <style>\n",
              "    .colab-df-container {\n",
              "      display:flex;\n",
              "      flex-wrap:wrap;\n",
              "      gap: 12px;\n",
              "    }\n",
              "\n",
              "    .colab-df-convert {\n",
              "      background-color: #E8F0FE;\n",
              "      border: none;\n",
              "      border-radius: 50%;\n",
              "      cursor: pointer;\n",
              "      display: none;\n",
              "      fill: #1967D2;\n",
              "      height: 32px;\n",
              "      padding: 0 0 0 0;\n",
              "      width: 32px;\n",
              "    }\n",
              "\n",
              "    .colab-df-convert:hover {\n",
              "      background-color: #E2EBFA;\n",
              "      box-shadow: 0px 1px 2px rgba(60, 64, 67, 0.3), 0px 1px 3px 1px rgba(60, 64, 67, 0.15);\n",
              "      fill: #174EA6;\n",
              "    }\n",
              "\n",
              "    [theme=dark] .colab-df-convert {\n",
              "      background-color: #3B4455;\n",
              "      fill: #D2E3FC;\n",
              "    }\n",
              "\n",
              "    [theme=dark] .colab-df-convert:hover {\n",
              "      background-color: #434B5C;\n",
              "      box-shadow: 0px 1px 3px 1px rgba(0, 0, 0, 0.15);\n",
              "      filter: drop-shadow(0px 1px 2px rgba(0, 0, 0, 0.3));\n",
              "      fill: #FFFFFF;\n",
              "    }\n",
              "  </style>\n",
              "\n",
              "      <script>\n",
              "        const buttonEl =\n",
              "          document.querySelector('#df-2623f4ef-9923-4674-a7d4-4c7211ad6c0d button.colab-df-convert');\n",
              "        buttonEl.style.display =\n",
              "          google.colab.kernel.accessAllowed ? 'block' : 'none';\n",
              "\n",
              "        async function convertToInteractive(key) {\n",
              "          const element = document.querySelector('#df-2623f4ef-9923-4674-a7d4-4c7211ad6c0d');\n",
              "          const dataTable =\n",
              "            await google.colab.kernel.invokeFunction('convertToInteractive',\n",
              "                                                     [key], {});\n",
              "          if (!dataTable) return;\n",
              "\n",
              "          const docLinkHtml = 'Like what you see? Visit the ' +\n",
              "            '<a target=\"_blank\" href=https://colab.research.google.com/notebooks/data_table.ipynb>data table notebook</a>'\n",
              "            + ' to learn more about interactive tables.';\n",
              "          element.innerHTML = '';\n",
              "          dataTable['output_type'] = 'display_data';\n",
              "          await google.colab.output.renderOutput(dataTable, element);\n",
              "          const docLink = document.createElement('div');\n",
              "          docLink.innerHTML = docLinkHtml;\n",
              "          element.appendChild(docLink);\n",
              "        }\n",
              "      </script>\n",
              "    </div>\n",
              "  </div>\n"
            ]
          },
          "metadata": {},
          "execution_count": 10
        }
      ]
    },
    {
      "cell_type": "code",
      "source": [
        "A = Data[[\"AT\", \"AP\", \"AH\", \"AFDP\", \"GTEP\", \"TIT\", \"TAT\", \"CDP\", \"CO\", \"NOX\"]]\n",
        "B = Data[[\"TEY\"]]"
      ],
      "metadata": {
        "id": "PPUcbJo8eIkw"
      },
      "execution_count": null,
      "outputs": []
    },
    {
      "cell_type": "markdown",
      "source": [
        "### Visualization of dataset"
      ],
      "metadata": {
        "id": "lAv59WBh2pcu"
      }
    },
    {
      "cell_type": "code",
      "source": [
        "plt.figure(figsize=(10,6))\n",
        "sns.heatmap(Data.corr(),annot=True,cmap='coolwarm')\n",
        "plt.show()"
      ],
      "metadata": {
        "colab": {
          "base_uri": "https://localhost:8080/",
          "height": 528
        },
        "id": "ipkp8Cv3bW9Q",
        "outputId": "8322c4e9-9334-4792-d3ce-c29bb7e815c8"
      },
      "execution_count": null,
      "outputs": [
        {
          "output_type": "display_data",
          "data": {
            "text/plain": [
              "<Figure size 1000x600 with 2 Axes>"
            ],
            "image/png": "[encoded data removed]"
          },
          "metadata": {}
        }
      ]
    },
    {
      "cell_type": "code",
      "source": [
        "axs = plt.subplots(5, 2)[1].flatten()\n",
        "\n",
        "for i, ax in enumerate(axs):\n",
        "    ax.hist(A.iloc[:, i], label=A.columns[i])\n",
        "    ax.legend()\n",
        "\n",
        "plt.show()"
      ],
      "metadata": {
        "colab": {
          "base_uri": "https://localhost:8080/",
          "height": 435
        },
        "id": "E-DyXlVkkinu",
        "outputId": "b1f6b347-8d91-4983-b2af-b2bc00947bc2"
      },
      "execution_count": null,
      "outputs": [
        {
          "output_type": "display_data",
          "data": {
            "text/plain": [
              "<Figure size 640x480 with 10 Axes>"
            ],
            "image/png": "[encoded data removed]"
          },
          "metadata": {}
        }
      ]
    },
    {
      "cell_type": "code",
      "source": [
        "fig,axs = plt.subplots(5, 2,figsize=(20, 10))\n",
        "axs = axs.ravel()\n",
        "for i, ax in enumerate(axs):\n",
        "\n",
        "    ax.boxplot(A.iloc[:, i])\n",
        "    ax.set_ylabel(A.columns[i])\n",
        "    ax.legend()\n",
        "\n",
        "plt.show()"
      ],
      "metadata": {
        "colab": {
          "base_uri": "https://localhost:8080/",
          "height": 992
        },
        "id": "euW0qrLg05XF",
        "outputId": "1430e935-6bad-414b-ace9-e2b40869aa04"
      },
      "execution_count": null,
      "outputs": [
        {
          "output_type": "stream",
          "name": "stderr",
          "text": [
            "WARNING:matplotlib.legend:No artists with labels found to put in legend.  Note that artists whose label start with an underscore are ignored when legend() is called with no argument.\n",
            "WARNING:matplotlib.legend:No artists with labels found to put in legend.  Note that artists whose label start with an underscore are ignored when legend() is called with no argument.\n",
            "WARNING:matplotlib.legend:No artists with labels found to put in legend.  Note that artists whose label start with an underscore are ignored when legend() is called with no argument.\n",
            "WARNING:matplotlib.legend:No artists with labels found to put in legend.  Note that artists whose label start with an underscore are ignored when legend() is called with no argument.\n",
            "WARNING:matplotlib.legend:No artists with labels found to put in legend.  Note that artists whose label start with an underscore are ignored when legend() is called with no argument.\n",
            "WARNING:matplotlib.legend:No artists with labels found to put in legend.  Note that artists whose label start with an underscore are ignored when legend() is called with no argument.\n",
            "WARNING:matplotlib.legend:No artists with labels found to put in legend.  Note that artists whose label start with an underscore are ignored when legend() is called with no argument.\n",
            "WARNING:matplotlib.legend:No artists with labels found to put in legend.  Note that artists whose label start with an underscore are ignored when legend() is called with no argument.\n",
            "WARNING:matplotlib.legend:No artists with labels found to put in legend.  Note that artists whose label start with an underscore are ignored when legend() is called with no argument.\n",
            "WARNING:matplotlib.legend:No artists with labels found to put in legend.  Note that artists whose label start with an underscore are ignored when legend() is called with no argument.\n"
          ]
        },
        {
          "output_type": "display_data",
          "data": {
            "text/plain": [
              "<Figure size 2000x1000 with 10 Axes>"
            ],
            "image/png": "[encoded data removed]"
          },
          "metadata": {}
        }
      ]
    },
    {
      "cell_type": "markdown",
      "source": [
        "# Standard Scaler"
      ],
      "metadata": {
        "id": "a1O0ObXIvIcC"
      }
    },
    {
      "cell_type": "code",
      "source": [
        "scale=StandardScaler()\n",
        "scaled_data=scale.fit_transform(Data)"
      ],
      "metadata": {
        "id": "JfyG43EevOQu"
      },
      "execution_count": null,
      "outputs": []
    },
    {
      "cell_type": "code",
      "source": [
        "scaled_data=pd.DataFrame(scaled_data,columns=Data.columns)"
      ],
      "metadata": {
        "id": "ZOLaF8wAvONH"
      },
      "execution_count": null,
      "outputs": []
    },
    {
      "cell_type": "code",
      "source": [
        "scaled_data"
      ],
      "metadata": {
        "colab": {
          "base_uri": "https://localhost:8080/",
          "height": 423
        },
        "id": "IuRChJNTmLYq",
        "outputId": "0a5e72cc-1574-427a-ec3f-4b81bb73a4d5"
      },
      "execution_count": null,
      "outputs": [
        {
          "output_type": "execute_result",
          "data": {
            "text/plain": [
              "             AT        AP        AH      AFDP      GTEP       TIT       TAT  \\\n",
              "0     -1.439778 -0.826644  1.281436 -0.921232 -1.379101 -1.488376  0.585240   \n",
              "1     -1.449601 -0.748647  1.304564 -0.921495 -1.363528 -1.482325  0.585240   \n",
              "2     -1.434721 -0.686250  1.219086 -0.944385 -1.351309 -1.476275  0.568715   \n",
              "3     -1.413702 -0.623853  1.169060 -0.946884 -1.348194 -1.464173  0.583969   \n",
              "4     -1.368693 -0.545857  1.161883 -0.924389 -1.354663 -1.458123  0.582698   \n",
              "...         ...       ...       ...       ...       ...       ...       ...   \n",
              "15034 -1.153182 -1.185428  1.401860 -0.865850 -1.498657 -2.063184  0.103453   \n",
              "15035 -1.303986 -1.138630  1.447753 -0.913470 -1.438759 -2.268905 -0.276638   \n",
              "15036 -1.386267 -1.076233  1.476971 -0.951488 -1.410967 -2.789257 -1.026650   \n",
              "15037 -1.420423 -0.998236  1.441590 -0.988848 -1.447624 -2.456474 -0.528337   \n",
              "15038 -1.430734 -0.935839  1.334652 -1.016605 -1.464635 -2.051083  0.057689   \n",
              "\n",
              "            TEY       CDP        CO       NOX  \n",
              "0     -1.231172 -1.357331  0.532012  1.387845  \n",
              "1     -1.229909 -1.363676  0.568733  1.393002  \n",
              "2     -1.230541 -1.360957  0.552938  1.363586  \n",
              "3     -1.229909 -1.356424  0.548933  1.382878  \n",
              "4     -1.229909 -1.350985  0.574179  1.348591  \n",
              "...         ...       ...       ...       ...  \n",
              "15034 -1.426381 -1.543161  1.145792  1.085751  \n",
              "15035 -1.415642 -1.513247  1.293578  1.119943  \n",
              "15036 -1.516089 -1.467922  2.695925  2.170062  \n",
              "15037 -1.481343 -1.422598  1.924683  2.391165  \n",
              "15038 -1.428277 -1.377273  1.354150  2.321539  \n",
              "\n",
              "[15039 rows x 11 columns]"
            ],
            "text/html": [
              "\n",
              "\n",
              "  <div id=\"df-da01e8b8-0bed-41ae-b069-4e53a295b502\">\n",
              "    <div class=\"colab-df-container\">\n",
              "      <div>\n",
              "<style scoped>\n",
              "    .dataframe tbody tr th:only-of-type {\n",
              "        vertical-align: middle;\n",
              "    }\n",
              "\n",
              "    .dataframe tbody tr th {\n",
              "        vertical-align: top;\n",
              "    }\n",
              "\n",
              "    .dataframe thead th {\n",
              "        text-align: right;\n",
              "    }\n",
              "</style>\n",
              "<table border=\"1\" class=\"dataframe\">\n",
              "  <thead>\n",
              "    <tr style=\"text-align: right;\">\n",
              "      <th></th>\n",
              "      <th>AT</th>\n",
              "      <th>AP</th>\n",
              "      <th>AH</th>\n",
              "      <th>AFDP</th>\n",
              "      <th>GTEP</th>\n",
              "      <th>TIT</th>\n",
              "      <th>TAT</th>\n",
              "      <th>TEY</th>\n",
              "      <th>CDP</th>\n",
              "      <th>CO</th>\n",
              "      <th>NOX</th>\n",
              "    </tr>\n",
              "  </thead>\n",
              "  <tbody>\n",
              "    <tr>\n",
              "      <th>0</th>\n",
              "      <td>-1.439778</td>\n",
              "      <td>-0.826644</td>\n",
              "      <td>1.281436</td>\n",
              "      <td>-0.921232</td>\n",
              "      <td>-1.379101</td>\n",
              "      <td>-1.488376</td>\n",
              "      <td>0.585240</td>\n",
              "      <td>-1.231172</td>\n",
              "      <td>-1.357331</td>\n",
              "      <td>0.532012</td>\n",
              "      <td>1.387845</td>\n",
              "    </tr>\n",
              "    <tr>\n",
              "      <th>1</th>\n",
              "      <td>-1.449601</td>\n",
              "      <td>-0.748647</td>\n",
              "      <td>1.304564</td>\n",
              "      <td>-0.921495</td>\n",
              "      <td>-1.363528</td>\n",
              "      <td>-1.482325</td>\n",
              "      <td>0.585240</td>\n",
              "      <td>-1.229909</td>\n",
              "      <td>-1.363676</td>\n",
              "      <td>0.568733</td>\n",
              "      <td>1.393002</td>\n",
              "    </tr>\n",
              "    <tr>\n",
              "      <th>2</th>\n",
              "      <td>-1.434721</td>\n",
              "      <td>-0.686250</td>\n",
              "      <td>1.219086</td>\n",
              "      <td>-0.944385</td>\n",
              "      <td>-1.351309</td>\n",
              "      <td>-1.476275</td>\n",
              "      <td>0.568715</td>\n",
              "      <td>-1.230541</td>\n",
              "      <td>-1.360957</td>\n",
              "      <td>0.552938</td>\n",
              "      <td>1.363586</td>\n",
              "    </tr>\n",
              "    <tr>\n",
              "      <th>3</th>\n",
              "      <td>-1.413702</td>\n",
              "      <td>-0.623853</td>\n",
              "      <td>1.169060</td>\n",
              "      <td>-0.946884</td>\n",
              "      <td>-1.348194</td>\n",
              "      <td>-1.464173</td>\n",
              "      <td>0.583969</td>\n",
              "      <td>-1.229909</td>\n",
              "      <td>-1.356424</td>\n",
              "      <td>0.548933</td>\n",
              "      <td>1.382878</td>\n",
              "    </tr>\n",
              "    <tr>\n",
              "      <th>4</th>\n",
              "      <td>-1.368693</td>\n",
              "      <td>-0.545857</td>\n",
              "      <td>1.161883</td>\n",
              "      <td>-0.924389</td>\n",
              "      <td>-1.354663</td>\n",
              "      <td>-1.458123</td>\n",
              "      <td>0.582698</td>\n",
              "      <td>-1.229909</td>\n",
              "      <td>-1.350985</td>\n",
              "      <td>0.574179</td>\n",
              "      <td>1.348591</td>\n",
              "    </tr>\n",
              "    <tr>\n",
              "      <th>...</th>\n",
              "      <td>...</td>\n",
              "      <td>...</td>\n",
              "      <td>...</td>\n",
              "      <td>...</td>\n",
              "      <td>...</td>\n",
              "      <td>...</td>\n",
              "      <td>...</td>\n",
              "      <td>...</td>\n",
              "      <td>...</td>\n",
              "      <td>...</td>\n",
              "      <td>...</td>\n",
              "    </tr>\n",
              "    <tr>\n",
              "      <th>15034</th>\n",
              "      <td>-1.153182</td>\n",
              "      <td>-1.185428</td>\n",
              "      <td>1.401860</td>\n",
              "      <td>-0.865850</td>\n",
              "      <td>-1.498657</td>\n",
              "      <td>-2.063184</td>\n",
              "      <td>0.103453</td>\n",
              "      <td>-1.426381</td>\n",
              "      <td>-1.543161</td>\n",
              "      <td>1.145792</td>\n",
              "      <td>1.085751</td>\n",
              "    </tr>\n",
              "    <tr>\n",
              "      <th>15035</th>\n",
              "      <td>-1.303986</td>\n",
              "      <td>-1.138630</td>\n",
              "      <td>1.447753</td>\n",
              "      <td>-0.913470</td>\n",
              "      <td>-1.438759</td>\n",
              "      <td>-2.268905</td>\n",
              "      <td>-0.276638</td>\n",
              "      <td>-1.415642</td>\n",
              "      <td>-1.513247</td>\n",
              "      <td>1.293578</td>\n",
              "      <td>1.119943</td>\n",
              "    </tr>\n",
              "    <tr>\n",
              "      <th>15036</th>\n",
              "      <td>-1.386267</td>\n",
              "      <td>-1.076233</td>\n",
              "      <td>1.476971</td>\n",
              "      <td>-0.951488</td>\n",
              "      <td>-1.410967</td>\n",
              "      <td>-2.789257</td>\n",
              "      <td>-1.026650</td>\n",
              "      <td>-1.516089</td>\n",
              "      <td>-1.467922</td>\n",
              "      <td>2.695925</td>\n",
              "      <td>2.170062</td>\n",
              "    </tr>\n",
              "    <tr>\n",
              "      <th>15037</th>\n",
              "      <td>-1.420423</td>\n",
              "      <td>-0.998236</td>\n",
              "      <td>1.441590</td>\n",
              "      <td>-0.988848</td>\n",
              "      <td>-1.447624</td>\n",
              "      <td>-2.456474</td>\n",
              "      <td>-0.528337</td>\n",
              "      <td>-1.481343</td>\n",
              "      <td>-1.422598</td>\n",
              "      <td>1.924683</td>\n",
              "      <td>2.391165</td>\n",
              "    </tr>\n",
              "    <tr>\n",
              "      <th>15038</th>\n",
              "      <td>-1.430734</td>\n",
              "      <td>-0.935839</td>\n",
              "      <td>1.334652</td>\n",
              "      <td>-1.016605</td>\n",
              "      <td>-1.464635</td>\n",
              "      <td>-2.051083</td>\n",
              "      <td>0.057689</td>\n",
              "      <td>-1.428277</td>\n",
              "      <td>-1.377273</td>\n",
              "      <td>1.354150</td>\n",
              "      <td>2.321539</td>\n",
              "    </tr>\n",
              "  </tbody>\n",
              "</table>\n",
              "<p>15039 rows × 11 columns</p>\n",
              "</div>\n",
              "      <button class=\"colab-df-convert\" onclick=\"convertToInteractive('df-da01e8b8-0bed-41ae-b069-4e53a295b502')\"\n",
              "              title=\"Convert this dataframe to an interactive table.\"\n",
              "              style=\"display:none;\">\n",
              "\n",
              "  <svg xmlns=\"http://www.w3.org/2000/svg\" height=\"24px\"viewBox=\"0 0 24 24\"\n",
              "       width=\"24px\">\n",
              "    <path d=\"M0 0h24v24H0V0z\" fill=\"none\"/>\n",
              "    <path d=\"M18.56 5.44l.94 2.06.94-2.06 2.06-.94-2.06-.94-.94-2.06-.94 2.06-2.06.94zm-11 1L8.5 8.5l.94-2.06 2.06-.94-2.06-.94L8.5 2.5l-.94 2.06-2.06.94zm10 10l.94 2.06.94-2.06 2.06-.94-2.06-.94-.94-2.06-.94 2.06-2.06.94z\"/><path d=\"M17.41 7.96l-1.37-1.37c-.4-.4-.92-.59-1.43-.59-.52 0-1.04.2-1.43.59L10.3 9.45l-7.72 7.72c-.78.78-.78 2.05 0 2.83L4 21.41c.39.39.9.59 1.41.59.51 0 1.02-.2 1.41-.59l7.78-7.78 2.81-2.81c.8-.78.8-2.07 0-2.86zM5.41 20L4 18.59l7.72-7.72 1.47 1.35L5.41 20z\"/>\n",
              "  </svg>\n",
              "      </button>\n",
              "\n",
              "\n",
              "\n",
              "    <div id=\"df-24f08a76-f70b-4526-8ccb-7c45c5854b14\">\n",
              "      <button class=\"colab-df-quickchart\" onclick=\"quickchart('df-24f08a76-f70b-4526-8ccb-7c45c5854b14')\"\n",
              "              title=\"Suggest charts.\"\n",
              "              style=\"display:none;\">\n",
              "\n",
              "<svg xmlns=\"http://www.w3.org/2000/svg\" height=\"24px\"viewBox=\"0 0 24 24\"\n",
              "     width=\"24px\">\n",
              "    <g>\n",
              "        <path d=\"M19 3H5c-1.1 0-2 .9-2 2v14c0 1.1.9 2 2 2h14c1.1 0 2-.9 2-2V5c0-1.1-.9-2-2-2zM9 17H7v-7h2v7zm4 0h-2V7h2v10zm4 0h-2v-4h2v4z\"/>\n",
              "    </g>\n",
              "</svg>\n",
              "      </button>\n",
              "    </div>\n",
              "\n",
              "<style>\n",
              "  .colab-df-quickchart {\n",
              "    background-color: #E8F0FE;\n",
              "    border: none;\n",
              "    border-radius: 50%;\n",
              "    cursor: pointer;\n",
              "    display: none;\n",
              "    fill: #1967D2;\n",
              "    height: 32px;\n",
              "    padding: 0 0 0 0;\n",
              "    width: 32px;\n",
              "  }\n",
              "\n",
              "  .colab-df-quickchart:hover {\n",
              "    background-color: #E2EBFA;\n",
              "    box-shadow: 0px 1px 2px rgba(60, 64, 67, 0.3), 0px 1px 3px 1px rgba(60, 64, 67, 0.15);\n",
              "    fill: #174EA6;\n",
              "  }\n",
              "\n",
              "  [theme=dark] .colab-df-quickchart {\n",
              "    background-color: #3B4455;\n",
              "    fill: #D2E3FC;\n",
              "  }\n",
              "\n",
              "  [theme=dark] .colab-df-quickchart:hover {\n",
              "    background-color: #434B5C;\n",
              "    box-shadow: 0px 1px 3px 1px rgba(0, 0, 0, 0.15);\n",
              "    filter: drop-shadow(0px 1px 2px rgba(0, 0, 0, 0.3));\n",
              "    fill: #FFFFFF;\n",
              "  }\n",
              "</style>\n",
              "\n",
              "    <script>\n",
              "      async function quickchart(key) {\n",
              "        const containerElement = document.querySelector('#' + key);\n",
              "        const charts = await google.colab.kernel.invokeFunction(\n",
              "            'suggestCharts', [key], {});\n",
              "      }\n",
              "    </script>\n",
              "\n",
              "      <script>\n",
              "\n",
              "function displayQuickchartButton(domScope) {\n",
              "  let quickchartButtonEl =\n",
              "    domScope.querySelector('#df-24f08a76-f70b-4526-8ccb-7c45c5854b14 button.colab-df-quickchart');\n",
              "  quickchartButtonEl.style.display =\n",
              "    google.colab.kernel.accessAllowed ? 'block' : 'none';\n",
              "}\n",
              "\n",
              "        displayQuickchartButton(document);\n",
              "      </script>\n",
              "      <style>\n",
              "    .colab-df-container {\n",
              "      display:flex;\n",
              "      flex-wrap:wrap;\n",
              "      gap: 12px;\n",
              "    }\n",
              "\n",
              "    .colab-df-convert {\n",
              "      background-color: #E8F0FE;\n",
              "      border: none;\n",
              "      border-radius: 50%;\n",
              "      cursor: pointer;\n",
              "      display: none;\n",
              "      fill: #1967D2;\n",
              "      height: 32px;\n",
              "      padding: 0 0 0 0;\n",
              "      width: 32px;\n",
              "    }\n",
              "\n",
              "    .colab-df-convert:hover {\n",
              "      background-color: #E2EBFA;\n",
              "      box-shadow: 0px 1px 2px rgba(60, 64, 67, 0.3), 0px 1px 3px 1px rgba(60, 64, 67, 0.15);\n",
              "      fill: #174EA6;\n",
              "    }\n",
              "\n",
              "    [theme=dark] .colab-df-convert {\n",
              "      background-color: #3B4455;\n",
              "      fill: #D2E3FC;\n",
              "    }\n",
              "\n",
              "    [theme=dark] .colab-df-convert:hover {\n",
              "      background-color: #434B5C;\n",
              "      box-shadow: 0px 1px 3px 1px rgba(0, 0, 0, 0.15);\n",
              "      filter: drop-shadow(0px 1px 2px rgba(0, 0, 0, 0.3));\n",
              "      fill: #FFFFFF;\n",
              "    }\n",
              "  </style>\n",
              "\n",
              "      <script>\n",
              "        const buttonEl =\n",
              "          document.querySelector('#df-da01e8b8-0bed-41ae-b069-4e53a295b502 button.colab-df-convert');\n",
              "        buttonEl.style.display =\n",
              "          google.colab.kernel.accessAllowed ? 'block' : 'none';\n",
              "\n",
              "        async function convertToInteractive(key) {\n",
              "          const element = document.querySelector('#df-da01e8b8-0bed-41ae-b069-4e53a295b502');\n",
              "          const dataTable =\n",
              "            await google.colab.kernel.invokeFunction('convertToInteractive',\n",
              "                                                     [key], {});\n",
              "          if (!dataTable) return;\n",
              "\n",
              "          const docLinkHtml = 'Like what you see? Visit the ' +\n",
              "            '<a target=\"_blank\" href=https://colab.research.google.com/notebooks/data_table.ipynb>data table notebook</a>'\n",
              "            + ' to learn more about interactive tables.';\n",
              "          element.innerHTML = '';\n",
              "          dataTable['output_type'] = 'display_data';\n",
              "          await google.colab.output.renderOutput(dataTable, element);\n",
              "          const docLink = document.createElement('div');\n",
              "          docLink.innerHTML = docLinkHtml;\n",
              "          element.appendChild(docLink);\n",
              "        }\n",
              "      </script>\n",
              "    </div>\n",
              "  </div>\n"
            ]
          },
          "metadata": {},
          "execution_count": 17
        }
      ]
    },
    {
      "cell_type": "code",
      "source": [
        "X =scaled_data[[\"AT\", \"AP\", \"AH\", \"AFDP\", \"GTEP\", \"TIT\", \"TAT\", \"CDP\", \"CO\", \"NOX\"]]\n",
        "Y =scaled_data[[\"TEY\"]]"
      ],
      "metadata": {
        "id": "XxSPcKqU5zKe"
      },
      "execution_count": null,
      "outputs": []
    },
    {
      "cell_type": "code",
      "source": [
        "X.head(5)"
      ],
      "metadata": {
        "colab": {
          "base_uri": "https://localhost:8080/",
          "height": 206
        },
        "id": "IoulxuINjVFr",
        "outputId": "97a79fd7-860e-4a8f-ce64-4ca554d2b35d"
      },
      "execution_count": null,
      "outputs": [
        {
          "output_type": "execute_result",
          "data": {
            "text/plain": [
              "         AT        AP        AH      AFDP      GTEP       TIT       TAT  \\\n",
              "0 -1.439778 -0.826644  1.281436 -0.921232 -1.379101 -1.488376  0.585240   \n",
              "1 -1.449601 -0.748647  1.304564 -0.921495 -1.363528 -1.482325  0.585240   \n",
              "2 -1.434721 -0.686250  1.219086 -0.944385 -1.351309 -1.476275  0.568715   \n",
              "3 -1.413702 -0.623853  1.169060 -0.946884 -1.348194 -1.464173  0.583969   \n",
              "4 -1.368693 -0.545857  1.161883 -0.924389 -1.354663 -1.458123  0.582698   \n",
              "\n",
              "        CDP        CO       NOX  \n",
              "0 -1.357331  0.532012  1.387845  \n",
              "1 -1.363676  0.568733  1.393002  \n",
              "2 -1.360957  0.552938  1.363586  \n",
              "3 -1.356424  0.548933  1.382878  \n",
              "4 -1.350985  0.574179  1.348591  "
            ],
            "text/html": [
              "\n",
              "\n",
              "  <div id=\"df-6f86c4fd-9037-49a5-a6f9-4e70013a1c0e\">\n",
              "    <div class=\"colab-df-container\">\n",
              "      <div>\n",
              "<style scoped>\n",
              "    .dataframe tbody tr th:only-of-type {\n",
              "        vertical-align: middle;\n",
              "    }\n",
              "\n",
              "    .dataframe tbody tr th {\n",
              "        vertical-align: top;\n",
              "    }\n",
              "\n",
              "    .dataframe thead th {\n",
              "        text-align: right;\n",
              "    }\n",
              "</style>\n",
              "<table border=\"1\" class=\"dataframe\">\n",
              "  <thead>\n",
              "    <tr style=\"text-align: right;\">\n",
              "      <th></th>\n",
              "      <th>AT</th>\n",
              "      <th>AP</th>\n",
              "      <th>AH</th>\n",
              "      <th>AFDP</th>\n",
              "      <th>GTEP</th>\n",
              "      <th>TIT</th>\n",
              "      <th>TAT</th>\n",
              "      <th>CDP</th>\n",
              "      <th>CO</th>\n",
              "      <th>NOX</th>\n",
              "    </tr>\n",
              "  </thead>\n",
              "  <tbody>\n",
              "    <tr>\n",
              "      <th>0</th>\n",
              "      <td>-1.439778</td>\n",
              "      <td>-0.826644</td>\n",
              "      <td>1.281436</td>\n",
              "      <td>-0.921232</td>\n",
              "      <td>-1.379101</td>\n",
              "      <td>-1.488376</td>\n",
              "      <td>0.585240</td>\n",
              "      <td>-1.357331</td>\n",
              "      <td>0.532012</td>\n",
              "      <td>1.387845</td>\n",
              "    </tr>\n",
              "    <tr>\n",
              "      <th>1</th>\n",
              "      <td>-1.449601</td>\n",
              "      <td>-0.748647</td>\n",
              "      <td>1.304564</td>\n",
              "      <td>-0.921495</td>\n",
              "      <td>-1.363528</td>\n",
              "      <td>-1.482325</td>\n",
              "      <td>0.585240</td>\n",
              "      <td>-1.363676</td>\n",
              "      <td>0.568733</td>\n",
              "      <td>1.393002</td>\n",
              "    </tr>\n",
              "    <tr>\n",
              "      <th>2</th>\n",
              "      <td>-1.434721</td>\n",
              "      <td>-0.686250</td>\n",
              "      <td>1.219086</td>\n",
              "      <td>-0.944385</td>\n",
              "      <td>-1.351309</td>\n",
              "      <td>-1.476275</td>\n",
              "      <td>0.568715</td>\n",
              "      <td>-1.360957</td>\n",
              "      <td>0.552938</td>\n",
              "      <td>1.363586</td>\n",
              "    </tr>\n",
              "    <tr>\n",
              "      <th>3</th>\n",
              "      <td>-1.413702</td>\n",
              "      <td>-0.623853</td>\n",
              "      <td>1.169060</td>\n",
              "      <td>-0.946884</td>\n",
              "      <td>-1.348194</td>\n",
              "      <td>-1.464173</td>\n",
              "      <td>0.583969</td>\n",
              "      <td>-1.356424</td>\n",
              "      <td>0.548933</td>\n",
              "      <td>1.382878</td>\n",
              "    </tr>\n",
              "    <tr>\n",
              "      <th>4</th>\n",
              "      <td>-1.368693</td>\n",
              "      <td>-0.545857</td>\n",
              "      <td>1.161883</td>\n",
              "      <td>-0.924389</td>\n",
              "      <td>-1.354663</td>\n",
              "      <td>-1.458123</td>\n",
              "      <td>0.582698</td>\n",
              "      <td>-1.350985</td>\n",
              "      <td>0.574179</td>\n",
              "      <td>1.348591</td>\n",
              "    </tr>\n",
              "  </tbody>\n",
              "</table>\n",
              "</div>\n",
              "      <button class=\"colab-df-convert\" onclick=\"convertToInteractive('df-6f86c4fd-9037-49a5-a6f9-4e70013a1c0e')\"\n",
              "              title=\"Convert this dataframe to an interactive table.\"\n",
              "              style=\"display:none;\">\n",
              "\n",
              "  <svg xmlns=\"http://www.w3.org/2000/svg\" height=\"24px\"viewBox=\"0 0 24 24\"\n",
              "       width=\"24px\">\n",
              "    <path d=\"M0 0h24v24H0V0z\" fill=\"none\"/>\n",
              "    <path d=\"M18.56 5.44l.94 2.06.94-2.06 2.06-.94-2.06-.94-.94-2.06-.94 2.06-2.06.94zm-11 1L8.5 8.5l.94-2.06 2.06-.94-2.06-.94L8.5 2.5l-.94 2.06-2.06.94zm10 10l.94 2.06.94-2.06 2.06-.94-2.06-.94-.94-2.06-.94 2.06-2.06.94z\"/><path d=\"M17.41 7.96l-1.37-1.37c-.4-.4-.92-.59-1.43-.59-.52 0-1.04.2-1.43.59L10.3 9.45l-7.72 7.72c-.78.78-.78 2.05 0 2.83L4 21.41c.39.39.9.59 1.41.59.51 0 1.02-.2 1.41-.59l7.78-7.78 2.81-2.81c.8-.78.8-2.07 0-2.86zM5.41 20L4 18.59l7.72-7.72 1.47 1.35L5.41 20z\"/>\n",
              "  </svg>\n",
              "      </button>\n",
              "\n",
              "\n",
              "\n",
              "    <div id=\"df-f0677e6b-79a6-4345-b4f6-b136cfb66c0e\">\n",
              "      <button class=\"colab-df-quickchart\" onclick=\"quickchart('df-f0677e6b-79a6-4345-b4f6-b136cfb66c0e')\"\n",
              "              title=\"Suggest charts.\"\n",
              "              style=\"display:none;\">\n",
              "\n",
              "<svg xmlns=\"http://www.w3.org/2000/svg\" height=\"24px\"viewBox=\"0 0 24 24\"\n",
              "     width=\"24px\">\n",
              "    <g>\n",
              "        <path d=\"M19 3H5c-1.1 0-2 .9-2 2v14c0 1.1.9 2 2 2h14c1.1 0 2-.9 2-2V5c0-1.1-.9-2-2-2zM9 17H7v-7h2v7zm4 0h-2V7h2v10zm4 0h-2v-4h2v4z\"/>\n",
              "    </g>\n",
              "</svg>\n",
              "      </button>\n",
              "    </div>\n",
              "\n",
              "<style>\n",
              "  .colab-df-quickchart {\n",
              "    background-color: #E8F0FE;\n",
              "    border: none;\n",
              "    border-radius: 50%;\n",
              "    cursor: pointer;\n",
              "    display: none;\n",
              "    fill: #1967D2;\n",
              "    height: 32px;\n",
              "    padding: 0 0 0 0;\n",
              "    width: 32px;\n",
              "  }\n",
              "\n",
              "  .colab-df-quickchart:hover {\n",
              "    background-color: #E2EBFA;\n",
              "    box-shadow: 0px 1px 2px rgba(60, 64, 67, 0.3), 0px 1px 3px 1px rgba(60, 64, 67, 0.15);\n",
              "    fill: #174EA6;\n",
              "  }\n",
              "\n",
              "  [theme=dark] .colab-df-quickchart {\n",
              "    background-color: #3B4455;\n",
              "    fill: #D2E3FC;\n",
              "  }\n",
              "\n",
              "  [theme=dark] .colab-df-quickchart:hover {\n",
              "    background-color: #434B5C;\n",
              "    box-shadow: 0px 1px 3px 1px rgba(0, 0, 0, 0.15);\n",
              "    filter: drop-shadow(0px 1px 2px rgba(0, 0, 0, 0.3));\n",
              "    fill: #FFFFFF;\n",
              "  }\n",
              "</style>\n",
              "\n",
              "    <script>\n",
              "      async function quickchart(key) {\n",
              "        const containerElement = document.querySelector('#' + key);\n",
              "        const charts = await google.colab.kernel.invokeFunction(\n",
              "            'suggestCharts', [key], {});\n",
              "      }\n",
              "    </script>\n",
              "\n",
              "      <script>\n",
              "\n",
              "function displayQuickchartButton(domScope) {\n",
              "  let quickchartButtonEl =\n",
              "    domScope.querySelector('#df-f0677e6b-79a6-4345-b4f6-b136cfb66c0e button.colab-df-quickchart');\n",
              "  quickchartButtonEl.style.display =\n",
              "    google.colab.kernel.accessAllowed ? 'block' : 'none';\n",
              "}\n",
              "\n",
              "        displayQuickchartButton(document);\n",
              "      </script>\n",
              "      <style>\n",
              "    .colab-df-container {\n",
              "      display:flex;\n",
              "      flex-wrap:wrap;\n",
              "      gap: 12px;\n",
              "    }\n",
              "\n",
              "    .colab-df-convert {\n",
              "      background-color: #E8F0FE;\n",
              "      border: none;\n",
              "      border-radius: 50%;\n",
              "      cursor: pointer;\n",
              "      display: none;\n",
              "      fill: #1967D2;\n",
              "      height: 32px;\n",
              "      padding: 0 0 0 0;\n",
              "      width: 32px;\n",
              "    }\n",
              "\n",
              "    .colab-df-convert:hover {\n",
              "      background-color: #E2EBFA;\n",
              "      box-shadow: 0px 1px 2px rgba(60, 64, 67, 0.3), 0px 1px 3px 1px rgba(60, 64, 67, 0.15);\n",
              "      fill: #174EA6;\n",
              "    }\n",
              "\n",
              "    [theme=dark] .colab-df-convert {\n",
              "      background-color: #3B4455;\n",
              "      fill: #D2E3FC;\n",
              "    }\n",
              "\n",
              "    [theme=dark] .colab-df-convert:hover {\n",
              "      background-color: #434B5C;\n",
              "      box-shadow: 0px 1px 3px 1px rgba(0, 0, 0, 0.15);\n",
              "      filter: drop-shadow(0px 1px 2px rgba(0, 0, 0, 0.3));\n",
              "      fill: #FFFFFF;\n",
              "    }\n",
              "  </style>\n",
              "\n",
              "      <script>\n",
              "        const buttonEl =\n",
              "          document.querySelector('#df-6f86c4fd-9037-49a5-a6f9-4e70013a1c0e button.colab-df-convert');\n",
              "        buttonEl.style.display =\n",
              "          google.colab.kernel.accessAllowed ? 'block' : 'none';\n",
              "\n",
              "        async function convertToInteractive(key) {\n",
              "          const element = document.querySelector('#df-6f86c4fd-9037-49a5-a6f9-4e70013a1c0e');\n",
              "          const dataTable =\n",
              "            await google.colab.kernel.invokeFunction('convertToInteractive',\n",
              "                                                     [key], {});\n",
              "          if (!dataTable) return;\n",
              "\n",
              "          const docLinkHtml = 'Like what you see? Visit the ' +\n",
              "            '<a target=\"_blank\" href=https://colab.research.google.com/notebooks/data_table.ipynb>data table notebook</a>'\n",
              "            + ' to learn more about interactive tables.';\n",
              "          element.innerHTML = '';\n",
              "          dataTable['output_type'] = 'display_data';\n",
              "          await google.colab.output.renderOutput(dataTable, element);\n",
              "          const docLink = document.createElement('div');\n",
              "          docLink.innerHTML = docLinkHtml;\n",
              "          element.appendChild(docLink);\n",
              "        }\n",
              "      </script>\n",
              "    </div>\n",
              "  </div>\n"
            ]
          },
          "metadata": {},
          "execution_count": 19
        }
      ]
    },
    {
      "cell_type": "code",
      "source": [
        "Y.head(5)"
      ],
      "metadata": {
        "colab": {
          "base_uri": "https://localhost:8080/",
          "height": 206
        },
        "id": "MC09yRdzjX66",
        "outputId": "864d1451-2cc0-44ad-c26f-46b530cd46a8"
      },
      "execution_count": null,
      "outputs": [
        {
          "output_type": "execute_result",
          "data": {
            "text/plain": [
              "        TEY\n",
              "0 -1.231172\n",
              "1 -1.229909\n",
              "2 -1.230541\n",
              "3 -1.229909\n",
              "4 -1.229909"
            ],
            "text/html": [
              "\n",
              "\n",
              "  <div id=\"df-17a548a7-2fad-4653-b116-97ca0a5e012d\">\n",
              "    <div class=\"colab-df-container\">\n",
              "      <div>\n",
              "<style scoped>\n",
              "    .dataframe tbody tr th:only-of-type {\n",
              "        vertical-align: middle;\n",
              "    }\n",
              "\n",
              "    .dataframe tbody tr th {\n",
              "        vertical-align: top;\n",
              "    }\n",
              "\n",
              "    .dataframe thead th {\n",
              "        text-align: right;\n",
              "    }\n",
              "</style>\n",
              "<table border=\"1\" class=\"dataframe\">\n",
              "  <thead>\n",
              "    <tr style=\"text-align: right;\">\n",
              "      <th></th>\n",
              "      <th>TEY</th>\n",
              "    </tr>\n",
              "  </thead>\n",
              "  <tbody>\n",
              "    <tr>\n",
              "      <th>0</th>\n",
              "      <td>-1.231172</td>\n",
              "    </tr>\n",
              "    <tr>\n",
              "      <th>1</th>\n",
              "      <td>-1.229909</td>\n",
              "    </tr>\n",
              "    <tr>\n",
              "      <th>2</th>\n",
              "      <td>-1.230541</td>\n",
              "    </tr>\n",
              "    <tr>\n",
              "      <th>3</th>\n",
              "      <td>-1.229909</td>\n",
              "    </tr>\n",
              "    <tr>\n",
              "      <th>4</th>\n",
              "      <td>-1.229909</td>\n",
              "    </tr>\n",
              "  </tbody>\n",
              "</table>\n",
              "</div>\n",
              "      <button class=\"colab-df-convert\" onclick=\"convertToInteractive('df-17a548a7-2fad-4653-b116-97ca0a5e012d')\"\n",
              "              title=\"Convert this dataframe to an interactive table.\"\n",
              "              style=\"display:none;\">\n",
              "\n",
              "  <svg xmlns=\"http://www.w3.org/2000/svg\" height=\"24px\"viewBox=\"0 0 24 24\"\n",
              "       width=\"24px\">\n",
              "    <path d=\"M0 0h24v24H0V0z\" fill=\"none\"/>\n",
              "    <path d=\"M18.56 5.44l.94 2.06.94-2.06 2.06-.94-2.06-.94-.94-2.06-.94 2.06-2.06.94zm-11 1L8.5 8.5l.94-2.06 2.06-.94-2.06-.94L8.5 2.5l-.94 2.06-2.06.94zm10 10l.94 2.06.94-2.06 2.06-.94-2.06-.94-.94-2.06-.94 2.06-2.06.94z\"/><path d=\"M17.41 7.96l-1.37-1.37c-.4-.4-.92-.59-1.43-.59-.52 0-1.04.2-1.43.59L10.3 9.45l-7.72 7.72c-.78.78-.78 2.05 0 2.83L4 21.41c.39.39.9.59 1.41.59.51 0 1.02-.2 1.41-.59l7.78-7.78 2.81-2.81c.8-.78.8-2.07 0-2.86zM5.41 20L4 18.59l7.72-7.72 1.47 1.35L5.41 20z\"/>\n",
              "  </svg>\n",
              "      </button>\n",
              "\n",
              "\n",
              "\n",
              "    <div id=\"df-2df896b4-81e0-457a-8a06-142a5a46ac0c\">\n",
              "      <button class=\"colab-df-quickchart\" onclick=\"quickchart('df-2df896b4-81e0-457a-8a06-142a5a46ac0c')\"\n",
              "              title=\"Suggest charts.\"\n",
              "              style=\"display:none;\">\n",
              "\n",
              "<svg xmlns=\"http://www.w3.org/2000/svg\" height=\"24px\"viewBox=\"0 0 24 24\"\n",
              "     width=\"24px\">\n",
              "    <g>\n",
              "        <path d=\"M19 3H5c-1.1 0-2 .9-2 2v14c0 1.1.9 2 2 2h14c1.1 0 2-.9 2-2V5c0-1.1-.9-2-2-2zM9 17H7v-7h2v7zm4 0h-2V7h2v10zm4 0h-2v-4h2v4z\"/>\n",
              "    </g>\n",
              "</svg>\n",
              "      </button>\n",
              "    </div>\n",
              "\n",
              "<style>\n",
              "  .colab-df-quickchart {\n",
              "    background-color: #E8F0FE;\n",
              "    border: none;\n",
              "    border-radius: 50%;\n",
              "    cursor: pointer;\n",
              "    display: none;\n",
              "    fill: #1967D2;\n",
              "    height: 32px;\n",
              "    padding: 0 0 0 0;\n",
              "    width: 32px;\n",
              "  }\n",
              "\n",
              "  .colab-df-quickchart:hover {\n",
              "    background-color: #E2EBFA;\n",
              "    box-shadow: 0px 1px 2px rgba(60, 64, 67, 0.3), 0px 1px 3px 1px rgba(60, 64, 67, 0.15);\n",
              "    fill: #174EA6;\n",
              "  }\n",
              "\n",
              "  [theme=dark] .colab-df-quickchart {\n",
              "    background-color: #3B4455;\n",
              "    fill: #D2E3FC;\n",
              "  }\n",
              "\n",
              "  [theme=dark] .colab-df-quickchart:hover {\n",
              "    background-color: #434B5C;\n",
              "    box-shadow: 0px 1px 3px 1px rgba(0, 0, 0, 0.15);\n",
              "    filter: drop-shadow(0px 1px 2px rgba(0, 0, 0, 0.3));\n",
              "    fill: #FFFFFF;\n",
              "  }\n",
              "</style>\n",
              "\n",
              "    <script>\n",
              "      async function quickchart(key) {\n",
              "        const containerElement = document.querySelector('#' + key);\n",
              "        const charts = await google.colab.kernel.invokeFunction(\n",
              "            'suggestCharts', [key], {});\n",
              "      }\n",
              "    </script>\n",
              "\n",
              "      <script>\n",
              "\n",
              "function displayQuickchartButton(domScope) {\n",
              "  let quickchartButtonEl =\n",
              "    domScope.querySelector('#df-2df896b4-81e0-457a-8a06-142a5a46ac0c button.colab-df-quickchart');\n",
              "  quickchartButtonEl.style.display =\n",
              "    google.colab.kernel.accessAllowed ? 'block' : 'none';\n",
              "}\n",
              "\n",
              "        displayQuickchartButton(document);\n",
              "      </script>\n",
              "      <style>\n",
              "    .colab-df-container {\n",
              "      display:flex;\n",
              "      flex-wrap:wrap;\n",
              "      gap: 12px;\n",
              "    }\n",
              "\n",
              "    .colab-df-convert {\n",
              "      background-color: #E8F0FE;\n",
              "      border: none;\n",
              "      border-radius: 50%;\n",
              "      cursor: pointer;\n",
              "      display: none;\n",
              "      fill: #1967D2;\n",
              "      height: 32px;\n",
              "      padding: 0 0 0 0;\n",
              "      width: 32px;\n",
              "    }\n",
              "\n",
              "    .colab-df-convert:hover {\n",
              "      background-color: #E2EBFA;\n",
              "      box-shadow: 0px 1px 2px rgba(60, 64, 67, 0.3), 0px 1px 3px 1px rgba(60, 64, 67, 0.15);\n",
              "      fill: #174EA6;\n",
              "    }\n",
              "\n",
              "    [theme=dark] .colab-df-convert {\n",
              "      background-color: #3B4455;\n",
              "      fill: #D2E3FC;\n",
              "    }\n",
              "\n",
              "    [theme=dark] .colab-df-convert:hover {\n",
              "      background-color: #434B5C;\n",
              "      box-shadow: 0px 1px 3px 1px rgba(0, 0, 0, 0.15);\n",
              "      filter: drop-shadow(0px 1px 2px rgba(0, 0, 0, 0.3));\n",
              "      fill: #FFFFFF;\n",
              "    }\n",
              "  </style>\n",
              "\n",
              "      <script>\n",
              "        const buttonEl =\n",
              "          document.querySelector('#df-17a548a7-2fad-4653-b116-97ca0a5e012d button.colab-df-convert');\n",
              "        buttonEl.style.display =\n",
              "          google.colab.kernel.accessAllowed ? 'block' : 'none';\n",
              "\n",
              "        async function convertToInteractive(key) {\n",
              "          const element = document.querySelector('#df-17a548a7-2fad-4653-b116-97ca0a5e012d');\n",
              "          const dataTable =\n",
              "            await google.colab.kernel.invokeFunction('convertToInteractive',\n",
              "                                                     [key], {});\n",
              "          if (!dataTable) return;\n",
              "\n",
              "          const docLinkHtml = 'Like what you see? Visit the ' +\n",
              "            '<a target=\"_blank\" href=https://colab.research.google.com/notebooks/data_table.ipynb>data table notebook</a>'\n",
              "            + ' to learn more about interactive tables.';\n",
              "          element.innerHTML = '';\n",
              "          dataTable['output_type'] = 'display_data';\n",
              "          await google.colab.output.renderOutput(dataTable, element);\n",
              "          const docLink = document.createElement('div');\n",
              "          docLink.innerHTML = docLinkHtml;\n",
              "          element.appendChild(docLink);\n",
              "        }\n",
              "      </script>\n",
              "    </div>\n",
              "  </div>\n"
            ]
          },
          "metadata": {},
          "execution_count": 20
        }
      ]
    },
    {
      "cell_type": "markdown",
      "source": [
        "## Train-Test Split"
      ],
      "metadata": {
        "id": "TA2_AwekNos1"
      }
    },
    {
      "cell_type": "code",
      "source": [
        "X_train,X_test,Y_train,Y_test=train_test_split(X,Y,test_size=0.4,random_state=42)"
      ],
      "metadata": {
        "id": "XF0bVVUvNrNp"
      },
      "execution_count": null,
      "outputs": []
    },
    {
      "cell_type": "markdown",
      "source": [
        "#MODEL building"
      ],
      "metadata": {
        "id": "TIv_ImRolgZc"
      }
    },
    {
      "cell_type": "code",
      "source": [
        "dropout_rate=0.2\n",
        "activation_function = 'linear'\n",
        "batch_size = 100\n",
        "epochs = 100"
      ],
      "metadata": {
        "id": "rvV56glsMlk1"
      },
      "execution_count": null,
      "outputs": []
    },
    {
      "cell_type": "code",
      "source": [
        "model = Sequential()\n",
        "model.add(Dense(12, input_dim=10, kernel_initializer='uniform', activation='linear'))\n",
        "model.add(Dense(24, kernel_initializer='uniform', activation='relu'))\n",
        "model.add(Dense(48,kernel_initializer='uniform', activation='sigmoid'))\n",
        "model.add(Dense(24, kernel_initializer='uniform', activation='relu'))\n",
        "model.add(Dense(12,kernel_initializer='uniform', activation='relu'))\n",
        "model.add(Dense(1, kernel_initializer='uniform', activation='linear'))\n",
        "\n",
        "adam = Adam(learning_rate =0.001)\n",
        "model.compile(loss='mean_squared_error', optimizer='adam', metrics=['mean_squared_error'])"
      ],
      "metadata": {
        "id": "GPSL5IEnh2LK"
      },
      "execution_count": null,
      "outputs": []
    },
    {
      "cell_type": "code",
      "source": [
        "scores=model.evaluate(X,Y)"
      ],
      "metadata": {
        "colab": {
          "base_uri": "https://localhost:8080/"
        },
        "id": "-cNtRssxOMNs",
        "outputId": "d68fbf59-f44c-4a0d-ee66-89a456351971"
      },
      "execution_count": null,
      "outputs": [
        {
          "output_type": "stream",
          "name": "stdout",
          "text": [
            "470/470 [==============================] - 1s 1ms/step - loss: 1.0000 - mean_squared_error: 1.0000\n"
          ]
        }
      ]
    },
    {
      "cell_type": "code",
      "source": [
        "history=model.fit(X_train,Y_train,batch_size=1000,epochs=1000,verbose=0,validation_data=(X_test, Y_test))"
      ],
      "metadata": {
        "id": "rgsDyuIaaozr"
      },
      "execution_count": null,
      "outputs": []
    },
    {
      "cell_type": "code",
      "source": [
        "#model.fit(X, Y, validation_split=0.33, epochs=50, batch_size=100)"
      ],
      "metadata": {
        "id": "1KxS4bjEh1ib"
      },
      "execution_count": null,
      "outputs": []
    },
    {
      "cell_type": "code",
      "source": [
        "model.history.history.keys()"
      ],
      "metadata": {
        "colab": {
          "base_uri": "https://localhost:8080/"
        },
        "id": "Nd6vWs2NavZq",
        "outputId": "39234d05-dab4-44e3-f228-7f8b9428c8ba"
      },
      "execution_count": null,
      "outputs": [
        {
          "output_type": "execute_result",
          "data": {
            "text/plain": [
              "dict_keys(['loss', 'mean_squared_error', 'val_loss', 'val_mean_squared_error'])"
            ]
          },
          "metadata": {},
          "execution_count": 27
        }
      ]
    },
    {
      "cell_type": "code",
      "source": [
        "scores=model.evaluate(X,Y)"
      ],
      "metadata": {
        "colab": {
          "base_uri": "https://localhost:8080/"
        },
        "id": "rb_ljD8Bh1Uj",
        "outputId": "a72bb7f1-bd0a-46ab-c223-9ffedcced62a"
      },
      "execution_count": null,
      "outputs": [
        {
          "output_type": "stream",
          "name": "stdout",
          "text": [
            "470/470 [==============================] - 1s 1ms/step - loss: 0.0016 - mean_squared_error: 0.0016\n"
          ]
        }
      ]
    },
    {
      "cell_type": "code",
      "source": [
        "print(\"%s: %.2f%%\" % (model.metrics_names[1], scores[1]*100))"
      ],
      "metadata": {
        "colab": {
          "base_uri": "https://localhost:8080/"
        },
        "id": "wH6bt2M4DBlI",
        "outputId": "cabdf748-858f-43df-d0d9-ebc964d9015b"
      },
      "execution_count": null,
      "outputs": [
        {
          "output_type": "stream",
          "name": "stdout",
          "text": [
            "mean_squared_error: 0.16%\n"
          ]
        }
      ]
    },
    {
      "cell_type": "code",
      "source": [
        "# summarize history for accuracy\n",
        "plt.plot(history.history['mean_squared_error'])\n",
        "plt.plot(history.history['val_mean_squared_error'])\n",
        "plt.title('Model MSE')\n",
        "plt.ylabel('MSE')\n",
        "plt.xlabel('Epoch')\n",
        "plt.legend(['train', 'val'], loc='upper left')\n",
        "plt.show()"
      ],
      "metadata": {
        "id": "mOdXsW46I_6X",
        "colab": {
          "base_uri": "https://localhost:8080/",
          "height": 472
        },
        "outputId": "e17ea88b-89b5-49da-929f-7c562cd63a89"
      },
      "execution_count": null,
      "outputs": [
        {
          "output_type": "display_data",
          "data": {
            "text/plain": [
              "<Figure size 640x480 with 1 Axes>"
            ],
            "image/png": "[encoded data removed]"
          },
          "metadata": {}
        }
      ]
    },
    {
      "cell_type": "markdown",
      "source": [
        "# Model building by using Adam Optimizer"
      ],
      "metadata": {
        "id": "fWmSFSqypZ0p"
      }
    },
    {
      "cell_type": "markdown",
      "source": [
        "### Hyper Parameter Tuning for Number of neurons and hidden layesrs and learning rate"
      ],
      "metadata": {
        "id": "gA5pi0P-UzRv"
      }
    },
    {
      "cell_type": "code",
      "source": [
        "layers=[2,3,4,5,8]\n",
        "neurons = [8,10,15,25,36,54]\n",
        "learning_rates = np.linspace(0.001, 0.1, 10)"
      ],
      "metadata": {
        "id": "kz5fsGj63WiY"
      },
      "execution_count": null,
      "outputs": []
    },
    {
      "cell_type": "code",
      "source": [
        "def create_model1(layers, neurons,learning_rate):\n",
        "    model1 = Sequential()\n",
        "    model1.add(Dense(10, input_dim=X_train.shape[1], activation='relu'))\n",
        "\n",
        "\n",
        "    for i in range(layers-1):\n",
        "        model1.add(Dense(neurons, activation='relu'))\n",
        "    model1.add(Dense(1, activation='linear'))\n",
        "\n",
        "\n",
        "    adam = Adam(learning_rate = learning_rate)\n",
        "    model1.compile(loss='mean_squared_error', optimizer='adam', metrics=['accuracy'])\n",
        "    return model1"
      ],
      "metadata": {
        "id": "Ho9RRS_TiWlD"
      },
      "execution_count": null,
      "outputs": []
    },
    {
      "cell_type": "code",
      "source": [
        "model1 = KerasClassifier(build_fn=create_model1, verbose=0)"
      ],
      "metadata": {
        "colab": {
          "base_uri": "https://localhost:8080/"
        },
        "id": "FWfqjyE14M8L",
        "outputId": "288a63bf-d29e-4779-94d2-d2433b855587"
      },
      "execution_count": null,
      "outputs": [
        {
          "output_type": "stream",
          "name": "stderr",
          "text": [
            "<ipython-input-33-06473661806b>:1: DeprecationWarning: KerasClassifier is deprecated, use Sci-Keras (https://github.com/adriangb/scikeras) instead. See https://www.adriangb.com/scikeras/stable/migration.html for help migrating.\n",
            "  model1 = KerasClassifier(build_fn=create_model1, verbose=0)\n"
          ]
        }
      ]
    },
    {
      "cell_type": "code",
      "source": [
        "parameters1=dict(layers=layers,neurons = neurons,learning_rate=learning_rates)"
      ],
      "metadata": {
        "id": "xSPKEGkI3zBb"
      },
      "execution_count": null,
      "outputs": []
    },
    {
      "cell_type": "code",
      "source": [
        "grid1 = RandomizedSearchCV(estimator=model1, param_distributions=parameters1, cv=3, n_iter=10,random_state=42)"
      ],
      "metadata": {
        "id": "HlQTxr-u3y8K"
      },
      "execution_count": null,
      "outputs": []
    },
    {
      "cell_type": "code",
      "source": [
        "grid_result1 = grid1.fit(X_train, Y_train)"
      ],
      "metadata": {
        "id": "V6BdS1zZ4t4H"
      },
      "execution_count": null,
      "outputs": []
    },
    {
      "cell_type": "code",
      "source": [
        "print('Best : {}, using {}'.format(grid_result1.best_score_,grid_result1.best_params_))"
      ],
      "metadata": {
        "id": "IEO74BMXqmX3",
        "colab": {
          "base_uri": "https://localhost:8080/"
        },
        "outputId": "7fcc8b08-2df8-4899-c5ce-35d2f75e7565"
      },
      "execution_count": null,
      "outputs": [
        {
          "output_type": "stream",
          "name": "stdout",
          "text": [
            "Best : 0.00022163119865581393, using {'neurons': 54, 'learning_rate': 0.034, 'layers': 5}\n"
          ]
        }
      ]
    },
    {
      "cell_type": "markdown",
      "source": [
        "### Hyper parameter tuning for batch size and number of epochs"
      ],
      "metadata": {
        "id": "GvNC-hg-k21z"
      }
    },
    {
      "cell_type": "code",
      "source": [
        "epochs=[10,20,50]\n",
        "batch_size=[50,100,200]"
      ],
      "metadata": {
        "id": "yq3Tc4e9k2xL"
      },
      "execution_count": null,
      "outputs": []
    },
    {
      "cell_type": "code",
      "source": [
        "def create_model2(epochs,batch_size):\n",
        "\n",
        "    model2 = Sequential()\n",
        "    model2.add(Dense(10, input_dim=X_train.shape[1], activation='relu',\n",
        "                    kernel_initializer='uniform'))\n",
        "\n",
        "\n",
        "    model2.add(Dense(54, activation='relu',kernel_initializer='uniform'))\n",
        "    model2.add(Dense(54, activation='relu',kernel_initializer='uniform'))\n",
        "    model2.add(Dense(54, activation='relu',kernel_initializer='uniform'))\n",
        "    model2.add(Dense(54, activation='relu',kernel_initializer='uniform'))\n",
        "    model2.add(Dense(54, activation='relu',kernel_initializer='uniform'))\n",
        "\n",
        "\n",
        "    model2.add(Dense(1, activation='linear',kernel_initializer='uniform'))\n",
        "\n",
        "\n",
        "    adam = Adam(learning_rate =0.034)\n",
        "    model2.compile(loss='mean_squared_error', optimizer='adam',  metrics=['mean_squared_error','accuracy'])\n",
        "    return model2"
      ],
      "metadata": {
        "id": "xifjk6rhk2s0"
      },
      "execution_count": null,
      "outputs": []
    },
    {
      "cell_type": "code",
      "source": [
        "model2 = KerasClassifier(build_fn=create_model2, verbose=0)"
      ],
      "metadata": {
        "colab": {
          "base_uri": "https://localhost:8080/"
        },
        "id": "zGjc6WcBk2qP",
        "outputId": "92f5335f-2536-44a5-89fd-3ca68aaed2a4"
      },
      "execution_count": null,
      "outputs": [
        {
          "output_type": "stream",
          "name": "stderr",
          "text": [
            "<ipython-input-40-0c0a41208284>:1: DeprecationWarning: KerasClassifier is deprecated, use Sci-Keras (https://github.com/adriangb/scikeras) instead. See https://www.adriangb.com/scikeras/stable/migration.html for help migrating.\n",
            "  model2 = KerasClassifier(build_fn=create_model2, verbose=0)\n"
          ]
        }
      ]
    },
    {
      "cell_type": "code",
      "source": [
        "parameters2=dict(epochs=epochs,batch_size=batch_size)"
      ],
      "metadata": {
        "id": "pJSuf4Omk2nB"
      },
      "execution_count": null,
      "outputs": []
    },
    {
      "cell_type": "code",
      "source": [
        "grid2 = GridSearchCV(estimator=model2, param_grid=parameters2, cv=KFold(),verbose=10)"
      ],
      "metadata": {
        "id": "XlC6FVr_k2j3"
      },
      "execution_count": null,
      "outputs": []
    },
    {
      "cell_type": "code",
      "source": [
        "grid_result2 = grid2.fit(X_train, Y_train)"
      ],
      "metadata": {
        "colab": {
          "base_uri": "https://localhost:8080/"
        },
        "id": "6OaBRdiHk2e4",
        "outputId": "0b2c4602-7e7f-4f11-c51c-9237b9a8e201"
      },
      "execution_count": null,
      "outputs": [
        {
          "output_type": "stream",
          "name": "stdout",
          "text": [
            "Fitting 5 folds for each of 9 candidates, totalling 45 fits\n",
            "[CV 1/5; 1/9] START batch_size=50, epochs=10....................................\n",
            "[CV 1/5; 1/9] END .....batch_size=50, epochs=10;, score=0.000 total time=   4.3s\n",
            "[CV 2/5; 1/9] START batch_size=50, epochs=10....................................\n",
            "[CV 2/5; 1/9] END .....batch_size=50, epochs=10;, score=0.000 total time=   5.3s\n",
            "[CV 3/5; 1/9] START batch_size=50, epochs=10....................................\n",
            "[CV 3/5; 1/9] END .....batch_size=50, epochs=10;, score=0.001 total time=   6.8s\n",
            "[CV 4/5; 1/9] START batch_size=50, epochs=10....................................\n",
            "[CV 4/5; 1/9] END .....batch_size=50, epochs=10;, score=0.000 total time=   5.9s\n",
            "[CV 5/5; 1/9] START batch_size=50, epochs=10....................................\n",
            "[CV 5/5; 1/9] END .....batch_size=50, epochs=10;, score=0.000 total time=   4.5s\n",
            "[CV 1/5; 2/9] START batch_size=50, epochs=20....................................\n",
            "[CV 1/5; 2/9] END .....batch_size=50, epochs=20;, score=0.000 total time=   8.1s\n",
            "[CV 2/5; 2/9] START batch_size=50, epochs=20....................................\n",
            "[CV 2/5; 2/9] END .....batch_size=50, epochs=20;, score=0.000 total time=  12.0s\n",
            "[CV 3/5; 2/9] START batch_size=50, epochs=20....................................\n",
            "[CV 3/5; 2/9] END .....batch_size=50, epochs=20;, score=0.001 total time=  12.0s\n",
            "[CV 4/5; 2/9] START batch_size=50, epochs=20....................................\n",
            "[CV 4/5; 2/9] END .....batch_size=50, epochs=20;, score=0.000 total time=  11.9s\n",
            "[CV 5/5; 2/9] START batch_size=50, epochs=20....................................\n",
            "[CV 5/5; 2/9] END .....batch_size=50, epochs=20;, score=0.000 total time=   6.8s\n",
            "[CV 1/5; 3/9] START batch_size=50, epochs=50....................................\n",
            "[CV 1/5; 3/9] END .....batch_size=50, epochs=50;, score=0.000 total time=  22.4s\n",
            "[CV 2/5; 3/9] START batch_size=50, epochs=50....................................\n",
            "[CV 2/5; 3/9] END .....batch_size=50, epochs=50;, score=0.000 total time=  15.2s\n",
            "[CV 3/5; 3/9] START batch_size=50, epochs=50....................................\n",
            "[CV 3/5; 3/9] END .....batch_size=50, epochs=50;, score=0.001 total time=  22.5s\n",
            "[CV 4/5; 3/9] START batch_size=50, epochs=50....................................\n",
            "[CV 4/5; 3/9] END .....batch_size=50, epochs=50;, score=0.000 total time=  17.5s\n",
            "[CV 5/5; 3/9] START batch_size=50, epochs=50....................................\n",
            "[CV 5/5; 3/9] END .....batch_size=50, epochs=50;, score=0.000 total time=  16.6s\n",
            "[CV 1/5; 4/9] START batch_size=100, epochs=10...................................\n",
            "[CV 1/5; 4/9] END ....batch_size=100, epochs=10;, score=0.000 total time=   4.2s\n",
            "[CV 2/5; 4/9] START batch_size=100, epochs=10...................................\n",
            "[CV 2/5; 4/9] END ....batch_size=100, epochs=10;, score=0.000 total time=   4.3s\n",
            "[CV 3/5; 4/9] START batch_size=100, epochs=10...................................\n",
            "[CV 3/5; 4/9] END ....batch_size=100, epochs=10;, score=0.001 total time=   4.4s\n",
            "[CV 4/5; 4/9] START batch_size=100, epochs=10...................................\n",
            "[CV 4/5; 4/9] END ....batch_size=100, epochs=10;, score=0.000 total time=   4.3s\n",
            "[CV 5/5; 4/9] START batch_size=100, epochs=10...................................\n",
            "[CV 5/5; 4/9] END ....batch_size=100, epochs=10;, score=0.000 total time=   4.2s\n",
            "[CV 1/5; 5/9] START batch_size=100, epochs=20...................................\n",
            "[CV 1/5; 5/9] END ....batch_size=100, epochs=20;, score=0.000 total time=   6.8s\n",
            "[CV 2/5; 5/9] START batch_size=100, epochs=20...................................\n",
            "[CV 2/5; 5/9] END ....batch_size=100, epochs=20;, score=0.000 total time=   6.8s\n",
            "[CV 3/5; 5/9] START batch_size=100, epochs=20...................................\n",
            "[CV 3/5; 5/9] END ....batch_size=100, epochs=20;, score=0.001 total time=   5.4s\n",
            "[CV 4/5; 5/9] START batch_size=100, epochs=20...................................\n",
            "[CV 4/5; 5/9] END ....batch_size=100, epochs=20;, score=0.000 total time=   6.8s\n",
            "[CV 5/5; 5/9] START batch_size=100, epochs=20...................................\n",
            "[CV 5/5; 5/9] END ....batch_size=100, epochs=20;, score=0.000 total time=   6.8s\n",
            "[CV 1/5; 6/9] START batch_size=100, epochs=50...................................\n",
            "[CV 1/5; 6/9] END ....batch_size=100, epochs=50;, score=0.000 total time=   9.7s\n",
            "[CV 2/5; 6/9] START batch_size=100, epochs=50...................................\n",
            "[CV 2/5; 6/9] END ....batch_size=100, epochs=50;, score=0.000 total time=  12.0s\n",
            "[CV 3/5; 6/9] START batch_size=100, epochs=50...................................\n",
            "[CV 3/5; 6/9] END ....batch_size=100, epochs=50;, score=0.001 total time=   9.6s\n",
            "[CV 4/5; 6/9] START batch_size=100, epochs=50...................................\n",
            "[CV 4/5; 6/9] END ....batch_size=100, epochs=50;, score=0.000 total time=   9.0s\n",
            "[CV 5/5; 6/9] START batch_size=100, epochs=50...................................\n",
            "[CV 5/5; 6/9] END ....batch_size=100, epochs=50;, score=0.000 total time=  12.5s\n",
            "[CV 1/5; 7/9] START batch_size=200, epochs=10...................................\n",
            "[CV 1/5; 7/9] END ....batch_size=200, epochs=10;, score=0.000 total time=   3.2s\n",
            "[CV 2/5; 7/9] START batch_size=200, epochs=10...................................\n",
            "[CV 2/5; 7/9] END ....batch_size=200, epochs=10;, score=0.000 total time=   2.4s\n",
            "[CV 3/5; 7/9] START batch_size=200, epochs=10...................................\n",
            "[CV 3/5; 7/9] END ....batch_size=200, epochs=10;, score=0.001 total time=   3.7s\n",
            "[CV 4/5; 7/9] START batch_size=200, epochs=10...................................\n",
            "[CV 4/5; 7/9] END ....batch_size=200, epochs=10;, score=0.000 total time=   3.2s\n",
            "[CV 5/5; 7/9] START batch_size=200, epochs=10...................................\n",
            "[CV 5/5; 7/9] END ....batch_size=200, epochs=10;, score=0.000 total time=   2.9s\n",
            "[CV 1/5; 8/9] START batch_size=200, epochs=20...................................\n",
            "[CV 1/5; 8/9] END ....batch_size=200, epochs=20;, score=0.000 total time=   3.5s\n",
            "[CV 2/5; 8/9] START batch_size=200, epochs=20...................................\n",
            "[CV 2/5; 8/9] END ....batch_size=200, epochs=20;, score=0.000 total time=   4.3s\n",
            "[CV 3/5; 8/9] START batch_size=200, epochs=20...................................\n",
            "[CV 3/5; 8/9] END ....batch_size=200, epochs=20;, score=0.001 total time=   5.0s\n",
            "[CV 4/5; 8/9] START batch_size=200, epochs=20...................................\n",
            "[CV 4/5; 8/9] END ....batch_size=200, epochs=20;, score=0.000 total time=   4.2s\n",
            "[CV 5/5; 8/9] START batch_size=200, epochs=20...................................\n",
            "[CV 5/5; 8/9] END ....batch_size=200, epochs=20;, score=0.000 total time=   4.3s\n",
            "[CV 1/5; 9/9] START batch_size=200, epochs=50...................................\n",
            "[CV 1/5; 9/9] END ....batch_size=200, epochs=50;, score=0.000 total time=   7.5s\n",
            "[CV 2/5; 9/9] START batch_size=200, epochs=50...................................\n",
            "[CV 2/5; 9/9] END ....batch_size=200, epochs=50;, score=0.000 total time=   6.8s\n",
            "[CV 3/5; 9/9] START batch_size=200, epochs=50...................................\n",
            "[CV 3/5; 9/9] END ....batch_size=200, epochs=50;, score=0.001 total time=   7.5s\n",
            "[CV 4/5; 9/9] START batch_size=200, epochs=50...................................\n",
            "[CV 4/5; 9/9] END ....batch_size=200, epochs=50;, score=0.000 total time=   7.1s\n",
            "[CV 5/5; 9/9] START batch_size=200, epochs=50...................................\n",
            "[CV 5/5; 9/9] END ....batch_size=200, epochs=50;, score=0.000 total time=   6.1s\n"
          ]
        }
      ]
    },
    {
      "cell_type": "code",
      "source": [
        "print('Best : {}, using {}'.format(grid_result2.best_score_,grid_result2.best_params_))"
      ],
      "metadata": {
        "colab": {
          "base_uri": "https://localhost:8080/"
        },
        "id": "M0wBwYsjk2bk",
        "outputId": "9f966098-2c37-4130-ee34-f6ca6e759cc2"
      },
      "execution_count": null,
      "outputs": [
        {
          "output_type": "stream",
          "name": "stdout",
          "text": [
            "Best : 0.00011080332333222032, using {'batch_size': 50, 'epochs': 10}\n"
          ]
        }
      ]
    },
    {
      "cell_type": "code",
      "source": [
        "means = grid_result2.cv_results_[\"mean_test_score\"]\n",
        "stds = grid_result2.cv_results_[\"std_test_score\"]\n",
        "params = grid_result2.cv_results_[\"params\"]\n",
        "for mean,stdev,param in zip(means,stds,params):\n",
        "    print(\"{},{} with {}\".format(mean,stdev,param))"
      ],
      "metadata": {
        "colab": {
          "base_uri": "https://localhost:8080/"
        },
        "id": "6g-lvtjJosil",
        "outputId": "2d32ce97-f0df-4608-e418-5a7d72391896"
      },
      "execution_count": null,
      "outputs": [
        {
          "output_type": "stream",
          "name": "stdout",
          "text": [
            "0.00011080332333222032,0.00022160664666444067 with {'batch_size': 50, 'epochs': 10}\n",
            "0.00011080332333222032,0.00022160664666444067 with {'batch_size': 50, 'epochs': 20}\n",
            "0.00011080332333222032,0.00022160664666444067 with {'batch_size': 50, 'epochs': 50}\n",
            "0.00011080332333222032,0.00022160664666444067 with {'batch_size': 100, 'epochs': 10}\n",
            "0.00011080332333222032,0.00022160664666444067 with {'batch_size': 100, 'epochs': 20}\n",
            "0.00011080332333222032,0.00022160664666444067 with {'batch_size': 100, 'epochs': 50}\n",
            "0.00011080332333222032,0.00022160664666444067 with {'batch_size': 200, 'epochs': 10}\n",
            "0.00011080332333222032,0.00022160664666444067 with {'batch_size': 200, 'epochs': 20}\n",
            "0.00011080332333222032,0.00022160664666444067 with {'batch_size': 200, 'epochs': 50}\n"
          ]
        }
      ]
    },
    {
      "cell_type": "markdown",
      "source": [
        "## Hyper parameter tuning for Drop rate"
      ],
      "metadata": {
        "id": "X2zEPmbqfolY"
      }
    },
    {
      "cell_type": "code",
      "source": [
        "dropout_rate = [0.1,0.2]"
      ],
      "metadata": {
        "id": "dbxnJ1xlfoii"
      },
      "execution_count": null,
      "outputs": []
    },
    {
      "cell_type": "code",
      "source": [
        "def create_model3(dropout_rate):\n",
        "\n",
        "    model3 = Sequential()\n",
        "    model3.add(Dense(10, input_dim=X_train.shape[1], activation='relu',\n",
        "                    kernel_initializer='uniform'))\n",
        "\n",
        "\n",
        "    model3.add(Dense(54, activation='relu',kernel_initializer='uniform'))\n",
        "    model3.add(Dropout(dropout_rate))\n",
        "    model3.add(Dense(54, activation='relu',kernel_initializer='uniform'))\n",
        "    model3.add(Dropout(dropout_rate))\n",
        "    model3.add(Dense(54, activation='relu',kernel_initializer='uniform'))\n",
        "    model3.add(Dropout(dropout_rate))\n",
        "    model3.add(Dense(54, activation='relu',kernel_initializer='uniform'))\n",
        "    model3.add(Dropout(dropout_rate))\n",
        "    model3.add(Dense(54, activation='relu',kernel_initializer='uniform'))\n",
        "    model3.add(Dropout(dropout_rate))\n",
        "\n",
        "\n",
        "    model3.add(Dense(1, activation='linear',kernel_initializer='uniform'))\n",
        "\n",
        "\n",
        "    adam = Adam(learning_rate =0.034)\n",
        "    model3.compile(loss='mean_squared_error', optimizer='adam',  metrics=['mean_squared_error','accuracy'])\n",
        "    return model3"
      ],
      "metadata": {
        "id": "HWSy2Gxpfofy"
      },
      "execution_count": null,
      "outputs": []
    },
    {
      "cell_type": "code",
      "source": [
        "model3 = KerasClassifier(build_fn = create_model3,epochs=10,batch_size=50,verbose = 0)"
      ],
      "metadata": {
        "id": "a0fNIZYpeJFb",
        "colab": {
          "base_uri": "https://localhost:8080/"
        },
        "outputId": "e876d6a5-aede-4efc-c723-0ce66fa24fa4"
      },
      "execution_count": null,
      "outputs": [
        {
          "output_type": "stream",
          "name": "stderr",
          "text": [
            "<ipython-input-48-170ab2db251c>:1: DeprecationWarning: KerasClassifier is deprecated, use Sci-Keras (https://github.com/adriangb/scikeras) instead. See https://www.adriangb.com/scikeras/stable/migration.html for help migrating.\n",
            "  model3 = KerasClassifier(build_fn = create_model3,epochs=10,batch_size=50,verbose = 0)\n"
          ]
        }
      ]
    },
    {
      "cell_type": "code",
      "source": [
        "paramgrids3=dict(dropout_rate = dropout_rate)"
      ],
      "metadata": {
        "id": "_dJLOd3UfodI"
      },
      "execution_count": null,
      "outputs": []
    },
    {
      "cell_type": "code",
      "source": [
        "grid3= GridSearchCV(estimator = model3,param_grid = paramgrids3,cv = KFold(),verbose = 10)\n",
        "grid_result3 = grid3.fit(X_train,Y_train)"
      ],
      "metadata": {
        "id": "9w7AXW7IfoaP",
        "colab": {
          "base_uri": "https://localhost:8080/"
        },
        "outputId": "05cee8ce-5231-462e-99c7-c206deec8573"
      },
      "execution_count": null,
      "outputs": [
        {
          "output_type": "stream",
          "name": "stdout",
          "text": [
            "Fitting 5 folds for each of 2 candidates, totalling 10 fits\n",
            "[CV 1/5; 1/2] START dropout_rate=0.1............................................\n",
            "[CV 1/5; 1/2] END .............dropout_rate=0.1;, score=0.000 total time=   7.0s\n",
            "[CV 2/5; 1/2] START dropout_rate=0.1............................................\n",
            "[CV 2/5; 1/2] END .............dropout_rate=0.1;, score=0.000 total time=   6.0s\n",
            "[CV 3/5; 1/2] START dropout_rate=0.1............................................\n",
            "[CV 3/5; 1/2] END .............dropout_rate=0.1;, score=0.001 total time=   7.0s\n",
            "[CV 4/5; 1/2] START dropout_rate=0.1............................................\n",
            "[CV 4/5; 1/2] END .............dropout_rate=0.1;, score=0.000 total time=   5.7s\n",
            "[CV 5/5; 1/2] START dropout_rate=0.1............................................\n",
            "[CV 5/5; 1/2] END .............dropout_rate=0.1;, score=0.000 total time=   7.1s\n",
            "[CV 1/5; 2/2] START dropout_rate=0.2............................................\n",
            "[CV 1/5; 2/2] END .............dropout_rate=0.2;, score=0.000 total time=   6.5s\n",
            "[CV 2/5; 2/2] START dropout_rate=0.2............................................\n",
            "[CV 2/5; 2/2] END .............dropout_rate=0.2;, score=0.000 total time=   5.2s\n",
            "[CV 3/5; 2/2] START dropout_rate=0.2............................................\n",
            "[CV 3/5; 2/2] END .............dropout_rate=0.2;, score=0.001 total time=   6.1s\n",
            "[CV 4/5; 2/2] START dropout_rate=0.2............................................\n",
            "[CV 4/5; 2/2] END .............dropout_rate=0.2;, score=0.000 total time=   5.1s\n",
            "[CV 5/5; 2/2] START dropout_rate=0.2............................................\n",
            "[CV 5/5; 2/2] END .............dropout_rate=0.2;, score=0.000 total time=   5.9s\n"
          ]
        }
      ]
    },
    {
      "cell_type": "code",
      "source": [
        "print('Best : {}, using {}'.format(grid_result3.best_score_,grid_result3.best_params_))"
      ],
      "metadata": {
        "id": "mr4lSHLvfoXH",
        "colab": {
          "base_uri": "https://localhost:8080/"
        },
        "outputId": "6568d009-a377-46a1-f96a-a71b5623c0e1"
      },
      "execution_count": null,
      "outputs": [
        {
          "output_type": "stream",
          "name": "stdout",
          "text": [
            "Best : 0.00011080332333222032, using {'dropout_rate': 0.1}\n"
          ]
        }
      ]
    },
    {
      "cell_type": "code",
      "source": [
        "means = grid_result3.cv_results_[\"mean_test_score\"]\n",
        "stds = grid_result3.cv_results_[\"std_test_score\"]\n",
        "params = grid_result3.cv_results_[\"params\"]\n",
        "for mean,stdev,param in zip(means,stds,params):\n",
        "    print(\"{},{} with {}\".format(mean,stdev,param))\n"
      ],
      "metadata": {
        "colab": {
          "base_uri": "https://localhost:8080/"
        },
        "id": "edmOIqCgq5ec",
        "outputId": "50014c32-b9e0-4d33-bd23-a6b5493132dc"
      },
      "execution_count": null,
      "outputs": [
        {
          "output_type": "stream",
          "name": "stdout",
          "text": [
            "0.00011080332333222032,0.00022160664666444067 with {'dropout_rate': 0.1}\n",
            "0.00011080332333222032,0.00022160664666444067 with {'dropout_rate': 0.2}\n"
          ]
        }
      ]
    },
    {
      "cell_type": "markdown",
      "source": [
        "## Hyperparameter Tuning for Activation Function and Kernel Initializer"
      ],
      "metadata": {
        "id": "ourGiTa0k55k"
      }
    },
    {
      "cell_type": "code",
      "source": [
        "activation= ['relu', 'tanh', 'sigmoid','linear']\n",
        "init = ['uniform','normal','zero']"
      ],
      "metadata": {
        "id": "vZ0ADxU-k51p"
      },
      "execution_count": null,
      "outputs": []
    },
    {
      "cell_type": "code",
      "source": [
        "param_grids4 = dict(activation=activation,kernel_initializer=init)"
      ],
      "metadata": {
        "id": "BjSOiO0Mk5yI"
      },
      "execution_count": null,
      "outputs": []
    },
    {
      "cell_type": "code",
      "source": [
        "dropout_rate=0.1\n",
        "learning_rate= 0.034\n",
        "layers=5\n",
        "neurons=54\n",
        "epochs=10\n",
        "batch_size=50"
      ],
      "metadata": {
        "id": "ksNrJGx-MnsB"
      },
      "execution_count": null,
      "outputs": []
    },
    {
      "cell_type": "code",
      "source": [
        "def create_model4(activation,kernel_initializer):\n",
        "\n",
        "    dropout_rate=0.1\n",
        "    model4 = Sequential()\n",
        "    model4.add(Dense(10, input_dim=X_train.shape[1], activation=activation,\n",
        "                    kernel_initializer=kernel_initializer))\n",
        "\n",
        "\n",
        "    model4.add(Dense(54, activation=activation,kernel_initializer=kernel_initializer))\n",
        "    model4.add(Dropout(dropout_rate))\n",
        "    model4.add(Dense(54, activation=activation,kernel_initializer=kernel_initializer))\n",
        "    model4.add(Dropout(dropout_rate))\n",
        "    model4.add(Dense(54, activation=activation,kernel_initializer=kernel_initializer))\n",
        "    model4.add(Dropout(dropout_rate))\n",
        "    model4.add(Dense(54, activation=activation,kernel_initializer=kernel_initializer))\n",
        "    model4.add(Dropout(dropout_rate))\n",
        "    model4.add(Dense(54, activation=activation,kernel_initializer=kernel_initializer))\n",
        "    model4.add(Dropout(dropout_rate))\n",
        "\n",
        "    model4.add(Dense(1, activation='linear',kernel_initializer='uniform'))\n",
        "\n",
        "\n",
        "    adam = Adam(learning_rate =0.034)\n",
        "    model4.compile(loss='mean_squared_error', optimizer='adam',  metrics=['mean_squared_error','accuracy'])\n",
        "    return model4"
      ],
      "metadata": {
        "id": "dXwqID0Tk5uh"
      },
      "execution_count": null,
      "outputs": []
    },
    {
      "cell_type": "code",
      "source": [
        "model4 = KerasClassifier(build_fn = create_model4,epochs=10,batch_size=50,verbose = 0)"
      ],
      "metadata": {
        "colab": {
          "base_uri": "https://localhost:8080/"
        },
        "id": "2hgpxAiAd5tF",
        "outputId": "1b90d705-8cd5-41cd-ad1d-3dacf7433f4a"
      },
      "execution_count": null,
      "outputs": [
        {
          "output_type": "stream",
          "name": "stderr",
          "text": [
            "<ipython-input-57-d97a5654709e>:1: DeprecationWarning: KerasClassifier is deprecated, use Sci-Keras (https://github.com/adriangb/scikeras) instead. See https://www.adriangb.com/scikeras/stable/migration.html for help migrating.\n",
            "  model4 = KerasClassifier(build_fn = create_model4,epochs=10,batch_size=50,verbose = 0)\n"
          ]
        }
      ]
    },
    {
      "cell_type": "code",
      "source": [
        "grid4 = GridSearchCV(estimator = model4,param_grid = param_grids4,cv = KFold(),verbose = 10)\n",
        "grid_result4 = grid4.fit(X_train,Y_train)"
      ],
      "metadata": {
        "id": "EmYVaGEGmyBJ",
        "colab": {
          "base_uri": "https://localhost:8080/"
        },
        "outputId": "05fc3876-07ab-4f8c-8b1b-5c617235fdb9"
      },
      "execution_count": null,
      "outputs": [
        {
          "output_type": "stream",
          "name": "stdout",
          "text": [
            "Fitting 5 folds for each of 12 candidates, totalling 60 fits\n",
            "[CV 1/5; 1/12] START activation=relu, kernel_initializer=uniform................\n",
            "[CV 1/5; 1/12] END activation=relu, kernel_initializer=uniform;, score=0.000 total time=   5.8s\n",
            "[CV 2/5; 1/12] START activation=relu, kernel_initializer=uniform................\n",
            "[CV 2/5; 1/12] END activation=relu, kernel_initializer=uniform;, score=0.000 total time=   5.0s\n",
            "[CV 3/5; 1/12] START activation=relu, kernel_initializer=uniform................\n",
            "[CV 3/5; 1/12] END activation=relu, kernel_initializer=uniform;, score=0.001 total time=   6.3s\n",
            "[CV 4/5; 1/12] START activation=relu, kernel_initializer=uniform................\n",
            "[CV 4/5; 1/12] END activation=relu, kernel_initializer=uniform;, score=0.000 total time=   7.2s\n",
            "[CV 5/5; 1/12] START activation=relu, kernel_initializer=uniform................\n",
            "[CV 5/5; 1/12] END activation=relu, kernel_initializer=uniform;, score=0.000 total time=   7.1s\n",
            "[CV 1/5; 2/12] START activation=relu, kernel_initializer=normal.................\n",
            "[CV 1/5; 2/12] END activation=relu, kernel_initializer=normal;, score=0.000 total time=   7.1s\n",
            "[CV 2/5; 2/12] START activation=relu, kernel_initializer=normal.................\n",
            "[CV 2/5; 2/12] END activation=relu, kernel_initializer=normal;, score=0.000 total time=   7.4s\n",
            "[CV 3/5; 2/12] START activation=relu, kernel_initializer=normal.................\n",
            "[CV 3/5; 2/12] END activation=relu, kernel_initializer=normal;, score=0.001 total time=   7.2s\n",
            "[CV 4/5; 2/12] START activation=relu, kernel_initializer=normal.................\n",
            "[CV 4/5; 2/12] END activation=relu, kernel_initializer=normal;, score=0.000 total time=   7.3s\n",
            "[CV 5/5; 2/12] START activation=relu, kernel_initializer=normal.................\n",
            "[CV 5/5; 2/12] END activation=relu, kernel_initializer=normal;, score=0.000 total time=   7.0s\n",
            "[CV 1/5; 3/12] START activation=relu, kernel_initializer=zero...................\n",
            "[CV 1/5; 3/12] END activation=relu, kernel_initializer=zero;, score=0.000 total time=   5.0s\n",
            "[CV 2/5; 3/12] START activation=relu, kernel_initializer=zero...................\n",
            "[CV 2/5; 3/12] END activation=relu, kernel_initializer=zero;, score=0.000 total time=   6.8s\n",
            "[CV 3/5; 3/12] START activation=relu, kernel_initializer=zero...................\n",
            "[CV 3/5; 3/12] END activation=relu, kernel_initializer=zero;, score=0.001 total time=   7.2s\n",
            "[CV 4/5; 3/12] START activation=relu, kernel_initializer=zero...................\n",
            "[CV 4/5; 3/12] END activation=relu, kernel_initializer=zero;, score=0.000 total time=   6.1s\n",
            "[CV 5/5; 3/12] START activation=relu, kernel_initializer=zero...................\n",
            "[CV 5/5; 3/12] END activation=relu, kernel_initializer=zero;, score=0.000 total time=   7.0s\n",
            "[CV 1/5; 4/12] START activation=tanh, kernel_initializer=uniform................\n",
            "[CV 1/5; 4/12] END activation=tanh, kernel_initializer=uniform;, score=0.000 total time=   5.8s\n",
            "[CV 2/5; 4/12] START activation=tanh, kernel_initializer=uniform................\n",
            "[CV 2/5; 4/12] END activation=tanh, kernel_initializer=uniform;, score=0.000 total time=   7.0s\n",
            "[CV 3/5; 4/12] START activation=tanh, kernel_initializer=uniform................\n",
            "[CV 3/5; 4/12] END activation=tanh, kernel_initializer=uniform;, score=0.001 total time=   5.9s\n",
            "[CV 4/5; 4/12] START activation=tanh, kernel_initializer=uniform................\n",
            "[CV 4/5; 4/12] END activation=tanh, kernel_initializer=uniform;, score=0.000 total time=   4.9s\n",
            "[CV 5/5; 4/12] START activation=tanh, kernel_initializer=uniform................\n",
            "[CV 5/5; 4/12] END activation=tanh, kernel_initializer=uniform;, score=0.000 total time=   7.0s\n",
            "[CV 1/5; 5/12] START activation=tanh, kernel_initializer=normal.................\n",
            "[CV 1/5; 5/12] END activation=tanh, kernel_initializer=normal;, score=0.000 total time=   7.7s\n",
            "[CV 2/5; 5/12] START activation=tanh, kernel_initializer=normal.................\n",
            "[CV 2/5; 5/12] END activation=tanh, kernel_initializer=normal;, score=0.000 total time=   7.6s\n",
            "[CV 3/5; 5/12] START activation=tanh, kernel_initializer=normal.................\n",
            "[CV 3/5; 5/12] END activation=tanh, kernel_initializer=normal;, score=0.001 total time=   7.3s\n",
            "[CV 4/5; 5/12] START activation=tanh, kernel_initializer=normal.................\n",
            "[CV 4/5; 5/12] END activation=tanh, kernel_initializer=normal;, score=0.000 total time=   7.1s\n",
            "[CV 5/5; 5/12] START activation=tanh, kernel_initializer=normal.................\n",
            "[CV 5/5; 5/12] END activation=tanh, kernel_initializer=normal;, score=0.000 total time=   7.0s\n",
            "[CV 1/5; 6/12] START activation=tanh, kernel_initializer=zero...................\n",
            "[CV 1/5; 6/12] END activation=tanh, kernel_initializer=zero;, score=0.000 total time=   5.3s\n",
            "[CV 2/5; 6/12] START activation=tanh, kernel_initializer=zero...................\n",
            "[CV 2/5; 6/12] END activation=tanh, kernel_initializer=zero;, score=0.000 total time=   5.9s\n",
            "[CV 3/5; 6/12] START activation=tanh, kernel_initializer=zero...................\n",
            "[CV 3/5; 6/12] END activation=tanh, kernel_initializer=zero;, score=0.001 total time=   7.0s\n",
            "[CV 4/5; 6/12] START activation=tanh, kernel_initializer=zero...................\n",
            "[CV 4/5; 6/12] END activation=tanh, kernel_initializer=zero;, score=0.000 total time=   7.0s\n",
            "[CV 5/5; 6/12] START activation=tanh, kernel_initializer=zero...................\n",
            "[CV 5/5; 6/12] END activation=tanh, kernel_initializer=zero;, score=0.000 total time=   5.1s\n",
            "[CV 1/5; 7/12] START activation=sigmoid, kernel_initializer=uniform.............\n",
            "[CV 1/5; 7/12] END activation=sigmoid, kernel_initializer=uniform;, score=0.000 total time=   7.9s\n",
            "[CV 2/5; 7/12] START activation=sigmoid, kernel_initializer=uniform.............\n",
            "[CV 2/5; 7/12] END activation=sigmoid, kernel_initializer=uniform;, score=0.000 total time=   7.2s\n",
            "[CV 3/5; 7/12] START activation=sigmoid, kernel_initializer=uniform.............\n",
            "[CV 3/5; 7/12] END activation=sigmoid, kernel_initializer=uniform;, score=0.001 total time=   6.1s\n",
            "[CV 4/5; 7/12] START activation=sigmoid, kernel_initializer=uniform.............\n",
            "[CV 4/5; 7/12] END activation=sigmoid, kernel_initializer=uniform;, score=0.000 total time=   5.2s\n",
            "[CV 5/5; 7/12] START activation=sigmoid, kernel_initializer=uniform.............\n",
            "[CV 5/5; 7/12] END activation=sigmoid, kernel_initializer=uniform;, score=0.000 total time=   7.0s\n",
            "[CV 1/5; 8/12] START activation=sigmoid, kernel_initializer=normal..............\n",
            "[CV 1/5; 8/12] END activation=sigmoid, kernel_initializer=normal;, score=0.000 total time=   5.1s\n",
            "[CV 2/5; 8/12] START activation=sigmoid, kernel_initializer=normal..............\n",
            "[CV 2/5; 8/12] END activation=sigmoid, kernel_initializer=normal;, score=0.000 total time=   5.9s\n",
            "[CV 3/5; 8/12] START activation=sigmoid, kernel_initializer=normal..............\n",
            "[CV 5/5; 8/12] END activation=sigmoid, kernel_initializer=normal;, score=0.000 total time=   7.1s\n",
            "[CV 1/5; 9/12] START activation=sigmoid, kernel_initializer=zero................\n",
            "[CV 1/5; 9/12] END activation=sigmoid, kernel_initializer=zero;, score=0.000 total time=   5.4s\n",
            "[CV 2/5; 9/12] START activation=sigmoid, kernel_initializer=zero................\n",
            "[CV 2/5; 9/12] END activation=sigmoid, kernel_initializer=zero;, score=0.000 total time=   7.9s\n",
            "[CV 3/5; 9/12] START activation=sigmoid, kernel_initializer=zero................\n",
            "[CV 3/5; 9/12] END activation=sigmoid, kernel_initializer=zero;, score=0.001 total time=   7.1s\n",
            "[CV 4/5; 9/12] START activation=sigmoid, kernel_initializer=zero................\n",
            "[CV 4/5; 9/12] END activation=sigmoid, kernel_initializer=zero;, score=0.000 total time=   8.6s\n",
            "[CV 5/5; 9/12] START activation=sigmoid, kernel_initializer=zero................\n",
            "[CV 5/5; 9/12] END activation=sigmoid, kernel_initializer=zero;, score=0.000 total time=  15.5s\n",
            "[CV 1/5; 10/12] START activation=linear, kernel_initializer=uniform.............\n",
            "[CV 1/5; 10/12] END activation=linear, kernel_initializer=uniform;, score=0.000 total time=   7.0s\n",
            "[CV 2/5; 10/12] START activation=linear, kernel_initializer=uniform.............\n",
            "[CV 2/5; 10/12] END activation=linear, kernel_initializer=uniform;, score=0.000 total time=   5.8s\n",
            "[CV 3/5; 10/12] START activation=linear, kernel_initializer=uniform.............\n",
            "[CV 3/5; 10/12] END activation=linear, kernel_initializer=uniform;, score=0.001 total time=   6.9s\n",
            "[CV 4/5; 10/12] START activation=linear, kernel_initializer=uniform.............\n",
            "[CV 4/5; 10/12] END activation=linear, kernel_initializer=uniform;, score=0.000 total time=   7.9s\n",
            "[CV 5/5; 10/12] START activation=linear, kernel_initializer=uniform.............\n",
            "[CV 5/5; 10/12] END activation=linear, kernel_initializer=uniform;, score=0.000 total time=   5.2s\n",
            "[CV 1/5; 11/12] START activation=linear, kernel_initializer=normal..............\n",
            "[CV 1/5; 11/12] END activation=linear, kernel_initializer=normal;, score=0.000 total time=   5.9s\n",
            "[CV 2/5; 11/12] START activation=linear, kernel_initializer=normal..............\n",
            "[CV 2/5; 11/12] END activation=linear, kernel_initializer=normal;, score=0.000 total time=   5.2s\n",
            "[CV 3/5; 11/12] START activation=linear, kernel_initializer=normal..............\n",
            "[CV 3/5; 11/12] END activation=linear, kernel_initializer=normal;, score=0.001 total time=   6.0s\n",
            "[CV 4/5; 11/12] START activation=linear, kernel_initializer=normal..............\n",
            "[CV 4/5; 11/12] END activation=linear, kernel_initializer=normal;, score=0.000 total time=   7.0s\n",
            "[CV 5/5; 11/12] START activation=linear, kernel_initializer=normal..............\n",
            "[CV 5/5; 11/12] END activation=linear, kernel_initializer=normal;, score=0.000 total time=   7.0s\n",
            "[CV 1/5; 12/12] START activation=linear, kernel_initializer=zero................\n",
            "[CV 1/5; 12/12] END activation=linear, kernel_initializer=zero;, score=0.000 total time=   4.9s\n",
            "[CV 2/5; 12/12] START activation=linear, kernel_initializer=zero................\n",
            "[CV 2/5; 12/12] END activation=linear, kernel_initializer=zero;, score=0.000 total time=   7.0s\n",
            "[CV 3/5; 12/12] START activation=linear, kernel_initializer=zero................\n",
            "[CV 3/5; 12/12] END activation=linear, kernel_initializer=zero;, score=0.001 total time=   9.4s\n",
            "[CV 4/5; 12/12] START activation=linear, kernel_initializer=zero................\n",
            "[CV 4/5; 12/12] END activation=linear, kernel_initializer=zero;, score=0.000 total time=   7.6s\n",
            "[CV 5/5; 12/12] START activation=linear, kernel_initializer=zero................\n",
            "[CV 5/5; 12/12] END activation=linear, kernel_initializer=zero;, score=0.000 total time=   7.1s\n"
          ]
        }
      ]
    },
    {
      "cell_type": "code",
      "source": [
        "print('Best : {}, using {}'.format(grid_result4.best_score_,grid_result4.best_params_))"
      ],
      "metadata": {
        "id": "LDU9PgD6rFAD",
        "colab": {
          "base_uri": "https://localhost:8080/"
        },
        "outputId": "d772a4cf-b3f6-4dd1-948a-6849d83d3a7d"
      },
      "execution_count": null,
      "outputs": [
        {
          "output_type": "stream",
          "name": "stdout",
          "text": [
            "Best : 0.00011080332333222032, using {'activation': 'relu', 'kernel_initializer': 'uniform'}\n"
          ]
        }
      ]
    },
    {
      "cell_type": "code",
      "source": [
        "means4 = grid_result4.cv_results_[\"mean_test_score\"]\n",
        "stds4 = grid_result4.cv_results_[\"std_test_score\"]\n",
        "params4 = grid_result4.cv_results_[\"params\"]\n",
        "for mean4,stdev4,param4 in zip(means4,stds4,params4):\n",
        "    print(\"{},{} with {}\".format(mean4,stdev4,param4))"
      ],
      "metadata": {
        "colab": {
          "base_uri": "https://localhost:8080/"
        },
        "id": "XJrfPzdruqUI",
        "outputId": "e0c11dde-8dd0-473d-c07e-7717f7c52281"
      },
      "execution_count": null,
      "outputs": [
        {
          "output_type": "stream",
          "name": "stdout",
          "text": [
            "0.00011080332333222032,0.00022160664666444067 with {'activation': 'relu', 'kernel_initializer': 'uniform'}\n",
            "0.00011080332333222032,0.00022160664666444067 with {'activation': 'relu', 'kernel_initializer': 'normal'}\n",
            "0.00011080332333222032,0.00022160664666444067 with {'activation': 'relu', 'kernel_initializer': 'zero'}\n",
            "0.00011080332333222032,0.00022160664666444067 with {'activation': 'tanh', 'kernel_initializer': 'uniform'}\n",
            "0.00011080332333222032,0.00022160664666444067 with {'activation': 'tanh', 'kernel_initializer': 'normal'}\n",
            "0.00011080332333222032,0.00022160664666444067 with {'activation': 'tanh', 'kernel_initializer': 'zero'}\n",
            "0.00011080332333222032,0.00022160664666444067 with {'activation': 'sigmoid', 'kernel_initializer': 'uniform'}\n",
            "0.00011080332333222032,0.00022160664666444067 with {'activation': 'sigmoid', 'kernel_initializer': 'normal'}\n",
            "0.00011080332333222032,0.00022160664666444067 with {'activation': 'sigmoid', 'kernel_initializer': 'zero'}\n",
            "0.00011080332333222032,0.00022160664666444067 with {'activation': 'linear', 'kernel_initializer': 'uniform'}\n",
            "0.00011080332333222032,0.00022160664666444067 with {'activation': 'linear', 'kernel_initializer': 'normal'}\n",
            "0.00011080332333222032,0.00022160664666444067 with {'activation': 'linear', 'kernel_initializer': 'zero'}\n"
          ]
        }
      ]
    },
    {
      "cell_type": "markdown",
      "source": [
        "# Final Model"
      ],
      "metadata": {
        "id": "DMXOKOgHhkuD"
      }
    },
    {
      "cell_type": "code",
      "source": [
        "dropout_rate=0.1\n",
        "learning_rate= 0.034\n",
        "layers=5\n",
        "neurons=54\n",
        "kernel_initializer='uniform'\n",
        "activation='relu'\n",
        "epochs=10\n",
        "batch_size=50"
      ],
      "metadata": {
        "id": "E9w99sK9vbCt"
      },
      "execution_count": null,
      "outputs": []
    },
    {
      "cell_type": "code",
      "source": [
        "    dropout_rate=0.1\n",
        "    model = Sequential()\n",
        "    model.add(Dense(10, input_dim=X_train.shape[1], activation=activation,\n",
        "                    kernel_initializer=kernel_initializer))\n",
        "\n",
        "    model.add(Dense(54, activation=activation,kernel_initializer=kernel_initializer))\n",
        "    model.add(Dropout(dropout_rate))\n",
        "    model.add(Dense(54, activation=activation,kernel_initializer=kernel_initializer))\n",
        "    model.add(Dropout(dropout_rate))\n",
        "    model.add(Dense(54, activation=activation,kernel_initializer=kernel_initializer))\n",
        "    model.add(Dropout(dropout_rate))\n",
        "    model.add(Dense(54, activation=activation,kernel_initializer=kernel_initializer))\n",
        "    model.add(Dropout(dropout_rate))\n",
        "    model.add(Dense(54, activation=activation,kernel_initializer=kernel_initializer))\n",
        "    model.add(Dropout(dropout_rate))\n",
        "\n",
        "\n",
        "\n",
        "    model.add(Dense(1, activation='linear',kernel_initializer='uniform'))\n",
        "\n",
        "\n",
        "    adam = Adam(learning_rate =0.034)\n",
        "    model.compile(loss='mean_squared_error', optimizer='adam',  metrics=['mean_squared_error','accuracy'])"
      ],
      "metadata": {
        "id": "-bv0qJlRvWN2"
      },
      "execution_count": null,
      "outputs": []
    },
    {
      "cell_type": "markdown",
      "source": [
        "#### Train the model and store the history"
      ],
      "metadata": {
        "id": "3-AWXIT61WEW"
      }
    },
    {
      "cell_type": "code",
      "source": [
        "history = model.fit(X_train, Y_train, epochs=10, batch_size=50, validation_data=(X_test, Y_test))"
      ],
      "metadata": {
        "colab": {
          "base_uri": "https://localhost:8080/"
        },
        "id": "EubQE8GF1Qkl",
        "outputId": "a698d455-8068-4302-e28a-6b4e50c11e4a"
      },
      "execution_count": null,
      "outputs": [
        {
          "output_type": "stream",
          "name": "stdout",
          "text": [
            "Epoch 1/10\n",
            "181/181 [==============================] - 3s 6ms/step - loss: 0.4447 - mean_squared_error: 0.4447 - accuracy: 0.0000e+00 - val_loss: 0.0085 - val_mean_squared_error: 0.0085 - val_accuracy: 0.0000e+00\n",
            "Epoch 2/10\n",
            "181/181 [==============================] - 1s 6ms/step - loss: 0.0340 - mean_squared_error: 0.0340 - accuracy: 0.0000e+00 - val_loss: 0.0102 - val_mean_squared_error: 0.0102 - val_accuracy: 0.0000e+00\n",
            "Epoch 3/10\n",
            "181/181 [==============================] - 1s 5ms/step - loss: 0.0299 - mean_squared_error: 0.0299 - accuracy: 0.0000e+00 - val_loss: 0.0089 - val_mean_squared_error: 0.0089 - val_accuracy: 0.0000e+00\n",
            "Epoch 4/10\n",
            "181/181 [==============================] - 1s 4ms/step - loss: 0.0258 - mean_squared_error: 0.0258 - accuracy: 0.0000e+00 - val_loss: 0.0048 - val_mean_squared_error: 0.0048 - val_accuracy: 0.0000e+00\n",
            "Epoch 5/10\n",
            "181/181 [==============================] - 1s 5ms/step - loss: 0.0271 - mean_squared_error: 0.0271 - accuracy: 0.0000e+00 - val_loss: 0.0071 - val_mean_squared_error: 0.0071 - val_accuracy: 0.0000e+00\n",
            "Epoch 6/10\n",
            "181/181 [==============================] - 1s 5ms/step - loss: 0.0238 - mean_squared_error: 0.0238 - accuracy: 0.0000e+00 - val_loss: 0.0072 - val_mean_squared_error: 0.0072 - val_accuracy: 0.0000e+00\n",
            "Epoch 7/10\n",
            "181/181 [==============================] - 1s 5ms/step - loss: 0.0218 - mean_squared_error: 0.0218 - accuracy: 0.0000e+00 - val_loss: 0.0041 - val_mean_squared_error: 0.0041 - val_accuracy: 0.0000e+00\n",
            "Epoch 8/10\n",
            "181/181 [==============================] - 1s 4ms/step - loss: 0.0220 - mean_squared_error: 0.0220 - accuracy: 0.0000e+00 - val_loss: 0.0027 - val_mean_squared_error: 0.0027 - val_accuracy: 0.0000e+00\n",
            "Epoch 9/10\n",
            "181/181 [==============================] - 1s 4ms/step - loss: 0.0202 - mean_squared_error: 0.0202 - accuracy: 0.0000e+00 - val_loss: 0.0033 - val_mean_squared_error: 0.0033 - val_accuracy: 0.0000e+00\n",
            "Epoch 10/10\n",
            "181/181 [==============================] - 1s 4ms/step - loss: 0.0208 - mean_squared_error: 0.0208 - accuracy: 0.0000e+00 - val_loss: 0.0054 - val_mean_squared_error: 0.0054 - val_accuracy: 0.0000e+00\n"
          ]
        }
      ]
    },
    {
      "cell_type": "code",
      "source": [
        "# Plot training and validation accuracy curves\n",
        "plt.plot(history.history['accuracy'], label='Training accuracy')\n",
        "plt.plot(history.history['val_accuracy'], label='Validation accuracy')\n",
        "plt.title('Training and Validation Accuracy')\n",
        "plt.xlabel('Epoch')\n",
        "plt.ylabel('Accuracy')\n",
        "plt.legend()\n",
        "\n",
        "# Show plot\n",
        "plt.show()"
      ],
      "metadata": {
        "colab": {
          "base_uri": "https://localhost:8080/",
          "height": 472
        },
        "id": "dRRlVFngz8ed",
        "outputId": "30906cc7-f6a7-4536-c8bc-a72c5423da1e"
      },
      "execution_count": null,
      "outputs": [
        {
          "output_type": "display_data",
          "data": {
            "text/plain": [
              "<Figure size 640x480 with 1 Axes>"
            ],
            "image/png": "[encoded data removed]"
          },
          "metadata": {}
        }
      ]
    },
    {
      "cell_type": "code",
      "source": [
        "# Plot training and validation loss curves\n",
        "plt.plot(history.history['loss'], label='Training loss')\n",
        "plt.plot(history.history['val_loss'], label='Validation loss')\n",
        "plt.title('Training and Validation Loss')\n",
        "plt.xlabel('Epoch')\n",
        "plt.ylabel('Loss')\n",
        "plt.legend()\n",
        "\n",
        "# Show plot\n",
        "plt.show()"
      ],
      "metadata": {
        "colab": {
          "base_uri": "https://localhost:8080/",
          "height": 472
        },
        "id": "udyCQ0IY1Ftx",
        "outputId": "66581772-55b4-4548-92c0-ba9ef511f4d5"
      },
      "execution_count": null,
      "outputs": [
        {
          "output_type": "display_data",
          "data": {
            "text/plain": [
              "<Figure size 640x480 with 1 Axes>"
            ],
            "image/png": "[encoded data removed]"
          },
          "metadata": {}
        }
      ]
    },
    {
      "cell_type": "markdown",
      "source": [
        "# Visualization"
      ],
      "metadata": {
        "id": "aMRyD4du5c2G"
      }
    },
    {
      "cell_type": "code",
      "source": [
        "from keras.utils import plot_model\n",
        "plot_model(model, to_file='modelf.png', show_shapes=True)"
      ],
      "metadata": {
        "colab": {
          "base_uri": "https://localhost:8080/",
          "height": 1000
        },
        "id": "NbMNr6Pm7lWP",
        "outputId": "331a666a-57f2-4d80-8f9c-fc9ec503fa41"
      },
      "execution_count": null,
      "outputs": [
        {
          "output_type": "execute_result",
          "data": {
            "image/png": "[encoded data removed]",
            "text/plain": [
              "<IPython.core.display.Image object>"
            ]
          },
          "metadata": {},
          "execution_count": 66
        }
      ]
    },
    {
      "cell_type": "markdown",
      "source": [
        "### Visualization using ann_visualizer"
      ],
      "metadata": {
        "id": "s4Hq8pg77lTd"
      }
    },
    {
      "cell_type": "code",
      "source": [
        "!pip install ann_visualizer"
      ],
      "metadata": {
        "colab": {
          "base_uri": "https://localhost:8080/"
        },
        "id": "biBS-UNX7lQY",
        "outputId": "847b2436-3aa7-43e8-a98a-505a798d6c0d"
      },
      "execution_count": null,
      "outputs": [
        {
          "output_type": "stream",
          "name": "stdout",
          "text": [
            "Collecting ann_visualizer\n",
            "  Downloading ann_visualizer-2.5.tar.gz (4.7 kB)\n",
            "  Preparing metadata (setup.py) ... \u001b[?25l\u001b[?25hdone\n",
            "Building wheels for collected packages: ann_visualizer\n",
            "  Building wheel for ann_visualizer (setup.py) ... \u001b[?25l\u001b[?25hdone\n",
            "  Created wheel for ann_visualizer: filename=ann_visualizer-2.5-py3-none-any.whl size=4167 sha256=bcd43be2c957d9b8cca428fa96f2f9d6942ed4525cb7c773a0c3eae62c8e3fbf\n",
            "  Stored in directory: /root/.cache/pip/wheels/6e/0f/ae/f5dba91db71b1b32bf03d0ad18c32e86126093aba5ec6b6488\n",
            "Successfully built ann_visualizer\n",
            "Installing collected packages: ann_visualizer\n",
            "Successfully installed ann_visualizer-2.5\n"
          ]
        }
      ]
    },
    {
      "cell_type": "code",
      "source": [
        "from ann_visualizer.visualize import ann_viz\n",
        "import graphviz"
      ],
      "metadata": {
        "id": "BTULN-QP7lMJ"
      },
      "execution_count": null,
      "outputs": []
    },
    {
      "cell_type": "code",
      "source": [
        "ann_viz(model,filename='Gasturbinefinal.gv',title='Gasturbine Nueral networks')"
      ],
      "metadata": {
        "id": "c0al5-UF7lJ3"
      },
      "execution_count": null,
      "outputs": []
    },
    {
      "cell_type": "code",
      "source": [
        "graph_file=graphviz.Source.from_file('Gasturbinefinal.gv')\n",
        "graph_file"
      ],
      "metadata": {
        "colab": {
          "base_uri": "https://localhost:8080/",
          "height": 1000
        },
        "id": "DY8XTccn7lHe",
        "outputId": "8c401ce0-e890-499c-d3f2-7f456dfcd07a"
      },
      "execution_count": null,
      "outputs": [
        {
          "output_type": "execute_result",
          "data": {
            "image/svg+xml": "<?xml version=\"1.0\" encoding=\"UTF-8\" standalone=\"no\"?>\n<!DOCTYPE svg PUBLIC \"-//W3C//DTD SVG 1.1//EN\"\n \"http://www.w3.org/Graphics/SVG/1.1/DTD/svg11.dtd\">\n<!-- Generated by graphviz version 2.43.0 (0)\n -->\n<!-- Title: g Pages: 1 -->\n<svg width=\"1077pt\" height=\"2369pt\"\n viewBox=\"0.00 0.00 1077.00 2368.97\" xmlns=\"http://www.w3.org/2000/svg\" xmlns:xlink=\"http://www.w3.org/1999/xlink\">\n<g id=\"graph0\" class=\"graph\" transform=\"scale(1 1) rotate(0) translate(4 2364.97)\">\n<title>g</title>\n<polygon fill=\"white\" stroke=\"transparent\" points=\"-4,4 -4,-2364.97 1073,-2364.97 1073,4 -4,4\"/>\n<g id=\"clust1\" class=\"cluster\">\n<title>cluster_input</title>\n<polygon fill=\"none\" stroke=\"white\" points=\"22,-2211.98 22,-2352.97 1048,-2352.97 1048,-2211.98 22,-2211.98\"/>\n<text text-anchor=\"middle\" x=\"535\" y=\"-2337.77\" font-family=\"Times,serif\" font-size=\"14.00\">Gasturbine Nueral networks</text>\n<text text-anchor=\"middle\" x=\"535\" y=\"-2274.77\" font-family=\"Times,serif\" font-size=\"14.00\">Input Layer</text>\n</g>\n<g id=\"clust2\" class=\"cluster\">\n<title>cluster_1</title>\n<polygon fill=\"none\" stroke=\"white\" points=\"8,-2028.98 8,-2083.98 1061,-2083.98 1061,-2028.98 8,-2028.98\"/>\n</g>\n<g id=\"clust3\" class=\"cluster\">\n<title>cluster_2</title>\n<polygon fill=\"none\" stroke=\"white\" points=\"8,-1822.98 8,-1900.98 1061,-1900.98 1061,-1822.98 8,-1822.98\"/>\n<text text-anchor=\"middle\" x=\"1035.5\" y=\"-1830.78\" font-family=\"Times,serif\" font-size=\"14.00\"> (+44)</text>\n</g>\n<g id=\"clust4\" class=\"cluster\">\n<title>cluster_3</title>\n<polygon fill=\"none\" stroke=\"white\" points=\"463,-1665.98 463,-1717.98 605,-1717.98 605,-1665.98 463,-1665.98\"/>\n</g>\n<g id=\"clust5\" class=\"cluster\">\n<title>cluster_4</title>\n<polygon fill=\"none\" stroke=\"white\" points=\"8,-1459.99 8,-1537.98 1061,-1537.98 1061,-1459.99 8,-1459.99\"/>\n<text text-anchor=\"middle\" x=\"1035.5\" y=\"-1467.79\" font-family=\"Times,serif\" font-size=\"14.00\"> (+44)</text>\n</g>\n<g id=\"clust6\" class=\"cluster\">\n<title>cluster_5</title>\n<polygon fill=\"none\" stroke=\"white\" points=\"463,-1302.99 463,-1354.99 605,-1354.99 605,-1302.99 463,-1302.99\"/>\n</g>\n<g id=\"clust7\" class=\"cluster\">\n<title>cluster_6</title>\n<polygon fill=\"none\" stroke=\"white\" points=\"8,-1096.99 8,-1174.99 1061,-1174.99 1061,-1096.99 8,-1096.99\"/>\n<text text-anchor=\"middle\" x=\"1035.5\" y=\"-1104.79\" font-family=\"Times,serif\" font-size=\"14.00\"> (+44)</text>\n</g>\n<g id=\"clust8\" class=\"cluster\">\n<title>cluster_7</title>\n<polygon fill=\"none\" stroke=\"white\" points=\"463,-939.99 463,-991.99 605,-991.99 605,-939.99 463,-939.99\"/>\n</g>\n<g id=\"clust9\" class=\"cluster\">\n<title>cluster_8</title>\n<polygon fill=\"none\" stroke=\"white\" points=\"8,-733.99 8,-811.99 1061,-811.99 1061,-733.99 8,-733.99\"/>\n<text text-anchor=\"middle\" x=\"1035.5\" y=\"-741.79\" font-family=\"Times,serif\" font-size=\"14.00\"> (+44)</text>\n</g>\n<g id=\"clust10\" class=\"cluster\">\n<title>cluster_9</title>\n<polygon fill=\"none\" stroke=\"white\" points=\"463,-576.99 463,-628.99 605,-628.99 605,-576.99 463,-576.99\"/>\n</g>\n<g id=\"clust11\" class=\"cluster\">\n<title>cluster_10</title>\n<polygon fill=\"none\" stroke=\"white\" points=\"8,-371 8,-448.99 1061,-448.99 1061,-371 8,-371\"/>\n<text text-anchor=\"middle\" x=\"1035.5\" y=\"-378.8\" font-family=\"Times,serif\" font-size=\"14.00\"> (+44)</text>\n</g>\n<g id=\"clust12\" class=\"cluster\">\n<title>cluster_11</title>\n<polygon fill=\"none\" stroke=\"white\" points=\"463,-214 463,-266 605,-266 605,-214 463,-214\"/>\n</g>\n<g id=\"clust13\" class=\"cluster\">\n<title>cluster_output</title>\n<polygon fill=\"none\" stroke=\"white\" points=\"490,-8 490,-86 579,-86 579,-8 490,-8\"/>\n<text text-anchor=\"middle\" x=\"534.5\" y=\"-15.8\" font-family=\"Times,serif\" font-size=\"14.00\">Output Layer</text>\n</g>\n<!-- 1 -->\n<g id=\"node1\" class=\"node\">\n<title>1</title>\n<ellipse fill=\"#2ecc71\" stroke=\"#2ecc71\" cx=\"588\" cy=\"-2239.47\" rx=\"18\" ry=\"18\"/>\n<text text-anchor=\"middle\" x=\"588\" y=\"-2235.77\" font-family=\"Times,serif\" font-size=\"14.00\" fill=\"#2ecc71\">1</text>\n</g>\n<!-- 11 -->\n<g id=\"node11\" class=\"node\">\n<title>11</title>\n<ellipse fill=\"#3498db\" stroke=\"#3498db\" cx=\"146\" cy=\"-2056.48\" rx=\"19.5\" ry=\"19.5\"/>\n<text text-anchor=\"middle\" x=\"146\" y=\"-2052.78\" font-family=\"Times,serif\" font-size=\"14.00\" fill=\"#3498db\">11</text>\n</g>\n<!-- 1&#45;&gt;11 -->\n<g id=\"edge1\" class=\"edge\">\n<title>1&#45;&gt;11</title>\n<path fill=\"none\" stroke=\"#707070\" d=\"M571.48,-2231.71C502.21,-2203.34 235.45,-2094.11 163.8,-2064.77\"/>\n</g>\n<!-- 12 -->\n<g id=\"node12\" class=\"node\">\n<title>12</title>\n<ellipse fill=\"#3498db\" stroke=\"#3498db\" cx=\"35\" cy=\"-2056.48\" rx=\"19.5\" ry=\"19.5\"/>\n<text text-anchor=\"middle\" x=\"35\" y=\"-2052.78\" font-family=\"Times,serif\" font-size=\"14.00\" fill=\"#3498db\">12</text>\n</g>\n<!-- 1&#45;&gt;12 -->\n<g id=\"edge11\" class=\"edge\">\n<title>1&#45;&gt;12</title>\n<path fill=\"none\" stroke=\"#707070\" d=\"M571.15,-2232.96C489.78,-2206.33 138.04,-2091.2 53.38,-2063.49\"/>\n</g>\n<!-- 13 -->\n<g id=\"node13\" class=\"node\">\n<title>13</title>\n<ellipse fill=\"#3498db\" stroke=\"#3498db\" cx=\"1034\" cy=\"-2056.48\" rx=\"19.5\" ry=\"19.5\"/>\n<text text-anchor=\"middle\" x=\"1034\" y=\"-2052.78\" font-family=\"Times,serif\" font-size=\"14.00\" fill=\"#3498db\">13</text>\n</g>\n<!-- 1&#45;&gt;13 -->\n<g id=\"edge21\" class=\"edge\">\n<title>1&#45;&gt;13</title>\n<path fill=\"none\" stroke=\"#707070\" d=\"M604.4,-2231.82C673.87,-2203.63 943.56,-2094.18 1016,-2064.78\"/>\n</g>\n<!-- 14 -->\n<g id=\"node14\" class=\"node\">\n<title>14</title>\n<ellipse fill=\"#3498db\" stroke=\"#3498db\" cx=\"923\" cy=\"-2056.48\" rx=\"19.5\" ry=\"19.5\"/>\n<text text-anchor=\"middle\" x=\"923\" y=\"-2052.78\" font-family=\"Times,serif\" font-size=\"14.00\" fill=\"#3498db\">14</text>\n</g>\n<!-- 1&#45;&gt;14 -->\n<g id=\"edge31\" class=\"edge\">\n<title>1&#45;&gt;14</title>\n<path fill=\"none\" stroke=\"#707070\" d=\"M603.71,-2229.99C659.59,-2199.79 848.48,-2097.74 906.14,-2066.58\"/>\n</g>\n<!-- 15 -->\n<g id=\"node15\" class=\"node\">\n<title>15</title>\n<ellipse fill=\"#3498db\" stroke=\"#3498db\" cx=\"812\" cy=\"-2056.48\" rx=\"19.5\" ry=\"19.5\"/>\n<text text-anchor=\"middle\" x=\"812\" y=\"-2052.78\" font-family=\"Times,serif\" font-size=\"14.00\" fill=\"#3498db\">15</text>\n</g>\n<!-- 1&#45;&gt;15 -->\n<g id=\"edge41\" class=\"edge\">\n<title>1&#45;&gt;15</title>\n<path fill=\"none\" stroke=\"#707070\" d=\"M601.68,-2227.42C641.28,-2195.42 755.89,-2102.82 797.06,-2069.55\"/>\n</g>\n<!-- 16 -->\n<g id=\"node16\" class=\"node\">\n<title>16</title>\n<ellipse fill=\"#3498db\" stroke=\"#3498db\" cx=\"701\" cy=\"-2056.48\" rx=\"19.5\" ry=\"19.5\"/>\n<text text-anchor=\"middle\" x=\"701\" y=\"-2052.78\" font-family=\"Times,serif\" font-size=\"14.00\" fill=\"#3498db\">16</text>\n</g>\n<!-- 1&#45;&gt;16 -->\n<g id=\"edge51\" class=\"edge\">\n<title>1&#45;&gt;16</title>\n<path fill=\"none\" stroke=\"#707070\" d=\"M597.25,-2223.66C618.23,-2190.06 669.28,-2108.28 690.98,-2073.53\"/>\n</g>\n<!-- 17 -->\n<g id=\"node17\" class=\"node\">\n<title>17</title>\n<ellipse fill=\"#3498db\" stroke=\"#3498db\" cx=\"590\" cy=\"-2056.48\" rx=\"19.5\" ry=\"19.5\"/>\n<text text-anchor=\"middle\" x=\"590\" y=\"-2052.78\" font-family=\"Times,serif\" font-size=\"14.00\" fill=\"#3498db\">17</text>\n</g>\n<!-- 1&#45;&gt;17 -->\n<g id=\"edge61\" class=\"edge\">\n<title>1&#45;&gt;17</title>\n<path fill=\"none\" stroke=\"#707070\" d=\"M588.19,-2221.45C588.56,-2187.48 589.4,-2111.53 589.79,-2076.21\"/>\n</g>\n<!-- 18 -->\n<g id=\"node18\" class=\"node\">\n<title>18</title>\n<ellipse fill=\"#3498db\" stroke=\"#3498db\" cx=\"479\" cy=\"-2056.48\" rx=\"19.5\" ry=\"19.5\"/>\n<text text-anchor=\"middle\" x=\"479\" y=\"-2052.78\" font-family=\"Times,serif\" font-size=\"14.00\" fill=\"#3498db\">18</text>\n</g>\n<!-- 1&#45;&gt;18 -->\n<g id=\"edge71\" class=\"edge\">\n<title>1&#45;&gt;18</title>\n<path fill=\"none\" stroke=\"#707070\" d=\"M579.08,-2223.66C558.84,-2190.06 509.59,-2108.28 488.67,-2073.53\"/>\n</g>\n<!-- 19 -->\n<g id=\"node19\" class=\"node\">\n<title>19</title>\n<ellipse fill=\"#3498db\" stroke=\"#3498db\" cx=\"368\" cy=\"-2056.48\" rx=\"19.5\" ry=\"19.5\"/>\n<text text-anchor=\"middle\" x=\"368\" y=\"-2052.78\" font-family=\"Times,serif\" font-size=\"14.00\" fill=\"#3498db\">19</text>\n</g>\n<!-- 1&#45;&gt;19 -->\n<g id=\"edge81\" class=\"edge\">\n<title>1&#45;&gt;19</title>\n<path fill=\"none\" stroke=\"#707070\" d=\"M574.57,-2227.42C535.67,-2195.42 423.11,-2102.82 382.68,-2069.55\"/>\n</g>\n<!-- 20 -->\n<g id=\"node20\" class=\"node\">\n<title>20</title>\n<ellipse fill=\"#3498db\" stroke=\"#3498db\" cx=\"257\" cy=\"-2056.48\" rx=\"19.5\" ry=\"19.5\"/>\n<text text-anchor=\"middle\" x=\"257\" y=\"-2052.78\" font-family=\"Times,serif\" font-size=\"14.00\" fill=\"#3498db\">20</text>\n</g>\n<!-- 1&#45;&gt;20 -->\n<g id=\"edge91\" class=\"edge\">\n<title>1&#45;&gt;20</title>\n<path fill=\"none\" stroke=\"#707070\" d=\"M572.48,-2229.99C517.39,-2199.86 331.49,-2098.21 274.05,-2066.8\"/>\n</g>\n<!-- 2 -->\n<g id=\"node2\" class=\"node\">\n<title>2</title>\n<ellipse fill=\"#2ecc71\" stroke=\"#2ecc71\" cx=\"480\" cy=\"-2239.47\" rx=\"18\" ry=\"18\"/>\n<text text-anchor=\"middle\" x=\"480\" y=\"-2235.77\" font-family=\"Times,serif\" font-size=\"14.00\" fill=\"#2ecc71\">2</text>\n</g>\n<!-- 2&#45;&gt;11 -->\n<g id=\"edge2\" class=\"edge\">\n<title>2&#45;&gt;11</title>\n<path fill=\"none\" stroke=\"#707070\" d=\"M464.34,-2229.99C408.62,-2199.79 220.3,-2097.74 162.81,-2066.58\"/>\n</g>\n<!-- 2&#45;&gt;12 -->\n<g id=\"edge12\" class=\"edge\">\n<title>2&#45;&gt;12</title>\n<path fill=\"none\" stroke=\"#707070\" d=\"M463.63,-2231.82C394.33,-2203.63 125.24,-2094.18 52.96,-2064.78\"/>\n</g>\n<!-- 2&#45;&gt;13 -->\n<g id=\"edge22\" class=\"edge\">\n<title>2&#45;&gt;13</title>\n<path fill=\"none\" stroke=\"#707070\" d=\"M496.88,-2232.96C578.39,-2206.33 930.77,-2091.2 1015.59,-2063.49\"/>\n</g>\n<!-- 2&#45;&gt;14 -->\n<g id=\"edge32\" class=\"edge\">\n<title>2&#45;&gt;14</title>\n<path fill=\"none\" stroke=\"#707070\" d=\"M496.29,-2231.82C565.29,-2203.63 833.16,-2094.18 905.12,-2064.78\"/>\n</g>\n<!-- 2&#45;&gt;15 -->\n<g id=\"edge42\" class=\"edge\">\n<title>2&#45;&gt;15</title>\n<path fill=\"none\" stroke=\"#707070\" d=\"M495.57,-2229.99C550.95,-2199.79 738.15,-2097.74 795.29,-2066.58\"/>\n</g>\n<!-- 2&#45;&gt;16 -->\n<g id=\"edge52\" class=\"edge\">\n<title>2&#45;&gt;16</title>\n<path fill=\"none\" stroke=\"#707070\" d=\"M493.49,-2227.42C532.57,-2195.42 645.64,-2102.82 686.26,-2069.55\"/>\n</g>\n<!-- 2&#45;&gt;17 -->\n<g id=\"edge62\" class=\"edge\">\n<title>2&#45;&gt;17</title>\n<path fill=\"none\" stroke=\"#707070\" d=\"M489,-2223.66C509.42,-2190.06 559.13,-2108.28 580.25,-2073.53\"/>\n</g>\n<!-- 2&#45;&gt;18 -->\n<g id=\"edge72\" class=\"edge\">\n<title>2&#45;&gt;18</title>\n<path fill=\"none\" stroke=\"#707070\" d=\"M479.91,-2221.45C479.72,-2187.48 479.3,-2111.53 479.1,-2076.21\"/>\n</g>\n<!-- 2&#45;&gt;19 -->\n<g id=\"edge82\" class=\"edge\">\n<title>2&#45;&gt;19</title>\n<path fill=\"none\" stroke=\"#707070\" d=\"M470.83,-2223.66C450.04,-2190.06 399.44,-2108.28 377.93,-2073.53\"/>\n</g>\n<!-- 2&#45;&gt;20 -->\n<g id=\"edge92\" class=\"edge\">\n<title>2&#45;&gt;20</title>\n<path fill=\"none\" stroke=\"#707070\" d=\"M466.39,-2227.42C426.95,-2195.42 312.86,-2102.82 271.88,-2069.55\"/>\n</g>\n<!-- 3 -->\n<g id=\"node3\" class=\"node\">\n<title>3</title>\n<ellipse fill=\"#2ecc71\" stroke=\"#2ecc71\" cx=\"372\" cy=\"-2239.47\" rx=\"18\" ry=\"18\"/>\n<text text-anchor=\"middle\" x=\"372\" y=\"-2235.77\" font-family=\"Times,serif\" font-size=\"14.00\" fill=\"#2ecc71\">3</text>\n</g>\n<!-- 3&#45;&gt;11 -->\n<g id=\"edge3\" class=\"edge\">\n<title>3&#45;&gt;11</title>\n<path fill=\"none\" stroke=\"#707070\" d=\"M358.2,-2227.42C318.14,-2195.34 202.06,-2102.37 160.78,-2069.31\"/>\n</g>\n<!-- 3&#45;&gt;12 -->\n<g id=\"edge13\" class=\"edge\">\n<title>3&#45;&gt;12</title>\n<path fill=\"none\" stroke=\"#707070\" d=\"M356.2,-2229.99C299.98,-2199.79 109.97,-2097.74 51.96,-2066.58\"/>\n</g>\n<!-- 3&#45;&gt;13 -->\n<g id=\"edge23\" class=\"edge\">\n<title>3&#45;&gt;13</title>\n<path fill=\"none\" stroke=\"#707070\" d=\"M389.37,-2233.73C482.19,-2208.35 919.13,-2088.89 1015.26,-2062.6\"/>\n</g>\n<!-- 3&#45;&gt;14 -->\n<g id=\"edge33\" class=\"edge\">\n<title>3&#45;&gt;14</title>\n<path fill=\"none\" stroke=\"#707070\" d=\"M388.79,-2232.96C469.86,-2206.33 820.33,-2091.2 904.69,-2063.49\"/>\n</g>\n<!-- 3&#45;&gt;15 -->\n<g id=\"edge43\" class=\"edge\">\n<title>3&#45;&gt;15</title>\n<path fill=\"none\" stroke=\"#707070\" d=\"M388.45,-2231.71C457.4,-2203.34 722.96,-2094.11 794.28,-2064.77\"/>\n</g>\n<!-- 3&#45;&gt;16 -->\n<g id=\"edge53\" class=\"edge\">\n<title>3&#45;&gt;16</title>\n<path fill=\"none\" stroke=\"#707070\" d=\"M387.43,-2229.99C442.18,-2199.86 626.96,-2098.21 684.05,-2066.8\"/>\n</g>\n<!-- 3&#45;&gt;17 -->\n<g id=\"edge63\" class=\"edge\">\n<title>3&#45;&gt;17</title>\n<path fill=\"none\" stroke=\"#707070\" d=\"M385.64,-2227.15C424.41,-2194.96 535.09,-2103.07 575.23,-2069.74\"/>\n</g>\n<!-- 3&#45;&gt;18 -->\n<g id=\"edge73\" class=\"edge\">\n<title>3&#45;&gt;18</title>\n<path fill=\"none\" stroke=\"#707070\" d=\"M380.76,-2223.66C400.62,-2190.06 448.97,-2108.28 469.51,-2073.53\"/>\n</g>\n<!-- 3&#45;&gt;19 -->\n<g id=\"edge83\" class=\"edge\">\n<title>3&#45;&gt;19</title>\n<path fill=\"none\" stroke=\"#707070\" d=\"M371.62,-2221.45C370.87,-2187.48 369.19,-2111.53 368.41,-2076.21\"/>\n</g>\n<!-- 3&#45;&gt;20 -->\n<g id=\"edge93\" class=\"edge\">\n<title>3&#45;&gt;20</title>\n<path fill=\"none\" stroke=\"#707070\" d=\"M362.78,-2223.97C341.52,-2190.5 289.15,-2108.08 267.08,-2073.34\"/>\n</g>\n<!-- 4 -->\n<g id=\"node4\" class=\"node\">\n<title>4</title>\n<ellipse fill=\"#2ecc71\" stroke=\"#2ecc71\" cx=\"264\" cy=\"-2239.47\" rx=\"18\" ry=\"18\"/>\n<text text-anchor=\"middle\" x=\"264\" y=\"-2235.77\" font-family=\"Times,serif\" font-size=\"14.00\" fill=\"#2ecc71\">4</text>\n</g>\n<!-- 4&#45;&gt;11 -->\n<g id=\"edge4\" class=\"edge\">\n<title>4&#45;&gt;11</title>\n<path fill=\"none\" stroke=\"#707070\" d=\"M254.54,-2223.97C232.72,-2190.5 178.99,-2108.08 156.34,-2073.34\"/>\n</g>\n<!-- 4&#45;&gt;12 -->\n<g id=\"edge14\" class=\"edge\">\n<title>4&#45;&gt;12</title>\n<path fill=\"none\" stroke=\"#707070\" d=\"M250.36,-2227.69C210.11,-2195.88 92.04,-2102.56 50.04,-2069.37\"/>\n</g>\n<!-- 4&#45;&gt;13 -->\n<g id=\"edge24\" class=\"edge\">\n<title>4&#45;&gt;13</title>\n<path fill=\"none\" stroke=\"#707070\" d=\"M281.53,-2234.35C384.39,-2210.17 908.69,-2086.93 1015.13,-2061.91\"/>\n</g>\n<!-- 4&#45;&gt;14 -->\n<g id=\"edge34\" class=\"edge\">\n<title>4&#45;&gt;14</title>\n<path fill=\"none\" stroke=\"#707070\" d=\"M281.29,-2233.73C373.69,-2208.35 808.65,-2088.89 904.35,-2062.6\"/>\n</g>\n<!-- 4&#45;&gt;15 -->\n<g id=\"edge44\" class=\"edge\">\n<title>4&#45;&gt;15</title>\n<path fill=\"none\" stroke=\"#707070\" d=\"M281,-2232.86C362.12,-2206.07 709.33,-2091.39 793.54,-2063.57\"/>\n</g>\n<!-- 4&#45;&gt;16 -->\n<g id=\"edge54\" class=\"edge\">\n<title>4&#45;&gt;16</title>\n<path fill=\"none\" stroke=\"#707070\" d=\"M280.33,-2231.71C348.67,-2203.41 611.37,-2094.6 682.92,-2064.97\"/>\n</g>\n<!-- 4&#45;&gt;17 -->\n<g id=\"edge64\" class=\"edge\">\n<title>4&#45;&gt;17</title>\n<path fill=\"none\" stroke=\"#707070\" d=\"M279.72,-2229.74C334.54,-2199.31 516.94,-2098.04 573.28,-2066.76\"/>\n</g>\n<!-- 4&#45;&gt;18 -->\n<g id=\"edge74\" class=\"edge\">\n<title>4&#45;&gt;18</title>\n<path fill=\"none\" stroke=\"#707070\" d=\"M277.45,-2227.15C315.69,-2194.96 424.85,-2103.07 464.43,-2069.74\"/>\n</g>\n<!-- 4&#45;&gt;19 -->\n<g id=\"edge84\" class=\"edge\">\n<title>4&#45;&gt;19</title>\n<path fill=\"none\" stroke=\"#707070\" d=\"M272.69,-2223.35C292.07,-2189.62 338.7,-2108.47 358.67,-2073.72\"/>\n</g>\n<!-- 4&#45;&gt;20 -->\n<g id=\"edge94\" class=\"edge\">\n<title>4&#45;&gt;20</title>\n<path fill=\"none\" stroke=\"#707070\" d=\"M263.34,-2221.45C262.03,-2187.48 259.09,-2111.53 257.72,-2076.21\"/>\n</g>\n<!-- 5 -->\n<g id=\"node5\" class=\"node\">\n<title>5</title>\n<ellipse fill=\"#2ecc71\" stroke=\"#2ecc71\" cx=\"156\" cy=\"-2239.47\" rx=\"18\" ry=\"18\"/>\n<text text-anchor=\"middle\" x=\"156\" y=\"-2235.77\" font-family=\"Times,serif\" font-size=\"14.00\" fill=\"#2ecc71\">5</text>\n</g>\n<!-- 5&#45;&gt;11 -->\n<g id=\"edge5\" class=\"edge\">\n<title>5&#45;&gt;11</title>\n<path fill=\"none\" stroke=\"#707070\" d=\"M155.06,-2221.45C153.18,-2187.48 148.99,-2111.53 147.03,-2076.21\"/>\n</g>\n<!-- 5&#45;&gt;12 -->\n<g id=\"edge15\" class=\"edge\">\n<title>5&#45;&gt;12</title>\n<path fill=\"none\" stroke=\"#707070\" d=\"M146.3,-2223.97C123.87,-2190.41 68.55,-2107.67 45.43,-2073.08\"/>\n</g>\n<!-- 5&#45;&gt;13 -->\n<g id=\"edge25\" class=\"edge\">\n<title>5&#45;&gt;13</title>\n<path fill=\"none\" stroke=\"#707070\" d=\"M173.54,-2234.86C285.44,-2211.79 898.6,-2085.39 1014.94,-2061.41\"/>\n</g>\n<!-- 5&#45;&gt;14 -->\n<g id=\"edge35\" class=\"edge\">\n<title>5&#45;&gt;14</title>\n<path fill=\"none\" stroke=\"#707070\" d=\"M173.46,-2234.35C275.92,-2210.17 798.18,-2086.93 904.21,-2061.91\"/>\n</g>\n<!-- 5&#45;&gt;15 -->\n<g id=\"edge45\" class=\"edge\">\n<title>5&#45;&gt;15</title>\n<path fill=\"none\" stroke=\"#707070\" d=\"M173.21,-2233.73C265.19,-2208.35 698.17,-2088.89 793.43,-2062.6\"/>\n</g>\n<!-- 5&#45;&gt;16 -->\n<g id=\"edge55\" class=\"edge\">\n<title>5&#45;&gt;16</title>\n<path fill=\"none\" stroke=\"#707070\" d=\"M172.91,-2232.86C253.58,-2206.07 598.89,-2091.39 682.65,-2063.57\"/>\n</g>\n<!-- 5&#45;&gt;17 -->\n<g id=\"edge65\" class=\"edge\">\n<title>5&#45;&gt;17</title>\n<path fill=\"none\" stroke=\"#707070\" d=\"M172.48,-2231.6C240.77,-2203.12 501.17,-2094.52 572.08,-2064.95\"/>\n</g>\n<!-- 5&#45;&gt;18 -->\n<g id=\"edge75\" class=\"edge\">\n<title>5&#45;&gt;18</title>\n<path fill=\"none\" stroke=\"#707070\" d=\"M171.58,-2229.74C225.89,-2199.31 406.61,-2098.04 462.43,-2066.76\"/>\n</g>\n<!-- 5&#45;&gt;19 -->\n<g id=\"edge85\" class=\"edge\">\n<title>5&#45;&gt;19</title>\n<path fill=\"none\" stroke=\"#707070\" d=\"M169.26,-2227.15C206.97,-2194.96 314.6,-2103.07 353.64,-2069.74\"/>\n</g>\n<!-- 5&#45;&gt;20 -->\n<g id=\"edge95\" class=\"edge\">\n<title>5&#45;&gt;20</title>\n<path fill=\"none\" stroke=\"#707070\" d=\"M164.44,-2223.35C183.21,-2189.71 228.32,-2108.88 247.79,-2073.98\"/>\n</g>\n<!-- 6 -->\n<g id=\"node6\" class=\"node\">\n<title>6</title>\n<ellipse fill=\"#2ecc71\" stroke=\"#2ecc71\" cx=\"48\" cy=\"-2239.47\" rx=\"18\" ry=\"18\"/>\n<text text-anchor=\"middle\" x=\"48\" y=\"-2235.77\" font-family=\"Times,serif\" font-size=\"14.00\" fill=\"#2ecc71\">6</text>\n</g>\n<!-- 6&#45;&gt;11 -->\n<g id=\"edge6\" class=\"edge\">\n<title>6&#45;&gt;11</title>\n<path fill=\"none\" stroke=\"#707070\" d=\"M56.19,-2223.35C74.4,-2189.71 118.17,-2108.88 137.06,-2073.98\"/>\n</g>\n<!-- 6&#45;&gt;12 -->\n<g id=\"edge16\" class=\"edge\">\n<title>6&#45;&gt;12</title>\n<path fill=\"none\" stroke=\"#707070\" d=\"M46.78,-2221.45C44.33,-2187.39 38.85,-2111.14 36.33,-2075.94\"/>\n</g>\n<!-- 6&#45;&gt;13 -->\n<g id=\"edge26\" class=\"edge\">\n<title>6&#45;&gt;13</title>\n<path fill=\"none\" stroke=\"#707070\" d=\"M65.53,-2235.26C185.93,-2213.15 889.43,-2084.02 1014.87,-2060.99\"/>\n</g>\n<!-- 6&#45;&gt;14 -->\n<g id=\"edge36\" class=\"edge\">\n<title>6&#45;&gt;14</title>\n<path fill=\"none\" stroke=\"#707070\" d=\"M65.48,-2234.86C177,-2211.79 788.06,-2085.39 904.01,-2061.41\"/>\n</g>\n<!-- 6&#45;&gt;15 -->\n<g id=\"edge46\" class=\"edge\">\n<title>6&#45;&gt;15</title>\n<path fill=\"none\" stroke=\"#707070\" d=\"M65.39,-2234.35C167.34,-2210.2 686.54,-2087.2 792.93,-2061.99\"/>\n</g>\n<!-- 6&#45;&gt;16 -->\n<g id=\"edge56\" class=\"edge\">\n<title>6&#45;&gt;16</title>\n<path fill=\"none\" stroke=\"#707070\" d=\"M65.13,-2233.73C156.59,-2208.38 586.74,-2089.15 682.2,-2062.69\"/>\n</g>\n<!-- 6&#45;&gt;17 -->\n<g id=\"edge66\" class=\"edge\">\n<title>6&#45;&gt;17</title>\n<path fill=\"none\" stroke=\"#707070\" d=\"M64.82,-2232.86C145.04,-2206.07 488.45,-2091.39 571.75,-2063.57\"/>\n</g>\n<!-- 6&#45;&gt;18 -->\n<g id=\"edge76\" class=\"edge\">\n<title>6&#45;&gt;18</title>\n<path fill=\"none\" stroke=\"#707070\" d=\"M64.37,-2231.6C132.18,-2203.12 390.78,-2094.52 461.2,-2064.95\"/>\n</g>\n<!-- 6&#45;&gt;19 -->\n<g id=\"edge86\" class=\"edge\">\n<title>6&#45;&gt;19</title>\n<path fill=\"none\" stroke=\"#707070\" d=\"M63.43,-2229.74C117.12,-2199.38 295.45,-2098.51 351.2,-2066.98\"/>\n</g>\n<!-- 6&#45;&gt;20 -->\n<g id=\"edge96\" class=\"edge\">\n<title>6&#45;&gt;20</title>\n<path fill=\"none\" stroke=\"#707070\" d=\"M61.39,-2226.88C98.78,-2194.5 204.07,-2103.31 242.62,-2069.93\"/>\n</g>\n<!-- 7 -->\n<g id=\"node7\" class=\"node\">\n<title>7</title>\n<ellipse fill=\"#2ecc71\" stroke=\"#2ecc71\" cx=\"1022\" cy=\"-2239.47\" rx=\"18\" ry=\"18\"/>\n<text text-anchor=\"middle\" x=\"1022\" y=\"-2235.77\" font-family=\"Times,serif\" font-size=\"14.00\" fill=\"#2ecc71\">7</text>\n</g>\n<!-- 7&#45;&gt;11 -->\n<g id=\"edge7\" class=\"edge\">\n<title>7&#45;&gt;11</title>\n<path fill=\"none\" stroke=\"#707070\" d=\"M1004.5,-2234.86C892.85,-2211.79 281.09,-2085.39 165.02,-2061.41\"/>\n</g>\n<!-- 7&#45;&gt;12 -->\n<g id=\"edge17\" class=\"edge\">\n<title>7&#45;&gt;12</title>\n<path fill=\"none\" stroke=\"#707070\" d=\"M1004.45,-2235.26C883.93,-2213.15 179.72,-2084.02 54.15,-2060.99\"/>\n</g>\n<!-- 7&#45;&gt;13 -->\n<g id=\"edge27\" class=\"edge\">\n<title>7&#45;&gt;13</title>\n<path fill=\"none\" stroke=\"#707070\" d=\"M1023.13,-2221.45C1025.38,-2187.48 1030.42,-2111.53 1032.76,-2076.21\"/>\n</g>\n<!-- 7&#45;&gt;14 -->\n<g id=\"edge37\" class=\"edge\">\n<title>7&#45;&gt;14</title>\n<path fill=\"none\" stroke=\"#707070\" d=\"M1013.73,-2223.35C995.33,-2189.71 951.12,-2108.88 932.03,-2073.98\"/>\n</g>\n<!-- 7&#45;&gt;15 -->\n<g id=\"edge47\" class=\"edge\">\n<title>7&#45;&gt;15</title>\n<path fill=\"none\" stroke=\"#707070\" d=\"M1008.86,-2227.15C971.6,-2195.03 865.41,-2103.51 826.51,-2069.98\"/>\n</g>\n<!-- 7&#45;&gt;16 -->\n<g id=\"edge57\" class=\"edge\">\n<title>7&#45;&gt;16</title>\n<path fill=\"none\" stroke=\"#707070\" d=\"M1006.52,-2229.74C952.67,-2199.38 773.78,-2098.51 717.86,-2066.98\"/>\n</g>\n<!-- 7&#45;&gt;17 -->\n<g id=\"edge67\" class=\"edge\">\n<title>7&#45;&gt;17</title>\n<path fill=\"none\" stroke=\"#707070\" d=\"M1005.59,-2231.6C937.63,-2203.12 678.42,-2094.52 607.84,-2064.95\"/>\n</g>\n<!-- 7&#45;&gt;18 -->\n<g id=\"edge77\" class=\"edge\">\n<title>7&#45;&gt;18</title>\n<path fill=\"none\" stroke=\"#707070\" d=\"M1005.15,-2232.86C924.78,-2206.07 580.74,-2091.39 497.29,-2063.57\"/>\n</g>\n<!-- 7&#45;&gt;19 -->\n<g id=\"edge87\" class=\"edge\">\n<title>7&#45;&gt;19</title>\n<path fill=\"none\" stroke=\"#707070\" d=\"M1004.84,-2233.73C913.14,-2208.35 481.49,-2088.89 386.51,-2062.6\"/>\n</g>\n<!-- 7&#45;&gt;20 -->\n<g id=\"edge97\" class=\"edge\">\n<title>7&#45;&gt;20</title>\n<path fill=\"none\" stroke=\"#707070\" d=\"M1004.58,-2234.35C902.39,-2210.17 381.5,-2086.93 275.75,-2061.91\"/>\n</g>\n<!-- 8 -->\n<g id=\"node8\" class=\"node\">\n<title>8</title>\n<ellipse fill=\"#2ecc71\" stroke=\"#2ecc71\" cx=\"914\" cy=\"-2239.47\" rx=\"18\" ry=\"18\"/>\n<text text-anchor=\"middle\" x=\"914\" y=\"-2235.77\" font-family=\"Times,serif\" font-size=\"14.00\" fill=\"#2ecc71\">8</text>\n</g>\n<!-- 8&#45;&gt;11 -->\n<g id=\"edge8\" class=\"edge\">\n<title>8&#45;&gt;11</title>\n<path fill=\"none\" stroke=\"#707070\" d=\"M896.52,-2234.35C793.92,-2210.17 270.98,-2086.93 164.82,-2061.91\"/>\n</g>\n<!-- 8&#45;&gt;12 -->\n<g id=\"edge18\" class=\"edge\">\n<title>8&#45;&gt;12</title>\n<path fill=\"none\" stroke=\"#707070\" d=\"M896.44,-2234.86C784.41,-2211.79 170.55,-2085.39 54.08,-2061.41\"/>\n</g>\n<!-- 8&#45;&gt;13 -->\n<g id=\"edge28\" class=\"edge\">\n<title>8&#45;&gt;13</title>\n<path fill=\"none\" stroke=\"#707070\" d=\"M923.62,-2223.97C945.86,-2190.41 1000.72,-2107.67 1023.66,-2073.08\"/>\n</g>\n<!-- 8&#45;&gt;14 -->\n<g id=\"edge38\" class=\"edge\">\n<title>8&#45;&gt;14</title>\n<path fill=\"none\" stroke=\"#707070\" d=\"M914.85,-2221.45C916.54,-2187.48 920.31,-2111.53 922.07,-2076.21\"/>\n</g>\n<!-- 8&#45;&gt;15 -->\n<g id=\"edge48\" class=\"edge\">\n<title>8&#45;&gt;15</title>\n<path fill=\"none\" stroke=\"#707070\" d=\"M905.48,-2223.35C886.47,-2189.62 840.74,-2108.47 821.15,-2073.72\"/>\n</g>\n<!-- 8&#45;&gt;16 -->\n<g id=\"edge58\" class=\"edge\">\n<title>8&#45;&gt;16</title>\n<path fill=\"none\" stroke=\"#707070\" d=\"M900.68,-2227.15C862.79,-2194.96 754.65,-2103.07 715.43,-2069.74\"/>\n</g>\n<!-- 8&#45;&gt;17 -->\n<g id=\"edge68\" class=\"edge\">\n<title>8&#45;&gt;17</title>\n<path fill=\"none\" stroke=\"#707070\" d=\"M898.37,-2229.74C843.89,-2199.31 662.61,-2098.04 606.62,-2066.76\"/>\n</g>\n<!-- 8&#45;&gt;18 -->\n<g id=\"edge78\" class=\"edge\">\n<title>8&#45;&gt;18</title>\n<path fill=\"none\" stroke=\"#707070\" d=\"M897.74,-2231.71C829.72,-2203.41 568.22,-2094.6 497,-2064.97\"/>\n</g>\n<!-- 8&#45;&gt;19 -->\n<g id=\"edge88\" class=\"edge\">\n<title>8&#45;&gt;19</title>\n<path fill=\"none\" stroke=\"#707070\" d=\"M897.06,-2232.86C816.24,-2206.07 470.3,-2091.39 386.39,-2063.57\"/>\n</g>\n<!-- 8&#45;&gt;20 -->\n<g id=\"edge98\" class=\"edge\">\n<title>8&#45;&gt;20</title>\n<path fill=\"none\" stroke=\"#707070\" d=\"M896.76,-2233.73C804.64,-2208.35 371.01,-2088.89 275.6,-2062.6\"/>\n</g>\n<!-- 9 -->\n<g id=\"node9\" class=\"node\">\n<title>9</title>\n<ellipse fill=\"#2ecc71\" stroke=\"#2ecc71\" cx=\"806\" cy=\"-2239.47\" rx=\"18\" ry=\"18\"/>\n<text text-anchor=\"middle\" x=\"806\" y=\"-2235.77\" font-family=\"Times,serif\" font-size=\"14.00\" fill=\"#2ecc71\">9</text>\n</g>\n<!-- 9&#45;&gt;11 -->\n<g id=\"edge9\" class=\"edge\">\n<title>9&#45;&gt;11</title>\n<path fill=\"none\" stroke=\"#707070\" d=\"M788.69,-2233.73C696.14,-2208.35 260.53,-2088.89 164.68,-2062.6\"/>\n</g>\n<!-- 9&#45;&gt;12 -->\n<g id=\"edge19\" class=\"edge\">\n<title>9&#45;&gt;12</title>\n<path fill=\"none\" stroke=\"#707070\" d=\"M788.45,-2234.35C685.45,-2210.17 160.47,-2086.93 53.89,-2061.91\"/>\n</g>\n<!-- 9&#45;&gt;13 -->\n<g id=\"edge29\" class=\"edge\">\n<title>9&#45;&gt;13</title>\n<path fill=\"none\" stroke=\"#707070\" d=\"M819.92,-2227.42C860.33,-2195.34 977.45,-2102.37 1019.09,-2069.31\"/>\n</g>\n<!-- 9&#45;&gt;14 -->\n<g id=\"edge39\" class=\"edge\">\n<title>9&#45;&gt;14</title>\n<path fill=\"none\" stroke=\"#707070\" d=\"M815.38,-2223.97C837.01,-2190.5 890.29,-2108.08 912.75,-2073.34\"/>\n</g>\n<!-- 9&#45;&gt;15 -->\n<g id=\"edge49\" class=\"edge\">\n<title>9&#45;&gt;15</title>\n<path fill=\"none\" stroke=\"#707070\" d=\"M806.56,-2221.45C807.69,-2187.48 810.21,-2111.53 811.38,-2076.21\"/>\n</g>\n<!-- 9&#45;&gt;16 -->\n<g id=\"edge59\" class=\"edge\">\n<title>9&#45;&gt;16</title>\n<path fill=\"none\" stroke=\"#707070\" d=\"M797.23,-2223.35C777.66,-2189.62 730.58,-2108.47 710.42,-2073.72\"/>\n</g>\n<!-- 9&#45;&gt;17 -->\n<g id=\"edge69\" class=\"edge\">\n<title>9&#45;&gt;17</title>\n<path fill=\"none\" stroke=\"#707070\" d=\"M792.49,-2227.15C754.07,-2194.96 644.41,-2103.07 604.63,-2069.74\"/>\n</g>\n<!-- 9&#45;&gt;18 -->\n<g id=\"edge79\" class=\"edge\">\n<title>9&#45;&gt;18</title>\n<path fill=\"none\" stroke=\"#707070\" d=\"M790.67,-2229.99C736.25,-2199.86 552.59,-2098.21 495.85,-2066.8\"/>\n</g>\n<!-- 9&#45;&gt;19 -->\n<g id=\"edge89\" class=\"edge\">\n<title>9&#45;&gt;19</title>\n<path fill=\"none\" stroke=\"#707070\" d=\"M789.63,-2231.71C721.14,-2203.41 457.83,-2094.6 386.12,-2064.97\"/>\n</g>\n<!-- 9&#45;&gt;20 -->\n<g id=\"edge99\" class=\"edge\">\n<title>9&#45;&gt;20</title>\n<path fill=\"none\" stroke=\"#707070\" d=\"M788.97,-2232.86C707.61,-2206.04 359.09,-2091.13 275.21,-2063.48\"/>\n</g>\n<!-- 10 -->\n<g id=\"node10\" class=\"node\">\n<title>10</title>\n<ellipse fill=\"#2ecc71\" stroke=\"#2ecc71\" cx=\"697\" cy=\"-2239.47\" rx=\"19.5\" ry=\"19.5\"/>\n<text text-anchor=\"middle\" x=\"697\" y=\"-2235.77\" font-family=\"Times,serif\" font-size=\"14.00\" fill=\"#2ecc71\">10</text>\n</g>\n<!-- 10&#45;&gt;11 -->\n<g id=\"edge10\" class=\"edge\">\n<title>10&#45;&gt;11</title>\n<path fill=\"none\" stroke=\"#707070\" d=\"M678.67,-2232.45C594.82,-2204.91 248.39,-2091.11 164.4,-2063.52\"/>\n</g>\n<!-- 10&#45;&gt;12 -->\n<g id=\"edge20\" class=\"edge\">\n<title>10&#45;&gt;12</title>\n<path fill=\"none\" stroke=\"#707070\" d=\"M678.25,-2233.35C582.52,-2207.17 148.94,-2088.63 53.58,-2062.56\"/>\n</g>\n<!-- 10&#45;&gt;13 -->\n<g id=\"edge30\" class=\"edge\">\n<title>10&#45;&gt;13</title>\n<path fill=\"none\" stroke=\"#707070\" d=\"M714.18,-2229.25C771.98,-2198.2 959.1,-2097.7 1016.86,-2066.68\"/>\n</g>\n<!-- 10&#45;&gt;14 -->\n<g id=\"edge40\" class=\"edge\">\n<title>10&#45;&gt;14</title>\n<path fill=\"none\" stroke=\"#707070\" d=\"M711.83,-2226.6C752.78,-2193.8 867.1,-2102.24 908.12,-2069.4\"/>\n</g>\n<!-- 10&#45;&gt;15 -->\n<g id=\"edge50\" class=\"edge\">\n<title>10&#45;&gt;15</title>\n<path fill=\"none\" stroke=\"#707070\" d=\"M707,-2222.73C728.75,-2188.5 780.13,-2107.63 801.94,-2073.32\"/>\n</g>\n<!-- 10&#45;&gt;16 -->\n<g id=\"edge60\" class=\"edge\">\n<title>10&#45;&gt;16</title>\n<path fill=\"none\" stroke=\"#707070\" d=\"M697.41,-2219.79C698.18,-2185.01 699.82,-2110.76 700.59,-2076.06\"/>\n</g>\n<!-- 10&#45;&gt;17 -->\n<g id=\"edge70\" class=\"edge\">\n<title>10&#45;&gt;17</title>\n<path fill=\"none\" stroke=\"#707070\" d=\"M687.5,-2222.41C667.25,-2188.15 620,-2108.22 599.63,-2073.76\"/>\n</g>\n<!-- 10&#45;&gt;18 -->\n<g id=\"edge80\" class=\"edge\">\n<title>10&#45;&gt;18</title>\n<path fill=\"none\" stroke=\"#707070\" d=\"M682.36,-2226.32C642.64,-2193.34 533.22,-2102.49 493.58,-2069.58\"/>\n</g>\n<!-- 10&#45;&gt;19 -->\n<g id=\"edge90\" class=\"edge\">\n<title>10&#45;&gt;19</title>\n<path fill=\"none\" stroke=\"#707070\" d=\"M680.23,-2229.25C623.8,-2198.2 441.12,-2097.7 384.73,-2066.68\"/>\n</g>\n<!-- 10&#45;&gt;20 -->\n<g id=\"edge100\" class=\"edge\">\n<title>10&#45;&gt;20</title>\n<path fill=\"none\" stroke=\"#707070\" d=\"M679.21,-2231.15C608.3,-2201.99 346.31,-2094.22 275.01,-2064.89\"/>\n</g>\n<!-- 21 -->\n<g id=\"node21\" class=\"node\">\n<title>21</title>\n<ellipse fill=\"#3498db\" stroke=\"#3498db\" cx=\"146\" cy=\"-1873.48\" rx=\"19.5\" ry=\"19.5\"/>\n<text text-anchor=\"middle\" x=\"146\" y=\"-1869.78\" font-family=\"Times,serif\" font-size=\"14.00\" fill=\"#3498db\">21</text>\n</g>\n<!-- 11&#45;&gt;21 -->\n<g id=\"edge101\" class=\"edge\">\n<title>11&#45;&gt;21</title>\n<path fill=\"none\" stroke=\"#707070\" d=\"M146,-2036.79C146,-2002.02 146,-1927.76 146,-1893.07\"/>\n</g>\n<!-- 22 -->\n<g id=\"node22\" class=\"node\">\n<title>22</title>\n<ellipse fill=\"#3498db\" stroke=\"#3498db\" cx=\"35\" cy=\"-1873.48\" rx=\"19.5\" ry=\"19.5\"/>\n<text text-anchor=\"middle\" x=\"35\" y=\"-1869.78\" font-family=\"Times,serif\" font-size=\"14.00\" fill=\"#3498db\">22</text>\n</g>\n<!-- 11&#45;&gt;22 -->\n<g id=\"edge111\" class=\"edge\">\n<title>11&#45;&gt;22</title>\n<path fill=\"none\" stroke=\"#707070\" d=\"M136.15,-2039.42C115.09,-2005.07 65.87,-1924.82 44.83,-1890.51\"/>\n</g>\n<!-- 23 -->\n<g id=\"node23\" class=\"node\">\n<title>23</title>\n<ellipse fill=\"#3498db\" stroke=\"#3498db\" cx=\"1034\" cy=\"-1873.48\" rx=\"19.5\" ry=\"19.5\"/>\n<text text-anchor=\"middle\" x=\"1034\" y=\"-1869.78\" font-family=\"Times,serif\" font-size=\"14.00\" fill=\"#3498db\">23</text>\n</g>\n<!-- 11&#45;&gt;23 -->\n<g id=\"edge121\" class=\"edge\">\n<title>11&#45;&gt;23</title>\n<path fill=\"none\" stroke=\"#707070\" d=\"M164.96,-2051.61C281.34,-2027.89 897.89,-1902.22 1014.84,-1878.39\"/>\n</g>\n<!-- 24 -->\n<g id=\"node24\" class=\"node\">\n<title>24</title>\n<ellipse fill=\"#3498db\" stroke=\"#3498db\" cx=\"923\" cy=\"-1873.48\" rx=\"19.5\" ry=\"19.5\"/>\n<text text-anchor=\"middle\" x=\"923\" y=\"-1869.78\" font-family=\"Times,serif\" font-size=\"14.00\" fill=\"#3498db\">24</text>\n</g>\n<!-- 11&#45;&gt;24 -->\n<g id=\"edge131\" class=\"edge\">\n<title>11&#45;&gt;24</title>\n<path fill=\"none\" stroke=\"#707070\" d=\"M164.82,-2051.09C271.32,-2026.29 797.33,-1903.76 904.08,-1878.89\"/>\n</g>\n<!-- 25 -->\n<g id=\"node25\" class=\"node\">\n<title>25</title>\n<ellipse fill=\"#3498db\" stroke=\"#3498db\" cx=\"812\" cy=\"-1873.48\" rx=\"19.5\" ry=\"19.5\"/>\n<text text-anchor=\"middle\" x=\"812\" y=\"-1869.78\" font-family=\"Times,serif\" font-size=\"14.00\" fill=\"#3498db\">25</text>\n</g>\n<!-- 11&#45;&gt;25 -->\n<g id=\"edge141\" class=\"edge\">\n<title>11&#45;&gt;25</title>\n<path fill=\"none\" stroke=\"#707070\" d=\"M164.86,-2050.35C261.18,-2024.18 697.38,-1905.63 793.31,-1879.56\"/>\n</g>\n<!-- 26 -->\n<g id=\"node26\" class=\"node\">\n<title>26</title>\n<ellipse fill=\"#3498db\" stroke=\"#3498db\" cx=\"701\" cy=\"-1873.48\" rx=\"19.5\" ry=\"19.5\"/>\n<text text-anchor=\"middle\" x=\"701\" y=\"-1869.78\" font-family=\"Times,serif\" font-size=\"14.00\" fill=\"#3498db\">26</text>\n</g>\n<!-- 11&#45;&gt;26 -->\n<g id=\"edge151\" class=\"edge\">\n<title>11&#45;&gt;26</title>\n<path fill=\"none\" stroke=\"#707070\" d=\"M164.47,-2049.46C249.01,-2021.88 598.65,-1907.86 682.75,-1880.43\"/>\n</g>\n<!-- 27 -->\n<g id=\"node27\" class=\"node\">\n<title>27</title>\n<ellipse fill=\"#3498db\" stroke=\"#3498db\" cx=\"590\" cy=\"-1873.48\" rx=\"19.5\" ry=\"19.5\"/>\n<text text-anchor=\"middle\" x=\"590\" y=\"-1869.78\" font-family=\"Times,serif\" font-size=\"14.00\" fill=\"#3498db\">27</text>\n</g>\n<!-- 11&#45;&gt;27 -->\n<g id=\"edge161\" class=\"edge\">\n<title>11&#45;&gt;27</title>\n<path fill=\"none\" stroke=\"#707070\" d=\"M163.96,-2048.16C235.66,-2018.93 501.07,-1910.73 572.31,-1881.69\"/>\n</g>\n<!-- 28 -->\n<g id=\"node28\" class=\"node\">\n<title>28</title>\n<ellipse fill=\"#3498db\" stroke=\"#3498db\" cx=\"479\" cy=\"-1873.48\" rx=\"19.5\" ry=\"19.5\"/>\n<text text-anchor=\"middle\" x=\"479\" y=\"-1869.78\" font-family=\"Times,serif\" font-size=\"14.00\" fill=\"#3498db\">28</text>\n</g>\n<!-- 11&#45;&gt;28 -->\n<g id=\"edge171\" class=\"edge\">\n<title>11&#45;&gt;28</title>\n<path fill=\"none\" stroke=\"#707070\" d=\"M162.97,-2046.25C220.09,-2015.2 404.99,-1914.71 462.06,-1883.69\"/>\n</g>\n<!-- 29 -->\n<g id=\"node29\" class=\"node\">\n<title>29</title>\n<ellipse fill=\"#3498db\" stroke=\"#3498db\" cx=\"368\" cy=\"-1873.48\" rx=\"19.5\" ry=\"19.5\"/>\n<text text-anchor=\"middle\" x=\"368\" y=\"-1869.78\" font-family=\"Times,serif\" font-size=\"14.00\" fill=\"#3498db\">29</text>\n</g>\n<!-- 11&#45;&gt;29 -->\n<g id=\"edge181\" class=\"edge\">\n<title>11&#45;&gt;29</title>\n<path fill=\"none\" stroke=\"#707070\" d=\"M160.91,-2043.32C201.35,-2010.35 312.79,-1919.5 353.15,-1886.58\"/>\n</g>\n<!-- 30 -->\n<g id=\"node30\" class=\"node\">\n<title>30</title>\n<ellipse fill=\"#3498db\" stroke=\"#3498db\" cx=\"257\" cy=\"-1873.48\" rx=\"19.5\" ry=\"19.5\"/>\n<text text-anchor=\"middle\" x=\"257\" y=\"-1869.78\" font-family=\"Times,serif\" font-size=\"14.00\" fill=\"#3498db\">30</text>\n</g>\n<!-- 11&#45;&gt;30 -->\n<g id=\"edge191\" class=\"edge\">\n<title>11&#45;&gt;30</title>\n<path fill=\"none\" stroke=\"#707070\" d=\"M155.85,-2039.42C176.91,-2005.07 226.13,-1924.82 247.17,-1890.51\"/>\n</g>\n<!-- 12&#45;&gt;21 -->\n<g id=\"edge102\" class=\"edge\">\n<title>12&#45;&gt;21</title>\n<path fill=\"none\" stroke=\"#707070\" d=\"M44.85,-2039.42C65.91,-2005.07 115.13,-1924.82 136.17,-1890.51\"/>\n</g>\n<!-- 12&#45;&gt;22 -->\n<g id=\"edge112\" class=\"edge\">\n<title>12&#45;&gt;22</title>\n<path fill=\"none\" stroke=\"#707070\" d=\"M35,-2036.79C35,-2002.02 35,-1927.76 35,-1893.07\"/>\n</g>\n<!-- 12&#45;&gt;23 -->\n<g id=\"edge122\" class=\"edge\">\n<title>12&#45;&gt;23</title>\n<path fill=\"none\" stroke=\"#707070\" d=\"M54.06,-2052.02C179.77,-2029.25 888.42,-1900.86 1014.74,-1877.97\"/>\n</g>\n<!-- 12&#45;&gt;24 -->\n<g id=\"edge132\" class=\"edge\">\n<title>12&#45;&gt;24</title>\n<path fill=\"none\" stroke=\"#707070\" d=\"M53.96,-2051.61C170.34,-2027.89 786.89,-1902.22 903.84,-1878.39\"/>\n</g>\n<!-- 12&#45;&gt;25 -->\n<g id=\"edge142\" class=\"edge\">\n<title>12&#45;&gt;25</title>\n<path fill=\"none\" stroke=\"#707070\" d=\"M53.82,-2051.09C160.32,-2026.29 686.33,-1903.76 793.08,-1878.89\"/>\n</g>\n<!-- 12&#45;&gt;26 -->\n<g id=\"edge152\" class=\"edge\">\n<title>12&#45;&gt;26</title>\n<path fill=\"none\" stroke=\"#707070\" d=\"M53.86,-2050.35C150.18,-2024.18 586.38,-1905.63 682.31,-1879.56\"/>\n</g>\n<!-- 12&#45;&gt;27 -->\n<g id=\"edge162\" class=\"edge\">\n<title>12&#45;&gt;27</title>\n<path fill=\"none\" stroke=\"#707070\" d=\"M53.47,-2049.46C138.01,-2021.88 487.65,-1907.86 571.75,-1880.43\"/>\n</g>\n<!-- 12&#45;&gt;28 -->\n<g id=\"edge172\" class=\"edge\">\n<title>12&#45;&gt;28</title>\n<path fill=\"none\" stroke=\"#707070\" d=\"M52.96,-2048.16C124.66,-2018.93 390.07,-1910.73 461.31,-1881.69\"/>\n</g>\n<!-- 12&#45;&gt;29 -->\n<g id=\"edge182\" class=\"edge\">\n<title>12&#45;&gt;29</title>\n<path fill=\"none\" stroke=\"#707070\" d=\"M51.97,-2046.25C109.09,-2015.2 293.99,-1914.71 351.06,-1883.69\"/>\n</g>\n<!-- 12&#45;&gt;30 -->\n<g id=\"edge192\" class=\"edge\">\n<title>12&#45;&gt;30</title>\n<path fill=\"none\" stroke=\"#707070\" d=\"M49.91,-2043.32C90.35,-2010.35 201.79,-1919.5 242.15,-1886.58\"/>\n</g>\n<!-- 13&#45;&gt;21 -->\n<g id=\"edge103\" class=\"edge\">\n<title>13&#45;&gt;21</title>\n<path fill=\"none\" stroke=\"#707070\" d=\"M1015.04,-2051.61C898.66,-2027.89 282.11,-1902.22 165.16,-1878.39\"/>\n</g>\n<!-- 13&#45;&gt;22 -->\n<g id=\"edge113\" class=\"edge\">\n<title>13&#45;&gt;22</title>\n<path fill=\"none\" stroke=\"#707070\" d=\"M1014.94,-2052.02C889.23,-2029.25 180.58,-1900.86 54.26,-1877.97\"/>\n</g>\n<!-- 13&#45;&gt;23 -->\n<g id=\"edge123\" class=\"edge\">\n<title>13&#45;&gt;23</title>\n<path fill=\"none\" stroke=\"#707070\" d=\"M1034,-2036.79C1034,-2002.02 1034,-1927.76 1034,-1893.07\"/>\n</g>\n<!-- 13&#45;&gt;24 -->\n<g id=\"edge133\" class=\"edge\">\n<title>13&#45;&gt;24</title>\n<path fill=\"none\" stroke=\"#707070\" d=\"M1024.15,-2039.42C1003.09,-2005.07 953.87,-1924.82 932.83,-1890.51\"/>\n</g>\n<!-- 13&#45;&gt;25 -->\n<g id=\"edge143\" class=\"edge\">\n<title>13&#45;&gt;25</title>\n<path fill=\"none\" stroke=\"#707070\" d=\"M1019.09,-2043.32C978.65,-2010.35 867.21,-1919.5 826.85,-1886.58\"/>\n</g>\n<!-- 13&#45;&gt;26 -->\n<g id=\"edge153\" class=\"edge\">\n<title>13&#45;&gt;26</title>\n<path fill=\"none\" stroke=\"#707070\" d=\"M1017.03,-2046.25C959.91,-2015.2 775.01,-1914.71 717.94,-1883.69\"/>\n</g>\n<!-- 13&#45;&gt;27 -->\n<g id=\"edge163\" class=\"edge\">\n<title>13&#45;&gt;27</title>\n<path fill=\"none\" stroke=\"#707070\" d=\"M1016.04,-2048.16C944.34,-2018.93 678.93,-1910.73 607.69,-1881.69\"/>\n</g>\n<!-- 13&#45;&gt;28 -->\n<g id=\"edge173\" class=\"edge\">\n<title>13&#45;&gt;28</title>\n<path fill=\"none\" stroke=\"#707070\" d=\"M1015.53,-2049.46C930.99,-2021.88 581.35,-1907.86 497.25,-1880.43\"/>\n</g>\n<!-- 13&#45;&gt;29 -->\n<g id=\"edge183\" class=\"edge\">\n<title>13&#45;&gt;29</title>\n<path fill=\"none\" stroke=\"#707070\" d=\"M1015.14,-2050.35C918.82,-2024.18 482.62,-1905.63 386.69,-1879.56\"/>\n</g>\n<!-- 13&#45;&gt;30 -->\n<g id=\"edge193\" class=\"edge\">\n<title>13&#45;&gt;30</title>\n<path fill=\"none\" stroke=\"#707070\" d=\"M1015.18,-2051.09C908.68,-2026.29 382.67,-1903.76 275.92,-1878.89\"/>\n</g>\n<!-- 14&#45;&gt;21 -->\n<g id=\"edge104\" class=\"edge\">\n<title>14&#45;&gt;21</title>\n<path fill=\"none\" stroke=\"#707070\" d=\"M904.18,-2051.09C797.68,-2026.29 271.67,-1903.76 164.92,-1878.89\"/>\n</g>\n<!-- 14&#45;&gt;22 -->\n<g id=\"edge114\" class=\"edge\">\n<title>14&#45;&gt;22</title>\n<path fill=\"none\" stroke=\"#707070\" d=\"M904.04,-2051.61C787.66,-2027.89 171.11,-1902.22 54.16,-1878.39\"/>\n</g>\n<!-- 14&#45;&gt;23 -->\n<g id=\"edge124\" class=\"edge\">\n<title>14&#45;&gt;23</title>\n<path fill=\"none\" stroke=\"#707070\" d=\"M932.85,-2039.42C953.91,-2005.07 1003.13,-1924.82 1024.17,-1890.51\"/>\n</g>\n<!-- 14&#45;&gt;24 -->\n<g id=\"edge134\" class=\"edge\">\n<title>14&#45;&gt;24</title>\n<path fill=\"none\" stroke=\"#707070\" d=\"M923,-2036.79C923,-2002.02 923,-1927.76 923,-1893.07\"/>\n</g>\n<!-- 14&#45;&gt;25 -->\n<g id=\"edge144\" class=\"edge\">\n<title>14&#45;&gt;25</title>\n<path fill=\"none\" stroke=\"#707070\" d=\"M913.15,-2039.42C892.09,-2005.07 842.87,-1924.82 821.83,-1890.51\"/>\n</g>\n<!-- 14&#45;&gt;26 -->\n<g id=\"edge154\" class=\"edge\">\n<title>14&#45;&gt;26</title>\n<path fill=\"none\" stroke=\"#707070\" d=\"M908.09,-2043.32C867.65,-2010.35 756.21,-1919.5 715.85,-1886.58\"/>\n</g>\n<!-- 14&#45;&gt;27 -->\n<g id=\"edge164\" class=\"edge\">\n<title>14&#45;&gt;27</title>\n<path fill=\"none\" stroke=\"#707070\" d=\"M906.03,-2046.25C848.91,-2015.2 664.01,-1914.71 606.94,-1883.69\"/>\n</g>\n<!-- 14&#45;&gt;28 -->\n<g id=\"edge174\" class=\"edge\">\n<title>14&#45;&gt;28</title>\n<path fill=\"none\" stroke=\"#707070\" d=\"M905.04,-2048.16C833.34,-2018.93 567.93,-1910.73 496.69,-1881.69\"/>\n</g>\n<!-- 14&#45;&gt;29 -->\n<g id=\"edge184\" class=\"edge\">\n<title>14&#45;&gt;29</title>\n<path fill=\"none\" stroke=\"#707070\" d=\"M904.53,-2049.46C819.99,-2021.88 470.35,-1907.86 386.25,-1880.43\"/>\n</g>\n<!-- 14&#45;&gt;30 -->\n<g id=\"edge194\" class=\"edge\">\n<title>14&#45;&gt;30</title>\n<path fill=\"none\" stroke=\"#707070\" d=\"M904.14,-2050.35C807.82,-2024.18 371.62,-1905.63 275.69,-1879.56\"/>\n</g>\n<!-- 15&#45;&gt;21 -->\n<g id=\"edge105\" class=\"edge\">\n<title>15&#45;&gt;21</title>\n<path fill=\"none\" stroke=\"#707070\" d=\"M793.14,-2050.35C696.82,-2024.18 260.62,-1905.63 164.69,-1879.56\"/>\n</g>\n<!-- 15&#45;&gt;22 -->\n<g id=\"edge115\" class=\"edge\">\n<title>15&#45;&gt;22</title>\n<path fill=\"none\" stroke=\"#707070\" d=\"M793.18,-2051.09C686.68,-2026.29 160.67,-1903.76 53.92,-1878.89\"/>\n</g>\n<!-- 15&#45;&gt;23 -->\n<g id=\"edge125\" class=\"edge\">\n<title>15&#45;&gt;23</title>\n<path fill=\"none\" stroke=\"#707070\" d=\"M826.91,-2043.32C867.35,-2010.35 978.79,-1919.5 1019.15,-1886.58\"/>\n</g>\n<!-- 15&#45;&gt;24 -->\n<g id=\"edge135\" class=\"edge\">\n<title>15&#45;&gt;24</title>\n<path fill=\"none\" stroke=\"#707070\" d=\"M821.85,-2039.42C842.91,-2005.07 892.13,-1924.82 913.17,-1890.51\"/>\n</g>\n<!-- 15&#45;&gt;25 -->\n<g id=\"edge145\" class=\"edge\">\n<title>15&#45;&gt;25</title>\n<path fill=\"none\" stroke=\"#707070\" d=\"M812,-2036.79C812,-2002.02 812,-1927.76 812,-1893.07\"/>\n</g>\n<!-- 15&#45;&gt;26 -->\n<g id=\"edge155\" class=\"edge\">\n<title>15&#45;&gt;26</title>\n<path fill=\"none\" stroke=\"#707070\" d=\"M802.15,-2039.42C781.09,-2005.07 731.87,-1924.82 710.83,-1890.51\"/>\n</g>\n<!-- 15&#45;&gt;27 -->\n<g id=\"edge165\" class=\"edge\">\n<title>15&#45;&gt;27</title>\n<path fill=\"none\" stroke=\"#707070\" d=\"M797.09,-2043.32C756.65,-2010.35 645.21,-1919.5 604.85,-1886.58\"/>\n</g>\n<!-- 15&#45;&gt;28 -->\n<g id=\"edge175\" class=\"edge\">\n<title>15&#45;&gt;28</title>\n<path fill=\"none\" stroke=\"#707070\" d=\"M795.03,-2046.25C737.91,-2015.2 553.01,-1914.71 495.94,-1883.69\"/>\n</g>\n<!-- 15&#45;&gt;29 -->\n<g id=\"edge185\" class=\"edge\">\n<title>15&#45;&gt;29</title>\n<path fill=\"none\" stroke=\"#707070\" d=\"M794.04,-2048.16C722.34,-2018.93 456.93,-1910.73 385.69,-1881.69\"/>\n</g>\n<!-- 15&#45;&gt;30 -->\n<g id=\"edge195\" class=\"edge\">\n<title>15&#45;&gt;30</title>\n<path fill=\"none\" stroke=\"#707070\" d=\"M793.53,-2049.46C708.99,-2021.88 359.35,-1907.86 275.25,-1880.43\"/>\n</g>\n<!-- 16&#45;&gt;21 -->\n<g id=\"edge106\" class=\"edge\">\n<title>16&#45;&gt;21</title>\n<path fill=\"none\" stroke=\"#707070\" d=\"M682.53,-2049.46C597.99,-2021.88 248.35,-1907.86 164.25,-1880.43\"/>\n</g>\n<!-- 16&#45;&gt;22 -->\n<g id=\"edge116\" class=\"edge\">\n<title>16&#45;&gt;22</title>\n<path fill=\"none\" stroke=\"#707070\" d=\"M682.14,-2050.35C585.82,-2024.18 149.62,-1905.63 53.69,-1879.56\"/>\n</g>\n<!-- 16&#45;&gt;23 -->\n<g id=\"edge126\" class=\"edge\">\n<title>16&#45;&gt;23</title>\n<path fill=\"none\" stroke=\"#707070\" d=\"M717.97,-2046.25C775.09,-2015.2 959.99,-1914.71 1017.06,-1883.69\"/>\n</g>\n<!-- 16&#45;&gt;24 -->\n<g id=\"edge136\" class=\"edge\">\n<title>16&#45;&gt;24</title>\n<path fill=\"none\" stroke=\"#707070\" d=\"M715.91,-2043.32C756.35,-2010.35 867.79,-1919.5 908.15,-1886.58\"/>\n</g>\n<!-- 16&#45;&gt;25 -->\n<g id=\"edge146\" class=\"edge\">\n<title>16&#45;&gt;25</title>\n<path fill=\"none\" stroke=\"#707070\" d=\"M710.85,-2039.42C731.91,-2005.07 781.13,-1924.82 802.17,-1890.51\"/>\n</g>\n<!-- 16&#45;&gt;26 -->\n<g id=\"edge156\" class=\"edge\">\n<title>16&#45;&gt;26</title>\n<path fill=\"none\" stroke=\"#707070\" d=\"M701,-2036.79C701,-2002.02 701,-1927.76 701,-1893.07\"/>\n</g>\n<!-- 16&#45;&gt;27 -->\n<g id=\"edge166\" class=\"edge\">\n<title>16&#45;&gt;27</title>\n<path fill=\"none\" stroke=\"#707070\" d=\"M691.15,-2039.42C670.09,-2005.07 620.87,-1924.82 599.83,-1890.51\"/>\n</g>\n<!-- 16&#45;&gt;28 -->\n<g id=\"edge176\" class=\"edge\">\n<title>16&#45;&gt;28</title>\n<path fill=\"none\" stroke=\"#707070\" d=\"M686.09,-2043.32C645.65,-2010.35 534.21,-1919.5 493.85,-1886.58\"/>\n</g>\n<!-- 16&#45;&gt;29 -->\n<g id=\"edge186\" class=\"edge\">\n<title>16&#45;&gt;29</title>\n<path fill=\"none\" stroke=\"#707070\" d=\"M684.03,-2046.25C626.91,-2015.2 442.01,-1914.71 384.94,-1883.69\"/>\n</g>\n<!-- 16&#45;&gt;30 -->\n<g id=\"edge196\" class=\"edge\">\n<title>16&#45;&gt;30</title>\n<path fill=\"none\" stroke=\"#707070\" d=\"M683.04,-2048.16C611.34,-2018.93 345.93,-1910.73 274.69,-1881.69\"/>\n</g>\n<!-- 17&#45;&gt;21 -->\n<g id=\"edge107\" class=\"edge\">\n<title>17&#45;&gt;21</title>\n<path fill=\"none\" stroke=\"#707070\" d=\"M572.04,-2048.16C500.34,-2018.93 234.93,-1910.73 163.69,-1881.69\"/>\n</g>\n<!-- 17&#45;&gt;22 -->\n<g id=\"edge117\" class=\"edge\">\n<title>17&#45;&gt;22</title>\n<path fill=\"none\" stroke=\"#707070\" d=\"M571.53,-2049.46C486.99,-2021.88 137.35,-1907.86 53.25,-1880.43\"/>\n</g>\n<!-- 17&#45;&gt;23 -->\n<g id=\"edge127\" class=\"edge\">\n<title>17&#45;&gt;23</title>\n<path fill=\"none\" stroke=\"#707070\" d=\"M607.96,-2048.16C679.66,-2018.93 945.07,-1910.73 1016.31,-1881.69\"/>\n</g>\n<!-- 17&#45;&gt;24 -->\n<g id=\"edge137\" class=\"edge\">\n<title>17&#45;&gt;24</title>\n<path fill=\"none\" stroke=\"#707070\" d=\"M606.97,-2046.25C664.09,-2015.2 848.99,-1914.71 906.06,-1883.69\"/>\n</g>\n<!-- 17&#45;&gt;25 -->\n<g id=\"edge147\" class=\"edge\">\n<title>17&#45;&gt;25</title>\n<path fill=\"none\" stroke=\"#707070\" d=\"M604.91,-2043.32C645.35,-2010.35 756.79,-1919.5 797.15,-1886.58\"/>\n</g>\n<!-- 17&#45;&gt;26 -->\n<g id=\"edge157\" class=\"edge\">\n<title>17&#45;&gt;26</title>\n<path fill=\"none\" stroke=\"#707070\" d=\"M599.85,-2039.42C620.91,-2005.07 670.13,-1924.82 691.17,-1890.51\"/>\n</g>\n<!-- 17&#45;&gt;27 -->\n<g id=\"edge167\" class=\"edge\">\n<title>17&#45;&gt;27</title>\n<path fill=\"none\" stroke=\"#707070\" d=\"M590,-2036.79C590,-2002.02 590,-1927.76 590,-1893.07\"/>\n</g>\n<!-- 17&#45;&gt;28 -->\n<g id=\"edge177\" class=\"edge\">\n<title>17&#45;&gt;28</title>\n<path fill=\"none\" stroke=\"#707070\" d=\"M580.15,-2039.42C559.09,-2005.07 509.87,-1924.82 488.83,-1890.51\"/>\n</g>\n<!-- 17&#45;&gt;29 -->\n<g id=\"edge187\" class=\"edge\">\n<title>17&#45;&gt;29</title>\n<path fill=\"none\" stroke=\"#707070\" d=\"M575.09,-2043.32C534.65,-2010.35 423.21,-1919.5 382.85,-1886.58\"/>\n</g>\n<!-- 17&#45;&gt;30 -->\n<g id=\"edge197\" class=\"edge\">\n<title>17&#45;&gt;30</title>\n<path fill=\"none\" stroke=\"#707070\" d=\"M573.03,-2046.25C515.91,-2015.2 331.01,-1914.71 273.94,-1883.69\"/>\n</g>\n<!-- 18&#45;&gt;21 -->\n<g id=\"edge108\" class=\"edge\">\n<title>18&#45;&gt;21</title>\n<path fill=\"none\" stroke=\"#707070\" d=\"M462.03,-2046.25C404.91,-2015.2 220.01,-1914.71 162.94,-1883.69\"/>\n</g>\n<!-- 18&#45;&gt;22 -->\n<g id=\"edge118\" class=\"edge\">\n<title>18&#45;&gt;22</title>\n<path fill=\"none\" stroke=\"#707070\" d=\"M461.04,-2048.16C389.34,-2018.93 123.93,-1910.73 52.69,-1881.69\"/>\n</g>\n<!-- 18&#45;&gt;23 -->\n<g id=\"edge128\" class=\"edge\">\n<title>18&#45;&gt;23</title>\n<path fill=\"none\" stroke=\"#707070\" d=\"M497.47,-2049.46C582.01,-2021.88 931.65,-1907.86 1015.75,-1880.43\"/>\n</g>\n<!-- 18&#45;&gt;24 -->\n<g id=\"edge138\" class=\"edge\">\n<title>18&#45;&gt;24</title>\n<path fill=\"none\" stroke=\"#707070\" d=\"M496.96,-2048.16C568.66,-2018.93 834.07,-1910.73 905.31,-1881.69\"/>\n</g>\n<!-- 18&#45;&gt;25 -->\n<g id=\"edge148\" class=\"edge\">\n<title>18&#45;&gt;25</title>\n<path fill=\"none\" stroke=\"#707070\" d=\"M495.97,-2046.25C553.09,-2015.2 737.99,-1914.71 795.06,-1883.69\"/>\n</g>\n<!-- 18&#45;&gt;26 -->\n<g id=\"edge158\" class=\"edge\">\n<title>18&#45;&gt;26</title>\n<path fill=\"none\" stroke=\"#707070\" d=\"M493.91,-2043.32C534.35,-2010.35 645.79,-1919.5 686.15,-1886.58\"/>\n</g>\n<!-- 18&#45;&gt;27 -->\n<g id=\"edge168\" class=\"edge\">\n<title>18&#45;&gt;27</title>\n<path fill=\"none\" stroke=\"#707070\" d=\"M488.85,-2039.42C509.91,-2005.07 559.13,-1924.82 580.17,-1890.51\"/>\n</g>\n<!-- 18&#45;&gt;28 -->\n<g id=\"edge178\" class=\"edge\">\n<title>18&#45;&gt;28</title>\n<path fill=\"none\" stroke=\"#707070\" d=\"M479,-2036.79C479,-2002.02 479,-1927.76 479,-1893.07\"/>\n</g>\n<!-- 18&#45;&gt;29 -->\n<g id=\"edge188\" class=\"edge\">\n<title>18&#45;&gt;29</title>\n<path fill=\"none\" stroke=\"#707070\" d=\"M469.15,-2039.42C448.09,-2005.07 398.87,-1924.82 377.83,-1890.51\"/>\n</g>\n<!-- 18&#45;&gt;30 -->\n<g id=\"edge198\" class=\"edge\">\n<title>18&#45;&gt;30</title>\n<path fill=\"none\" stroke=\"#707070\" d=\"M464.09,-2043.32C423.65,-2010.35 312.21,-1919.5 271.85,-1886.58\"/>\n</g>\n<!-- 19&#45;&gt;21 -->\n<g id=\"edge109\" class=\"edge\">\n<title>19&#45;&gt;21</title>\n<path fill=\"none\" stroke=\"#707070\" d=\"M353.09,-2043.32C312.65,-2010.35 201.21,-1919.5 160.85,-1886.58\"/>\n</g>\n<!-- 19&#45;&gt;22 -->\n<g id=\"edge119\" class=\"edge\">\n<title>19&#45;&gt;22</title>\n<path fill=\"none\" stroke=\"#707070\" d=\"M351.03,-2046.25C293.91,-2015.2 109.01,-1914.71 51.94,-1883.69\"/>\n</g>\n<!-- 19&#45;&gt;23 -->\n<g id=\"edge129\" class=\"edge\">\n<title>19&#45;&gt;23</title>\n<path fill=\"none\" stroke=\"#707070\" d=\"M386.86,-2050.35C483.18,-2024.18 919.38,-1905.63 1015.31,-1879.56\"/>\n</g>\n<!-- 19&#45;&gt;24 -->\n<g id=\"edge139\" class=\"edge\">\n<title>19&#45;&gt;24</title>\n<path fill=\"none\" stroke=\"#707070\" d=\"M386.47,-2049.46C471.01,-2021.88 820.65,-1907.86 904.75,-1880.43\"/>\n</g>\n<!-- 19&#45;&gt;25 -->\n<g id=\"edge149\" class=\"edge\">\n<title>19&#45;&gt;25</title>\n<path fill=\"none\" stroke=\"#707070\" d=\"M385.96,-2048.16C457.66,-2018.93 723.07,-1910.73 794.31,-1881.69\"/>\n</g>\n<!-- 19&#45;&gt;26 -->\n<g id=\"edge159\" class=\"edge\">\n<title>19&#45;&gt;26</title>\n<path fill=\"none\" stroke=\"#707070\" d=\"M384.97,-2046.25C442.09,-2015.2 626.99,-1914.71 684.06,-1883.69\"/>\n</g>\n<!-- 19&#45;&gt;27 -->\n<g id=\"edge169\" class=\"edge\">\n<title>19&#45;&gt;27</title>\n<path fill=\"none\" stroke=\"#707070\" d=\"M382.91,-2043.32C423.35,-2010.35 534.79,-1919.5 575.15,-1886.58\"/>\n</g>\n<!-- 19&#45;&gt;28 -->\n<g id=\"edge179\" class=\"edge\">\n<title>19&#45;&gt;28</title>\n<path fill=\"none\" stroke=\"#707070\" d=\"M377.85,-2039.42C398.91,-2005.07 448.13,-1924.82 469.17,-1890.51\"/>\n</g>\n<!-- 19&#45;&gt;29 -->\n<g id=\"edge189\" class=\"edge\">\n<title>19&#45;&gt;29</title>\n<path fill=\"none\" stroke=\"#707070\" d=\"M368,-2036.79C368,-2002.02 368,-1927.76 368,-1893.07\"/>\n</g>\n<!-- 19&#45;&gt;30 -->\n<g id=\"edge199\" class=\"edge\">\n<title>19&#45;&gt;30</title>\n<path fill=\"none\" stroke=\"#707070\" d=\"M358.15,-2039.42C337.09,-2005.07 287.87,-1924.82 266.83,-1890.51\"/>\n</g>\n<!-- 20&#45;&gt;21 -->\n<g id=\"edge110\" class=\"edge\">\n<title>20&#45;&gt;21</title>\n<path fill=\"none\" stroke=\"#707070\" d=\"M247.15,-2039.42C226.09,-2005.07 176.87,-1924.82 155.83,-1890.51\"/>\n</g>\n<!-- 20&#45;&gt;22 -->\n<g id=\"edge120\" class=\"edge\">\n<title>20&#45;&gt;22</title>\n<path fill=\"none\" stroke=\"#707070\" d=\"M242.09,-2043.32C201.65,-2010.35 90.21,-1919.5 49.85,-1886.58\"/>\n</g>\n<!-- 20&#45;&gt;23 -->\n<g id=\"edge130\" class=\"edge\">\n<title>20&#45;&gt;23</title>\n<path fill=\"none\" stroke=\"#707070\" d=\"M275.82,-2051.09C382.32,-2026.29 908.33,-1903.76 1015.08,-1878.89\"/>\n</g>\n<!-- 20&#45;&gt;24 -->\n<g id=\"edge140\" class=\"edge\">\n<title>20&#45;&gt;24</title>\n<path fill=\"none\" stroke=\"#707070\" d=\"M275.86,-2050.35C372.18,-2024.18 808.38,-1905.63 904.31,-1879.56\"/>\n</g>\n<!-- 20&#45;&gt;25 -->\n<g id=\"edge150\" class=\"edge\">\n<title>20&#45;&gt;25</title>\n<path fill=\"none\" stroke=\"#707070\" d=\"M275.47,-2049.46C360.01,-2021.88 709.65,-1907.86 793.75,-1880.43\"/>\n</g>\n<!-- 20&#45;&gt;26 -->\n<g id=\"edge160\" class=\"edge\">\n<title>20&#45;&gt;26</title>\n<path fill=\"none\" stroke=\"#707070\" d=\"M274.96,-2048.16C346.66,-2018.93 612.07,-1910.73 683.31,-1881.69\"/>\n</g>\n<!-- 20&#45;&gt;27 -->\n<g id=\"edge170\" class=\"edge\">\n<title>20&#45;&gt;27</title>\n<path fill=\"none\" stroke=\"#707070\" d=\"M273.97,-2046.25C331.09,-2015.2 515.99,-1914.71 573.06,-1883.69\"/>\n</g>\n<!-- 20&#45;&gt;28 -->\n<g id=\"edge180\" class=\"edge\">\n<title>20&#45;&gt;28</title>\n<path fill=\"none\" stroke=\"#707070\" d=\"M271.91,-2043.32C312.35,-2010.35 423.79,-1919.5 464.15,-1886.58\"/>\n</g>\n<!-- 20&#45;&gt;29 -->\n<g id=\"edge190\" class=\"edge\">\n<title>20&#45;&gt;29</title>\n<path fill=\"none\" stroke=\"#707070\" d=\"M266.85,-2039.42C287.91,-2005.07 337.13,-1924.82 358.17,-1890.51\"/>\n</g>\n<!-- 20&#45;&gt;30 -->\n<g id=\"edge200\" class=\"edge\">\n<title>20&#45;&gt;30</title>\n<path fill=\"none\" stroke=\"#707070\" d=\"M257,-2036.79C257,-2002.02 257,-1927.76 257,-1893.07\"/>\n</g>\n<!-- 31 -->\n<g id=\"node31\" class=\"node\">\n<title>31</title>\n<ellipse fill=\"#f39c12\" stroke=\"black\" cx=\"534\" cy=\"-1691.98\" rx=\"63.09\" ry=\"18\"/>\n<text text-anchor=\"middle\" x=\"534\" y=\"-1688.28\" font-family=\"Times,serif\" font-size=\"14.00\" fill=\"white\">Dropout Layer</text>\n</g>\n<!-- 21&#45;&gt;31 -->\n<g id=\"edge201\" class=\"edge\">\n<title>21&#45;&gt;31</title>\n<path fill=\"none\" stroke=\"#707070\" d=\"M163.43,-1864.42C223.74,-1836.52 424.16,-1743.8 502.36,-1707.62\"/>\n</g>\n<!-- 22&#45;&gt;31 -->\n<g id=\"edge202\" class=\"edge\">\n<title>22&#45;&gt;31</title>\n<path fill=\"none\" stroke=\"#707070\" d=\"M53.05,-1865.99C125.48,-1839.93 395.85,-1742.68 496.2,-1706.58\"/>\n</g>\n<!-- 23&#45;&gt;31 -->\n<g id=\"edge203\" class=\"edge\">\n<title>23&#45;&gt;31</title>\n<path fill=\"none\" stroke=\"#707070\" d=\"M1015.91,-1865.99C943.25,-1839.9 671.77,-1742.44 571.51,-1706.45\"/>\n</g>\n<!-- 24&#45;&gt;31 -->\n<g id=\"edge204\" class=\"edge\">\n<title>24&#45;&gt;31</title>\n<path fill=\"none\" stroke=\"#707070\" d=\"M905.53,-1864.42C845.06,-1836.52 644.12,-1743.8 565.72,-1707.62\"/>\n</g>\n<!-- 25&#45;&gt;31 -->\n<g id=\"edge205\" class=\"edge\">\n<title>25&#45;&gt;31</title>\n<path fill=\"none\" stroke=\"#707070\" d=\"M795.85,-1862.05C749.15,-1831.9 613.74,-1744.47 558.2,-1708.61\"/>\n</g>\n<!-- 26&#45;&gt;31 -->\n<g id=\"edge206\" class=\"edge\">\n<title>26&#45;&gt;31</title>\n<path fill=\"none\" stroke=\"#707070\" d=\"M688.17,-1858.69C657.93,-1826.19 582.24,-1744.83 549.5,-1709.64\"/>\n</g>\n<!-- 27&#45;&gt;31 -->\n<g id=\"edge207\" class=\"edge\">\n<title>27&#45;&gt;31</title>\n<path fill=\"none\" stroke=\"#707070\" d=\"M584.43,-1854.61C573.61,-1819.94 549.9,-1743.96 539.31,-1709.99\"/>\n</g>\n<!-- 28&#45;&gt;31 -->\n<g id=\"edge208\" class=\"edge\">\n<title>28&#45;&gt;31</title>\n<path fill=\"none\" stroke=\"#707070\" d=\"M484.47,-1854.61C495.1,-1819.94 518.38,-1743.96 528.79,-1709.99\"/>\n</g>\n<!-- 29&#45;&gt;31 -->\n<g id=\"edge209\" class=\"edge\">\n<title>29&#45;&gt;31</title>\n<path fill=\"none\" stroke=\"#707070\" d=\"M380.75,-1858.69C410.81,-1826.19 486.05,-1744.83 518.59,-1709.64\"/>\n</g>\n<!-- 30&#45;&gt;31 -->\n<g id=\"edge210\" class=\"edge\">\n<title>30&#45;&gt;31</title>\n<path fill=\"none\" stroke=\"#707070\" d=\"M273.09,-1862.05C319.51,-1831.98 453.88,-1744.9 509.47,-1708.88\"/>\n</g>\n<!-- 32 -->\n<g id=\"node32\" class=\"node\">\n<title>32</title>\n<ellipse fill=\"#3498db\" stroke=\"#3498db\" cx=\"1034\" cy=\"-1510.48\" rx=\"19.5\" ry=\"19.5\"/>\n<text text-anchor=\"middle\" x=\"1034\" y=\"-1506.78\" font-family=\"Times,serif\" font-size=\"14.00\" fill=\"#3498db\">32</text>\n</g>\n<!-- 31&#45;&gt;32 -->\n<g id=\"edge211\" class=\"edge\">\n<title>31&#45;&gt;32</title>\n<path fill=\"none\" stroke=\"#707070\" d=\"M571.58,-1677.49C671.74,-1641.54 942.42,-1544.36 1015.57,-1518.1\"/>\n</g>\n<!-- 33 -->\n<g id=\"node33\" class=\"node\">\n<title>33</title>\n<ellipse fill=\"#3498db\" stroke=\"#3498db\" cx=\"923\" cy=\"-1510.48\" rx=\"19.5\" ry=\"19.5\"/>\n<text text-anchor=\"middle\" x=\"923\" y=\"-1506.78\" font-family=\"Times,serif\" font-size=\"14.00\" fill=\"#3498db\">33</text>\n</g>\n<!-- 31&#45;&gt;33 -->\n<g id=\"edge212\" class=\"edge\">\n<title>31&#45;&gt;33</title>\n<path fill=\"none\" stroke=\"#707070\" d=\"M565.83,-1676.29C644.22,-1640.12 844.6,-1547.66 905.31,-1519.65\"/>\n</g>\n<!-- 34 -->\n<g id=\"node34\" class=\"node\">\n<title>34</title>\n<ellipse fill=\"#3498db\" stroke=\"#3498db\" cx=\"812\" cy=\"-1510.48\" rx=\"19.5\" ry=\"19.5\"/>\n<text text-anchor=\"middle\" x=\"812\" y=\"-1506.78\" font-family=\"Times,serif\" font-size=\"14.00\" fill=\"#3498db\">34</text>\n</g>\n<!-- 31&#45;&gt;34 -->\n<g id=\"edge213\" class=\"edge\">\n<title>31&#45;&gt;34</title>\n<path fill=\"none\" stroke=\"#707070\" d=\"M558.67,-1675.05C614.48,-1639.02 749.2,-1552.04 795.81,-1521.94\"/>\n</g>\n<!-- 35 -->\n<g id=\"node35\" class=\"node\">\n<title>35</title>\n<ellipse fill=\"#3498db\" stroke=\"#3498db\" cx=\"701\" cy=\"-1510.48\" rx=\"19.5\" ry=\"19.5\"/>\n<text text-anchor=\"middle\" x=\"701\" y=\"-1506.78\" font-family=\"Times,serif\" font-size=\"14.00\" fill=\"#3498db\">35</text>\n</g>\n<!-- 31&#45;&gt;35 -->\n<g id=\"edge214\" class=\"edge\">\n<title>31&#45;&gt;35</title>\n<path fill=\"none\" stroke=\"#707070\" d=\"M549.41,-1674.42C582.03,-1639.35 657.56,-1558.18 687.97,-1525.49\"/>\n</g>\n<!-- 36 -->\n<g id=\"node36\" class=\"node\">\n<title>36</title>\n<ellipse fill=\"#3498db\" stroke=\"#3498db\" cx=\"590\" cy=\"-1510.48\" rx=\"19.5\" ry=\"19.5\"/>\n<text text-anchor=\"middle\" x=\"590\" y=\"-1506.78\" font-family=\"Times,serif\" font-size=\"14.00\" fill=\"#3498db\">36</text>\n</g>\n<!-- 31&#45;&gt;36 -->\n<g id=\"edge215\" class=\"edge\">\n<title>31&#45;&gt;36</title>\n<path fill=\"none\" stroke=\"#707070\" d=\"M539.37,-1673.77C549.99,-1639.73 573.59,-1564.08 584.4,-1529.44\"/>\n</g>\n<!-- 37 -->\n<g id=\"node37\" class=\"node\">\n<title>37</title>\n<ellipse fill=\"#3498db\" stroke=\"#3498db\" cx=\"479\" cy=\"-1510.48\" rx=\"19.5\" ry=\"19.5\"/>\n<text text-anchor=\"middle\" x=\"479\" y=\"-1506.78\" font-family=\"Times,serif\" font-size=\"14.00\" fill=\"#3498db\">37</text>\n</g>\n<!-- 31&#45;&gt;37 -->\n<g id=\"edge216\" class=\"edge\">\n<title>31&#45;&gt;37</title>\n<path fill=\"none\" stroke=\"#707070\" d=\"M528.73,-1673.77C518.29,-1639.73 495.12,-1564.08 484.5,-1529.44\"/>\n</g>\n<!-- 38 -->\n<g id=\"node38\" class=\"node\">\n<title>38</title>\n<ellipse fill=\"#3498db\" stroke=\"#3498db\" cx=\"368\" cy=\"-1510.48\" rx=\"19.5\" ry=\"19.5\"/>\n<text text-anchor=\"middle\" x=\"368\" y=\"-1506.78\" font-family=\"Times,serif\" font-size=\"14.00\" fill=\"#3498db\">38</text>\n</g>\n<!-- 31&#45;&gt;38 -->\n<g id=\"edge217\" class=\"edge\">\n<title>31&#45;&gt;38</title>\n<path fill=\"none\" stroke=\"#707070\" d=\"M518.68,-1674.42C486.25,-1639.35 411.18,-1558.18 380.96,-1525.49\"/>\n</g>\n<!-- 39 -->\n<g id=\"node39\" class=\"node\">\n<title>39</title>\n<ellipse fill=\"#3498db\" stroke=\"#3498db\" cx=\"257\" cy=\"-1510.48\" rx=\"19.5\" ry=\"19.5\"/>\n<text text-anchor=\"middle\" x=\"257\" y=\"-1506.78\" font-family=\"Times,serif\" font-size=\"14.00\" fill=\"#3498db\">39</text>\n</g>\n<!-- 31&#45;&gt;39 -->\n<g id=\"edge218\" class=\"edge\">\n<title>31&#45;&gt;39</title>\n<path fill=\"none\" stroke=\"#707070\" d=\"M509.42,-1675.05C453.81,-1639.02 319.58,-1552.04 273.13,-1521.94\"/>\n</g>\n<!-- 40 -->\n<g id=\"node40\" class=\"node\">\n<title>40</title>\n<ellipse fill=\"#3498db\" stroke=\"#3498db\" cx=\"146\" cy=\"-1510.48\" rx=\"19.5\" ry=\"19.5\"/>\n<text text-anchor=\"middle\" x=\"146\" y=\"-1506.78\" font-family=\"Times,serif\" font-size=\"14.00\" fill=\"#3498db\">40</text>\n</g>\n<!-- 31&#45;&gt;40 -->\n<g id=\"edge219\" class=\"edge\">\n<title>31&#45;&gt;40</title>\n<path fill=\"none\" stroke=\"#707070\" d=\"M502.25,-1676.29C424.06,-1640.12 224.2,-1547.66 163.65,-1519.65\"/>\n</g>\n<!-- 41 -->\n<g id=\"node41\" class=\"node\">\n<title>41</title>\n<ellipse fill=\"#3498db\" stroke=\"#3498db\" cx=\"35\" cy=\"-1510.48\" rx=\"19.5\" ry=\"19.5\"/>\n<text text-anchor=\"middle\" x=\"35\" y=\"-1506.78\" font-family=\"Times,serif\" font-size=\"14.00\" fill=\"#3498db\">41</text>\n</g>\n<!-- 31&#45;&gt;41 -->\n<g id=\"edge220\" class=\"edge\">\n<title>31&#45;&gt;41</title>\n<path fill=\"none\" stroke=\"#707070\" d=\"M496.49,-1677.49C396.54,-1641.54 126.4,-1544.36 53.4,-1518.1\"/>\n</g>\n<!-- 42 -->\n<g id=\"node42\" class=\"node\">\n<title>42</title>\n<ellipse fill=\"#f39c12\" stroke=\"black\" cx=\"534\" cy=\"-1328.99\" rx=\"63.09\" ry=\"18\"/>\n<text text-anchor=\"middle\" x=\"534\" y=\"-1325.29\" font-family=\"Times,serif\" font-size=\"14.00\" fill=\"white\">Dropout Layer</text>\n</g>\n<!-- 32&#45;&gt;42 -->\n<g id=\"edge221\" class=\"edge\">\n<title>32&#45;&gt;42</title>\n<path fill=\"none\" stroke=\"#707070\" d=\"M1015.91,-1502.99C943.25,-1476.91 671.77,-1379.45 571.51,-1343.45\"/>\n</g>\n<!-- 33&#45;&gt;42 -->\n<g id=\"edge222\" class=\"edge\">\n<title>33&#45;&gt;42</title>\n<path fill=\"none\" stroke=\"#707070\" d=\"M905.53,-1501.42C845.06,-1473.52 644.12,-1380.8 565.72,-1344.62\"/>\n</g>\n<!-- 34&#45;&gt;42 -->\n<g id=\"edge223\" class=\"edge\">\n<title>34&#45;&gt;42</title>\n<path fill=\"none\" stroke=\"#707070\" d=\"M795.85,-1499.06C749.15,-1468.9 613.74,-1381.47 558.2,-1345.61\"/>\n</g>\n<!-- 35&#45;&gt;42 -->\n<g id=\"edge224\" class=\"edge\">\n<title>35&#45;&gt;42</title>\n<path fill=\"none\" stroke=\"#707070\" d=\"M688.17,-1495.7C657.93,-1463.19 582.24,-1381.84 549.5,-1346.64\"/>\n</g>\n<!-- 36&#45;&gt;42 -->\n<g id=\"edge225\" class=\"edge\">\n<title>36&#45;&gt;42</title>\n<path fill=\"none\" stroke=\"#707070\" d=\"M584.43,-1491.62C573.61,-1456.94 549.9,-1380.97 539.31,-1346.99\"/>\n</g>\n<!-- 37&#45;&gt;42 -->\n<g id=\"edge226\" class=\"edge\">\n<title>37&#45;&gt;42</title>\n<path fill=\"none\" stroke=\"#707070\" d=\"M484.47,-1491.62C495.1,-1456.94 518.38,-1380.97 528.79,-1346.99\"/>\n</g>\n<!-- 38&#45;&gt;42 -->\n<g id=\"edge227\" class=\"edge\">\n<title>38&#45;&gt;42</title>\n<path fill=\"none\" stroke=\"#707070\" d=\"M380.75,-1495.7C410.81,-1463.19 486.05,-1381.84 518.59,-1346.64\"/>\n</g>\n<!-- 39&#45;&gt;42 -->\n<g id=\"edge228\" class=\"edge\">\n<title>39&#45;&gt;42</title>\n<path fill=\"none\" stroke=\"#707070\" d=\"M273.09,-1499.06C319.51,-1468.98 453.88,-1381.91 509.47,-1345.88\"/>\n</g>\n<!-- 40&#45;&gt;42 -->\n<g id=\"edge229\" class=\"edge\">\n<title>40&#45;&gt;42</title>\n<path fill=\"none\" stroke=\"#707070\" d=\"M163.43,-1501.42C223.74,-1473.52 424.16,-1380.8 502.36,-1344.62\"/>\n</g>\n<!-- 41&#45;&gt;42 -->\n<g id=\"edge230\" class=\"edge\">\n<title>41&#45;&gt;42</title>\n<path fill=\"none\" stroke=\"#707070\" d=\"M53.05,-1502.99C125.48,-1476.94 395.85,-1379.68 496.2,-1343.58\"/>\n</g>\n<!-- 43 -->\n<g id=\"node43\" class=\"node\">\n<title>43</title>\n<ellipse fill=\"#3498db\" stroke=\"#3498db\" cx=\"1034\" cy=\"-1147.49\" rx=\"19.5\" ry=\"19.5\"/>\n<text text-anchor=\"middle\" x=\"1034\" y=\"-1143.79\" font-family=\"Times,serif\" font-size=\"14.00\" fill=\"#3498db\">43</text>\n</g>\n<!-- 42&#45;&gt;43 -->\n<g id=\"edge231\" class=\"edge\">\n<title>42&#45;&gt;43</title>\n<path fill=\"none\" stroke=\"#707070\" d=\"M571.58,-1314.49C671.74,-1278.54 942.42,-1181.36 1015.57,-1155.11\"/>\n</g>\n<!-- 44 -->\n<g id=\"node44\" class=\"node\">\n<title>44</title>\n<ellipse fill=\"#3498db\" stroke=\"#3498db\" cx=\"923\" cy=\"-1147.49\" rx=\"19.5\" ry=\"19.5\"/>\n<text text-anchor=\"middle\" x=\"923\" y=\"-1143.79\" font-family=\"Times,serif\" font-size=\"14.00\" fill=\"#3498db\">44</text>\n</g>\n<!-- 42&#45;&gt;44 -->\n<g id=\"edge232\" class=\"edge\">\n<title>42&#45;&gt;44</title>\n<path fill=\"none\" stroke=\"#707070\" d=\"M565.83,-1313.3C644.22,-1277.13 844.6,-1184.66 905.31,-1156.65\"/>\n</g>\n<!-- 45 -->\n<g id=\"node45\" class=\"node\">\n<title>45</title>\n<ellipse fill=\"#3498db\" stroke=\"#3498db\" cx=\"812\" cy=\"-1147.49\" rx=\"19.5\" ry=\"19.5\"/>\n<text text-anchor=\"middle\" x=\"812\" y=\"-1143.79\" font-family=\"Times,serif\" font-size=\"14.00\" fill=\"#3498db\">45</text>\n</g>\n<!-- 42&#45;&gt;45 -->\n<g id=\"edge233\" class=\"edge\">\n<title>42&#45;&gt;45</title>\n<path fill=\"none\" stroke=\"#707070\" d=\"M558.67,-1312.06C614.48,-1276.02 749.2,-1189.04 795.81,-1158.94\"/>\n</g>\n<!-- 46 -->\n<g id=\"node46\" class=\"node\">\n<title>46</title>\n<ellipse fill=\"#3498db\" stroke=\"#3498db\" cx=\"701\" cy=\"-1147.49\" rx=\"19.5\" ry=\"19.5\"/>\n<text text-anchor=\"middle\" x=\"701\" y=\"-1143.79\" font-family=\"Times,serif\" font-size=\"14.00\" fill=\"#3498db\">46</text>\n</g>\n<!-- 42&#45;&gt;46 -->\n<g id=\"edge234\" class=\"edge\">\n<title>42&#45;&gt;46</title>\n<path fill=\"none\" stroke=\"#707070\" d=\"M549.41,-1311.42C582.03,-1276.36 657.56,-1195.18 687.97,-1162.5\"/>\n</g>\n<!-- 47 -->\n<g id=\"node47\" class=\"node\">\n<title>47</title>\n<ellipse fill=\"#3498db\" stroke=\"#3498db\" cx=\"590\" cy=\"-1147.49\" rx=\"19.5\" ry=\"19.5\"/>\n<text text-anchor=\"middle\" x=\"590\" y=\"-1143.79\" font-family=\"Times,serif\" font-size=\"14.00\" fill=\"#3498db\">47</text>\n</g>\n<!-- 42&#45;&gt;47 -->\n<g id=\"edge235\" class=\"edge\">\n<title>42&#45;&gt;47</title>\n<path fill=\"none\" stroke=\"#707070\" d=\"M539.37,-1310.78C549.99,-1276.73 573.59,-1201.09 584.4,-1166.44\"/>\n</g>\n<!-- 48 -->\n<g id=\"node48\" class=\"node\">\n<title>48</title>\n<ellipse fill=\"#3498db\" stroke=\"#3498db\" cx=\"479\" cy=\"-1147.49\" rx=\"19.5\" ry=\"19.5\"/>\n<text text-anchor=\"middle\" x=\"479\" y=\"-1143.79\" font-family=\"Times,serif\" font-size=\"14.00\" fill=\"#3498db\">48</text>\n</g>\n<!-- 42&#45;&gt;48 -->\n<g id=\"edge236\" class=\"edge\">\n<title>42&#45;&gt;48</title>\n<path fill=\"none\" stroke=\"#707070\" d=\"M528.73,-1310.78C518.29,-1276.73 495.12,-1201.09 484.5,-1166.44\"/>\n</g>\n<!-- 49 -->\n<g id=\"node49\" class=\"node\">\n<title>49</title>\n<ellipse fill=\"#3498db\" stroke=\"#3498db\" cx=\"368\" cy=\"-1147.49\" rx=\"19.5\" ry=\"19.5\"/>\n<text text-anchor=\"middle\" x=\"368\" y=\"-1143.79\" font-family=\"Times,serif\" font-size=\"14.00\" fill=\"#3498db\">49</text>\n</g>\n<!-- 42&#45;&gt;49 -->\n<g id=\"edge237\" class=\"edge\">\n<title>42&#45;&gt;49</title>\n<path fill=\"none\" stroke=\"#707070\" d=\"M518.68,-1311.42C486.25,-1276.36 411.18,-1195.18 380.96,-1162.5\"/>\n</g>\n<!-- 50 -->\n<g id=\"node50\" class=\"node\">\n<title>50</title>\n<ellipse fill=\"#3498db\" stroke=\"#3498db\" cx=\"257\" cy=\"-1147.49\" rx=\"19.5\" ry=\"19.5\"/>\n<text text-anchor=\"middle\" x=\"257\" y=\"-1143.79\" font-family=\"Times,serif\" font-size=\"14.00\" fill=\"#3498db\">50</text>\n</g>\n<!-- 42&#45;&gt;50 -->\n<g id=\"edge238\" class=\"edge\">\n<title>42&#45;&gt;50</title>\n<path fill=\"none\" stroke=\"#707070\" d=\"M509.42,-1312.06C453.81,-1276.02 319.58,-1189.04 273.13,-1158.94\"/>\n</g>\n<!-- 51 -->\n<g id=\"node51\" class=\"node\">\n<title>51</title>\n<ellipse fill=\"#3498db\" stroke=\"#3498db\" cx=\"146\" cy=\"-1147.49\" rx=\"19.5\" ry=\"19.5\"/>\n<text text-anchor=\"middle\" x=\"146\" y=\"-1143.79\" font-family=\"Times,serif\" font-size=\"14.00\" fill=\"#3498db\">51</text>\n</g>\n<!-- 42&#45;&gt;51 -->\n<g id=\"edge239\" class=\"edge\">\n<title>42&#45;&gt;51</title>\n<path fill=\"none\" stroke=\"#707070\" d=\"M502.25,-1313.3C424.06,-1277.13 224.2,-1184.66 163.65,-1156.65\"/>\n</g>\n<!-- 52 -->\n<g id=\"node52\" class=\"node\">\n<title>52</title>\n<ellipse fill=\"#3498db\" stroke=\"#3498db\" cx=\"35\" cy=\"-1147.49\" rx=\"19.5\" ry=\"19.5\"/>\n<text text-anchor=\"middle\" x=\"35\" y=\"-1143.79\" font-family=\"Times,serif\" font-size=\"14.00\" fill=\"#3498db\">52</text>\n</g>\n<!-- 42&#45;&gt;52 -->\n<g id=\"edge240\" class=\"edge\">\n<title>42&#45;&gt;52</title>\n<path fill=\"none\" stroke=\"#707070\" d=\"M496.49,-1314.49C396.54,-1278.54 126.4,-1181.36 53.4,-1155.11\"/>\n</g>\n<!-- 53 -->\n<g id=\"node53\" class=\"node\">\n<title>53</title>\n<ellipse fill=\"#f39c12\" stroke=\"black\" cx=\"534\" cy=\"-965.99\" rx=\"63.09\" ry=\"18\"/>\n<text text-anchor=\"middle\" x=\"534\" y=\"-962.29\" font-family=\"Times,serif\" font-size=\"14.00\" fill=\"white\">Dropout Layer</text>\n</g>\n<!-- 43&#45;&gt;53 -->\n<g id=\"edge241\" class=\"edge\">\n<title>43&#45;&gt;53</title>\n<path fill=\"none\" stroke=\"#707070\" d=\"M1015.91,-1139.99C943.25,-1113.91 671.77,-1016.45 571.51,-980.46\"/>\n</g>\n<!-- 44&#45;&gt;53 -->\n<g id=\"edge242\" class=\"edge\">\n<title>44&#45;&gt;53</title>\n<path fill=\"none\" stroke=\"#707070\" d=\"M905.53,-1138.43C845.06,-1110.53 644.12,-1017.8 565.72,-981.62\"/>\n</g>\n<!-- 45&#45;&gt;53 -->\n<g id=\"edge243\" class=\"edge\">\n<title>45&#45;&gt;53</title>\n<path fill=\"none\" stroke=\"#707070\" d=\"M795.85,-1136.06C749.15,-1105.91 613.74,-1018.48 558.2,-982.62\"/>\n</g>\n<!-- 46&#45;&gt;53 -->\n<g id=\"edge244\" class=\"edge\">\n<title>46&#45;&gt;53</title>\n<path fill=\"none\" stroke=\"#707070\" d=\"M688.17,-1132.7C657.93,-1100.19 582.24,-1018.84 549.5,-983.65\"/>\n</g>\n<!-- 47&#45;&gt;53 -->\n<g id=\"edge245\" class=\"edge\">\n<title>47&#45;&gt;53</title>\n<path fill=\"none\" stroke=\"#707070\" d=\"M584.43,-1128.62C573.61,-1093.95 549.9,-1017.97 539.31,-984\"/>\n</g>\n<!-- 48&#45;&gt;53 -->\n<g id=\"edge246\" class=\"edge\">\n<title>48&#45;&gt;53</title>\n<path fill=\"none\" stroke=\"#707070\" d=\"M484.47,-1128.62C495.1,-1093.95 518.38,-1017.97 528.79,-984\"/>\n</g>\n<!-- 49&#45;&gt;53 -->\n<g id=\"edge247\" class=\"edge\">\n<title>49&#45;&gt;53</title>\n<path fill=\"none\" stroke=\"#707070\" d=\"M380.75,-1132.7C410.81,-1100.19 486.05,-1018.84 518.59,-983.65\"/>\n</g>\n<!-- 50&#45;&gt;53 -->\n<g id=\"edge248\" class=\"edge\">\n<title>50&#45;&gt;53</title>\n<path fill=\"none\" stroke=\"#707070\" d=\"M273.09,-1136.06C319.51,-1105.98 453.88,-1018.91 509.47,-982.88\"/>\n</g>\n<!-- 51&#45;&gt;53 -->\n<g id=\"edge249\" class=\"edge\">\n<title>51&#45;&gt;53</title>\n<path fill=\"none\" stroke=\"#707070\" d=\"M163.43,-1138.43C223.74,-1110.53 424.16,-1017.8 502.36,-981.62\"/>\n</g>\n<!-- 52&#45;&gt;53 -->\n<g id=\"edge250\" class=\"edge\">\n<title>52&#45;&gt;53</title>\n<path fill=\"none\" stroke=\"#707070\" d=\"M53.05,-1139.99C125.48,-1113.94 395.85,-1016.68 496.2,-980.59\"/>\n</g>\n<!-- 54 -->\n<g id=\"node54\" class=\"node\">\n<title>54</title>\n<ellipse fill=\"#3498db\" stroke=\"#3498db\" cx=\"1034\" cy=\"-784.49\" rx=\"19.5\" ry=\"19.5\"/>\n<text text-anchor=\"middle\" x=\"1034\" y=\"-780.79\" font-family=\"Times,serif\" font-size=\"14.00\" fill=\"#3498db\">54</text>\n</g>\n<!-- 53&#45;&gt;54 -->\n<g id=\"edge251\" class=\"edge\">\n<title>53&#45;&gt;54</title>\n<path fill=\"none\" stroke=\"#707070\" d=\"M571.58,-951.5C671.74,-915.54 942.42,-818.37 1015.57,-792.11\"/>\n</g>\n<!-- 55 -->\n<g id=\"node55\" class=\"node\">\n<title>55</title>\n<ellipse fill=\"#3498db\" stroke=\"#3498db\" cx=\"923\" cy=\"-784.49\" rx=\"19.5\" ry=\"19.5\"/>\n<text text-anchor=\"middle\" x=\"923\" y=\"-780.79\" font-family=\"Times,serif\" font-size=\"14.00\" fill=\"#3498db\">55</text>\n</g>\n<!-- 53&#45;&gt;55 -->\n<g id=\"edge252\" class=\"edge\">\n<title>53&#45;&gt;55</title>\n<path fill=\"none\" stroke=\"#707070\" d=\"M565.83,-950.3C644.22,-914.13 844.6,-821.67 905.31,-793.66\"/>\n</g>\n<!-- 56 -->\n<g id=\"node56\" class=\"node\">\n<title>56</title>\n<ellipse fill=\"#3498db\" stroke=\"#3498db\" cx=\"812\" cy=\"-784.49\" rx=\"19.5\" ry=\"19.5\"/>\n<text text-anchor=\"middle\" x=\"812\" y=\"-780.79\" font-family=\"Times,serif\" font-size=\"14.00\" fill=\"#3498db\">56</text>\n</g>\n<!-- 53&#45;&gt;56 -->\n<g id=\"edge253\" class=\"edge\">\n<title>53&#45;&gt;56</title>\n<path fill=\"none\" stroke=\"#707070\" d=\"M558.67,-949.06C614.48,-913.02 749.2,-826.04 795.81,-795.95\"/>\n</g>\n<!-- 57 -->\n<g id=\"node57\" class=\"node\">\n<title>57</title>\n<ellipse fill=\"#3498db\" stroke=\"#3498db\" cx=\"701\" cy=\"-784.49\" rx=\"19.5\" ry=\"19.5\"/>\n<text text-anchor=\"middle\" x=\"701\" y=\"-780.79\" font-family=\"Times,serif\" font-size=\"14.00\" fill=\"#3498db\">57</text>\n</g>\n<!-- 53&#45;&gt;57 -->\n<g id=\"edge254\" class=\"edge\">\n<title>53&#45;&gt;57</title>\n<path fill=\"none\" stroke=\"#707070\" d=\"M549.41,-948.42C582.03,-913.36 657.56,-832.19 687.97,-799.5\"/>\n</g>\n<!-- 58 -->\n<g id=\"node58\" class=\"node\">\n<title>58</title>\n<ellipse fill=\"#3498db\" stroke=\"#3498db\" cx=\"590\" cy=\"-784.49\" rx=\"19.5\" ry=\"19.5\"/>\n<text text-anchor=\"middle\" x=\"590\" y=\"-780.79\" font-family=\"Times,serif\" font-size=\"14.00\" fill=\"#3498db\">58</text>\n</g>\n<!-- 53&#45;&gt;58 -->\n<g id=\"edge255\" class=\"edge\">\n<title>53&#45;&gt;58</title>\n<path fill=\"none\" stroke=\"#707070\" d=\"M539.37,-947.78C549.99,-913.73 573.59,-838.09 584.4,-803.45\"/>\n</g>\n<!-- 59 -->\n<g id=\"node59\" class=\"node\">\n<title>59</title>\n<ellipse fill=\"#3498db\" stroke=\"#3498db\" cx=\"479\" cy=\"-784.49\" rx=\"19.5\" ry=\"19.5\"/>\n<text text-anchor=\"middle\" x=\"479\" y=\"-780.79\" font-family=\"Times,serif\" font-size=\"14.00\" fill=\"#3498db\">59</text>\n</g>\n<!-- 53&#45;&gt;59 -->\n<g id=\"edge256\" class=\"edge\">\n<title>53&#45;&gt;59</title>\n<path fill=\"none\" stroke=\"#707070\" d=\"M528.73,-947.78C518.29,-913.73 495.12,-838.09 484.5,-803.45\"/>\n</g>\n<!-- 60 -->\n<g id=\"node60\" class=\"node\">\n<title>60</title>\n<ellipse fill=\"#3498db\" stroke=\"#3498db\" cx=\"368\" cy=\"-784.49\" rx=\"19.5\" ry=\"19.5\"/>\n<text text-anchor=\"middle\" x=\"368\" y=\"-780.79\" font-family=\"Times,serif\" font-size=\"14.00\" fill=\"#3498db\">60</text>\n</g>\n<!-- 53&#45;&gt;60 -->\n<g id=\"edge257\" class=\"edge\">\n<title>53&#45;&gt;60</title>\n<path fill=\"none\" stroke=\"#707070\" d=\"M518.68,-948.42C486.25,-913.36 411.18,-832.19 380.96,-799.5\"/>\n</g>\n<!-- 61 -->\n<g id=\"node61\" class=\"node\">\n<title>61</title>\n<ellipse fill=\"#3498db\" stroke=\"#3498db\" cx=\"257\" cy=\"-784.49\" rx=\"19.5\" ry=\"19.5\"/>\n<text text-anchor=\"middle\" x=\"257\" y=\"-780.79\" font-family=\"Times,serif\" font-size=\"14.00\" fill=\"#3498db\">61</text>\n</g>\n<!-- 53&#45;&gt;61 -->\n<g id=\"edge258\" class=\"edge\">\n<title>53&#45;&gt;61</title>\n<path fill=\"none\" stroke=\"#707070\" d=\"M509.42,-949.06C453.81,-913.02 319.58,-826.04 273.13,-795.95\"/>\n</g>\n<!-- 62 -->\n<g id=\"node62\" class=\"node\">\n<title>62</title>\n<ellipse fill=\"#3498db\" stroke=\"#3498db\" cx=\"146\" cy=\"-784.49\" rx=\"19.5\" ry=\"19.5\"/>\n<text text-anchor=\"middle\" x=\"146\" y=\"-780.79\" font-family=\"Times,serif\" font-size=\"14.00\" fill=\"#3498db\">62</text>\n</g>\n<!-- 53&#45;&gt;62 -->\n<g id=\"edge259\" class=\"edge\">\n<title>53&#45;&gt;62</title>\n<path fill=\"none\" stroke=\"#707070\" d=\"M502.25,-950.3C424.06,-914.13 224.2,-821.67 163.65,-793.66\"/>\n</g>\n<!-- 63 -->\n<g id=\"node63\" class=\"node\">\n<title>63</title>\n<ellipse fill=\"#3498db\" stroke=\"#3498db\" cx=\"35\" cy=\"-784.49\" rx=\"19.5\" ry=\"19.5\"/>\n<text text-anchor=\"middle\" x=\"35\" y=\"-780.79\" font-family=\"Times,serif\" font-size=\"14.00\" fill=\"#3498db\">63</text>\n</g>\n<!-- 53&#45;&gt;63 -->\n<g id=\"edge260\" class=\"edge\">\n<title>53&#45;&gt;63</title>\n<path fill=\"none\" stroke=\"#707070\" d=\"M496.49,-951.5C396.54,-915.54 126.4,-818.37 53.4,-792.11\"/>\n</g>\n<!-- 64 -->\n<g id=\"node64\" class=\"node\">\n<title>64</title>\n<ellipse fill=\"#f39c12\" stroke=\"black\" cx=\"534\" cy=\"-602.99\" rx=\"63.09\" ry=\"18\"/>\n<text text-anchor=\"middle\" x=\"534\" y=\"-599.29\" font-family=\"Times,serif\" font-size=\"14.00\" fill=\"white\">Dropout Layer</text>\n</g>\n<!-- 54&#45;&gt;64 -->\n<g id=\"edge261\" class=\"edge\">\n<title>54&#45;&gt;64</title>\n<path fill=\"none\" stroke=\"#707070\" d=\"M1015.91,-777C943.25,-750.91 671.77,-653.45 571.51,-617.46\"/>\n</g>\n<!-- 55&#45;&gt;64 -->\n<g id=\"edge262\" class=\"edge\">\n<title>55&#45;&gt;64</title>\n<path fill=\"none\" stroke=\"#707070\" d=\"M905.53,-775.43C845.06,-747.53 644.12,-654.81 565.72,-618.63\"/>\n</g>\n<!-- 56&#45;&gt;64 -->\n<g id=\"edge263\" class=\"edge\">\n<title>56&#45;&gt;64</title>\n<path fill=\"none\" stroke=\"#707070\" d=\"M795.85,-773.06C749.15,-742.91 613.74,-655.48 558.2,-619.62\"/>\n</g>\n<!-- 57&#45;&gt;64 -->\n<g id=\"edge264\" class=\"edge\">\n<title>57&#45;&gt;64</title>\n<path fill=\"none\" stroke=\"#707070\" d=\"M688.17,-769.7C657.93,-737.2 582.24,-655.84 549.5,-620.65\"/>\n</g>\n<!-- 58&#45;&gt;64 -->\n<g id=\"edge265\" class=\"edge\">\n<title>58&#45;&gt;64</title>\n<path fill=\"none\" stroke=\"#707070\" d=\"M584.43,-765.62C573.61,-730.95 549.9,-654.97 539.31,-621\"/>\n</g>\n<!-- 59&#45;&gt;64 -->\n<g id=\"edge266\" class=\"edge\">\n<title>59&#45;&gt;64</title>\n<path fill=\"none\" stroke=\"#707070\" d=\"M484.47,-765.62C495.1,-730.95 518.38,-654.97 528.79,-621\"/>\n</g>\n<!-- 60&#45;&gt;64 -->\n<g id=\"edge267\" class=\"edge\">\n<title>60&#45;&gt;64</title>\n<path fill=\"none\" stroke=\"#707070\" d=\"M380.75,-769.7C410.81,-737.2 486.05,-655.84 518.59,-620.65\"/>\n</g>\n<!-- 61&#45;&gt;64 -->\n<g id=\"edge268\" class=\"edge\">\n<title>61&#45;&gt;64</title>\n<path fill=\"none\" stroke=\"#707070\" d=\"M273.09,-773.06C319.51,-742.99 453.88,-655.91 509.47,-619.89\"/>\n</g>\n<!-- 62&#45;&gt;64 -->\n<g id=\"edge269\" class=\"edge\">\n<title>62&#45;&gt;64</title>\n<path fill=\"none\" stroke=\"#707070\" d=\"M163.43,-775.43C223.74,-747.53 424.16,-654.81 502.36,-618.63\"/>\n</g>\n<!-- 63&#45;&gt;64 -->\n<g id=\"edge270\" class=\"edge\">\n<title>63&#45;&gt;64</title>\n<path fill=\"none\" stroke=\"#707070\" d=\"M53.05,-777C125.48,-750.94 395.85,-653.69 496.2,-617.59\"/>\n</g>\n<!-- 65 -->\n<g id=\"node65\" class=\"node\">\n<title>65</title>\n<ellipse fill=\"#3498db\" stroke=\"#3498db\" cx=\"1034\" cy=\"-421.49\" rx=\"19.5\" ry=\"19.5\"/>\n<text text-anchor=\"middle\" x=\"1034\" y=\"-417.79\" font-family=\"Times,serif\" font-size=\"14.00\" fill=\"#3498db\">65</text>\n</g>\n<!-- 64&#45;&gt;65 -->\n<g id=\"edge271\" class=\"edge\">\n<title>64&#45;&gt;65</title>\n<path fill=\"none\" stroke=\"#707070\" d=\"M571.58,-588.5C671.74,-552.55 942.42,-455.37 1015.57,-429.11\"/>\n</g>\n<!-- 66 -->\n<g id=\"node66\" class=\"node\">\n<title>66</title>\n<ellipse fill=\"#3498db\" stroke=\"#3498db\" cx=\"923\" cy=\"-421.49\" rx=\"19.5\" ry=\"19.5\"/>\n<text text-anchor=\"middle\" x=\"923\" y=\"-417.79\" font-family=\"Times,serif\" font-size=\"14.00\" fill=\"#3498db\">66</text>\n</g>\n<!-- 64&#45;&gt;66 -->\n<g id=\"edge272\" class=\"edge\">\n<title>64&#45;&gt;66</title>\n<path fill=\"none\" stroke=\"#707070\" d=\"M565.83,-587.3C644.22,-551.13 844.6,-458.67 905.31,-430.66\"/>\n</g>\n<!-- 67 -->\n<g id=\"node67\" class=\"node\">\n<title>67</title>\n<ellipse fill=\"#3498db\" stroke=\"#3498db\" cx=\"812\" cy=\"-421.49\" rx=\"19.5\" ry=\"19.5\"/>\n<text text-anchor=\"middle\" x=\"812\" y=\"-417.79\" font-family=\"Times,serif\" font-size=\"14.00\" fill=\"#3498db\">67</text>\n</g>\n<!-- 64&#45;&gt;67 -->\n<g id=\"edge273\" class=\"edge\">\n<title>64&#45;&gt;67</title>\n<path fill=\"none\" stroke=\"#707070\" d=\"M558.67,-586.06C614.48,-550.03 749.2,-463.05 795.81,-432.95\"/>\n</g>\n<!-- 68 -->\n<g id=\"node68\" class=\"node\">\n<title>68</title>\n<ellipse fill=\"#3498db\" stroke=\"#3498db\" cx=\"701\" cy=\"-421.49\" rx=\"19.5\" ry=\"19.5\"/>\n<text text-anchor=\"middle\" x=\"701\" y=\"-417.79\" font-family=\"Times,serif\" font-size=\"14.00\" fill=\"#3498db\">68</text>\n</g>\n<!-- 64&#45;&gt;68 -->\n<g id=\"edge274\" class=\"edge\">\n<title>64&#45;&gt;68</title>\n<path fill=\"none\" stroke=\"#707070\" d=\"M549.41,-585.43C582.03,-550.37 657.56,-469.19 687.97,-436.5\"/>\n</g>\n<!-- 69 -->\n<g id=\"node69\" class=\"node\">\n<title>69</title>\n<ellipse fill=\"#3498db\" stroke=\"#3498db\" cx=\"590\" cy=\"-421.49\" rx=\"19.5\" ry=\"19.5\"/>\n<text text-anchor=\"middle\" x=\"590\" y=\"-417.79\" font-family=\"Times,serif\" font-size=\"14.00\" fill=\"#3498db\">69</text>\n</g>\n<!-- 64&#45;&gt;69 -->\n<g id=\"edge275\" class=\"edge\">\n<title>64&#45;&gt;69</title>\n<path fill=\"none\" stroke=\"#707070\" d=\"M539.37,-584.78C549.99,-550.74 573.59,-475.09 584.4,-440.45\"/>\n</g>\n<!-- 70 -->\n<g id=\"node70\" class=\"node\">\n<title>70</title>\n<ellipse fill=\"#3498db\" stroke=\"#3498db\" cx=\"479\" cy=\"-421.49\" rx=\"19.5\" ry=\"19.5\"/>\n<text text-anchor=\"middle\" x=\"479\" y=\"-417.79\" font-family=\"Times,serif\" font-size=\"14.00\" fill=\"#3498db\">70</text>\n</g>\n<!-- 64&#45;&gt;70 -->\n<g id=\"edge276\" class=\"edge\">\n<title>64&#45;&gt;70</title>\n<path fill=\"none\" stroke=\"#707070\" d=\"M528.73,-584.78C518.29,-550.74 495.12,-475.09 484.5,-440.45\"/>\n</g>\n<!-- 71 -->\n<g id=\"node71\" class=\"node\">\n<title>71</title>\n<ellipse fill=\"#3498db\" stroke=\"#3498db\" cx=\"368\" cy=\"-421.49\" rx=\"19.5\" ry=\"19.5\"/>\n<text text-anchor=\"middle\" x=\"368\" y=\"-417.79\" font-family=\"Times,serif\" font-size=\"14.00\" fill=\"#3498db\">71</text>\n</g>\n<!-- 64&#45;&gt;71 -->\n<g id=\"edge277\" class=\"edge\">\n<title>64&#45;&gt;71</title>\n<path fill=\"none\" stroke=\"#707070\" d=\"M518.68,-585.43C486.25,-550.37 411.18,-469.19 380.96,-436.5\"/>\n</g>\n<!-- 72 -->\n<g id=\"node72\" class=\"node\">\n<title>72</title>\n<ellipse fill=\"#3498db\" stroke=\"#3498db\" cx=\"257\" cy=\"-421.49\" rx=\"19.5\" ry=\"19.5\"/>\n<text text-anchor=\"middle\" x=\"257\" y=\"-417.79\" font-family=\"Times,serif\" font-size=\"14.00\" fill=\"#3498db\">72</text>\n</g>\n<!-- 64&#45;&gt;72 -->\n<g id=\"edge278\" class=\"edge\">\n<title>64&#45;&gt;72</title>\n<path fill=\"none\" stroke=\"#707070\" d=\"M509.42,-586.06C453.81,-550.03 319.58,-463.05 273.13,-432.95\"/>\n</g>\n<!-- 73 -->\n<g id=\"node73\" class=\"node\">\n<title>73</title>\n<ellipse fill=\"#3498db\" stroke=\"#3498db\" cx=\"146\" cy=\"-421.49\" rx=\"19.5\" ry=\"19.5\"/>\n<text text-anchor=\"middle\" x=\"146\" y=\"-417.79\" font-family=\"Times,serif\" font-size=\"14.00\" fill=\"#3498db\">73</text>\n</g>\n<!-- 64&#45;&gt;73 -->\n<g id=\"edge279\" class=\"edge\">\n<title>64&#45;&gt;73</title>\n<path fill=\"none\" stroke=\"#707070\" d=\"M502.25,-587.3C424.06,-551.13 224.2,-458.67 163.65,-430.66\"/>\n</g>\n<!-- 74 -->\n<g id=\"node74\" class=\"node\">\n<title>74</title>\n<ellipse fill=\"#3498db\" stroke=\"#3498db\" cx=\"35\" cy=\"-421.49\" rx=\"19.5\" ry=\"19.5\"/>\n<text text-anchor=\"middle\" x=\"35\" y=\"-417.79\" font-family=\"Times,serif\" font-size=\"14.00\" fill=\"#3498db\">74</text>\n</g>\n<!-- 64&#45;&gt;74 -->\n<g id=\"edge280\" class=\"edge\">\n<title>64&#45;&gt;74</title>\n<path fill=\"none\" stroke=\"#707070\" d=\"M496.49,-588.5C396.54,-552.55 126.4,-455.37 53.4,-429.11\"/>\n</g>\n<!-- 75 -->\n<g id=\"node75\" class=\"node\">\n<title>75</title>\n<ellipse fill=\"#f39c12\" stroke=\"black\" cx=\"534\" cy=\"-240\" rx=\"63.09\" ry=\"18\"/>\n<text text-anchor=\"middle\" x=\"534\" y=\"-236.3\" font-family=\"Times,serif\" font-size=\"14.00\" fill=\"white\">Dropout Layer</text>\n</g>\n<!-- 65&#45;&gt;75 -->\n<g id=\"edge281\" class=\"edge\">\n<title>65&#45;&gt;75</title>\n<path fill=\"none\" stroke=\"#707070\" d=\"M1015.91,-414C943.25,-387.92 671.77,-290.46 571.51,-254.46\"/>\n</g>\n<!-- 66&#45;&gt;75 -->\n<g id=\"edge282\" class=\"edge\">\n<title>66&#45;&gt;75</title>\n<path fill=\"none\" stroke=\"#707070\" d=\"M905.53,-412.43C845.06,-384.53 644.12,-291.81 565.72,-255.63\"/>\n</g>\n<!-- 67&#45;&gt;75 -->\n<g id=\"edge283\" class=\"edge\">\n<title>67&#45;&gt;75</title>\n<path fill=\"none\" stroke=\"#707070\" d=\"M795.85,-410.07C749.15,-379.91 613.74,-292.48 558.2,-256.62\"/>\n</g>\n<!-- 68&#45;&gt;75 -->\n<g id=\"edge284\" class=\"edge\">\n<title>68&#45;&gt;75</title>\n<path fill=\"none\" stroke=\"#707070\" d=\"M688.17,-406.71C657.93,-374.2 582.24,-292.85 549.5,-257.65\"/>\n</g>\n<!-- 69&#45;&gt;75 -->\n<g id=\"edge285\" class=\"edge\">\n<title>69&#45;&gt;75</title>\n<path fill=\"none\" stroke=\"#707070\" d=\"M584.43,-402.63C573.61,-367.96 549.9,-291.98 539.31,-258\"/>\n</g>\n<!-- 70&#45;&gt;75 -->\n<g id=\"edge286\" class=\"edge\">\n<title>70&#45;&gt;75</title>\n<path fill=\"none\" stroke=\"#707070\" d=\"M484.47,-402.63C495.1,-367.96 518.38,-291.98 528.79,-258\"/>\n</g>\n<!-- 71&#45;&gt;75 -->\n<g id=\"edge287\" class=\"edge\">\n<title>71&#45;&gt;75</title>\n<path fill=\"none\" stroke=\"#707070\" d=\"M380.75,-406.71C410.81,-374.2 486.05,-292.85 518.59,-257.65\"/>\n</g>\n<!-- 72&#45;&gt;75 -->\n<g id=\"edge288\" class=\"edge\">\n<title>72&#45;&gt;75</title>\n<path fill=\"none\" stroke=\"#707070\" d=\"M273.09,-410.07C319.51,-379.99 453.88,-292.92 509.47,-256.89\"/>\n</g>\n<!-- 73&#45;&gt;75 -->\n<g id=\"edge289\" class=\"edge\">\n<title>73&#45;&gt;75</title>\n<path fill=\"none\" stroke=\"#707070\" d=\"M163.43,-412.43C223.74,-384.53 424.16,-291.81 502.36,-255.63\"/>\n</g>\n<!-- 74&#45;&gt;75 -->\n<g id=\"edge290\" class=\"edge\">\n<title>74&#45;&gt;75</title>\n<path fill=\"none\" stroke=\"#707070\" d=\"M53.05,-414C125.48,-387.95 395.85,-290.69 496.2,-254.59\"/>\n</g>\n<!-- 76 -->\n<g id=\"node76\" class=\"node\">\n<title>76</title>\n<ellipse fill=\"#e74c3c\" stroke=\"#e74c3c\" cx=\"534\" cy=\"-58.5\" rx=\"19.5\" ry=\"19.5\"/>\n<text text-anchor=\"middle\" x=\"534\" y=\"-54.8\" font-family=\"Times,serif\" font-size=\"14.00\" fill=\"#e74c3c\">76</text>\n</g>\n<!-- 75&#45;&gt;76 -->\n<g id=\"edge291\" class=\"edge\">\n<title>75&#45;&gt;76</title>\n<path fill=\"none\" stroke=\"#707070\" d=\"M534,-221.79C534,-188 534,-113.26 534,-78.26\"/>\n</g>\n</g>\n</svg>\n",
            "text/plain": [
              "<graphviz.sources.Source at 0x7bbabf5da1d0>"
            ]
          },
          "metadata": {},
          "execution_count": 70
        }
      ]
    }
  ]
}