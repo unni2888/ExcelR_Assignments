{
  "nbformat": 4,
  "nbformat_minor": 0,
  "metadata": {
    "colab": {
      "provenance": []
    },
    "kernelspec": {
      "name": "python3",
      "display_name": "Python 3"
    },
    "language_info": {
      "name": "python"
    }
  },
  "cells": [
    {
      "cell_type": "code",
      "execution_count": 651,
      "metadata": {
        "id": "4xIgKkETu5Tn"
      },
      "outputs": [],
      "source": [
        "import pandas as pd\n",
        "import numpy as np\n",
        "import matplotlib.pyplot as plt"
      ]
    },
    {
      "cell_type": "code",
      "source": [
        "from sklearn.model_selection import train_test_split\n",
        "from sklearn.tree import DecisionTreeClassifier\n",
        "from sklearn.metrics import classification_report, confusion_matrix\n",
        "from sklearn import tree"
      ],
      "metadata": {
        "id": "yZU4iZd2u9Iv"
      },
      "execution_count": 652,
      "outputs": []
    },
    {
      "cell_type": "code",
      "source": [
        "f1 = pd.read_csv('Fraud_check.csv')"
      ],
      "metadata": {
        "id": "ZUMQG0cMu9Hs"
      },
      "execution_count": 653,
      "outputs": []
    },
    {
      "cell_type": "code",
      "source": [
        "f1.head()"
      ],
      "metadata": {
        "colab": {
          "base_uri": "https://localhost:8080/",
          "height": 206
        },
        "id": "V-dusBi1u9AO",
        "outputId": "a858fb34-b5fe-4ae5-a302-ccf8ece7f1df"
      },
      "execution_count": 654,
      "outputs": [
        {
          "output_type": "execute_result",
          "data": {
            "text/plain": [
              "  Undergrad Marital.Status  Taxable.Income  City.Population  Work.Experience  \\\n",
              "0        NO         Single           68833            50047               10   \n",
              "1       YES       Divorced           33700           134075               18   \n",
              "2        NO        Married           36925           160205               30   \n",
              "3       YES         Single           50190           193264               15   \n",
              "4        NO        Married           81002            27533               28   \n",
              "\n",
              "  Urban  \n",
              "0   YES  \n",
              "1   YES  \n",
              "2   YES  \n",
              "3   YES  \n",
              "4    NO  "
            ],
            "text/html": [
              "\n",
              "\n",
              "  <div id=\"df-1ab7c0d9-8950-4722-8e8b-48372261f389\">\n",
              "    <div class=\"colab-df-container\">\n",
              "      <div>\n",
              "<style scoped>\n",
              "    .dataframe tbody tr th:only-of-type {\n",
              "        vertical-align: middle;\n",
              "    }\n",
              "\n",
              "    .dataframe tbody tr th {\n",
              "        vertical-align: top;\n",
              "    }\n",
              "\n",
              "    .dataframe thead th {\n",
              "        text-align: right;\n",
              "    }\n",
              "</style>\n",
              "<table border=\"1\" class=\"dataframe\">\n",
              "  <thead>\n",
              "    <tr style=\"text-align: right;\">\n",
              "      <th></th>\n",
              "      <th>Undergrad</th>\n",
              "      <th>Marital.Status</th>\n",
              "      <th>Taxable.Income</th>\n",
              "      <th>City.Population</th>\n",
              "      <th>Work.Experience</th>\n",
              "      <th>Urban</th>\n",
              "    </tr>\n",
              "  </thead>\n",
              "  <tbody>\n",
              "    <tr>\n",
              "      <th>0</th>\n",
              "      <td>NO</td>\n",
              "      <td>Single</td>\n",
              "      <td>68833</td>\n",
              "      <td>50047</td>\n",
              "      <td>10</td>\n",
              "      <td>YES</td>\n",
              "    </tr>\n",
              "    <tr>\n",
              "      <th>1</th>\n",
              "      <td>YES</td>\n",
              "      <td>Divorced</td>\n",
              "      <td>33700</td>\n",
              "      <td>134075</td>\n",
              "      <td>18</td>\n",
              "      <td>YES</td>\n",
              "    </tr>\n",
              "    <tr>\n",
              "      <th>2</th>\n",
              "      <td>NO</td>\n",
              "      <td>Married</td>\n",
              "      <td>36925</td>\n",
              "      <td>160205</td>\n",
              "      <td>30</td>\n",
              "      <td>YES</td>\n",
              "    </tr>\n",
              "    <tr>\n",
              "      <th>3</th>\n",
              "      <td>YES</td>\n",
              "      <td>Single</td>\n",
              "      <td>50190</td>\n",
              "      <td>193264</td>\n",
              "      <td>15</td>\n",
              "      <td>YES</td>\n",
              "    </tr>\n",
              "    <tr>\n",
              "      <th>4</th>\n",
              "      <td>NO</td>\n",
              "      <td>Married</td>\n",
              "      <td>81002</td>\n",
              "      <td>27533</td>\n",
              "      <td>28</td>\n",
              "      <td>NO</td>\n",
              "    </tr>\n",
              "  </tbody>\n",
              "</table>\n",
              "</div>\n",
              "      <button class=\"colab-df-convert\" onclick=\"convertToInteractive('df-1ab7c0d9-8950-4722-8e8b-48372261f389')\"\n",
              "              title=\"Convert this dataframe to an interactive table.\"\n",
              "              style=\"display:none;\">\n",
              "\n",
              "  <svg xmlns=\"http://www.w3.org/2000/svg\" height=\"24px\"viewBox=\"0 0 24 24\"\n",
              "       width=\"24px\">\n",
              "    <path d=\"M0 0h24v24H0V0z\" fill=\"none\"/>\n",
              "    <path d=\"M18.56 5.44l.94 2.06.94-2.06 2.06-.94-2.06-.94-.94-2.06-.94 2.06-2.06.94zm-11 1L8.5 8.5l.94-2.06 2.06-.94-2.06-.94L8.5 2.5l-.94 2.06-2.06.94zm10 10l.94 2.06.94-2.06 2.06-.94-2.06-.94-.94-2.06-.94 2.06-2.06.94z\"/><path d=\"M17.41 7.96l-1.37-1.37c-.4-.4-.92-.59-1.43-.59-.52 0-1.04.2-1.43.59L10.3 9.45l-7.72 7.72c-.78.78-.78 2.05 0 2.83L4 21.41c.39.39.9.59 1.41.59.51 0 1.02-.2 1.41-.59l7.78-7.78 2.81-2.81c.8-.78.8-2.07 0-2.86zM5.41 20L4 18.59l7.72-7.72 1.47 1.35L5.41 20z\"/>\n",
              "  </svg>\n",
              "      </button>\n",
              "\n",
              "\n",
              "\n",
              "    <div id=\"df-dca62e5c-fd22-4ff8-b3f8-cf98825af550\">\n",
              "      <button class=\"colab-df-quickchart\" onclick=\"quickchart('df-dca62e5c-fd22-4ff8-b3f8-cf98825af550')\"\n",
              "              title=\"Suggest charts.\"\n",
              "              style=\"display:none;\">\n",
              "\n",
              "<svg xmlns=\"http://www.w3.org/2000/svg\" height=\"24px\"viewBox=\"0 0 24 24\"\n",
              "     width=\"24px\">\n",
              "    <g>\n",
              "        <path d=\"M19 3H5c-1.1 0-2 .9-2 2v14c0 1.1.9 2 2 2h14c1.1 0 2-.9 2-2V5c0-1.1-.9-2-2-2zM9 17H7v-7h2v7zm4 0h-2V7h2v10zm4 0h-2v-4h2v4z\"/>\n",
              "    </g>\n",
              "</svg>\n",
              "      </button>\n",
              "    </div>\n",
              "\n",
              "<style>\n",
              "  .colab-df-quickchart {\n",
              "    background-color: #E8F0FE;\n",
              "    border: none;\n",
              "    border-radius: 50%;\n",
              "    cursor: pointer;\n",
              "    display: none;\n",
              "    fill: #1967D2;\n",
              "    height: 32px;\n",
              "    padding: 0 0 0 0;\n",
              "    width: 32px;\n",
              "  }\n",
              "\n",
              "  .colab-df-quickchart:hover {\n",
              "    background-color: #E2EBFA;\n",
              "    box-shadow: 0px 1px 2px rgba(60, 64, 67, 0.3), 0px 1px 3px 1px rgba(60, 64, 67, 0.15);\n",
              "    fill: #174EA6;\n",
              "  }\n",
              "\n",
              "  [theme=dark] .colab-df-quickchart {\n",
              "    background-color: #3B4455;\n",
              "    fill: #D2E3FC;\n",
              "  }\n",
              "\n",
              "  [theme=dark] .colab-df-quickchart:hover {\n",
              "    background-color: #434B5C;\n",
              "    box-shadow: 0px 1px 3px 1px rgba(0, 0, 0, 0.15);\n",
              "    filter: drop-shadow(0px 1px 2px rgba(0, 0, 0, 0.3));\n",
              "    fill: #FFFFFF;\n",
              "  }\n",
              "</style>\n",
              "\n",
              "    <script>\n",
              "      async function quickchart(key) {\n",
              "        const containerElement = document.querySelector('#' + key);\n",
              "        const charts = await google.colab.kernel.invokeFunction(\n",
              "            'suggestCharts', [key], {});\n",
              "      }\n",
              "    </script>\n",
              "\n",
              "      <script>\n",
              "\n",
              "function displayQuickchartButton(domScope) {\n",
              "  let quickchartButtonEl =\n",
              "    domScope.querySelector('#df-dca62e5c-fd22-4ff8-b3f8-cf98825af550 button.colab-df-quickchart');\n",
              "  quickchartButtonEl.style.display =\n",
              "    google.colab.kernel.accessAllowed ? 'block' : 'none';\n",
              "}\n",
              "\n",
              "        displayQuickchartButton(document);\n",
              "      </script>\n",
              "      <style>\n",
              "    .colab-df-container {\n",
              "      display:flex;\n",
              "      flex-wrap:wrap;\n",
              "      gap: 12px;\n",
              "    }\n",
              "\n",
              "    .colab-df-convert {\n",
              "      background-color: #E8F0FE;\n",
              "      border: none;\n",
              "      border-radius: 50%;\n",
              "      cursor: pointer;\n",
              "      display: none;\n",
              "      fill: #1967D2;\n",
              "      height: 32px;\n",
              "      padding: 0 0 0 0;\n",
              "      width: 32px;\n",
              "    }\n",
              "\n",
              "    .colab-df-convert:hover {\n",
              "      background-color: #E2EBFA;\n",
              "      box-shadow: 0px 1px 2px rgba(60, 64, 67, 0.3), 0px 1px 3px 1px rgba(60, 64, 67, 0.15);\n",
              "      fill: #174EA6;\n",
              "    }\n",
              "\n",
              "    [theme=dark] .colab-df-convert {\n",
              "      background-color: #3B4455;\n",
              "      fill: #D2E3FC;\n",
              "    }\n",
              "\n",
              "    [theme=dark] .colab-df-convert:hover {\n",
              "      background-color: #434B5C;\n",
              "      box-shadow: 0px 1px 3px 1px rgba(0, 0, 0, 0.15);\n",
              "      filter: drop-shadow(0px 1px 2px rgba(0, 0, 0, 0.3));\n",
              "      fill: #FFFFFF;\n",
              "    }\n",
              "  </style>\n",
              "\n",
              "      <script>\n",
              "        const buttonEl =\n",
              "          document.querySelector('#df-1ab7c0d9-8950-4722-8e8b-48372261f389 button.colab-df-convert');\n",
              "        buttonEl.style.display =\n",
              "          google.colab.kernel.accessAllowed ? 'block' : 'none';\n",
              "\n",
              "        async function convertToInteractive(key) {\n",
              "          const element = document.querySelector('#df-1ab7c0d9-8950-4722-8e8b-48372261f389');\n",
              "          const dataTable =\n",
              "            await google.colab.kernel.invokeFunction('convertToInteractive',\n",
              "                                                     [key], {});\n",
              "          if (!dataTable) return;\n",
              "\n",
              "          const docLinkHtml = 'Like what you see? Visit the ' +\n",
              "            '<a target=\"_blank\" href=https://colab.research.google.com/notebooks/data_table.ipynb>data table notebook</a>'\n",
              "            + ' to learn more about interactive tables.';\n",
              "          element.innerHTML = '';\n",
              "          dataTable['output_type'] = 'display_data';\n",
              "          await google.colab.output.renderOutput(dataTable, element);\n",
              "          const docLink = document.createElement('div');\n",
              "          docLink.innerHTML = docLinkHtml;\n",
              "          element.appendChild(docLink);\n",
              "        }\n",
              "      </script>\n",
              "    </div>\n",
              "  </div>\n"
            ]
          },
          "metadata": {},
          "execution_count": 654
        }
      ]
    },
    {
      "cell_type": "code",
      "source": [
        "f1.info()"
      ],
      "metadata": {
        "colab": {
          "base_uri": "https://localhost:8080/"
        },
        "id": "KLwQamcnu892",
        "outputId": "f4af6dba-59f0-4ede-c395-0fd41c5ce92b"
      },
      "execution_count": 655,
      "outputs": [
        {
          "output_type": "stream",
          "name": "stdout",
          "text": [
            "<class 'pandas.core.frame.DataFrame'>\n",
            "RangeIndex: 600 entries, 0 to 599\n",
            "Data columns (total 6 columns):\n",
            " #   Column           Non-Null Count  Dtype \n",
            "---  ------           --------------  ----- \n",
            " 0   Undergrad        600 non-null    object\n",
            " 1   Marital.Status   600 non-null    object\n",
            " 2   Taxable.Income   600 non-null    int64 \n",
            " 3   City.Population  600 non-null    int64 \n",
            " 4   Work.Experience  600 non-null    int64 \n",
            " 5   Urban            600 non-null    object\n",
            "dtypes: int64(3), object(3)\n",
            "memory usage: 28.2+ KB\n"
          ]
        }
      ]
    },
    {
      "cell_type": "markdown",
      "source": [
        "# EDA"
      ],
      "metadata": {
        "id": "WK8DZ-3_u86u"
      }
    },
    {
      "cell_type": "code",
      "source": [
        "f1[f1.duplicated()]"
      ],
      "metadata": {
        "colab": {
          "base_uri": "https://localhost:8080/",
          "height": 49
        },
        "id": "U8sHZYTVu83p",
        "outputId": "fa84a0c6-5e28-4bfa-db92-cc2487fd2ec6"
      },
      "execution_count": 656,
      "outputs": [
        {
          "output_type": "execute_result",
          "data": {
            "text/plain": [
              "Empty DataFrame\n",
              "Columns: [Undergrad, Marital.Status, Taxable.Income, City.Population, Work.Experience, Urban]\n",
              "Index: []"
            ],
            "text/html": [
              "\n",
              "\n",
              "  <div id=\"df-a6ad14f3-4220-40b0-9297-5a5a940ba7da\">\n",
              "    <div class=\"colab-df-container\">\n",
              "      <div>\n",
              "<style scoped>\n",
              "    .dataframe tbody tr th:only-of-type {\n",
              "        vertical-align: middle;\n",
              "    }\n",
              "\n",
              "    .dataframe tbody tr th {\n",
              "        vertical-align: top;\n",
              "    }\n",
              "\n",
              "    .dataframe thead th {\n",
              "        text-align: right;\n",
              "    }\n",
              "</style>\n",
              "<table border=\"1\" class=\"dataframe\">\n",
              "  <thead>\n",
              "    <tr style=\"text-align: right;\">\n",
              "      <th></th>\n",
              "      <th>Undergrad</th>\n",
              "      <th>Marital.Status</th>\n",
              "      <th>Taxable.Income</th>\n",
              "      <th>City.Population</th>\n",
              "      <th>Work.Experience</th>\n",
              "      <th>Urban</th>\n",
              "    </tr>\n",
              "  </thead>\n",
              "  <tbody>\n",
              "  </tbody>\n",
              "</table>\n",
              "</div>\n",
              "      <button class=\"colab-df-convert\" onclick=\"convertToInteractive('df-a6ad14f3-4220-40b0-9297-5a5a940ba7da')\"\n",
              "              title=\"Convert this dataframe to an interactive table.\"\n",
              "              style=\"display:none;\">\n",
              "\n",
              "  <svg xmlns=\"http://www.w3.org/2000/svg\" height=\"24px\"viewBox=\"0 0 24 24\"\n",
              "       width=\"24px\">\n",
              "    <path d=\"M0 0h24v24H0V0z\" fill=\"none\"/>\n",
              "    <path d=\"M18.56 5.44l.94 2.06.94-2.06 2.06-.94-2.06-.94-.94-2.06-.94 2.06-2.06.94zm-11 1L8.5 8.5l.94-2.06 2.06-.94-2.06-.94L8.5 2.5l-.94 2.06-2.06.94zm10 10l.94 2.06.94-2.06 2.06-.94-2.06-.94-.94-2.06-.94 2.06-2.06.94z\"/><path d=\"M17.41 7.96l-1.37-1.37c-.4-.4-.92-.59-1.43-.59-.52 0-1.04.2-1.43.59L10.3 9.45l-7.72 7.72c-.78.78-.78 2.05 0 2.83L4 21.41c.39.39.9.59 1.41.59.51 0 1.02-.2 1.41-.59l7.78-7.78 2.81-2.81c.8-.78.8-2.07 0-2.86zM5.41 20L4 18.59l7.72-7.72 1.47 1.35L5.41 20z\"/>\n",
              "  </svg>\n",
              "      </button>\n",
              "\n",
              "\n",
              "\n",
              "    <div id=\"df-3fabd7e3-1282-45bf-9d3d-78e8fc4baa05\">\n",
              "      <button class=\"colab-df-quickchart\" onclick=\"quickchart('df-3fabd7e3-1282-45bf-9d3d-78e8fc4baa05')\"\n",
              "              title=\"Suggest charts.\"\n",
              "              style=\"display:none;\">\n",
              "\n",
              "<svg xmlns=\"http://www.w3.org/2000/svg\" height=\"24px\"viewBox=\"0 0 24 24\"\n",
              "     width=\"24px\">\n",
              "    <g>\n",
              "        <path d=\"M19 3H5c-1.1 0-2 .9-2 2v14c0 1.1.9 2 2 2h14c1.1 0 2-.9 2-2V5c0-1.1-.9-2-2-2zM9 17H7v-7h2v7zm4 0h-2V7h2v10zm4 0h-2v-4h2v4z\"/>\n",
              "    </g>\n",
              "</svg>\n",
              "      </button>\n",
              "    </div>\n",
              "\n",
              "<style>\n",
              "  .colab-df-quickchart {\n",
              "    background-color: #E8F0FE;\n",
              "    border: none;\n",
              "    border-radius: 50%;\n",
              "    cursor: pointer;\n",
              "    display: none;\n",
              "    fill: #1967D2;\n",
              "    height: 32px;\n",
              "    padding: 0 0 0 0;\n",
              "    width: 32px;\n",
              "  }\n",
              "\n",
              "  .colab-df-quickchart:hover {\n",
              "    background-color: #E2EBFA;\n",
              "    box-shadow: 0px 1px 2px rgba(60, 64, 67, 0.3), 0px 1px 3px 1px rgba(60, 64, 67, 0.15);\n",
              "    fill: #174EA6;\n",
              "  }\n",
              "\n",
              "  [theme=dark] .colab-df-quickchart {\n",
              "    background-color: #3B4455;\n",
              "    fill: #D2E3FC;\n",
              "  }\n",
              "\n",
              "  [theme=dark] .colab-df-quickchart:hover {\n",
              "    background-color: #434B5C;\n",
              "    box-shadow: 0px 1px 3px 1px rgba(0, 0, 0, 0.15);\n",
              "    filter: drop-shadow(0px 1px 2px rgba(0, 0, 0, 0.3));\n",
              "    fill: #FFFFFF;\n",
              "  }\n",
              "</style>\n",
              "\n",
              "    <script>\n",
              "      async function quickchart(key) {\n",
              "        const containerElement = document.querySelector('#' + key);\n",
              "        const charts = await google.colab.kernel.invokeFunction(\n",
              "            'suggestCharts', [key], {});\n",
              "      }\n",
              "    </script>\n",
              "\n",
              "      <script>\n",
              "\n",
              "function displayQuickchartButton(domScope) {\n",
              "  let quickchartButtonEl =\n",
              "    domScope.querySelector('#df-3fabd7e3-1282-45bf-9d3d-78e8fc4baa05 button.colab-df-quickchart');\n",
              "  quickchartButtonEl.style.display =\n",
              "    google.colab.kernel.accessAllowed ? 'block' : 'none';\n",
              "}\n",
              "\n",
              "        displayQuickchartButton(document);\n",
              "      </script>\n",
              "      <style>\n",
              "    .colab-df-container {\n",
              "      display:flex;\n",
              "      flex-wrap:wrap;\n",
              "      gap: 12px;\n",
              "    }\n",
              "\n",
              "    .colab-df-convert {\n",
              "      background-color: #E8F0FE;\n",
              "      border: none;\n",
              "      border-radius: 50%;\n",
              "      cursor: pointer;\n",
              "      display: none;\n",
              "      fill: #1967D2;\n",
              "      height: 32px;\n",
              "      padding: 0 0 0 0;\n",
              "      width: 32px;\n",
              "    }\n",
              "\n",
              "    .colab-df-convert:hover {\n",
              "      background-color: #E2EBFA;\n",
              "      box-shadow: 0px 1px 2px rgba(60, 64, 67, 0.3), 0px 1px 3px 1px rgba(60, 64, 67, 0.15);\n",
              "      fill: #174EA6;\n",
              "    }\n",
              "\n",
              "    [theme=dark] .colab-df-convert {\n",
              "      background-color: #3B4455;\n",
              "      fill: #D2E3FC;\n",
              "    }\n",
              "\n",
              "    [theme=dark] .colab-df-convert:hover {\n",
              "      background-color: #434B5C;\n",
              "      box-shadow: 0px 1px 3px 1px rgba(0, 0, 0, 0.15);\n",
              "      filter: drop-shadow(0px 1px 2px rgba(0, 0, 0, 0.3));\n",
              "      fill: #FFFFFF;\n",
              "    }\n",
              "  </style>\n",
              "\n",
              "      <script>\n",
              "        const buttonEl =\n",
              "          document.querySelector('#df-a6ad14f3-4220-40b0-9297-5a5a940ba7da button.colab-df-convert');\n",
              "        buttonEl.style.display =\n",
              "          google.colab.kernel.accessAllowed ? 'block' : 'none';\n",
              "\n",
              "        async function convertToInteractive(key) {\n",
              "          const element = document.querySelector('#df-a6ad14f3-4220-40b0-9297-5a5a940ba7da');\n",
              "          const dataTable =\n",
              "            await google.colab.kernel.invokeFunction('convertToInteractive',\n",
              "                                                     [key], {});\n",
              "          if (!dataTable) return;\n",
              "\n",
              "          const docLinkHtml = 'Like what you see? Visit the ' +\n",
              "            '<a target=\"_blank\" href=https://colab.research.google.com/notebooks/data_table.ipynb>data table notebook</a>'\n",
              "            + ' to learn more about interactive tables.';\n",
              "          element.innerHTML = '';\n",
              "          dataTable['output_type'] = 'display_data';\n",
              "          await google.colab.output.renderOutput(dataTable, element);\n",
              "          const docLink = document.createElement('div');\n",
              "          docLink.innerHTML = docLinkHtml;\n",
              "          element.appendChild(docLink);\n",
              "        }\n",
              "      </script>\n",
              "    </div>\n",
              "  </div>\n"
            ]
          },
          "metadata": {},
          "execution_count": 656
        }
      ]
    },
    {
      "cell_type": "code",
      "source": [
        "plt.boxplot(f1['Taxable.Income'])"
      ],
      "metadata": {
        "colab": {
          "base_uri": "https://localhost:8080/",
          "height": 569
        },
        "id": "vsKxG40fu82l",
        "outputId": "cff1d67e-008a-4a35-c32d-8eab18de4f5a"
      },
      "execution_count": 657,
      "outputs": [
        {
          "output_type": "execute_result",
          "data": {
            "text/plain": [
              "{'whiskers': [<matplotlib.lines.Line2D at 0x78454906a8c0>,\n",
              "  <matplotlib.lines.Line2D at 0x78454906ab60>],\n",
              " 'caps': [<matplotlib.lines.Line2D at 0x78454906ae00>,\n",
              "  <matplotlib.lines.Line2D at 0x78454906af80>],\n",
              " 'boxes': [<matplotlib.lines.Line2D at 0x78454906a620>],\n",
              " 'medians': [<matplotlib.lines.Line2D at 0x78454906b220>],\n",
              " 'fliers': [<matplotlib.lines.Line2D at 0x78454906b4c0>],\n",
              " 'means': []}"
            ]
          },
          "metadata": {},
          "execution_count": 657
        },
        {
          "output_type": "display_data",
          "data": {
            "text/plain": [
              "<Figure size 640x480 with 1 Axes>"
            ],
            "image/png": "[encoded data removed]"
          },
          "metadata": {}
        }
      ]
    },
    {
      "cell_type": "code",
      "source": [
        "plt.boxplot(f1['City.Population'])"
      ],
      "metadata": {
        "colab": {
          "base_uri": "https://localhost:8080/",
          "height": 569
        },
        "id": "JZnb7MJ5u8yR",
        "outputId": "beeca4ce-8284-459d-c765-54eb12b87950"
      },
      "execution_count": 658,
      "outputs": [
        {
          "output_type": "execute_result",
          "data": {
            "text/plain": [
              "{'whiskers': [<matplotlib.lines.Line2D at 0x7845490d4910>,\n",
              "  <matplotlib.lines.Line2D at 0x7845490d4bb0>],\n",
              " 'caps': [<matplotlib.lines.Line2D at 0x7845490d4e50>,\n",
              "  <matplotlib.lines.Line2D at 0x7845490d50f0>],\n",
              " 'boxes': [<matplotlib.lines.Line2D at 0x7845490d4670>],\n",
              " 'medians': [<matplotlib.lines.Line2D at 0x7845490d5390>],\n",
              " 'fliers': [<matplotlib.lines.Line2D at 0x7845490d5630>],\n",
              " 'means': []}"
            ]
          },
          "metadata": {},
          "execution_count": 658
        },
        {
          "output_type": "display_data",
          "data": {
            "text/plain": [
              "<Figure size 640x480 with 1 Axes>"
            ],
            "image/png": "[encoded data removed]"
          },
          "metadata": {}
        }
      ]
    },
    {
      "cell_type": "code",
      "source": [
        "plt.boxplot(f1['Work.Experience'])"
      ],
      "metadata": {
        "colab": {
          "base_uri": "https://localhost:8080/",
          "height": 569
        },
        "id": "YbYbcjswu8v3",
        "outputId": "42a4f404-f58e-4996-97fd-5f999921535f"
      },
      "execution_count": 659,
      "outputs": [
        {
          "output_type": "execute_result",
          "data": {
            "text/plain": [
              "{'whiskers': [<matplotlib.lines.Line2D at 0x784549130b80>,\n",
              "  <matplotlib.lines.Line2D at 0x784549130e20>],\n",
              " 'caps': [<matplotlib.lines.Line2D at 0x7845491310c0>,\n",
              "  <matplotlib.lines.Line2D at 0x784549131360>],\n",
              " 'boxes': [<matplotlib.lines.Line2D at 0x7845491308e0>],\n",
              " 'medians': [<matplotlib.lines.Line2D at 0x784549131600>],\n",
              " 'fliers': [<matplotlib.lines.Line2D at 0x7845491318a0>],\n",
              " 'means': []}"
            ]
          },
          "metadata": {},
          "execution_count": 659
        },
        {
          "output_type": "display_data",
          "data": {
            "text/plain": [
              "<Figure size 640x480 with 1 Axes>"
            ],
            "image/png": "[encoded data removed]"
          },
          "metadata": {}
        }
      ]
    },
    {
      "cell_type": "code",
      "source": [
        "f1['Undergrad'] = f1['Undergrad'].astype('category')"
      ],
      "metadata": {
        "id": "K2yQLt5Ju8s6"
      },
      "execution_count": 660,
      "outputs": []
    },
    {
      "cell_type": "code",
      "source": [
        "f1['Marital.Status'] = f1['Marital.Status'].astype('category')"
      ],
      "metadata": {
        "id": "aqCaffMYu8rs"
      },
      "execution_count": 661,
      "outputs": []
    },
    {
      "cell_type": "code",
      "source": [
        "f1['Urban'] = f1['Urban'].astype('category')"
      ],
      "metadata": {
        "id": "YnbtdeC1u8nk"
      },
      "execution_count": 662,
      "outputs": []
    },
    {
      "cell_type": "code",
      "source": [
        "f1.info()"
      ],
      "metadata": {
        "colab": {
          "base_uri": "https://localhost:8080/"
        },
        "id": "jJctjfuXu8k_",
        "outputId": "2ce3509b-c03a-4107-f75e-dac9b42594c7"
      },
      "execution_count": 663,
      "outputs": [
        {
          "output_type": "stream",
          "name": "stdout",
          "text": [
            "<class 'pandas.core.frame.DataFrame'>\n",
            "RangeIndex: 600 entries, 0 to 599\n",
            "Data columns (total 6 columns):\n",
            " #   Column           Non-Null Count  Dtype   \n",
            "---  ------           --------------  -----   \n",
            " 0   Undergrad        600 non-null    category\n",
            " 1   Marital.Status   600 non-null    category\n",
            " 2   Taxable.Income   600 non-null    int64   \n",
            " 3   City.Population  600 non-null    int64   \n",
            " 4   Work.Experience  600 non-null    int64   \n",
            " 5   Urban            600 non-null    category\n",
            "dtypes: category(3), int64(3)\n",
            "memory usage: 16.3 KB\n"
          ]
        }
      ]
    },
    {
      "cell_type": "code",
      "source": [
        "f1 = f1.join(pd.get_dummies(f1[['Undergrad', 'Marital.Status']]))\n",
        "f1.head()"
      ],
      "metadata": {
        "colab": {
          "base_uri": "https://localhost:8080/",
          "height": 270
        },
        "id": "Fod3pFUEu8if",
        "outputId": "cc517d03-a0be-4678-89d5-b93cad1e159b"
      },
      "execution_count": 664,
      "outputs": [
        {
          "output_type": "execute_result",
          "data": {
            "text/plain": [
              "  Undergrad Marital.Status  Taxable.Income  City.Population  Work.Experience  \\\n",
              "0        NO         Single           68833            50047               10   \n",
              "1       YES       Divorced           33700           134075               18   \n",
              "2        NO        Married           36925           160205               30   \n",
              "3       YES         Single           50190           193264               15   \n",
              "4        NO        Married           81002            27533               28   \n",
              "\n",
              "  Urban  Undergrad_NO  Undergrad_YES  Marital.Status_Divorced  \\\n",
              "0   YES             1              0                        0   \n",
              "1   YES             0              1                        1   \n",
              "2   YES             1              0                        0   \n",
              "3   YES             0              1                        0   \n",
              "4    NO             1              0                        0   \n",
              "\n",
              "   Marital.Status_Married  Marital.Status_Single  \n",
              "0                       0                      1  \n",
              "1                       0                      0  \n",
              "2                       1                      0  \n",
              "3                       0                      1  \n",
              "4                       1                      0  "
            ],
            "text/html": [
              "\n",
              "\n",
              "  <div id=\"df-19243060-bf9e-4b07-a5c4-cb06713b3767\">\n",
              "    <div class=\"colab-df-container\">\n",
              "      <div>\n",
              "<style scoped>\n",
              "    .dataframe tbody tr th:only-of-type {\n",
              "        vertical-align: middle;\n",
              "    }\n",
              "\n",
              "    .dataframe tbody tr th {\n",
              "        vertical-align: top;\n",
              "    }\n",
              "\n",
              "    .dataframe thead th {\n",
              "        text-align: right;\n",
              "    }\n",
              "</style>\n",
              "<table border=\"1\" class=\"dataframe\">\n",
              "  <thead>\n",
              "    <tr style=\"text-align: right;\">\n",
              "      <th></th>\n",
              "      <th>Undergrad</th>\n",
              "      <th>Marital.Status</th>\n",
              "      <th>Taxable.Income</th>\n",
              "      <th>City.Population</th>\n",
              "      <th>Work.Experience</th>\n",
              "      <th>Urban</th>\n",
              "      <th>Undergrad_NO</th>\n",
              "      <th>Undergrad_YES</th>\n",
              "      <th>Marital.Status_Divorced</th>\n",
              "      <th>Marital.Status_Married</th>\n",
              "      <th>Marital.Status_Single</th>\n",
              "    </tr>\n",
              "  </thead>\n",
              "  <tbody>\n",
              "    <tr>\n",
              "      <th>0</th>\n",
              "      <td>NO</td>\n",
              "      <td>Single</td>\n",
              "      <td>68833</td>\n",
              "      <td>50047</td>\n",
              "      <td>10</td>\n",
              "      <td>YES</td>\n",
              "      <td>1</td>\n",
              "      <td>0</td>\n",
              "      <td>0</td>\n",
              "      <td>0</td>\n",
              "      <td>1</td>\n",
              "    </tr>\n",
              "    <tr>\n",
              "      <th>1</th>\n",
              "      <td>YES</td>\n",
              "      <td>Divorced</td>\n",
              "      <td>33700</td>\n",
              "      <td>134075</td>\n",
              "      <td>18</td>\n",
              "      <td>YES</td>\n",
              "      <td>0</td>\n",
              "      <td>1</td>\n",
              "      <td>1</td>\n",
              "      <td>0</td>\n",
              "      <td>0</td>\n",
              "    </tr>\n",
              "    <tr>\n",
              "      <th>2</th>\n",
              "      <td>NO</td>\n",
              "      <td>Married</td>\n",
              "      <td>36925</td>\n",
              "      <td>160205</td>\n",
              "      <td>30</td>\n",
              "      <td>YES</td>\n",
              "      <td>1</td>\n",
              "      <td>0</td>\n",
              "      <td>0</td>\n",
              "      <td>1</td>\n",
              "      <td>0</td>\n",
              "    </tr>\n",
              "    <tr>\n",
              "      <th>3</th>\n",
              "      <td>YES</td>\n",
              "      <td>Single</td>\n",
              "      <td>50190</td>\n",
              "      <td>193264</td>\n",
              "      <td>15</td>\n",
              "      <td>YES</td>\n",
              "      <td>0</td>\n",
              "      <td>1</td>\n",
              "      <td>0</td>\n",
              "      <td>0</td>\n",
              "      <td>1</td>\n",
              "    </tr>\n",
              "    <tr>\n",
              "      <th>4</th>\n",
              "      <td>NO</td>\n",
              "      <td>Married</td>\n",
              "      <td>81002</td>\n",
              "      <td>27533</td>\n",
              "      <td>28</td>\n",
              "      <td>NO</td>\n",
              "      <td>1</td>\n",
              "      <td>0</td>\n",
              "      <td>0</td>\n",
              "      <td>1</td>\n",
              "      <td>0</td>\n",
              "    </tr>\n",
              "  </tbody>\n",
              "</table>\n",
              "</div>\n",
              "      <button class=\"colab-df-convert\" onclick=\"convertToInteractive('df-19243060-bf9e-4b07-a5c4-cb06713b3767')\"\n",
              "              title=\"Convert this dataframe to an interactive table.\"\n",
              "              style=\"display:none;\">\n",
              "\n",
              "  <svg xmlns=\"http://www.w3.org/2000/svg\" height=\"24px\"viewBox=\"0 0 24 24\"\n",
              "       width=\"24px\">\n",
              "    <path d=\"M0 0h24v24H0V0z\" fill=\"none\"/>\n",
              "    <path d=\"M18.56 5.44l.94 2.06.94-2.06 2.06-.94-2.06-.94-.94-2.06-.94 2.06-2.06.94zm-11 1L8.5 8.5l.94-2.06 2.06-.94-2.06-.94L8.5 2.5l-.94 2.06-2.06.94zm10 10l.94 2.06.94-2.06 2.06-.94-2.06-.94-.94-2.06-.94 2.06-2.06.94z\"/><path d=\"M17.41 7.96l-1.37-1.37c-.4-.4-.92-.59-1.43-.59-.52 0-1.04.2-1.43.59L10.3 9.45l-7.72 7.72c-.78.78-.78 2.05 0 2.83L4 21.41c.39.39.9.59 1.41.59.51 0 1.02-.2 1.41-.59l7.78-7.78 2.81-2.81c.8-.78.8-2.07 0-2.86zM5.41 20L4 18.59l7.72-7.72 1.47 1.35L5.41 20z\"/>\n",
              "  </svg>\n",
              "      </button>\n",
              "\n",
              "\n",
              "\n",
              "    <div id=\"df-7022a238-15aa-4eb2-8fba-bd6e5b1cbe18\">\n",
              "      <button class=\"colab-df-quickchart\" onclick=\"quickchart('df-7022a238-15aa-4eb2-8fba-bd6e5b1cbe18')\"\n",
              "              title=\"Suggest charts.\"\n",
              "              style=\"display:none;\">\n",
              "\n",
              "<svg xmlns=\"http://www.w3.org/2000/svg\" height=\"24px\"viewBox=\"0 0 24 24\"\n",
              "     width=\"24px\">\n",
              "    <g>\n",
              "        <path d=\"M19 3H5c-1.1 0-2 .9-2 2v14c0 1.1.9 2 2 2h14c1.1 0 2-.9 2-2V5c0-1.1-.9-2-2-2zM9 17H7v-7h2v7zm4 0h-2V7h2v10zm4 0h-2v-4h2v4z\"/>\n",
              "    </g>\n",
              "</svg>\n",
              "      </button>\n",
              "    </div>\n",
              "\n",
              "<style>\n",
              "  .colab-df-quickchart {\n",
              "    background-color: #E8F0FE;\n",
              "    border: none;\n",
              "    border-radius: 50%;\n",
              "    cursor: pointer;\n",
              "    display: none;\n",
              "    fill: #1967D2;\n",
              "    height: 32px;\n",
              "    padding: 0 0 0 0;\n",
              "    width: 32px;\n",
              "  }\n",
              "\n",
              "  .colab-df-quickchart:hover {\n",
              "    background-color: #E2EBFA;\n",
              "    box-shadow: 0px 1px 2px rgba(60, 64, 67, 0.3), 0px 1px 3px 1px rgba(60, 64, 67, 0.15);\n",
              "    fill: #174EA6;\n",
              "  }\n",
              "\n",
              "  [theme=dark] .colab-df-quickchart {\n",
              "    background-color: #3B4455;\n",
              "    fill: #D2E3FC;\n",
              "  }\n",
              "\n",
              "  [theme=dark] .colab-df-quickchart:hover {\n",
              "    background-color: #434B5C;\n",
              "    box-shadow: 0px 1px 3px 1px rgba(0, 0, 0, 0.15);\n",
              "    filter: drop-shadow(0px 1px 2px rgba(0, 0, 0, 0.3));\n",
              "    fill: #FFFFFF;\n",
              "  }\n",
              "</style>\n",
              "\n",
              "    <script>\n",
              "      async function quickchart(key) {\n",
              "        const containerElement = document.querySelector('#' + key);\n",
              "        const charts = await google.colab.kernel.invokeFunction(\n",
              "            'suggestCharts', [key], {});\n",
              "      }\n",
              "    </script>\n",
              "\n",
              "      <script>\n",
              "\n",
              "function displayQuickchartButton(domScope) {\n",
              "  let quickchartButtonEl =\n",
              "    domScope.querySelector('#df-7022a238-15aa-4eb2-8fba-bd6e5b1cbe18 button.colab-df-quickchart');\n",
              "  quickchartButtonEl.style.display =\n",
              "    google.colab.kernel.accessAllowed ? 'block' : 'none';\n",
              "}\n",
              "\n",
              "        displayQuickchartButton(document);\n",
              "      </script>\n",
              "      <style>\n",
              "    .colab-df-container {\n",
              "      display:flex;\n",
              "      flex-wrap:wrap;\n",
              "      gap: 12px;\n",
              "    }\n",
              "\n",
              "    .colab-df-convert {\n",
              "      background-color: #E8F0FE;\n",
              "      border: none;\n",
              "      border-radius: 50%;\n",
              "      cursor: pointer;\n",
              "      display: none;\n",
              "      fill: #1967D2;\n",
              "      height: 32px;\n",
              "      padding: 0 0 0 0;\n",
              "      width: 32px;\n",
              "    }\n",
              "\n",
              "    .colab-df-convert:hover {\n",
              "      background-color: #E2EBFA;\n",
              "      box-shadow: 0px 1px 2px rgba(60, 64, 67, 0.3), 0px 1px 3px 1px rgba(60, 64, 67, 0.15);\n",
              "      fill: #174EA6;\n",
              "    }\n",
              "\n",
              "    [theme=dark] .colab-df-convert {\n",
              "      background-color: #3B4455;\n",
              "      fill: #D2E3FC;\n",
              "    }\n",
              "\n",
              "    [theme=dark] .colab-df-convert:hover {\n",
              "      background-color: #434B5C;\n",
              "      box-shadow: 0px 1px 3px 1px rgba(0, 0, 0, 0.15);\n",
              "      filter: drop-shadow(0px 1px 2px rgba(0, 0, 0, 0.3));\n",
              "      fill: #FFFFFF;\n",
              "    }\n",
              "  </style>\n",
              "\n",
              "      <script>\n",
              "        const buttonEl =\n",
              "          document.querySelector('#df-19243060-bf9e-4b07-a5c4-cb06713b3767 button.colab-df-convert');\n",
              "        buttonEl.style.display =\n",
              "          google.colab.kernel.accessAllowed ? 'block' : 'none';\n",
              "\n",
              "        async function convertToInteractive(key) {\n",
              "          const element = document.querySelector('#df-19243060-bf9e-4b07-a5c4-cb06713b3767');\n",
              "          const dataTable =\n",
              "            await google.colab.kernel.invokeFunction('convertToInteractive',\n",
              "                                                     [key], {});\n",
              "          if (!dataTable) return;\n",
              "\n",
              "          const docLinkHtml = 'Like what you see? Visit the ' +\n",
              "            '<a target=\"_blank\" href=https://colab.research.google.com/notebooks/data_table.ipynb>data table notebook</a>'\n",
              "            + ' to learn more about interactive tables.';\n",
              "          element.innerHTML = '';\n",
              "          dataTable['output_type'] = 'display_data';\n",
              "          await google.colab.output.renderOutput(dataTable, element);\n",
              "          const docLink = document.createElement('div');\n",
              "          docLink.innerHTML = docLinkHtml;\n",
              "          element.appendChild(docLink);\n",
              "        }\n",
              "      </script>\n",
              "    </div>\n",
              "  </div>\n"
            ]
          },
          "metadata": {},
          "execution_count": 664
        }
      ]
    },
    {
      "cell_type": "code",
      "source": [
        "f1 = f1.drop(['Undergrad', 'Marital.Status'], axis = 1)"
      ],
      "metadata": {
        "id": "zebIiGWLu8f6"
      },
      "execution_count": 665,
      "outputs": []
    },
    {
      "cell_type": "code",
      "source": [
        "f1.head()"
      ],
      "metadata": {
        "colab": {
          "base_uri": "https://localhost:8080/",
          "height": 206
        },
        "id": "CIOz_Bbcu8de",
        "outputId": "a490b70b-cafe-4678-efe0-4c5f637643e1"
      },
      "execution_count": 666,
      "outputs": [
        {
          "output_type": "execute_result",
          "data": {
            "text/plain": [
              "   Taxable.Income  City.Population  Work.Experience Urban  Undergrad_NO  \\\n",
              "0           68833            50047               10   YES             1   \n",
              "1           33700           134075               18   YES             0   \n",
              "2           36925           160205               30   YES             1   \n",
              "3           50190           193264               15   YES             0   \n",
              "4           81002            27533               28    NO             1   \n",
              "\n",
              "   Undergrad_YES  Marital.Status_Divorced  Marital.Status_Married  \\\n",
              "0              0                        0                       0   \n",
              "1              1                        1                       0   \n",
              "2              0                        0                       1   \n",
              "3              1                        0                       0   \n",
              "4              0                        0                       1   \n",
              "\n",
              "   Marital.Status_Single  \n",
              "0                      1  \n",
              "1                      0  \n",
              "2                      0  \n",
              "3                      1  \n",
              "4                      0  "
            ],
            "text/html": [
              "\n",
              "\n",
              "  <div id=\"df-a42a27f4-6b5f-4b4f-afc5-1ab88b5587d2\">\n",
              "    <div class=\"colab-df-container\">\n",
              "      <div>\n",
              "<style scoped>\n",
              "    .dataframe tbody tr th:only-of-type {\n",
              "        vertical-align: middle;\n",
              "    }\n",
              "\n",
              "    .dataframe tbody tr th {\n",
              "        vertical-align: top;\n",
              "    }\n",
              "\n",
              "    .dataframe thead th {\n",
              "        text-align: right;\n",
              "    }\n",
              "</style>\n",
              "<table border=\"1\" class=\"dataframe\">\n",
              "  <thead>\n",
              "    <tr style=\"text-align: right;\">\n",
              "      <th></th>\n",
              "      <th>Taxable.Income</th>\n",
              "      <th>City.Population</th>\n",
              "      <th>Work.Experience</th>\n",
              "      <th>Urban</th>\n",
              "      <th>Undergrad_NO</th>\n",
              "      <th>Undergrad_YES</th>\n",
              "      <th>Marital.Status_Divorced</th>\n",
              "      <th>Marital.Status_Married</th>\n",
              "      <th>Marital.Status_Single</th>\n",
              "    </tr>\n",
              "  </thead>\n",
              "  <tbody>\n",
              "    <tr>\n",
              "      <th>0</th>\n",
              "      <td>68833</td>\n",
              "      <td>50047</td>\n",
              "      <td>10</td>\n",
              "      <td>YES</td>\n",
              "      <td>1</td>\n",
              "      <td>0</td>\n",
              "      <td>0</td>\n",
              "      <td>0</td>\n",
              "      <td>1</td>\n",
              "    </tr>\n",
              "    <tr>\n",
              "      <th>1</th>\n",
              "      <td>33700</td>\n",
              "      <td>134075</td>\n",
              "      <td>18</td>\n",
              "      <td>YES</td>\n",
              "      <td>0</td>\n",
              "      <td>1</td>\n",
              "      <td>1</td>\n",
              "      <td>0</td>\n",
              "      <td>0</td>\n",
              "    </tr>\n",
              "    <tr>\n",
              "      <th>2</th>\n",
              "      <td>36925</td>\n",
              "      <td>160205</td>\n",
              "      <td>30</td>\n",
              "      <td>YES</td>\n",
              "      <td>1</td>\n",
              "      <td>0</td>\n",
              "      <td>0</td>\n",
              "      <td>1</td>\n",
              "      <td>0</td>\n",
              "    </tr>\n",
              "    <tr>\n",
              "      <th>3</th>\n",
              "      <td>50190</td>\n",
              "      <td>193264</td>\n",
              "      <td>15</td>\n",
              "      <td>YES</td>\n",
              "      <td>0</td>\n",
              "      <td>1</td>\n",
              "      <td>0</td>\n",
              "      <td>0</td>\n",
              "      <td>1</td>\n",
              "    </tr>\n",
              "    <tr>\n",
              "      <th>4</th>\n",
              "      <td>81002</td>\n",
              "      <td>27533</td>\n",
              "      <td>28</td>\n",
              "      <td>NO</td>\n",
              "      <td>1</td>\n",
              "      <td>0</td>\n",
              "      <td>0</td>\n",
              "      <td>1</td>\n",
              "      <td>0</td>\n",
              "    </tr>\n",
              "  </tbody>\n",
              "</table>\n",
              "</div>\n",
              "      <button class=\"colab-df-convert\" onclick=\"convertToInteractive('df-a42a27f4-6b5f-4b4f-afc5-1ab88b5587d2')\"\n",
              "              title=\"Convert this dataframe to an interactive table.\"\n",
              "              style=\"display:none;\">\n",
              "\n",
              "  <svg xmlns=\"http://www.w3.org/2000/svg\" height=\"24px\"viewBox=\"0 0 24 24\"\n",
              "       width=\"24px\">\n",
              "    <path d=\"M0 0h24v24H0V0z\" fill=\"none\"/>\n",
              "    <path d=\"M18.56 5.44l.94 2.06.94-2.06 2.06-.94-2.06-.94-.94-2.06-.94 2.06-2.06.94zm-11 1L8.5 8.5l.94-2.06 2.06-.94-2.06-.94L8.5 2.5l-.94 2.06-2.06.94zm10 10l.94 2.06.94-2.06 2.06-.94-2.06-.94-.94-2.06-.94 2.06-2.06.94z\"/><path d=\"M17.41 7.96l-1.37-1.37c-.4-.4-.92-.59-1.43-.59-.52 0-1.04.2-1.43.59L10.3 9.45l-7.72 7.72c-.78.78-.78 2.05 0 2.83L4 21.41c.39.39.9.59 1.41.59.51 0 1.02-.2 1.41-.59l7.78-7.78 2.81-2.81c.8-.78.8-2.07 0-2.86zM5.41 20L4 18.59l7.72-7.72 1.47 1.35L5.41 20z\"/>\n",
              "  </svg>\n",
              "      </button>\n",
              "\n",
              "\n",
              "\n",
              "    <div id=\"df-caf2b707-dc24-4623-b8b9-9438c3711270\">\n",
              "      <button class=\"colab-df-quickchart\" onclick=\"quickchart('df-caf2b707-dc24-4623-b8b9-9438c3711270')\"\n",
              "              title=\"Suggest charts.\"\n",
              "              style=\"display:none;\">\n",
              "\n",
              "<svg xmlns=\"http://www.w3.org/2000/svg\" height=\"24px\"viewBox=\"0 0 24 24\"\n",
              "     width=\"24px\">\n",
              "    <g>\n",
              "        <path d=\"M19 3H5c-1.1 0-2 .9-2 2v14c0 1.1.9 2 2 2h14c1.1 0 2-.9 2-2V5c0-1.1-.9-2-2-2zM9 17H7v-7h2v7zm4 0h-2V7h2v10zm4 0h-2v-4h2v4z\"/>\n",
              "    </g>\n",
              "</svg>\n",
              "      </button>\n",
              "    </div>\n",
              "\n",
              "<style>\n",
              "  .colab-df-quickchart {\n",
              "    background-color: #E8F0FE;\n",
              "    border: none;\n",
              "    border-radius: 50%;\n",
              "    cursor: pointer;\n",
              "    display: none;\n",
              "    fill: #1967D2;\n",
              "    height: 32px;\n",
              "    padding: 0 0 0 0;\n",
              "    width: 32px;\n",
              "  }\n",
              "\n",
              "  .colab-df-quickchart:hover {\n",
              "    background-color: #E2EBFA;\n",
              "    box-shadow: 0px 1px 2px rgba(60, 64, 67, 0.3), 0px 1px 3px 1px rgba(60, 64, 67, 0.15);\n",
              "    fill: #174EA6;\n",
              "  }\n",
              "\n",
              "  [theme=dark] .colab-df-quickchart {\n",
              "    background-color: #3B4455;\n",
              "    fill: #D2E3FC;\n",
              "  }\n",
              "\n",
              "  [theme=dark] .colab-df-quickchart:hover {\n",
              "    background-color: #434B5C;\n",
              "    box-shadow: 0px 1px 3px 1px rgba(0, 0, 0, 0.15);\n",
              "    filter: drop-shadow(0px 1px 2px rgba(0, 0, 0, 0.3));\n",
              "    fill: #FFFFFF;\n",
              "  }\n",
              "</style>\n",
              "\n",
              "    <script>\n",
              "      async function quickchart(key) {\n",
              "        const containerElement = document.querySelector('#' + key);\n",
              "        const charts = await google.colab.kernel.invokeFunction(\n",
              "            'suggestCharts', [key], {});\n",
              "      }\n",
              "    </script>\n",
              "\n",
              "      <script>\n",
              "\n",
              "function displayQuickchartButton(domScope) {\n",
              "  let quickchartButtonEl =\n",
              "    domScope.querySelector('#df-caf2b707-dc24-4623-b8b9-9438c3711270 button.colab-df-quickchart');\n",
              "  quickchartButtonEl.style.display =\n",
              "    google.colab.kernel.accessAllowed ? 'block' : 'none';\n",
              "}\n",
              "\n",
              "        displayQuickchartButton(document);\n",
              "      </script>\n",
              "      <style>\n",
              "    .colab-df-container {\n",
              "      display:flex;\n",
              "      flex-wrap:wrap;\n",
              "      gap: 12px;\n",
              "    }\n",
              "\n",
              "    .colab-df-convert {\n",
              "      background-color: #E8F0FE;\n",
              "      border: none;\n",
              "      border-radius: 50%;\n",
              "      cursor: pointer;\n",
              "      display: none;\n",
              "      fill: #1967D2;\n",
              "      height: 32px;\n",
              "      padding: 0 0 0 0;\n",
              "      width: 32px;\n",
              "    }\n",
              "\n",
              "    .colab-df-convert:hover {\n",
              "      background-color: #E2EBFA;\n",
              "      box-shadow: 0px 1px 2px rgba(60, 64, 67, 0.3), 0px 1px 3px 1px rgba(60, 64, 67, 0.15);\n",
              "      fill: #174EA6;\n",
              "    }\n",
              "\n",
              "    [theme=dark] .colab-df-convert {\n",
              "      background-color: #3B4455;\n",
              "      fill: #D2E3FC;\n",
              "    }\n",
              "\n",
              "    [theme=dark] .colab-df-convert:hover {\n",
              "      background-color: #434B5C;\n",
              "      box-shadow: 0px 1px 3px 1px rgba(0, 0, 0, 0.15);\n",
              "      filter: drop-shadow(0px 1px 2px rgba(0, 0, 0, 0.3));\n",
              "      fill: #FFFFFF;\n",
              "    }\n",
              "  </style>\n",
              "\n",
              "      <script>\n",
              "        const buttonEl =\n",
              "          document.querySelector('#df-a42a27f4-6b5f-4b4f-afc5-1ab88b5587d2 button.colab-df-convert');\n",
              "        buttonEl.style.display =\n",
              "          google.colab.kernel.accessAllowed ? 'block' : 'none';\n",
              "\n",
              "        async function convertToInteractive(key) {\n",
              "          const element = document.querySelector('#df-a42a27f4-6b5f-4b4f-afc5-1ab88b5587d2');\n",
              "          const dataTable =\n",
              "            await google.colab.kernel.invokeFunction('convertToInteractive',\n",
              "                                                     [key], {});\n",
              "          if (!dataTable) return;\n",
              "\n",
              "          const docLinkHtml = 'Like what you see? Visit the ' +\n",
              "            '<a target=\"_blank\" href=https://colab.research.google.com/notebooks/data_table.ipynb>data table notebook</a>'\n",
              "            + ' to learn more about interactive tables.';\n",
              "          element.innerHTML = '';\n",
              "          dataTable['output_type'] = 'display_data';\n",
              "          await google.colab.output.renderOutput(dataTable, element);\n",
              "          const docLink = document.createElement('div');\n",
              "          docLink.innerHTML = docLinkHtml;\n",
              "          element.appendChild(docLink);\n",
              "        }\n",
              "      </script>\n",
              "    </div>\n",
              "  </div>\n"
            ]
          },
          "metadata": {},
          "execution_count": 666
        }
      ]
    },
    {
      "cell_type": "code",
      "source": [
        "Conditions=[(f1[\"Taxable.Income\"]<=30000),(f1[\"Taxable.Income\"]>30000)]\n",
        "Categories=[\"Risky\",\"Good\"]"
      ],
      "metadata": {
        "id": "N9QUP9aXzoGz"
      },
      "execution_count": 667,
      "outputs": []
    },
    {
      "cell_type": "code",
      "source": [
        "f1[\"Taxable.Income\"]=np.select(Conditions,Categories)"
      ],
      "metadata": {
        "id": "gjCHJDwSzoC_"
      },
      "execution_count": 668,
      "outputs": []
    },
    {
      "cell_type": "code",
      "source": [
        "f1[\"Taxable.Income\"].head()"
      ],
      "metadata": {
        "colab": {
          "base_uri": "https://localhost:8080/"
        },
        "id": "Yp4Cnte-11E-",
        "outputId": "7b096664-31c3-4e55-d12f-83a51e4d1cc3"
      },
      "execution_count": 669,
      "outputs": [
        {
          "output_type": "execute_result",
          "data": {
            "text/plain": [
              "0    Good\n",
              "1    Good\n",
              "2    Good\n",
              "3    Good\n",
              "4    Good\n",
              "Name: Taxable.Income, dtype: object"
            ]
          },
          "metadata": {},
          "execution_count": 669
        }
      ]
    },
    {
      "cell_type": "code",
      "source": [
        "from sklearn.preprocessing import LabelEncoder"
      ],
      "metadata": {
        "id": "zMkIOz7Yu8bF"
      },
      "execution_count": 670,
      "outputs": []
    },
    {
      "cell_type": "code",
      "source": [
        "encoder = LabelEncoder()"
      ],
      "metadata": {
        "id": "Ma0SN5Ty3bMJ"
      },
      "execution_count": 671,
      "outputs": []
    },
    {
      "cell_type": "code",
      "source": [
        "f1['Urban'] = encoder.fit_transform(f1['Urban'])\n",
        "f1['Urban']"
      ],
      "metadata": {
        "id": "JPgZZcP63bIM",
        "colab": {
          "base_uri": "https://localhost:8080/"
        },
        "outputId": "559b8c17-d082-4200-8021-cc9ed32f57ff"
      },
      "execution_count": 672,
      "outputs": [
        {
          "output_type": "execute_result",
          "data": {
            "text/plain": [
              "0      1\n",
              "1      1\n",
              "2      1\n",
              "3      1\n",
              "4      0\n",
              "      ..\n",
              "595    1\n",
              "596    1\n",
              "597    1\n",
              "598    0\n",
              "599    0\n",
              "Name: Urban, Length: 600, dtype: int64"
            ]
          },
          "metadata": {},
          "execution_count": 672
        }
      ]
    },
    {
      "cell_type": "code",
      "source": [
        "f1['Taxable.Income'] = encoder.fit_transform(f1['Taxable.Income'])\n",
        "f1['Taxable.Income']"
      ],
      "metadata": {
        "colab": {
          "base_uri": "https://localhost:8080/"
        },
        "id": "Bic-F0rQ3Ynn",
        "outputId": "5589c217-dcdc-4233-84f0-ca8bde42689a"
      },
      "execution_count": 673,
      "outputs": [
        {
          "output_type": "execute_result",
          "data": {
            "text/plain": [
              "0      0\n",
              "1      0\n",
              "2      0\n",
              "3      0\n",
              "4      0\n",
              "      ..\n",
              "595    0\n",
              "596    0\n",
              "597    0\n",
              "598    0\n",
              "599    0\n",
              "Name: Taxable.Income, Length: 600, dtype: int64"
            ]
          },
          "metadata": {},
          "execution_count": 673
        }
      ]
    },
    {
      "cell_type": "markdown",
      "source": [
        "# Test-Train Split"
      ],
      "metadata": {
        "id": "gm-Fkxx93-W4"
      }
    },
    {
      "cell_type": "code",
      "source": [
        "X = f1.iloc[:,1:]\n",
        "X.head()"
      ],
      "metadata": {
        "colab": {
          "base_uri": "https://localhost:8080/",
          "height": 206
        },
        "id": "bKgeiO9uJy48",
        "outputId": "be2cb58e-89e6-4351-ade8-69ee837ca7a5"
      },
      "execution_count": 674,
      "outputs": [
        {
          "output_type": "execute_result",
          "data": {
            "text/plain": [
              "   City.Population  Work.Experience  Urban  Undergrad_NO  Undergrad_YES  \\\n",
              "0            50047               10      1             1              0   \n",
              "1           134075               18      1             0              1   \n",
              "2           160205               30      1             1              0   \n",
              "3           193264               15      1             0              1   \n",
              "4            27533               28      0             1              0   \n",
              "\n",
              "   Marital.Status_Divorced  Marital.Status_Married  Marital.Status_Single  \n",
              "0                        0                       0                      1  \n",
              "1                        1                       0                      0  \n",
              "2                        0                       1                      0  \n",
              "3                        0                       0                      1  \n",
              "4                        0                       1                      0  "
            ],
            "text/html": [
              "\n",
              "\n",
              "  <div id=\"df-0eef808a-6649-4376-bd3b-2b3b461a32f6\">\n",
              "    <div class=\"colab-df-container\">\n",
              "      <div>\n",
              "<style scoped>\n",
              "    .dataframe tbody tr th:only-of-type {\n",
              "        vertical-align: middle;\n",
              "    }\n",
              "\n",
              "    .dataframe tbody tr th {\n",
              "        vertical-align: top;\n",
              "    }\n",
              "\n",
              "    .dataframe thead th {\n",
              "        text-align: right;\n",
              "    }\n",
              "</style>\n",
              "<table border=\"1\" class=\"dataframe\">\n",
              "  <thead>\n",
              "    <tr style=\"text-align: right;\">\n",
              "      <th></th>\n",
              "      <th>City.Population</th>\n",
              "      <th>Work.Experience</th>\n",
              "      <th>Urban</th>\n",
              "      <th>Undergrad_NO</th>\n",
              "      <th>Undergrad_YES</th>\n",
              "      <th>Marital.Status_Divorced</th>\n",
              "      <th>Marital.Status_Married</th>\n",
              "      <th>Marital.Status_Single</th>\n",
              "    </tr>\n",
              "  </thead>\n",
              "  <tbody>\n",
              "    <tr>\n",
              "      <th>0</th>\n",
              "      <td>50047</td>\n",
              "      <td>10</td>\n",
              "      <td>1</td>\n",
              "      <td>1</td>\n",
              "      <td>0</td>\n",
              "      <td>0</td>\n",
              "      <td>0</td>\n",
              "      <td>1</td>\n",
              "    </tr>\n",
              "    <tr>\n",
              "      <th>1</th>\n",
              "      <td>134075</td>\n",
              "      <td>18</td>\n",
              "      <td>1</td>\n",
              "      <td>0</td>\n",
              "      <td>1</td>\n",
              "      <td>1</td>\n",
              "      <td>0</td>\n",
              "      <td>0</td>\n",
              "    </tr>\n",
              "    <tr>\n",
              "      <th>2</th>\n",
              "      <td>160205</td>\n",
              "      <td>30</td>\n",
              "      <td>1</td>\n",
              "      <td>1</td>\n",
              "      <td>0</td>\n",
              "      <td>0</td>\n",
              "      <td>1</td>\n",
              "      <td>0</td>\n",
              "    </tr>\n",
              "    <tr>\n",
              "      <th>3</th>\n",
              "      <td>193264</td>\n",
              "      <td>15</td>\n",
              "      <td>1</td>\n",
              "      <td>0</td>\n",
              "      <td>1</td>\n",
              "      <td>0</td>\n",
              "      <td>0</td>\n",
              "      <td>1</td>\n",
              "    </tr>\n",
              "    <tr>\n",
              "      <th>4</th>\n",
              "      <td>27533</td>\n",
              "      <td>28</td>\n",
              "      <td>0</td>\n",
              "      <td>1</td>\n",
              "      <td>0</td>\n",
              "      <td>0</td>\n",
              "      <td>1</td>\n",
              "      <td>0</td>\n",
              "    </tr>\n",
              "  </tbody>\n",
              "</table>\n",
              "</div>\n",
              "      <button class=\"colab-df-convert\" onclick=\"convertToInteractive('df-0eef808a-6649-4376-bd3b-2b3b461a32f6')\"\n",
              "              title=\"Convert this dataframe to an interactive table.\"\n",
              "              style=\"display:none;\">\n",
              "\n",
              "  <svg xmlns=\"http://www.w3.org/2000/svg\" height=\"24px\"viewBox=\"0 0 24 24\"\n",
              "       width=\"24px\">\n",
              "    <path d=\"M0 0h24v24H0V0z\" fill=\"none\"/>\n",
              "    <path d=\"M18.56 5.44l.94 2.06.94-2.06 2.06-.94-2.06-.94-.94-2.06-.94 2.06-2.06.94zm-11 1L8.5 8.5l.94-2.06 2.06-.94-2.06-.94L8.5 2.5l-.94 2.06-2.06.94zm10 10l.94 2.06.94-2.06 2.06-.94-2.06-.94-.94-2.06-.94 2.06-2.06.94z\"/><path d=\"M17.41 7.96l-1.37-1.37c-.4-.4-.92-.59-1.43-.59-.52 0-1.04.2-1.43.59L10.3 9.45l-7.72 7.72c-.78.78-.78 2.05 0 2.83L4 21.41c.39.39.9.59 1.41.59.51 0 1.02-.2 1.41-.59l7.78-7.78 2.81-2.81c.8-.78.8-2.07 0-2.86zM5.41 20L4 18.59l7.72-7.72 1.47 1.35L5.41 20z\"/>\n",
              "  </svg>\n",
              "      </button>\n",
              "\n",
              "\n",
              "\n",
              "    <div id=\"df-30d069ce-6191-4077-9fd0-f47d67624505\">\n",
              "      <button class=\"colab-df-quickchart\" onclick=\"quickchart('df-30d069ce-6191-4077-9fd0-f47d67624505')\"\n",
              "              title=\"Suggest charts.\"\n",
              "              style=\"display:none;\">\n",
              "\n",
              "<svg xmlns=\"http://www.w3.org/2000/svg\" height=\"24px\"viewBox=\"0 0 24 24\"\n",
              "     width=\"24px\">\n",
              "    <g>\n",
              "        <path d=\"M19 3H5c-1.1 0-2 .9-2 2v14c0 1.1.9 2 2 2h14c1.1 0 2-.9 2-2V5c0-1.1-.9-2-2-2zM9 17H7v-7h2v7zm4 0h-2V7h2v10zm4 0h-2v-4h2v4z\"/>\n",
              "    </g>\n",
              "</svg>\n",
              "      </button>\n",
              "    </div>\n",
              "\n",
              "<style>\n",
              "  .colab-df-quickchart {\n",
              "    background-color: #E8F0FE;\n",
              "    border: none;\n",
              "    border-radius: 50%;\n",
              "    cursor: pointer;\n",
              "    display: none;\n",
              "    fill: #1967D2;\n",
              "    height: 32px;\n",
              "    padding: 0 0 0 0;\n",
              "    width: 32px;\n",
              "  }\n",
              "\n",
              "  .colab-df-quickchart:hover {\n",
              "    background-color: #E2EBFA;\n",
              "    box-shadow: 0px 1px 2px rgba(60, 64, 67, 0.3), 0px 1px 3px 1px rgba(60, 64, 67, 0.15);\n",
              "    fill: #174EA6;\n",
              "  }\n",
              "\n",
              "  [theme=dark] .colab-df-quickchart {\n",
              "    background-color: #3B4455;\n",
              "    fill: #D2E3FC;\n",
              "  }\n",
              "\n",
              "  [theme=dark] .colab-df-quickchart:hover {\n",
              "    background-color: #434B5C;\n",
              "    box-shadow: 0px 1px 3px 1px rgba(0, 0, 0, 0.15);\n",
              "    filter: drop-shadow(0px 1px 2px rgba(0, 0, 0, 0.3));\n",
              "    fill: #FFFFFF;\n",
              "  }\n",
              "</style>\n",
              "\n",
              "    <script>\n",
              "      async function quickchart(key) {\n",
              "        const containerElement = document.querySelector('#' + key);\n",
              "        const charts = await google.colab.kernel.invokeFunction(\n",
              "            'suggestCharts', [key], {});\n",
              "      }\n",
              "    </script>\n",
              "\n",
              "      <script>\n",
              "\n",
              "function displayQuickchartButton(domScope) {\n",
              "  let quickchartButtonEl =\n",
              "    domScope.querySelector('#df-30d069ce-6191-4077-9fd0-f47d67624505 button.colab-df-quickchart');\n",
              "  quickchartButtonEl.style.display =\n",
              "    google.colab.kernel.accessAllowed ? 'block' : 'none';\n",
              "}\n",
              "\n",
              "        displayQuickchartButton(document);\n",
              "      </script>\n",
              "      <style>\n",
              "    .colab-df-container {\n",
              "      display:flex;\n",
              "      flex-wrap:wrap;\n",
              "      gap: 12px;\n",
              "    }\n",
              "\n",
              "    .colab-df-convert {\n",
              "      background-color: #E8F0FE;\n",
              "      border: none;\n",
              "      border-radius: 50%;\n",
              "      cursor: pointer;\n",
              "      display: none;\n",
              "      fill: #1967D2;\n",
              "      height: 32px;\n",
              "      padding: 0 0 0 0;\n",
              "      width: 32px;\n",
              "    }\n",
              "\n",
              "    .colab-df-convert:hover {\n",
              "      background-color: #E2EBFA;\n",
              "      box-shadow: 0px 1px 2px rgba(60, 64, 67, 0.3), 0px 1px 3px 1px rgba(60, 64, 67, 0.15);\n",
              "      fill: #174EA6;\n",
              "    }\n",
              "\n",
              "    [theme=dark] .colab-df-convert {\n",
              "      background-color: #3B4455;\n",
              "      fill: #D2E3FC;\n",
              "    }\n",
              "\n",
              "    [theme=dark] .colab-df-convert:hover {\n",
              "      background-color: #434B5C;\n",
              "      box-shadow: 0px 1px 3px 1px rgba(0, 0, 0, 0.15);\n",
              "      filter: drop-shadow(0px 1px 2px rgba(0, 0, 0, 0.3));\n",
              "      fill: #FFFFFF;\n",
              "    }\n",
              "  </style>\n",
              "\n",
              "      <script>\n",
              "        const buttonEl =\n",
              "          document.querySelector('#df-0eef808a-6649-4376-bd3b-2b3b461a32f6 button.colab-df-convert');\n",
              "        buttonEl.style.display =\n",
              "          google.colab.kernel.accessAllowed ? 'block' : 'none';\n",
              "\n",
              "        async function convertToInteractive(key) {\n",
              "          const element = document.querySelector('#df-0eef808a-6649-4376-bd3b-2b3b461a32f6');\n",
              "          const dataTable =\n",
              "            await google.colab.kernel.invokeFunction('convertToInteractive',\n",
              "                                                     [key], {});\n",
              "          if (!dataTable) return;\n",
              "\n",
              "          const docLinkHtml = 'Like what you see? Visit the ' +\n",
              "            '<a target=\"_blank\" href=https://colab.research.google.com/notebooks/data_table.ipynb>data table notebook</a>'\n",
              "            + ' to learn more about interactive tables.';\n",
              "          element.innerHTML = '';\n",
              "          dataTable['output_type'] = 'display_data';\n",
              "          await google.colab.output.renderOutput(dataTable, element);\n",
              "          const docLink = document.createElement('div');\n",
              "          docLink.innerHTML = docLinkHtml;\n",
              "          element.appendChild(docLink);\n",
              "        }\n",
              "      </script>\n",
              "    </div>\n",
              "  </div>\n"
            ]
          },
          "metadata": {},
          "execution_count": 674
        }
      ]
    },
    {
      "cell_type": "code",
      "source": [
        "y= f1.iloc[:,0]"
      ],
      "metadata": {
        "id": "WIgHd3PB2WLW"
      },
      "execution_count": 675,
      "outputs": []
    },
    {
      "cell_type": "code",
      "source": [
        "y.value_counts()"
      ],
      "metadata": {
        "colab": {
          "base_uri": "https://localhost:8080/"
        },
        "id": "xHtz4h8X4fTt",
        "outputId": "f834fea4-2057-4892-db4e-335335744646"
      },
      "execution_count": 676,
      "outputs": [
        {
          "output_type": "execute_result",
          "data": {
            "text/plain": [
              "0    476\n",
              "1    124\n",
              "Name: Taxable.Income, dtype: int64"
            ]
          },
          "metadata": {},
          "execution_count": 676
        }
      ]
    },
    {
      "cell_type": "code",
      "source": [
        "X_train, X_test, y_train, y_test = train_test_split(X,y, test_size = 0.2, random_state = 42)"
      ],
      "metadata": {
        "id": "V5kGIpb_3bCk"
      },
      "execution_count": 677,
      "outputs": []
    },
    {
      "cell_type": "code",
      "source": [
        "X_train.shape, X_test.shape, y_train.shape, y_test.shape"
      ],
      "metadata": {
        "id": "UacAmxA13a_i",
        "colab": {
          "base_uri": "https://localhost:8080/"
        },
        "outputId": "5b2a205a-2e20-4379-fad8-cb10964370f4"
      },
      "execution_count": 678,
      "outputs": [
        {
          "output_type": "execute_result",
          "data": {
            "text/plain": [
              "((480, 8), (120, 8), (480,), (120,))"
            ]
          },
          "metadata": {},
          "execution_count": 678
        }
      ]
    },
    {
      "cell_type": "markdown",
      "source": [
        "# Resampling using SMOTE"
      ],
      "metadata": {
        "id": "REepqoj-BFjh"
      }
    },
    {
      "cell_type": "code",
      "source": [
        "from imblearn.combine import SMOTETomek\n",
        "from imblearn.under_sampling import TomekLinks"
      ],
      "metadata": {
        "id": "wwGawMr9-N9d"
      },
      "execution_count": 763,
      "outputs": []
    },
    {
      "cell_type": "code",
      "source": [
        "SMOTE = SMOTETomek(random_state=42)\n",
        "TM = TomekLinks()\n",
        "X_train_res, y_train_res = TM.fit_resample(X_train,y_train)\n",
        "X_train_res, y_train_res = SMOTE.fit_resample(X_train_res, y_train_res)"
      ],
      "metadata": {
        "id": "2FvC1GBX-CoY"
      },
      "execution_count": 765,
      "outputs": []
    },
    {
      "cell_type": "markdown",
      "source": [
        "# Hyperparameter Tuning (Grid Search)"
      ],
      "metadata": {
        "id": "d6xG59OgJirQ"
      }
    },
    {
      "cell_type": "code",
      "source": [
        "from sklearn.model_selection import GridSearchCV"
      ],
      "metadata": {
        "id": "cPMbzXwdJim6"
      },
      "execution_count": 766,
      "outputs": []
    },
    {
      "cell_type": "code",
      "source": [
        "pgrid = [{'max_depth':[2,3,4,5,6,7,8,9,10,11,12,50,100,400],'max_leaf_nodes':[2,3,4,5,6,7,8,9,10,11,12,50,100,400], 'min_samples_split':[2,3,4,5,6,7,8]}]"
      ],
      "metadata": {
        "id": "8v-peypUJiku"
      },
      "execution_count": 767,
      "outputs": []
    },
    {
      "cell_type": "code",
      "source": [
        "model0 = DecisionTreeClassifier()"
      ],
      "metadata": {
        "id": "R5dE9UmqJijP"
      },
      "execution_count": 768,
      "outputs": []
    },
    {
      "cell_type": "code",
      "source": [
        "grid = GridSearchCV(model0, param_grid = pgrid, cv = 10)"
      ],
      "metadata": {
        "id": "Bv-EWnJBJiev"
      },
      "execution_count": 769,
      "outputs": []
    },
    {
      "cell_type": "code",
      "source": [
        "grid.fit(X_train_res, y_train_res)"
      ],
      "metadata": {
        "colab": {
          "base_uri": "https://localhost:8080/",
          "height": 117
        },
        "id": "sxohwOIfJicp",
        "outputId": "2cedbaaf-ec0a-4e43-9583-3018cde626e6"
      },
      "execution_count": 770,
      "outputs": [
        {
          "output_type": "execute_result",
          "data": {
            "text/plain": [
              "GridSearchCV(cv=10, estimator=DecisionTreeClassifier(),\n",
              "             param_grid=[{'max_depth': [2, 3, 4, 5, 6, 7, 8, 9, 10, 11, 12, 50,\n",
              "                                        100, 400],\n",
              "                          'max_leaf_nodes': [2, 3, 4, 5, 6, 7, 8, 9, 10, 11, 12,\n",
              "                                             50, 100, 400],\n",
              "                          'min_samples_split': [2, 3, 4, 5, 6, 7, 8]}])"
            ],
            "text/html": [
              "<style>#sk-container-id-55 {color: black;background-color: white;}#sk-container-id-55 pre{padding: 0;}#sk-container-id-55 div.sk-toggleable {background-color: white;}#sk-container-id-55 label.sk-toggleable__label {cursor: pointer;display: block;width: 100%;margin-bottom: 0;padding: 0.3em;box-sizing: border-box;text-align: center;}#sk-container-id-55 label.sk-toggleable__label-arrow:before {content: \"▸\";float: left;margin-right: 0.25em;color: #696969;}#sk-container-id-55 label.sk-toggleable__label-arrow:hover:before {color: black;}#sk-container-id-55 div.sk-estimator:hover label.sk-toggleable__label-arrow:before {color: black;}#sk-container-id-55 div.sk-toggleable__content {max-height: 0;max-width: 0;overflow: hidden;text-align: left;background-color: #f0f8ff;}#sk-container-id-55 div.sk-toggleable__content pre {margin: 0.2em;color: black;border-radius: 0.25em;background-color: #f0f8ff;}#sk-container-id-55 input.sk-toggleable__control:checked~div.sk-toggleable__content {max-height: 200px;max-width: 100%;overflow: auto;}#sk-container-id-55 input.sk-toggleable__control:checked~label.sk-toggleable__label-arrow:before {content: \"▾\";}#sk-container-id-55 div.sk-estimator input.sk-toggleable__control:checked~label.sk-toggleable__label {background-color: #d4ebff;}#sk-container-id-55 div.sk-label input.sk-toggleable__control:checked~label.sk-toggleable__label {background-color: #d4ebff;}#sk-container-id-55 input.sk-hidden--visually {border: 0;clip: rect(1px 1px 1px 1px);clip: rect(1px, 1px, 1px, 1px);height: 1px;margin: -1px;overflow: hidden;padding: 0;position: absolute;width: 1px;}#sk-container-id-55 div.sk-estimator {font-family: monospace;background-color: #f0f8ff;border: 1px dotted black;border-radius: 0.25em;box-sizing: border-box;margin-bottom: 0.5em;}#sk-container-id-55 div.sk-estimator:hover {background-color: #d4ebff;}#sk-container-id-55 div.sk-parallel-item::after {content: \"\";width: 100%;border-bottom: 1px solid gray;flex-grow: 1;}#sk-container-id-55 div.sk-label:hover label.sk-toggleable__label {background-color: #d4ebff;}#sk-container-id-55 div.sk-serial::before {content: \"\";position: absolute;border-left: 1px solid gray;box-sizing: border-box;top: 0;bottom: 0;left: 50%;z-index: 0;}#sk-container-id-55 div.sk-serial {display: flex;flex-direction: column;align-items: center;background-color: white;padding-right: 0.2em;padding-left: 0.2em;position: relative;}#sk-container-id-55 div.sk-item {position: relative;z-index: 1;}#sk-container-id-55 div.sk-parallel {display: flex;align-items: stretch;justify-content: center;background-color: white;position: relative;}#sk-container-id-55 div.sk-item::before, #sk-container-id-55 div.sk-parallel-item::before {content: \"\";position: absolute;border-left: 1px solid gray;box-sizing: border-box;top: 0;bottom: 0;left: 50%;z-index: -1;}#sk-container-id-55 div.sk-parallel-item {display: flex;flex-direction: column;z-index: 1;position: relative;background-color: white;}#sk-container-id-55 div.sk-parallel-item:first-child::after {align-self: flex-end;width: 50%;}#sk-container-id-55 div.sk-parallel-item:last-child::after {align-self: flex-start;width: 50%;}#sk-container-id-55 div.sk-parallel-item:only-child::after {width: 0;}#sk-container-id-55 div.sk-dashed-wrapped {border: 1px dashed gray;margin: 0 0.4em 0.5em 0.4em;box-sizing: border-box;padding-bottom: 0.4em;background-color: white;}#sk-container-id-55 div.sk-label label {font-family: monospace;font-weight: bold;display: inline-block;line-height: 1.2em;}#sk-container-id-55 div.sk-label-container {text-align: center;}#sk-container-id-55 div.sk-container {/* jupyter's `normalize.less` sets `[hidden] { display: none; }` but bootstrap.min.css set `[hidden] { display: none !important; }` so we also need the `!important` here to be able to override the default hidden behavior on the sphinx rendered scikit-learn.org. See: https://github.com/scikit-learn/scikit-learn/issues/21755 */display: inline-block !important;position: relative;}#sk-container-id-55 div.sk-text-repr-fallback {display: none;}</style><div id=\"sk-container-id-55\" class=\"sk-top-container\"><div class=\"sk-text-repr-fallback\"><pre>GridSearchCV(cv=10, estimator=DecisionTreeClassifier(),\n",
              "             param_grid=[{&#x27;max_depth&#x27;: [2, 3, 4, 5, 6, 7, 8, 9, 10, 11, 12, 50,\n",
              "                                        100, 400],\n",
              "                          &#x27;max_leaf_nodes&#x27;: [2, 3, 4, 5, 6, 7, 8, 9, 10, 11, 12,\n",
              "                                             50, 100, 400],\n",
              "                          &#x27;min_samples_split&#x27;: [2, 3, 4, 5, 6, 7, 8]}])</pre><b>In a Jupyter environment, please rerun this cell to show the HTML representation or trust the notebook. <br />On GitHub, the HTML representation is unable to render, please try loading this page with nbviewer.org.</b></div><div class=\"sk-container\" hidden><div class=\"sk-item sk-dashed-wrapped\"><div class=\"sk-label-container\"><div class=\"sk-label sk-toggleable\"><input class=\"sk-toggleable__control sk-hidden--visually\" id=\"sk-estimator-id-89\" type=\"checkbox\" ><label for=\"sk-estimator-id-89\" class=\"sk-toggleable__label sk-toggleable__label-arrow\">GridSearchCV</label><div class=\"sk-toggleable__content\"><pre>GridSearchCV(cv=10, estimator=DecisionTreeClassifier(),\n",
              "             param_grid=[{&#x27;max_depth&#x27;: [2, 3, 4, 5, 6, 7, 8, 9, 10, 11, 12, 50,\n",
              "                                        100, 400],\n",
              "                          &#x27;max_leaf_nodes&#x27;: [2, 3, 4, 5, 6, 7, 8, 9, 10, 11, 12,\n",
              "                                             50, 100, 400],\n",
              "                          &#x27;min_samples_split&#x27;: [2, 3, 4, 5, 6, 7, 8]}])</pre></div></div></div><div class=\"sk-parallel\"><div class=\"sk-parallel-item\"><div class=\"sk-item\"><div class=\"sk-label-container\"><div class=\"sk-label sk-toggleable\"><input class=\"sk-toggleable__control sk-hidden--visually\" id=\"sk-estimator-id-90\" type=\"checkbox\" ><label for=\"sk-estimator-id-90\" class=\"sk-toggleable__label sk-toggleable__label-arrow\">estimator: DecisionTreeClassifier</label><div class=\"sk-toggleable__content\"><pre>DecisionTreeClassifier()</pre></div></div></div><div class=\"sk-serial\"><div class=\"sk-item\"><div class=\"sk-estimator sk-toggleable\"><input class=\"sk-toggleable__control sk-hidden--visually\" id=\"sk-estimator-id-91\" type=\"checkbox\" ><label for=\"sk-estimator-id-91\" class=\"sk-toggleable__label sk-toggleable__label-arrow\">DecisionTreeClassifier</label><div class=\"sk-toggleable__content\"><pre>DecisionTreeClassifier()</pre></div></div></div></div></div></div></div></div></div></div>"
            ]
          },
          "metadata": {},
          "execution_count": 770
        }
      ]
    },
    {
      "cell_type": "code",
      "source": [
        "best_model = grid.best_estimator_\n",
        "best_model"
      ],
      "metadata": {
        "colab": {
          "base_uri": "https://localhost:8080/",
          "height": 74
        },
        "id": "qo5QqvkekH_c",
        "outputId": "76bbc9db-7419-4b7f-d993-06332db832ad"
      },
      "execution_count": 771,
      "outputs": [
        {
          "output_type": "execute_result",
          "data": {
            "text/plain": [
              "DecisionTreeClassifier(max_depth=12, max_leaf_nodes=50, min_samples_split=5)"
            ],
            "text/html": [
              "<style>#sk-container-id-56 {color: black;background-color: white;}#sk-container-id-56 pre{padding: 0;}#sk-container-id-56 div.sk-toggleable {background-color: white;}#sk-container-id-56 label.sk-toggleable__label {cursor: pointer;display: block;width: 100%;margin-bottom: 0;padding: 0.3em;box-sizing: border-box;text-align: center;}#sk-container-id-56 label.sk-toggleable__label-arrow:before {content: \"▸\";float: left;margin-right: 0.25em;color: #696969;}#sk-container-id-56 label.sk-toggleable__label-arrow:hover:before {color: black;}#sk-container-id-56 div.sk-estimator:hover label.sk-toggleable__label-arrow:before {color: black;}#sk-container-id-56 div.sk-toggleable__content {max-height: 0;max-width: 0;overflow: hidden;text-align: left;background-color: #f0f8ff;}#sk-container-id-56 div.sk-toggleable__content pre {margin: 0.2em;color: black;border-radius: 0.25em;background-color: #f0f8ff;}#sk-container-id-56 input.sk-toggleable__control:checked~div.sk-toggleable__content {max-height: 200px;max-width: 100%;overflow: auto;}#sk-container-id-56 input.sk-toggleable__control:checked~label.sk-toggleable__label-arrow:before {content: \"▾\";}#sk-container-id-56 div.sk-estimator input.sk-toggleable__control:checked~label.sk-toggleable__label {background-color: #d4ebff;}#sk-container-id-56 div.sk-label input.sk-toggleable__control:checked~label.sk-toggleable__label {background-color: #d4ebff;}#sk-container-id-56 input.sk-hidden--visually {border: 0;clip: rect(1px 1px 1px 1px);clip: rect(1px, 1px, 1px, 1px);height: 1px;margin: -1px;overflow: hidden;padding: 0;position: absolute;width: 1px;}#sk-container-id-56 div.sk-estimator {font-family: monospace;background-color: #f0f8ff;border: 1px dotted black;border-radius: 0.25em;box-sizing: border-box;margin-bottom: 0.5em;}#sk-container-id-56 div.sk-estimator:hover {background-color: #d4ebff;}#sk-container-id-56 div.sk-parallel-item::after {content: \"\";width: 100%;border-bottom: 1px solid gray;flex-grow: 1;}#sk-container-id-56 div.sk-label:hover label.sk-toggleable__label {background-color: #d4ebff;}#sk-container-id-56 div.sk-serial::before {content: \"\";position: absolute;border-left: 1px solid gray;box-sizing: border-box;top: 0;bottom: 0;left: 50%;z-index: 0;}#sk-container-id-56 div.sk-serial {display: flex;flex-direction: column;align-items: center;background-color: white;padding-right: 0.2em;padding-left: 0.2em;position: relative;}#sk-container-id-56 div.sk-item {position: relative;z-index: 1;}#sk-container-id-56 div.sk-parallel {display: flex;align-items: stretch;justify-content: center;background-color: white;position: relative;}#sk-container-id-56 div.sk-item::before, #sk-container-id-56 div.sk-parallel-item::before {content: \"\";position: absolute;border-left: 1px solid gray;box-sizing: border-box;top: 0;bottom: 0;left: 50%;z-index: -1;}#sk-container-id-56 div.sk-parallel-item {display: flex;flex-direction: column;z-index: 1;position: relative;background-color: white;}#sk-container-id-56 div.sk-parallel-item:first-child::after {align-self: flex-end;width: 50%;}#sk-container-id-56 div.sk-parallel-item:last-child::after {align-self: flex-start;width: 50%;}#sk-container-id-56 div.sk-parallel-item:only-child::after {width: 0;}#sk-container-id-56 div.sk-dashed-wrapped {border: 1px dashed gray;margin: 0 0.4em 0.5em 0.4em;box-sizing: border-box;padding-bottom: 0.4em;background-color: white;}#sk-container-id-56 div.sk-label label {font-family: monospace;font-weight: bold;display: inline-block;line-height: 1.2em;}#sk-container-id-56 div.sk-label-container {text-align: center;}#sk-container-id-56 div.sk-container {/* jupyter's `normalize.less` sets `[hidden] { display: none; }` but bootstrap.min.css set `[hidden] { display: none !important; }` so we also need the `!important` here to be able to override the default hidden behavior on the sphinx rendered scikit-learn.org. See: https://github.com/scikit-learn/scikit-learn/issues/21755 */display: inline-block !important;position: relative;}#sk-container-id-56 div.sk-text-repr-fallback {display: none;}</style><div id=\"sk-container-id-56\" class=\"sk-top-container\"><div class=\"sk-text-repr-fallback\"><pre>DecisionTreeClassifier(max_depth=12, max_leaf_nodes=50, min_samples_split=5)</pre><b>In a Jupyter environment, please rerun this cell to show the HTML representation or trust the notebook. <br />On GitHub, the HTML representation is unable to render, please try loading this page with nbviewer.org.</b></div><div class=\"sk-container\" hidden><div class=\"sk-item\"><div class=\"sk-estimator sk-toggleable\"><input class=\"sk-toggleable__control sk-hidden--visually\" id=\"sk-estimator-id-92\" type=\"checkbox\" checked><label for=\"sk-estimator-id-92\" class=\"sk-toggleable__label sk-toggleable__label-arrow\">DecisionTreeClassifier</label><div class=\"sk-toggleable__content\"><pre>DecisionTreeClassifier(max_depth=12, max_leaf_nodes=50, min_samples_split=5)</pre></div></div></div></div></div>"
            ]
          },
          "metadata": {},
          "execution_count": 771
        }
      ]
    },
    {
      "cell_type": "code",
      "source": [
        "grid.best_params_"
      ],
      "metadata": {
        "colab": {
          "base_uri": "https://localhost:8080/"
        },
        "id": "17E3srEr9Arr",
        "outputId": "ac39344e-625c-4ff8-9222-11fc3cf45d46"
      },
      "execution_count": 772,
      "outputs": [
        {
          "output_type": "execute_result",
          "data": {
            "text/plain": [
              "{'max_depth': 12, 'max_leaf_nodes': 50, 'min_samples_split': 5}"
            ]
          },
          "metadata": {},
          "execution_count": 772
        }
      ]
    },
    {
      "cell_type": "code",
      "source": [
        "grid.best_score_"
      ],
      "metadata": {
        "id": "tBElpTWuJiXk",
        "colab": {
          "base_uri": "https://localhost:8080/"
        },
        "outputId": "92c12870-488f-48a7-9ee1-b6ba4c7dac5f"
      },
      "execution_count": 773,
      "outputs": [
        {
          "output_type": "execute_result",
          "data": {
            "text/plain": [
              "0.8056603773584905"
            ]
          },
          "metadata": {},
          "execution_count": 773
        }
      ]
    },
    {
      "cell_type": "code",
      "source": [
        "best_model.score(X_train, y_train)"
      ],
      "metadata": {
        "colab": {
          "base_uri": "https://localhost:8080/"
        },
        "id": "vDbtzf-4kOmy",
        "outputId": "268c7dd6-207e-43ea-861a-b228b237ec21"
      },
      "execution_count": 774,
      "outputs": [
        {
          "output_type": "execute_result",
          "data": {
            "text/plain": [
              "0.84375"
            ]
          },
          "metadata": {},
          "execution_count": 774
        }
      ]
    },
    {
      "cell_type": "code",
      "source": [
        "best_model.score(X_test, y_test)"
      ],
      "metadata": {
        "id": "I-83blRRJiU2",
        "colab": {
          "base_uri": "https://localhost:8080/"
        },
        "outputId": "cd3cb1fd-efaa-45c9-a60e-8d495be5f60b"
      },
      "execution_count": 775,
      "outputs": [
        {
          "output_type": "execute_result",
          "data": {
            "text/plain": [
              "0.6333333333333333"
            ]
          },
          "metadata": {},
          "execution_count": 775
        }
      ]
    },
    {
      "cell_type": "markdown",
      "source": [
        "# Model (Entropy Criterion)"
      ],
      "metadata": {
        "id": "OVU95utC3azY"
      }
    },
    {
      "cell_type": "code",
      "source": [
        "model1 = DecisionTreeClassifier(max_depth = 12, criterion = 'entropy', max_leaf_nodes= 50, min_samples_split = 5)"
      ],
      "metadata": {
        "id": "jhiKSVLjHWsS"
      },
      "execution_count": 853,
      "outputs": []
    },
    {
      "cell_type": "code",
      "source": [
        "model1.fit(X_train, y_train)"
      ],
      "metadata": {
        "colab": {
          "base_uri": "https://localhost:8080/",
          "height": 92
        },
        "id": "wcB7ZDVvrNaF",
        "outputId": "2655a548-3667-4883-c04e-099587f60817"
      },
      "execution_count": 854,
      "outputs": [
        {
          "output_type": "execute_result",
          "data": {
            "text/plain": [
              "DecisionTreeClassifier(criterion='entropy', max_depth=12, max_leaf_nodes=50,\n",
              "                       min_samples_split=5)"
            ],
            "text/html": [
              "<style>#sk-container-id-64 {color: black;background-color: white;}#sk-container-id-64 pre{padding: 0;}#sk-container-id-64 div.sk-toggleable {background-color: white;}#sk-container-id-64 label.sk-toggleable__label {cursor: pointer;display: block;width: 100%;margin-bottom: 0;padding: 0.3em;box-sizing: border-box;text-align: center;}#sk-container-id-64 label.sk-toggleable__label-arrow:before {content: \"▸\";float: left;margin-right: 0.25em;color: #696969;}#sk-container-id-64 label.sk-toggleable__label-arrow:hover:before {color: black;}#sk-container-id-64 div.sk-estimator:hover label.sk-toggleable__label-arrow:before {color: black;}#sk-container-id-64 div.sk-toggleable__content {max-height: 0;max-width: 0;overflow: hidden;text-align: left;background-color: #f0f8ff;}#sk-container-id-64 div.sk-toggleable__content pre {margin: 0.2em;color: black;border-radius: 0.25em;background-color: #f0f8ff;}#sk-container-id-64 input.sk-toggleable__control:checked~div.sk-toggleable__content {max-height: 200px;max-width: 100%;overflow: auto;}#sk-container-id-64 input.sk-toggleable__control:checked~label.sk-toggleable__label-arrow:before {content: \"▾\";}#sk-container-id-64 div.sk-estimator input.sk-toggleable__control:checked~label.sk-toggleable__label {background-color: #d4ebff;}#sk-container-id-64 div.sk-label input.sk-toggleable__control:checked~label.sk-toggleable__label {background-color: #d4ebff;}#sk-container-id-64 input.sk-hidden--visually {border: 0;clip: rect(1px 1px 1px 1px);clip: rect(1px, 1px, 1px, 1px);height: 1px;margin: -1px;overflow: hidden;padding: 0;position: absolute;width: 1px;}#sk-container-id-64 div.sk-estimator {font-family: monospace;background-color: #f0f8ff;border: 1px dotted black;border-radius: 0.25em;box-sizing: border-box;margin-bottom: 0.5em;}#sk-container-id-64 div.sk-estimator:hover {background-color: #d4ebff;}#sk-container-id-64 div.sk-parallel-item::after {content: \"\";width: 100%;border-bottom: 1px solid gray;flex-grow: 1;}#sk-container-id-64 div.sk-label:hover label.sk-toggleable__label {background-color: #d4ebff;}#sk-container-id-64 div.sk-serial::before {content: \"\";position: absolute;border-left: 1px solid gray;box-sizing: border-box;top: 0;bottom: 0;left: 50%;z-index: 0;}#sk-container-id-64 div.sk-serial {display: flex;flex-direction: column;align-items: center;background-color: white;padding-right: 0.2em;padding-left: 0.2em;position: relative;}#sk-container-id-64 div.sk-item {position: relative;z-index: 1;}#sk-container-id-64 div.sk-parallel {display: flex;align-items: stretch;justify-content: center;background-color: white;position: relative;}#sk-container-id-64 div.sk-item::before, #sk-container-id-64 div.sk-parallel-item::before {content: \"\";position: absolute;border-left: 1px solid gray;box-sizing: border-box;top: 0;bottom: 0;left: 50%;z-index: -1;}#sk-container-id-64 div.sk-parallel-item {display: flex;flex-direction: column;z-index: 1;position: relative;background-color: white;}#sk-container-id-64 div.sk-parallel-item:first-child::after {align-self: flex-end;width: 50%;}#sk-container-id-64 div.sk-parallel-item:last-child::after {align-self: flex-start;width: 50%;}#sk-container-id-64 div.sk-parallel-item:only-child::after {width: 0;}#sk-container-id-64 div.sk-dashed-wrapped {border: 1px dashed gray;margin: 0 0.4em 0.5em 0.4em;box-sizing: border-box;padding-bottom: 0.4em;background-color: white;}#sk-container-id-64 div.sk-label label {font-family: monospace;font-weight: bold;display: inline-block;line-height: 1.2em;}#sk-container-id-64 div.sk-label-container {text-align: center;}#sk-container-id-64 div.sk-container {/* jupyter's `normalize.less` sets `[hidden] { display: none; }` but bootstrap.min.css set `[hidden] { display: none !important; }` so we also need the `!important` here to be able to override the default hidden behavior on the sphinx rendered scikit-learn.org. See: https://github.com/scikit-learn/scikit-learn/issues/21755 */display: inline-block !important;position: relative;}#sk-container-id-64 div.sk-text-repr-fallback {display: none;}</style><div id=\"sk-container-id-64\" class=\"sk-top-container\"><div class=\"sk-text-repr-fallback\"><pre>DecisionTreeClassifier(criterion=&#x27;entropy&#x27;, max_depth=12, max_leaf_nodes=50,\n",
              "                       min_samples_split=5)</pre><b>In a Jupyter environment, please rerun this cell to show the HTML representation or trust the notebook. <br />On GitHub, the HTML representation is unable to render, please try loading this page with nbviewer.org.</b></div><div class=\"sk-container\" hidden><div class=\"sk-item\"><div class=\"sk-estimator sk-toggleable\"><input class=\"sk-toggleable__control sk-hidden--visually\" id=\"sk-estimator-id-100\" type=\"checkbox\" checked><label for=\"sk-estimator-id-100\" class=\"sk-toggleable__label sk-toggleable__label-arrow\">DecisionTreeClassifier</label><div class=\"sk-toggleable__content\"><pre>DecisionTreeClassifier(criterion=&#x27;entropy&#x27;, max_depth=12, max_leaf_nodes=50,\n",
              "                       min_samples_split=5)</pre></div></div></div></div></div>"
            ]
          },
          "metadata": {},
          "execution_count": 854
        }
      ]
    },
    {
      "cell_type": "code",
      "source": [
        "train_predicted1 = model1.predict(X_train)"
      ],
      "metadata": {
        "id": "mtjVsBw6HWmD"
      },
      "execution_count": 855,
      "outputs": []
    },
    {
      "cell_type": "code",
      "source": [
        "confusion_matrix(y_train, train_predicted1)"
      ],
      "metadata": {
        "id": "aieEzYX0HWjM",
        "colab": {
          "base_uri": "https://localhost:8080/"
        },
        "outputId": "58689e8d-0b95-4ae1-a903-2456b4a7cd47"
      },
      "execution_count": 856,
      "outputs": [
        {
          "output_type": "execute_result",
          "data": {
            "text/plain": [
              "array([[378,   4],\n",
              "       [ 59,  39]])"
            ]
          },
          "metadata": {},
          "execution_count": 856
        }
      ]
    },
    {
      "cell_type": "code",
      "source": [
        "print(classification_report(y_train, train_predicted1))"
      ],
      "metadata": {
        "id": "PnR7HAHPHWgA",
        "colab": {
          "base_uri": "https://localhost:8080/"
        },
        "outputId": "bcadc51a-c4fd-4307-f45a-c6e71e71a682"
      },
      "execution_count": 857,
      "outputs": [
        {
          "output_type": "stream",
          "name": "stdout",
          "text": [
            "              precision    recall  f1-score   support\n",
            "\n",
            "           0       0.86      0.99      0.92       382\n",
            "           1       0.91      0.40      0.55        98\n",
            "\n",
            "    accuracy                           0.87       480\n",
            "   macro avg       0.89      0.69      0.74       480\n",
            "weighted avg       0.87      0.87      0.85       480\n",
            "\n"
          ]
        }
      ]
    },
    {
      "cell_type": "code",
      "source": [
        "test_predicted1 = model1.predict(X_test)"
      ],
      "metadata": {
        "id": "IrhhrJgFHWdN"
      },
      "execution_count": 858,
      "outputs": []
    },
    {
      "cell_type": "code",
      "source": [
        "confusion_matrix(y_test, test_predicted1)"
      ],
      "metadata": {
        "colab": {
          "base_uri": "https://localhost:8080/"
        },
        "id": "axm7TUQertc1",
        "outputId": "670df64b-946b-479f-8ad4-1709d4f6091d"
      },
      "execution_count": 859,
      "outputs": [
        {
          "output_type": "execute_result",
          "data": {
            "text/plain": [
              "array([[80, 14],\n",
              "       [24,  2]])"
            ]
          },
          "metadata": {},
          "execution_count": 859
        }
      ]
    },
    {
      "cell_type": "code",
      "source": [
        "print(classification_report(y_test, test_predicted1))"
      ],
      "metadata": {
        "colab": {
          "base_uri": "https://localhost:8080/"
        },
        "id": "r6zzkt0tr0KQ",
        "outputId": "24bbbfd2-a91c-461b-e90c-1ad5e7fecc11"
      },
      "execution_count": 860,
      "outputs": [
        {
          "output_type": "stream",
          "name": "stdout",
          "text": [
            "              precision    recall  f1-score   support\n",
            "\n",
            "           0       0.77      0.85      0.81        94\n",
            "           1       0.12      0.08      0.10        26\n",
            "\n",
            "    accuracy                           0.68       120\n",
            "   macro avg       0.45      0.46      0.45       120\n",
            "weighted avg       0.63      0.68      0.65       120\n",
            "\n"
          ]
        }
      ]
    },
    {
      "cell_type": "markdown",
      "source": [
        "# Visualising the Tree"
      ],
      "metadata": {
        "id": "S0H7w2d3sJ12"
      }
    },
    {
      "cell_type": "code",
      "source": [
        "from sklearn import tree"
      ],
      "metadata": {
        "id": "qjTyOkit9gdB"
      },
      "execution_count": 861,
      "outputs": []
    },
    {
      "cell_type": "code",
      "source": [
        "features = X.columns.values\n",
        "features"
      ],
      "metadata": {
        "colab": {
          "base_uri": "https://localhost:8080/"
        },
        "id": "p6v1M2WO92en",
        "outputId": "8a9f9446-34d0-4fa4-d35d-671eac4fa0e6"
      },
      "execution_count": 862,
      "outputs": [
        {
          "output_type": "execute_result",
          "data": {
            "text/plain": [
              "array(['City.Population', 'Work.Experience', 'Urban', 'Undergrad_NO',\n",
              "       'Undergrad_YES', 'Marital.Status_Divorced',\n",
              "       'Marital.Status_Married', 'Marital.Status_Single'], dtype=object)"
            ]
          },
          "metadata": {},
          "execution_count": 862
        }
      ]
    },
    {
      "cell_type": "code",
      "source": [
        "classes = str(y.unique())\n",
        "classes"
      ],
      "metadata": {
        "colab": {
          "base_uri": "https://localhost:8080/",
          "height": 36
        },
        "id": "R0YiO7D295k5",
        "outputId": "a7f81189-c817-4b75-db9f-020a62db0d1e"
      },
      "execution_count": 863,
      "outputs": [
        {
          "output_type": "execute_result",
          "data": {
            "text/plain": [
              "'[0 1]'"
            ],
            "application/vnd.google.colaboratory.intrinsic+json": {
              "type": "string"
            }
          },
          "metadata": {},
          "execution_count": 863
        }
      ]
    },
    {
      "cell_type": "code",
      "source": [
        "plt.subplots(figsize = (10,10))\n",
        "tree.plot_tree(model1, feature_names = features, class_names = classes, filled = True)"
      ],
      "metadata": {
        "colab": {
          "base_uri": "https://localhost:8080/",
          "height": 1000
        },
        "id": "VhR-OD2S9D-F",
        "outputId": "9e9c1c35-de57-4dd9-928b-a7925255e95f"
      },
      "execution_count": 864,
      "outputs": [
        {
          "output_type": "execute_result",
          "data": {
            "text/plain": [
              "[Text(0.5628238341968912, 0.9615384615384616, 'Marital.Status_Married <= 0.5\\nentropy = 0.73\\nsamples = 480\\nvalue = [382, 98]\\nclass = ['),\n",
              " Text(0.4106217616580311, 0.8846153846153846, 'Work.Experience <= 29.5\\nentropy = 0.685\\nsamples = 324\\nvalue = [265, 59]\\nclass = ['),\n",
              " Text(0.3238341968911917, 0.8076923076923077, 'Work.Experience <= 23.5\\nentropy = 0.666\\nsamples = 311\\nvalue = [257, 54]\\nclass = ['),\n",
              " Text(0.23316062176165803, 0.7307692307692307, 'Work.Experience <= 0.5\\nentropy = 0.715\\nsamples = 244\\nvalue = [196, 48]\\nclass = ['),\n",
              " Text(0.21243523316062177, 0.6538461538461539, 'entropy = 0.0\\nsamples = 7\\nvalue = [7, 0]\\nclass = ['),\n",
              " Text(0.2538860103626943, 0.6538461538461539, 'City.Population <= 109749.5\\nentropy = 0.727\\nsamples = 237\\nvalue = [189, 48]\\nclass = ['),\n",
              " Text(0.19689119170984457, 0.5769230769230769, 'City.Population <= 82976.5\\nentropy = 0.647\\nsamples = 121\\nvalue = [101, 20]\\nclass = ['),\n",
              " Text(0.14507772020725387, 0.5, 'City.Population <= 80463.0\\nentropy = 0.756\\nsamples = 78\\nvalue = [61, 17]\\nclass = ['),\n",
              " Text(0.12435233160621761, 0.4230769230769231, 'Work.Experience <= 12.5\\nentropy = 0.717\\nsamples = 76\\nvalue = [61, 15]\\nclass = ['),\n",
              " Text(0.08290155440414508, 0.34615384615384615, 'Undergrad_NO <= 0.5\\nentropy = 0.469\\nsamples = 40\\nvalue = [36, 4]\\nclass = ['),\n",
              " Text(0.06217616580310881, 0.2692307692307692, 'Work.Experience <= 9.5\\nentropy = 0.702\\nsamples = 21\\nvalue = [17, 4]\\nclass = ['),\n",
              " Text(0.04145077720207254, 0.19230769230769232, 'Work.Experience <= 6.5\\nentropy = 0.863\\nsamples = 14\\nvalue = [10, 4]\\nclass = ['),\n",
              " Text(0.02072538860103627, 0.11538461538461539, 'entropy = 0.469\\nsamples = 10\\nvalue = [9, 1]\\nclass = ['),\n",
              " Text(0.06217616580310881, 0.11538461538461539, 'entropy = 0.811\\nsamples = 4\\nvalue = [1, 3]\\nclass = 0'),\n",
              " Text(0.08290155440414508, 0.19230769230769232, 'entropy = 0.0\\nsamples = 7\\nvalue = [7, 0]\\nclass = ['),\n",
              " Text(0.10362694300518134, 0.2692307692307692, 'entropy = 0.0\\nsamples = 19\\nvalue = [19, 0]\\nclass = ['),\n",
              " Text(0.16580310880829016, 0.34615384615384615, 'Work.Experience <= 20.5\\nentropy = 0.888\\nsamples = 36\\nvalue = [25, 11]\\nclass = ['),\n",
              " Text(0.14507772020725387, 0.2692307692307692, 'entropy = 0.961\\nsamples = 26\\nvalue = [16, 10]\\nclass = ['),\n",
              " Text(0.18652849740932642, 0.2692307692307692, 'entropy = 0.469\\nsamples = 10\\nvalue = [9, 1]\\nclass = ['),\n",
              " Text(0.16580310880829016, 0.4230769230769231, 'entropy = 0.0\\nsamples = 2\\nvalue = [0, 2]\\nclass = 0'),\n",
              " Text(0.24870466321243523, 0.5, 'Urban <= 0.5\\nentropy = 0.365\\nsamples = 43\\nvalue = [40, 3]\\nclass = ['),\n",
              " Text(0.22797927461139897, 0.4230769230769231, 'City.Population <= 91858.5\\nentropy = 0.516\\nsamples = 26\\nvalue = [23, 3]\\nclass = ['),\n",
              " Text(0.20725388601036268, 0.34615384615384615, 'entropy = 0.0\\nsamples = 9\\nvalue = [9, 0]\\nclass = ['),\n",
              " Text(0.24870466321243523, 0.34615384615384615, 'Work.Experience <= 2.0\\nentropy = 0.672\\nsamples = 17\\nvalue = [14, 3]\\nclass = ['),\n",
              " Text(0.22797927461139897, 0.2692307692307692, 'entropy = 0.0\\nsamples = 1\\nvalue = [0, 1]\\nclass = 0'),\n",
              " Text(0.2694300518134715, 0.2692307692307692, 'City.Population <= 95048.0\\nentropy = 0.544\\nsamples = 16\\nvalue = [14, 2]\\nclass = ['),\n",
              " Text(0.24870466321243523, 0.19230769230769232, 'entropy = 0.0\\nsamples = 1\\nvalue = [0, 1]\\nclass = 0'),\n",
              " Text(0.29015544041450775, 0.19230769230769232, 'entropy = 0.353\\nsamples = 15\\nvalue = [14, 1]\\nclass = ['),\n",
              " Text(0.2694300518134715, 0.4230769230769231, 'entropy = 0.0\\nsamples = 17\\nvalue = [17, 0]\\nclass = ['),\n",
              " Text(0.31088082901554404, 0.5769230769230769, 'City.Population <= 111519.0\\nentropy = 0.797\\nsamples = 116\\nvalue = [88, 28]\\nclass = ['),\n",
              " Text(0.29015544041450775, 0.5, 'entropy = 0.0\\nsamples = 4\\nvalue = [0, 4]\\nclass = 0'),\n",
              " Text(0.3316062176165803, 0.5, 'entropy = 0.75\\nsamples = 112\\nvalue = [88, 24]\\nclass = ['),\n",
              " Text(0.41450777202072536, 0.7307692307692307, 'Work.Experience <= 27.5\\nentropy = 0.435\\nsamples = 67\\nvalue = [61, 6]\\nclass = ['),\n",
              " Text(0.37305699481865284, 0.6538461538461539, 'City.Population <= 194426.5\\nentropy = 0.172\\nsamples = 39\\nvalue = [38, 1]\\nclass = ['),\n",
              " Text(0.35233160621761656, 0.5769230769230769, 'entropy = 0.0\\nsamples = 37\\nvalue = [37, 0]\\nclass = ['),\n",
              " Text(0.39378238341968913, 0.5769230769230769, 'entropy = 1.0\\nsamples = 2\\nvalue = [1, 1]\\nclass = ['),\n",
              " Text(0.45595854922279794, 0.6538461538461539, 'City.Population <= 118169.5\\nentropy = 0.677\\nsamples = 28\\nvalue = [23, 5]\\nclass = ['),\n",
              " Text(0.43523316062176165, 0.5769230769230769, 'Urban <= 0.5\\nentropy = 0.831\\nsamples = 19\\nvalue = [14, 5]\\nclass = ['),\n",
              " Text(0.41450777202072536, 0.5, 'City.Population <= 71482.0\\nentropy = 0.991\\nsamples = 9\\nvalue = [5, 4]\\nclass = ['),\n",
              " Text(0.39378238341968913, 0.4230769230769231, 'entropy = 0.0\\nsamples = 2\\nvalue = [0, 2]\\nclass = 0'),\n",
              " Text(0.43523316062176165, 0.4230769230769231, 'City.Population <= 98157.0\\nentropy = 0.863\\nsamples = 7\\nvalue = [5, 2]\\nclass = ['),\n",
              " Text(0.41450777202072536, 0.34615384615384615, 'entropy = 0.0\\nsamples = 4\\nvalue = [4, 0]\\nclass = ['),\n",
              " Text(0.45595854922279794, 0.34615384615384615, 'entropy = 0.918\\nsamples = 3\\nvalue = [1, 2]\\nclass = 0'),\n",
              " Text(0.45595854922279794, 0.5, 'entropy = 0.469\\nsamples = 10\\nvalue = [9, 1]\\nclass = ['),\n",
              " Text(0.47668393782383417, 0.5769230769230769, 'entropy = 0.0\\nsamples = 9\\nvalue = [9, 0]\\nclass = ['),\n",
              " Text(0.49740932642487046, 0.8076923076923077, 'City.Population <= 121060.5\\nentropy = 0.961\\nsamples = 13\\nvalue = [8, 5]\\nclass = ['),\n",
              " Text(0.47668393782383417, 0.7307692307692307, 'entropy = 0.0\\nsamples = 6\\nvalue = [6, 0]\\nclass = ['),\n",
              " Text(0.5181347150259067, 0.7307692307692307, 'City.Population <= 136890.5\\nentropy = 0.863\\nsamples = 7\\nvalue = [2, 5]\\nclass = 0'),\n",
              " Text(0.49740932642487046, 0.6538461538461539, 'entropy = 0.0\\nsamples = 3\\nvalue = [0, 3]\\nclass = 0'),\n",
              " Text(0.538860103626943, 0.6538461538461539, 'entropy = 1.0\\nsamples = 4\\nvalue = [2, 2]\\nclass = ['),\n",
              " Text(0.7150259067357513, 0.8846153846153846, 'City.Population <= 177179.5\\nentropy = 0.811\\nsamples = 156\\nvalue = [117, 39]\\nclass = ['),\n",
              " Text(0.6735751295336787, 0.8076923076923077, 'City.Population <= 175884.5\\nentropy = 0.847\\nsamples = 135\\nvalue = [98, 37]\\nclass = ['),\n",
              " Text(0.6528497409326425, 0.7307692307692307, 'City.Population <= 60294.5\\nentropy = 0.831\\nsamples = 133\\nvalue = [98, 35]\\nclass = ['),\n",
              " Text(0.6010362694300518, 0.6538461538461539, 'City.Population <= 52879.5\\nentropy = 0.602\\nsamples = 34\\nvalue = [29, 5]\\nclass = ['),\n",
              " Text(0.5803108808290155, 0.5769230769230769, 'City.Population <= 52621.5\\nentropy = 0.706\\nsamples = 26\\nvalue = [21, 5]\\nclass = ['),\n",
              " Text(0.5595854922279793, 0.5, 'City.Population <= 39943.0\\nentropy = 0.634\\nsamples = 25\\nvalue = [21, 4]\\nclass = ['),\n",
              " Text(0.538860103626943, 0.4230769230769231, 'City.Population <= 34470.0\\nentropy = 0.787\\nsamples = 17\\nvalue = [13, 4]\\nclass = ['),\n",
              " Text(0.49740932642487046, 0.34615384615384615, 'City.Population <= 28642.0\\nentropy = 0.414\\nsamples = 12\\nvalue = [11, 1]\\nclass = ['),\n",
              " Text(0.47668393782383417, 0.2692307692307692, 'entropy = 0.811\\nsamples = 4\\nvalue = [3, 1]\\nclass = ['),\n",
              " Text(0.5181347150259067, 0.2692307692307692, 'entropy = 0.0\\nsamples = 8\\nvalue = [8, 0]\\nclass = ['),\n",
              " Text(0.5803108808290155, 0.34615384615384615, 'Work.Experience <= 10.5\\nentropy = 0.971\\nsamples = 5\\nvalue = [2, 3]\\nclass = 0'),\n",
              " Text(0.5595854922279793, 0.2692307692307692, 'entropy = 0.0\\nsamples = 1\\nvalue = [1, 0]\\nclass = ['),\n",
              " Text(0.6010362694300518, 0.2692307692307692, 'entropy = 0.811\\nsamples = 4\\nvalue = [1, 3]\\nclass = 0'),\n",
              " Text(0.5803108808290155, 0.4230769230769231, 'entropy = 0.0\\nsamples = 8\\nvalue = [8, 0]\\nclass = ['),\n",
              " Text(0.6010362694300518, 0.5, 'entropy = 0.0\\nsamples = 1\\nvalue = [0, 1]\\nclass = 0'),\n",
              " Text(0.6217616580310881, 0.5769230769230769, 'entropy = 0.0\\nsamples = 8\\nvalue = [8, 0]\\nclass = ['),\n",
              " Text(0.7046632124352331, 0.6538461538461539, 'City.Population <= 65532.0\\nentropy = 0.885\\nsamples = 99\\nvalue = [69, 30]\\nclass = ['),\n",
              " Text(0.6632124352331606, 0.5769230769230769, 'Work.Experience <= 21.5\\nentropy = 0.722\\nsamples = 5\\nvalue = [1, 4]\\nclass = 0'),\n",
              " Text(0.6424870466321243, 0.5, 'entropy = 0.0\\nsamples = 3\\nvalue = [0, 3]\\nclass = 0'),\n",
              " Text(0.6839378238341969, 0.5, 'entropy = 1.0\\nsamples = 2\\nvalue = [1, 1]\\nclass = ['),\n",
              " Text(0.7461139896373057, 0.5769230769230769, 'City.Population <= 73478.0\\nentropy = 0.851\\nsamples = 94\\nvalue = [68, 26]\\nclass = ['),\n",
              " Text(0.7253886010362695, 0.5, 'entropy = 0.0\\nsamples = 11\\nvalue = [11, 0]\\nclass = ['),\n",
              " Text(0.7668393782383419, 0.5, 'City.Population <= 86648.5\\nentropy = 0.897\\nsamples = 83\\nvalue = [57, 26]\\nclass = ['),\n",
              " Text(0.7098445595854922, 0.4230769230769231, 'Urban <= 0.5\\nentropy = 0.997\\nsamples = 15\\nvalue = [7, 8]\\nclass = 0'),\n",
              " Text(0.689119170984456, 0.34615384615384615, 'entropy = 0.0\\nsamples = 4\\nvalue = [0, 4]\\nclass = 0'),\n",
              " Text(0.7305699481865285, 0.34615384615384615, 'City.Population <= 76244.5\\nentropy = 0.946\\nsamples = 11\\nvalue = [7, 4]\\nclass = ['),\n",
              " Text(0.7098445595854922, 0.2692307692307692, 'entropy = 0.0\\nsamples = 3\\nvalue = [3, 0]\\nclass = ['),\n",
              " Text(0.7512953367875648, 0.2692307692307692, 'entropy = 1.0\\nsamples = 8\\nvalue = [4, 4]\\nclass = ['),\n",
              " Text(0.8238341968911918, 0.4230769230769231, 'City.Population <= 94801.5\\nentropy = 0.834\\nsamples = 68\\nvalue = [50, 18]\\nclass = ['),\n",
              " Text(0.8031088082901554, 0.34615384615384615, 'entropy = 0.0\\nsamples = 7\\nvalue = [7, 0]\\nclass = ['),\n",
              " Text(0.844559585492228, 0.34615384615384615, 'City.Population <= 105651.0\\nentropy = 0.875\\nsamples = 61\\nvalue = [43, 18]\\nclass = ['),\n",
              " Text(0.7927461139896373, 0.2692307692307692, 'City.Population <= 101446.5\\nentropy = 0.985\\nsamples = 7\\nvalue = [3, 4]\\nclass = 0'),\n",
              " Text(0.772020725388601, 0.19230769230769232, 'entropy = 0.811\\nsamples = 4\\nvalue = [3, 1]\\nclass = ['),\n",
              " Text(0.8134715025906736, 0.19230769230769232, 'entropy = 0.0\\nsamples = 3\\nvalue = [0, 3]\\nclass = 0'),\n",
              " Text(0.8963730569948186, 0.2692307692307692, 'City.Population <= 127126.5\\nentropy = 0.826\\nsamples = 54\\nvalue = [40, 14]\\nclass = ['),\n",
              " Text(0.8549222797927462, 0.19230769230769232, 'Undergrad_YES <= 0.5\\nentropy = 0.353\\nsamples = 15\\nvalue = [14, 1]\\nclass = ['),\n",
              " Text(0.8341968911917098, 0.11538461538461539, 'entropy = 0.918\\nsamples = 3\\nvalue = [2, 1]\\nclass = ['),\n",
              " Text(0.8756476683937824, 0.11538461538461539, 'entropy = 0.0\\nsamples = 12\\nvalue = [12, 0]\\nclass = ['),\n",
              " Text(0.9378238341968912, 0.19230769230769232, 'City.Population <= 129972.5\\nentropy = 0.918\\nsamples = 39\\nvalue = [26, 13]\\nclass = ['),\n",
              " Text(0.917098445595855, 0.11538461538461539, 'entropy = 0.0\\nsamples = 3\\nvalue = [0, 3]\\nclass = 0'),\n",
              " Text(0.9585492227979274, 0.11538461538461539, 'Work.Experience <= 4.0\\nentropy = 0.852\\nsamples = 36\\nvalue = [26, 10]\\nclass = ['),\n",
              " Text(0.9378238341968912, 0.038461538461538464, 'entropy = 0.918\\nsamples = 3\\nvalue = [1, 2]\\nclass = 0'),\n",
              " Text(0.9792746113989638, 0.038461538461538464, 'entropy = 0.799\\nsamples = 33\\nvalue = [25, 8]\\nclass = ['),\n",
              " Text(0.694300518134715, 0.7307692307692307, 'entropy = 0.0\\nsamples = 2\\nvalue = [0, 2]\\nclass = 0'),\n",
              " Text(0.7564766839378239, 0.8076923076923077, 'City.Population <= 192382.0\\nentropy = 0.454\\nsamples = 21\\nvalue = [19, 2]\\nclass = ['),\n",
              " Text(0.7357512953367875, 0.7307692307692307, 'entropy = 0.0\\nsamples = 11\\nvalue = [11, 0]\\nclass = ['),\n",
              " Text(0.7772020725388601, 0.7307692307692307, 'Urban <= 0.5\\nentropy = 0.722\\nsamples = 10\\nvalue = [8, 2]\\nclass = ['),\n",
              " Text(0.7564766839378239, 0.6538461538461539, 'entropy = 0.0\\nsamples = 6\\nvalue = [6, 0]\\nclass = ['),\n",
              " Text(0.7979274611398963, 0.6538461538461539, 'entropy = 1.0\\nsamples = 4\\nvalue = [2, 2]\\nclass = [')]"
            ]
          },
          "metadata": {},
          "execution_count": 864
        },
        {
          "output_type": "display_data",
          "data": {
            "text/plain": [
              "<Figure size 1000x1000 with 1 Axes>"
            ],
            "image/png": "[encoded data removed]"
          },
          "metadata": {}
        }
      ]
    },
    {
      "cell_type": "markdown",
      "source": [
        "# Model (Gini Impurity)"
      ],
      "metadata": {
        "id": "2g4T--gAs_5_"
      }
    },
    {
      "cell_type": "code",
      "source": [
        "model2 = DecisionTreeClassifier(max_depth = 12, criterion = 'gini', max_leaf_nodes= 50, min_samples_split = 5)"
      ],
      "metadata": {
        "id": "hBP0KtRZtGuP"
      },
      "execution_count": 873,
      "outputs": []
    },
    {
      "cell_type": "code",
      "source": [
        "model2.fit(X_train, y_train)"
      ],
      "metadata": {
        "colab": {
          "base_uri": "https://localhost:8080/",
          "height": 74
        },
        "outputId": "88ed2dde-1e51-4e0f-8a9e-40f6dd5ad87b",
        "id": "2SUhNtZGtGuV"
      },
      "execution_count": 874,
      "outputs": [
        {
          "output_type": "execute_result",
          "data": {
            "text/plain": [
              "DecisionTreeClassifier(max_depth=12, max_leaf_nodes=50, min_samples_split=5)"
            ],
            "text/html": [
              "<style>#sk-container-id-66 {color: black;background-color: white;}#sk-container-id-66 pre{padding: 0;}#sk-container-id-66 div.sk-toggleable {background-color: white;}#sk-container-id-66 label.sk-toggleable__label {cursor: pointer;display: block;width: 100%;margin-bottom: 0;padding: 0.3em;box-sizing: border-box;text-align: center;}#sk-container-id-66 label.sk-toggleable__label-arrow:before {content: \"▸\";float: left;margin-right: 0.25em;color: #696969;}#sk-container-id-66 label.sk-toggleable__label-arrow:hover:before {color: black;}#sk-container-id-66 div.sk-estimator:hover label.sk-toggleable__label-arrow:before {color: black;}#sk-container-id-66 div.sk-toggleable__content {max-height: 0;max-width: 0;overflow: hidden;text-align: left;background-color: #f0f8ff;}#sk-container-id-66 div.sk-toggleable__content pre {margin: 0.2em;color: black;border-radius: 0.25em;background-color: #f0f8ff;}#sk-container-id-66 input.sk-toggleable__control:checked~div.sk-toggleable__content {max-height: 200px;max-width: 100%;overflow: auto;}#sk-container-id-66 input.sk-toggleable__control:checked~label.sk-toggleable__label-arrow:before {content: \"▾\";}#sk-container-id-66 div.sk-estimator input.sk-toggleable__control:checked~label.sk-toggleable__label {background-color: #d4ebff;}#sk-container-id-66 div.sk-label input.sk-toggleable__control:checked~label.sk-toggleable__label {background-color: #d4ebff;}#sk-container-id-66 input.sk-hidden--visually {border: 0;clip: rect(1px 1px 1px 1px);clip: rect(1px, 1px, 1px, 1px);height: 1px;margin: -1px;overflow: hidden;padding: 0;position: absolute;width: 1px;}#sk-container-id-66 div.sk-estimator {font-family: monospace;background-color: #f0f8ff;border: 1px dotted black;border-radius: 0.25em;box-sizing: border-box;margin-bottom: 0.5em;}#sk-container-id-66 div.sk-estimator:hover {background-color: #d4ebff;}#sk-container-id-66 div.sk-parallel-item::after {content: \"\";width: 100%;border-bottom: 1px solid gray;flex-grow: 1;}#sk-container-id-66 div.sk-label:hover label.sk-toggleable__label {background-color: #d4ebff;}#sk-container-id-66 div.sk-serial::before {content: \"\";position: absolute;border-left: 1px solid gray;box-sizing: border-box;top: 0;bottom: 0;left: 50%;z-index: 0;}#sk-container-id-66 div.sk-serial {display: flex;flex-direction: column;align-items: center;background-color: white;padding-right: 0.2em;padding-left: 0.2em;position: relative;}#sk-container-id-66 div.sk-item {position: relative;z-index: 1;}#sk-container-id-66 div.sk-parallel {display: flex;align-items: stretch;justify-content: center;background-color: white;position: relative;}#sk-container-id-66 div.sk-item::before, #sk-container-id-66 div.sk-parallel-item::before {content: \"\";position: absolute;border-left: 1px solid gray;box-sizing: border-box;top: 0;bottom: 0;left: 50%;z-index: -1;}#sk-container-id-66 div.sk-parallel-item {display: flex;flex-direction: column;z-index: 1;position: relative;background-color: white;}#sk-container-id-66 div.sk-parallel-item:first-child::after {align-self: flex-end;width: 50%;}#sk-container-id-66 div.sk-parallel-item:last-child::after {align-self: flex-start;width: 50%;}#sk-container-id-66 div.sk-parallel-item:only-child::after {width: 0;}#sk-container-id-66 div.sk-dashed-wrapped {border: 1px dashed gray;margin: 0 0.4em 0.5em 0.4em;box-sizing: border-box;padding-bottom: 0.4em;background-color: white;}#sk-container-id-66 div.sk-label label {font-family: monospace;font-weight: bold;display: inline-block;line-height: 1.2em;}#sk-container-id-66 div.sk-label-container {text-align: center;}#sk-container-id-66 div.sk-container {/* jupyter's `normalize.less` sets `[hidden] { display: none; }` but bootstrap.min.css set `[hidden] { display: none !important; }` so we also need the `!important` here to be able to override the default hidden behavior on the sphinx rendered scikit-learn.org. See: https://github.com/scikit-learn/scikit-learn/issues/21755 */display: inline-block !important;position: relative;}#sk-container-id-66 div.sk-text-repr-fallback {display: none;}</style><div id=\"sk-container-id-66\" class=\"sk-top-container\"><div class=\"sk-text-repr-fallback\"><pre>DecisionTreeClassifier(max_depth=12, max_leaf_nodes=50, min_samples_split=5)</pre><b>In a Jupyter environment, please rerun this cell to show the HTML representation or trust the notebook. <br />On GitHub, the HTML representation is unable to render, please try loading this page with nbviewer.org.</b></div><div class=\"sk-container\" hidden><div class=\"sk-item\"><div class=\"sk-estimator sk-toggleable\"><input class=\"sk-toggleable__control sk-hidden--visually\" id=\"sk-estimator-id-102\" type=\"checkbox\" checked><label for=\"sk-estimator-id-102\" class=\"sk-toggleable__label sk-toggleable__label-arrow\">DecisionTreeClassifier</label><div class=\"sk-toggleable__content\"><pre>DecisionTreeClassifier(max_depth=12, max_leaf_nodes=50, min_samples_split=5)</pre></div></div></div></div></div>"
            ]
          },
          "metadata": {},
          "execution_count": 874
        }
      ]
    },
    {
      "cell_type": "code",
      "source": [
        "train_predicted2 = model2.predict(X_train)"
      ],
      "metadata": {
        "id": "hSWveFdntGuW"
      },
      "execution_count": 875,
      "outputs": []
    },
    {
      "cell_type": "code",
      "source": [
        "confusion_matrix(y_train, train_predicted2)"
      ],
      "metadata": {
        "colab": {
          "base_uri": "https://localhost:8080/"
        },
        "outputId": "208f72cc-5afd-4256-d7b6-5a616ed00c2e",
        "id": "DmyrrcAbtGuW"
      },
      "execution_count": 876,
      "outputs": [
        {
          "output_type": "execute_result",
          "data": {
            "text/plain": [
              "array([[380,   2],\n",
              "       [ 57,  41]])"
            ]
          },
          "metadata": {},
          "execution_count": 876
        }
      ]
    },
    {
      "cell_type": "code",
      "source": [
        "print(classification_report(y_train, train_predicted2))"
      ],
      "metadata": {
        "colab": {
          "base_uri": "https://localhost:8080/"
        },
        "outputId": "4be9b4e7-9fbf-4b8c-8a2b-d75130c84f8a",
        "id": "x8Uy0fJytGuW"
      },
      "execution_count": 877,
      "outputs": [
        {
          "output_type": "stream",
          "name": "stdout",
          "text": [
            "              precision    recall  f1-score   support\n",
            "\n",
            "           0       0.87      0.99      0.93       382\n",
            "           1       0.95      0.42      0.58        98\n",
            "\n",
            "    accuracy                           0.88       480\n",
            "   macro avg       0.91      0.71      0.75       480\n",
            "weighted avg       0.89      0.88      0.86       480\n",
            "\n"
          ]
        }
      ]
    },
    {
      "cell_type": "code",
      "source": [
        "test_predicted2 = model2.predict(X_test)"
      ],
      "metadata": {
        "id": "rHOW8WR6tGuW"
      },
      "execution_count": 878,
      "outputs": []
    },
    {
      "cell_type": "code",
      "source": [
        "confusion_matrix(y_test, test_predicted2)"
      ],
      "metadata": {
        "colab": {
          "base_uri": "https://localhost:8080/"
        },
        "outputId": "ff50f313-9dc9-431d-bdf2-ea1961c0ba4c",
        "id": "49rMRcTvtGuW"
      },
      "execution_count": 879,
      "outputs": [
        {
          "output_type": "execute_result",
          "data": {
            "text/plain": [
              "array([[87,  7],\n",
              "       [22,  4]])"
            ]
          },
          "metadata": {},
          "execution_count": 879
        }
      ]
    },
    {
      "cell_type": "code",
      "source": [
        "print(classification_report(y_test, test_predicted2))"
      ],
      "metadata": {
        "colab": {
          "base_uri": "https://localhost:8080/"
        },
        "outputId": "635c45db-33b0-4e4a-c846-9e02275117bf",
        "id": "SlfZOdPNtGuW"
      },
      "execution_count": 880,
      "outputs": [
        {
          "output_type": "stream",
          "name": "stdout",
          "text": [
            "              precision    recall  f1-score   support\n",
            "\n",
            "           0       0.80      0.93      0.86        94\n",
            "           1       0.36      0.15      0.22        26\n",
            "\n",
            "    accuracy                           0.76       120\n",
            "   macro avg       0.58      0.54      0.54       120\n",
            "weighted avg       0.70      0.76      0.72       120\n",
            "\n"
          ]
        }
      ]
    },
    {
      "cell_type": "markdown",
      "source": [
        "# Tree Visualising"
      ],
      "metadata": {
        "id": "VkMbNIoEBxBw"
      }
    },
    {
      "cell_type": "code",
      "source": [
        "plt.subplots(figsize = (10,10))\n",
        "tree.plot_tree(model2, feature_names = features, class_names = classes, filled = True)"
      ],
      "metadata": {
        "colab": {
          "base_uri": "https://localhost:8080/",
          "height": 1000
        },
        "outputId": "b8299eae-d971-4bce-a420-df7299403fdc",
        "id": "LL05amXvB65h"
      },
      "execution_count": 881,
      "outputs": [
        {
          "output_type": "execute_result",
          "data": {
            "text/plain": [
              "[Text(0.5449438202247191, 0.9615384615384616, 'Marital.Status_Married <= 0.5\\ngini = 0.325\\nsamples = 480\\nvalue = [382, 98]\\nclass = ['),\n",
              " Text(0.4044943820224719, 0.8846153846153846, 'Work.Experience <= 29.5\\ngini = 0.298\\nsamples = 324\\nvalue = [265, 59]\\nclass = ['),\n",
              " Text(0.2808988764044944, 0.8076923076923077, 'Work.Experience <= 23.5\\ngini = 0.287\\nsamples = 311\\nvalue = [257, 54]\\nclass = ['),\n",
              " Text(0.12359550561797752, 0.7307692307692307, 'Work.Experience <= 6.5\\ngini = 0.316\\nsamples = 244\\nvalue = [196, 48]\\nclass = ['),\n",
              " Text(0.0449438202247191, 0.6538461538461539, 'City.Population <= 170738.0\\ngini = 0.222\\nsamples = 63\\nvalue = [55, 8]\\nclass = ['),\n",
              " Text(0.02247191011235955, 0.5769230769230769, 'gini = 0.163\\nsamples = 56\\nvalue = [51, 5]\\nclass = ['),\n",
              " Text(0.06741573033707865, 0.5769230769230769, 'Work.Experience <= 4.0\\ngini = 0.49\\nsamples = 7\\nvalue = [4, 3]\\nclass = ['),\n",
              " Text(0.0449438202247191, 0.5, 'gini = 0.375\\nsamples = 4\\nvalue = [1, 3]\\nclass = 0'),\n",
              " Text(0.0898876404494382, 0.5, 'gini = 0.0\\nsamples = 3\\nvalue = [3, 0]\\nclass = ['),\n",
              " Text(0.20224719101123595, 0.6538461538461539, 'City.Population <= 37812.5\\ngini = 0.344\\nsamples = 181\\nvalue = [141, 40]\\nclass = ['),\n",
              " Text(0.15730337078651685, 0.5769230769230769, 'Undergrad_NO <= 0.5\\ngini = 0.496\\nsamples = 11\\nvalue = [6, 5]\\nclass = ['),\n",
              " Text(0.1348314606741573, 0.5, 'Work.Experience <= 19.5\\ngini = 0.408\\nsamples = 7\\nvalue = [2, 5]\\nclass = 0'),\n",
              " Text(0.11235955056179775, 0.4230769230769231, 'City.Population <= 28824.0\\ngini = 0.278\\nsamples = 6\\nvalue = [1, 5]\\nclass = 0'),\n",
              " Text(0.0898876404494382, 0.34615384615384615, 'gini = 0.5\\nsamples = 2\\nvalue = [1, 1]\\nclass = ['),\n",
              " Text(0.1348314606741573, 0.34615384615384615, 'gini = 0.0\\nsamples = 4\\nvalue = [0, 4]\\nclass = 0'),\n",
              " Text(0.15730337078651685, 0.4230769230769231, 'gini = 0.0\\nsamples = 1\\nvalue = [1, 0]\\nclass = ['),\n",
              " Text(0.1797752808988764, 0.5, 'gini = 0.0\\nsamples = 4\\nvalue = [4, 0]\\nclass = ['),\n",
              " Text(0.24719101123595505, 0.5769230769230769, 'City.Population <= 52405.5\\ngini = 0.327\\nsamples = 170\\nvalue = [135, 35]\\nclass = ['),\n",
              " Text(0.2247191011235955, 0.5, 'gini = 0.124\\nsamples = 15\\nvalue = [14, 1]\\nclass = ['),\n",
              " Text(0.2696629213483146, 0.5, 'City.Population <= 52675.0\\ngini = 0.342\\nsamples = 155\\nvalue = [121, 34]\\nclass = ['),\n",
              " Text(0.24719101123595505, 0.4230769230769231, 'gini = 0.0\\nsamples = 1\\nvalue = [0, 1]\\nclass = 0'),\n",
              " Text(0.29213483146067415, 0.4230769230769231, 'Urban <= 0.5\\ngini = 0.337\\nsamples = 154\\nvalue = [121, 33]\\nclass = ['),\n",
              " Text(0.23595505617977527, 0.34615384615384615, 'City.Population <= 197925.0\\ngini = 0.378\\nsamples = 87\\nvalue = [65, 22]\\nclass = ['),\n",
              " Text(0.21348314606741572, 0.2692307692307692, 'City.Population <= 63521.0\\ngini = 0.369\\nsamples = 86\\nvalue = [65, 21]\\nclass = ['),\n",
              " Text(0.19101123595505617, 0.19230769230769232, 'gini = 0.0\\nsamples = 7\\nvalue = [7, 0]\\nclass = ['),\n",
              " Text(0.23595505617977527, 0.19230769230769232, 'City.Population <= 67409.5\\ngini = 0.39\\nsamples = 79\\nvalue = [58, 21]\\nclass = ['),\n",
              " Text(0.21348314606741572, 0.11538461538461539, 'gini = 0.0\\nsamples = 2\\nvalue = [0, 2]\\nclass = 0'),\n",
              " Text(0.25842696629213485, 0.11538461538461539, 'Work.Experience <= 11.5\\ngini = 0.372\\nsamples = 77\\nvalue = [58, 19]\\nclass = ['),\n",
              " Text(0.23595505617977527, 0.038461538461538464, 'gini = 0.463\\nsamples = 22\\nvalue = [14, 8]\\nclass = ['),\n",
              " Text(0.2808988764044944, 0.038461538461538464, 'gini = 0.32\\nsamples = 55\\nvalue = [44, 11]\\nclass = ['),\n",
              " Text(0.25842696629213485, 0.2692307692307692, 'gini = 0.0\\nsamples = 1\\nvalue = [0, 1]\\nclass = 0'),\n",
              " Text(0.34831460674157305, 0.34615384615384615, 'Work.Experience <= 15.5\\ngini = 0.274\\nsamples = 67\\nvalue = [56, 11]\\nclass = ['),\n",
              " Text(0.3258426966292135, 0.2692307692307692, 'gini = 0.139\\nsamples = 40\\nvalue = [37, 3]\\nclass = ['),\n",
              " Text(0.3707865168539326, 0.2692307692307692, 'City.Population <= 75944.5\\ngini = 0.417\\nsamples = 27\\nvalue = [19, 8]\\nclass = ['),\n",
              " Text(0.3258426966292135, 0.19230769230769232, 'Work.Experience <= 20.5\\ngini = 0.444\\nsamples = 6\\nvalue = [2, 4]\\nclass = 0'),\n",
              " Text(0.30337078651685395, 0.11538461538461539, 'gini = 0.0\\nsamples = 4\\nvalue = [0, 4]\\nclass = 0'),\n",
              " Text(0.34831460674157305, 0.11538461538461539, 'gini = 0.0\\nsamples = 2\\nvalue = [2, 0]\\nclass = ['),\n",
              " Text(0.4157303370786517, 0.19230769230769232, 'Undergrad_NO <= 0.5\\ngini = 0.308\\nsamples = 21\\nvalue = [17, 4]\\nclass = ['),\n",
              " Text(0.39325842696629215, 0.11538461538461539, 'gini = 0.219\\nsamples = 16\\nvalue = [14, 2]\\nclass = ['),\n",
              " Text(0.43820224719101125, 0.11538461538461539, 'gini = 0.48\\nsamples = 5\\nvalue = [3, 2]\\nclass = ['),\n",
              " Text(0.43820224719101125, 0.7307692307692307, 'Work.Experience <= 27.5\\ngini = 0.163\\nsamples = 67\\nvalue = [61, 6]\\nclass = ['),\n",
              " Text(0.39325842696629215, 0.6538461538461539, 'City.Population <= 194426.5\\ngini = 0.05\\nsamples = 39\\nvalue = [38, 1]\\nclass = ['),\n",
              " Text(0.3707865168539326, 0.5769230769230769, 'gini = 0.0\\nsamples = 37\\nvalue = [37, 0]\\nclass = ['),\n",
              " Text(0.4157303370786517, 0.5769230769230769, 'gini = 0.5\\nsamples = 2\\nvalue = [1, 1]\\nclass = ['),\n",
              " Text(0.48314606741573035, 0.6538461538461539, 'City.Population <= 118169.5\\ngini = 0.293\\nsamples = 28\\nvalue = [23, 5]\\nclass = ['),\n",
              " Text(0.4606741573033708, 0.5769230769230769, 'City.Population <= 114719.0\\ngini = 0.388\\nsamples = 19\\nvalue = [14, 5]\\nclass = ['),\n",
              " Text(0.43820224719101125, 0.5, 'Urban <= 0.5\\ngini = 0.346\\nsamples = 18\\nvalue = [14, 4]\\nclass = ['),\n",
              " Text(0.4157303370786517, 0.4230769230769231, 'City.Population <= 71482.0\\ngini = 0.469\\nsamples = 8\\nvalue = [5, 3]\\nclass = ['),\n",
              " Text(0.39325842696629215, 0.34615384615384615, 'gini = 0.0\\nsamples = 2\\nvalue = [0, 2]\\nclass = 0'),\n",
              " Text(0.43820224719101125, 0.34615384615384615, 'City.Population <= 98157.0\\ngini = 0.278\\nsamples = 6\\nvalue = [5, 1]\\nclass = ['),\n",
              " Text(0.4157303370786517, 0.2692307692307692, 'gini = 0.0\\nsamples = 4\\nvalue = [4, 0]\\nclass = ['),\n",
              " Text(0.4606741573033708, 0.2692307692307692, 'gini = 0.5\\nsamples = 2\\nvalue = [1, 1]\\nclass = ['),\n",
              " Text(0.4606741573033708, 0.4230769230769231, 'gini = 0.18\\nsamples = 10\\nvalue = [9, 1]\\nclass = ['),\n",
              " Text(0.48314606741573035, 0.5, 'gini = 0.0\\nsamples = 1\\nvalue = [0, 1]\\nclass = 0'),\n",
              " Text(0.5056179775280899, 0.5769230769230769, 'gini = 0.0\\nsamples = 9\\nvalue = [9, 0]\\nclass = ['),\n",
              " Text(0.5280898876404494, 0.8076923076923077, 'City.Population <= 121060.5\\ngini = 0.473\\nsamples = 13\\nvalue = [8, 5]\\nclass = ['),\n",
              " Text(0.5056179775280899, 0.7307692307692307, 'gini = 0.0\\nsamples = 6\\nvalue = [6, 0]\\nclass = ['),\n",
              " Text(0.550561797752809, 0.7307692307692307, 'City.Population <= 136890.5\\ngini = 0.408\\nsamples = 7\\nvalue = [2, 5]\\nclass = 0'),\n",
              " Text(0.5280898876404494, 0.6538461538461539, 'gini = 0.0\\nsamples = 3\\nvalue = [0, 3]\\nclass = 0'),\n",
              " Text(0.5730337078651685, 0.6538461538461539, 'gini = 0.5\\nsamples = 4\\nvalue = [2, 2]\\nclass = ['),\n",
              " Text(0.6853932584269663, 0.8846153846153846, 'City.Population <= 177179.5\\ngini = 0.375\\nsamples = 156\\nvalue = [117, 39]\\nclass = ['),\n",
              " Text(0.6629213483146067, 0.8076923076923077, 'City.Population <= 175884.5\\ngini = 0.398\\nsamples = 135\\nvalue = [98, 37]\\nclass = ['),\n",
              " Text(0.6404494382022472, 0.7307692307692307, 'City.Population <= 60294.5\\ngini = 0.388\\nsamples = 133\\nvalue = [98, 35]\\nclass = ['),\n",
              " Text(0.6179775280898876, 0.6538461538461539, 'gini = 0.251\\nsamples = 34\\nvalue = [29, 5]\\nclass = ['),\n",
              " Text(0.6629213483146067, 0.6538461538461539, 'City.Population <= 65532.0\\ngini = 0.422\\nsamples = 99\\nvalue = [69, 30]\\nclass = ['),\n",
              " Text(0.6179775280898876, 0.5769230769230769, 'Work.Experience <= 21.5\\ngini = 0.32\\nsamples = 5\\nvalue = [1, 4]\\nclass = 0'),\n",
              " Text(0.5955056179775281, 0.5, 'gini = 0.0\\nsamples = 3\\nvalue = [0, 3]\\nclass = 0'),\n",
              " Text(0.6404494382022472, 0.5, 'gini = 0.5\\nsamples = 2\\nvalue = [1, 1]\\nclass = ['),\n",
              " Text(0.7078651685393258, 0.5769230769230769, 'City.Population <= 73478.0\\ngini = 0.4\\nsamples = 94\\nvalue = [68, 26]\\nclass = ['),\n",
              " Text(0.6853932584269663, 0.5, 'gini = 0.0\\nsamples = 11\\nvalue = [11, 0]\\nclass = ['),\n",
              " Text(0.7303370786516854, 0.5, 'City.Population <= 86648.5\\ngini = 0.43\\nsamples = 83\\nvalue = [57, 26]\\nclass = ['),\n",
              " Text(0.6404494382022472, 0.4230769230769231, 'Urban <= 0.5\\ngini = 0.498\\nsamples = 15\\nvalue = [7, 8]\\nclass = 0'),\n",
              " Text(0.6179775280898876, 0.34615384615384615, 'gini = 0.0\\nsamples = 4\\nvalue = [0, 4]\\nclass = 0'),\n",
              " Text(0.6629213483146067, 0.34615384615384615, 'City.Population <= 76244.5\\ngini = 0.463\\nsamples = 11\\nvalue = [7, 4]\\nclass = ['),\n",
              " Text(0.6404494382022472, 0.2692307692307692, 'gini = 0.0\\nsamples = 3\\nvalue = [3, 0]\\nclass = ['),\n",
              " Text(0.6853932584269663, 0.2692307692307692, 'gini = 0.5\\nsamples = 8\\nvalue = [4, 4]\\nclass = ['),\n",
              " Text(0.8202247191011236, 0.4230769230769231, 'Work.Experience <= 19.5\\ngini = 0.389\\nsamples = 68\\nvalue = [50, 18]\\nclass = ['),\n",
              " Text(0.7528089887640449, 0.34615384615384615, 'Work.Experience <= 4.5\\ngini = 0.32\\nsamples = 45\\nvalue = [36, 9]\\nclass = ['),\n",
              " Text(0.7303370786516854, 0.2692307692307692, 'City.Population <= 134305.5\\ngini = 0.463\\nsamples = 11\\nvalue = [7, 4]\\nclass = ['),\n",
              " Text(0.7078651685393258, 0.19230769230769232, 'Work.Experience <= 2.5\\ngini = 0.346\\nsamples = 9\\nvalue = [7, 2]\\nclass = ['),\n",
              " Text(0.6853932584269663, 0.11538461538461539, 'gini = 0.0\\nsamples = 6\\nvalue = [6, 0]\\nclass = ['),\n",
              " Text(0.7303370786516854, 0.11538461538461539, 'gini = 0.444\\nsamples = 3\\nvalue = [1, 2]\\nclass = 0'),\n",
              " Text(0.7528089887640449, 0.19230769230769232, 'gini = 0.0\\nsamples = 2\\nvalue = [0, 2]\\nclass = 0'),\n",
              " Text(0.7752808988764045, 0.2692307692307692, 'gini = 0.251\\nsamples = 34\\nvalue = [29, 5]\\nclass = ['),\n",
              " Text(0.8876404494382022, 0.34615384615384615, 'Work.Experience <= 24.5\\ngini = 0.476\\nsamples = 23\\nvalue = [14, 9]\\nclass = ['),\n",
              " Text(0.8202247191011236, 0.2692307692307692, 'Urban <= 0.5\\ngini = 0.494\\nsamples = 9\\nvalue = [4, 5]\\nclass = 0'),\n",
              " Text(0.797752808988764, 0.19230769230769232, 'gini = 0.375\\nsamples = 4\\nvalue = [3, 1]\\nclass = ['),\n",
              " Text(0.8426966292134831, 0.19230769230769232, 'City.Population <= 174957.5\\ngini = 0.32\\nsamples = 5\\nvalue = [1, 4]\\nclass = 0'),\n",
              " Text(0.8202247191011236, 0.11538461538461539, 'gini = 0.0\\nsamples = 4\\nvalue = [0, 4]\\nclass = 0'),\n",
              " Text(0.8651685393258427, 0.11538461538461539, 'gini = 0.0\\nsamples = 1\\nvalue = [1, 0]\\nclass = ['),\n",
              " Text(0.9550561797752809, 0.2692307692307692, 'City.Population <= 163075.0\\ngini = 0.408\\nsamples = 14\\nvalue = [10, 4]\\nclass = ['),\n",
              " Text(0.9325842696629213, 0.19230769230769232, 'City.Population <= 141192.0\\ngini = 0.355\\nsamples = 13\\nvalue = [10, 3]\\nclass = ['),\n",
              " Text(0.9101123595505618, 0.11538461538461539, 'City.Population <= 137727.0\\ngini = 0.444\\nsamples = 9\\nvalue = [6, 3]\\nclass = ['),\n",
              " Text(0.8876404494382022, 0.038461538461538464, 'gini = 0.245\\nsamples = 7\\nvalue = [6, 1]\\nclass = ['),\n",
              " Text(0.9325842696629213, 0.038461538461538464, 'gini = 0.0\\nsamples = 2\\nvalue = [0, 2]\\nclass = 0'),\n",
              " Text(0.9550561797752809, 0.11538461538461539, 'gini = 0.0\\nsamples = 4\\nvalue = [4, 0]\\nclass = ['),\n",
              " Text(0.9775280898876404, 0.19230769230769232, 'gini = 0.0\\nsamples = 1\\nvalue = [0, 1]\\nclass = 0'),\n",
              " Text(0.6853932584269663, 0.7307692307692307, 'gini = 0.0\\nsamples = 2\\nvalue = [0, 2]\\nclass = 0'),\n",
              " Text(0.7078651685393258, 0.8076923076923077, 'gini = 0.172\\nsamples = 21\\nvalue = [19, 2]\\nclass = [')]"
            ]
          },
          "metadata": {},
          "execution_count": 881
        },
        {
          "output_type": "display_data",
          "data": {
            "text/plain": [
              "<Figure size 1000x1000 with 1 Axes>"
            ],
            "image/png": "[encoded data removed]"
          },
          "metadata": {}
        }
      ]
    }
  ]
}