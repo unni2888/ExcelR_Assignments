{
  "nbformat": 4,
  "nbformat_minor": 0,
  "metadata": {
    "colab": {
      "provenance": []
    },
    "kernelspec": {
      "name": "python3",
      "display_name": "Python 3"
    },
    "language_info": {
      "name": "python"
    }
  },
  "cells": [
    {
      "cell_type": "code",
      "source": [
        "from scipy import stats\n",
        "import numpy as np"
      ],
      "metadata": {
        "id": "J1VWm2V5IFgR"
      },
      "execution_count": 2,
      "outputs": []
    },
    {
      "cell_type": "markdown",
      "source": [
        "# SET 1"
      ],
      "metadata": {
        "id": "QOV-_YQjRFKP"
      }
    },
    {
      "cell_type": "code",
      "source": [
        "# Question 1\n",
        "a=[0.2423,0.2553,0.2541,0.2414,0.2962,0.2825,0.2581,0.2439,0.4026,0.3295,0.9136,0.2599,0.3942,0.2671,0.3500]\n",
        "print(np.mean(a))\n",
        "print(np.var(a))\n",
        "print(np.std(a))"
      ],
      "metadata": {
        "colab": {
          "base_uri": "https://localhost:8080/"
        },
        "id": "UWNKy8hURFGz",
        "outputId": "fb57c277-5388-47a9-be47-ce246b609d7b"
      },
      "execution_count": 6,
      "outputs": [
        {
          "output_type": "stream",
          "name": "stdout",
          "text": [
            "0.3327133333333333\n",
            "0.026800350488888885\n",
            "0.16370812590976933\n"
          ]
        }
      ]
    },
    {
      "cell_type": "markdown",
      "source": [
        "#SET 2"
      ],
      "metadata": {
        "id": "gMDiz69bC-1A"
      }
    },
    {
      "cell_type": "code",
      "source": [
        "# Question 1\n",
        "1-stats.norm.cdf(50,loc=45, scale=8)"
      ],
      "metadata": {
        "colab": {
          "base_uri": "https://localhost:8080/"
        },
        "id": "c9M2vywDIKcF",
        "outputId": "ef0a6dd9-2b3a-4682-9a7e-f3bf4f36e3bc"
      },
      "execution_count": null,
      "outputs": [
        {
          "output_type": "execute_result",
          "data": {
            "text/plain": [
              "0.26598552904870054"
            ]
          },
          "metadata": {},
          "execution_count": 2
        }
      ]
    },
    {
      "cell_type": "code",
      "execution_count": null,
      "metadata": {
        "colab": {
          "base_uri": "https://localhost:8080/"
        },
        "id": "QghopNWkbZ5D",
        "outputId": "c7ffac56-40d2-4ed4-e6d7-6cb9884f0390"
      },
      "outputs": [
        {
          "output_type": "execute_result",
          "data": {
            "text/plain": [
              "63.46210157258283"
            ]
          },
          "metadata": {},
          "execution_count": 3
        }
      ],
      "source": [
        "#Question 2A\n",
        "# Employees who are above 44 years old.\n",
        "k=1-stats.norm.cdf(44,loc=38,scale=6)\n",
        "k*400"
      ]
    },
    {
      "cell_type": "code",
      "source": [
        "# Employees who are between 38 and 44 years old.\n",
        "a=stats.norm.cdf(44,loc=38,scale=6)-stats.norm.cdf(38,loc=38,scale=6)\n",
        "a*400"
      ],
      "metadata": {
        "colab": {
          "base_uri": "https://localhost:8080/"
        },
        "id": "bvnVGQRcHAfW",
        "outputId": "05026f49-86c0-4197-966c-bc49e3028452"
      },
      "execution_count": null,
      "outputs": [
        {
          "output_type": "execute_result",
          "data": {
            "text/plain": [
              "136.53789842741716"
            ]
          },
          "metadata": {},
          "execution_count": 4
        }
      ]
    },
    {
      "cell_type": "code",
      "source": [
        "# Question 2B\n",
        "p=stats.norm.cdf(30,loc=38,scale=6)\n",
        "p*400"
      ],
      "metadata": {
        "id": "Iuh9xVnGKNp5",
        "colab": {
          "base_uri": "https://localhost:8080/"
        },
        "outputId": "c772bf99-fd71-464a-be1b-bd812cb6f678"
      },
      "execution_count": null,
      "outputs": [
        {
          "output_type": "execute_result",
          "data": {
            "text/plain": [
              "36.484487890347154"
            ]
          },
          "metadata": {},
          "execution_count": 5
        }
      ]
    },
    {
      "cell_type": "code",
      "source": [
        "# Question 4\n",
        "#print(stats.norm.cdf(105.9,100,20)-stats.norm.cdf(90.5,100,20))\n",
        "#print(stats.norm.cdf(119.8,100,20)-stats.norm.cdf(80.2,100,20))\n",
        "print(stats.norm.cdf(151.5,100,20)-stats.norm.cdf(48.5,100,20))\n",
        "#print(stats.norm.cdf(109.9,100,20)-stats.norm.cdf(90.1,100,20))\n",
        "#print(stats.norm.cdf(78,100,20)-stats.norm.cdf(22,100,20))"
      ],
      "metadata": {
        "colab": {
          "base_uri": "https://localhost:8080/"
        },
        "id": "e5wunn0XKe6Y",
        "outputId": "7c64cb14-a926-4636-85a6-3b7a5c78f3a5"
      },
      "execution_count": null,
      "outputs": [
        {
          "output_type": "stream",
          "name": "stdout",
          "text": [
            "0.9899759913364774\n"
          ]
        }
      ]
    },
    {
      "cell_type": "code",
      "source": [
        "# Question 5A\n",
        "b=stats.norm.interval(0.95,loc= 12, scale= 5)\n",
        "print(b[0]*45)\n",
        "print(b[1]*45)\n"
      ],
      "metadata": {
        "id": "tFgoSqbWPrh_",
        "colab": {
          "base_uri": "https://localhost:8080/"
        },
        "outputId": "0880fc35-9268-4834-ba72-6933409a1e0d"
      },
      "execution_count": null,
      "outputs": [
        {
          "output_type": "stream",
          "name": "stdout",
          "text": [
            "99.00810347848788\n",
            "980.9918965215121\n"
          ]
        }
      ]
    },
    {
      "cell_type": "code",
      "source": [
        "# Question 5B\n",
        "Z_score= stats.norm.ppf(0.05)\n",
        "print(Z_score)\n",
        "x=(Z_score*5)+12\n",
        "x*45"
      ],
      "metadata": {
        "colab": {
          "base_uri": "https://localhost:8080/"
        },
        "id": "Aqdhx4VCXdHM",
        "outputId": "39434838-9a4a-4e42-bdb0-d42c64516452"
      },
      "execution_count": null,
      "outputs": [
        {
          "output_type": "stream",
          "name": "stdout",
          "text": [
            "-1.6448536269514729\n"
          ]
        },
        {
          "output_type": "execute_result",
          "data": {
            "text/plain": [
              "169.90793393591858"
            ]
          },
          "metadata": {},
          "execution_count": 9
        }
      ]
    },
    {
      "cell_type": "code",
      "source": [
        "# Question 5C\n",
        "print(stats.norm.cdf(0,5,3))\n",
        "print(stats.norm.cdf(0,7,4))"
      ],
      "metadata": {
        "colab": {
          "base_uri": "https://localhost:8080/"
        },
        "id": "NFh5X4-WdlsE",
        "outputId": "a3070197-aa4c-4881-c279-71c9fd3bd175"
      },
      "execution_count": null,
      "outputs": [
        {
          "output_type": "stream",
          "name": "stdout",
          "text": [
            "0.0477903522728147\n",
            "0.040059156863817086\n"
          ]
        }
      ]
    },
    {
      "cell_type": "markdown",
      "source": [
        "#SET 4"
      ],
      "metadata": {
        "id": "5ZAgm_k3C4Ns"
      }
    },
    {
      "cell_type": "code",
      "source": [
        "# Question 3\n",
        "n=100\n",
        "pop_mean= 50\n",
        "pop_std= 40\n",
        "a=1-(stats.norm.cdf(55,loc=pop_mean,scale= pop_std/np.sqrt(n))-stats.norm.cdf(45,loc=pop_mean,scale= pop_std/np.sqrt(n)))\n",
        "a*100"
      ],
      "metadata": {
        "colab": {
          "base_uri": "https://localhost:8080/"
        },
        "id": "eLV_KHtmC8VI",
        "outputId": "1c035b0c-4de5-4a99-e41e-bf964109269f"
      },
      "execution_count": null,
      "outputs": [
        {
          "output_type": "execute_result",
          "data": {
            "text/plain": [
              "21.129954733371072"
            ]
          },
          "metadata": {},
          "execution_count": 9
        }
      ]
    },
    {
      "cell_type": "code",
      "source": [
        "# Question 4\n",
        "n=250\n",
        "a=1-(stats.norm.cdf(55,loc=pop_mean,scale= pop_std/np.sqrt(n))-stats.norm.cdf(45,loc=pop_mean,scale= pop_std/np.sqrt(n)))\n",
        "a*100"
      ],
      "metadata": {
        "colab": {
          "base_uri": "https://localhost:8080/"
        },
        "id": "hWVdKfXyFOoA",
        "outputId": "8442d276-dafa-4165-af23-dffe0105ea19"
      },
      "execution_count": null,
      "outputs": [
        {
          "output_type": "execute_result",
          "data": {
            "text/plain": [
              "4.81068278885195"
            ]
          },
          "metadata": {},
          "execution_count": 68
        }
      ]
    },
    {
      "cell_type": "code",
      "source": [],
      "metadata": {
        "id": "NcznNG0YGt7Y"
      },
      "execution_count": null,
      "outputs": []
    }
  ]
}